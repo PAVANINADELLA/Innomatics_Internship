{
 "cells": [
  {
   "cell_type": "markdown",
   "metadata": {},
   "source": [
    "<H2> Working on Hyperparameter tunings of all Supervised Machine Learning Alogorithms On Telco Customer Churn - Focused Customer Retention Programs <H2>"
   ]
  },
  {
   "cell_type": "markdown",
   "metadata": {},
   "source": [
    "### In this Notebook, We are performing Machine Learning Algorithms on Classification as stated below.\n",
    "\n",
    "     1. Logistic Regression\n",
    "     2. KNN Classification\n",
    "     3. Support Vector Machine \n",
    "     4. Decision Tree\n",
    "     5. Random Forest "
   ]
  },
  {
   "cell_type": "markdown",
   "metadata": {},
   "source": [
    "## STEP - I: BASIC PANDAS OPERATION\n",
    "\n",
    "### IMPORTING NECESSARY LIBRARIES"
   ]
  },
  {
   "cell_type": "code",
   "execution_count": 1,
   "metadata": {},
   "outputs": [],
   "source": [
    "import pandas as pd\n",
    "import numpy as np\n",
    "import matplotlib.pyplot as plt\n",
    "import seaborn as sns"
   ]
  },
  {
   "cell_type": "markdown",
   "metadata": {},
   "source": [
    "### READING THE CSV FILE "
   ]
  },
  {
   "cell_type": "code",
   "execution_count": 2,
   "metadata": {},
   "outputs": [
    {
     "data": {
      "text/html": [
       "<div>\n",
       "<style scoped>\n",
       "    .dataframe tbody tr th:only-of-type {\n",
       "        vertical-align: middle;\n",
       "    }\n",
       "\n",
       "    .dataframe tbody tr th {\n",
       "        vertical-align: top;\n",
       "    }\n",
       "\n",
       "    .dataframe thead th {\n",
       "        text-align: right;\n",
       "    }\n",
       "</style>\n",
       "<table border=\"1\" class=\"dataframe\">\n",
       "  <thead>\n",
       "    <tr style=\"text-align: right;\">\n",
       "      <th></th>\n",
       "      <th>customerID</th>\n",
       "      <th>gender</th>\n",
       "      <th>SeniorCitizen</th>\n",
       "      <th>Partner</th>\n",
       "      <th>Dependents</th>\n",
       "      <th>tenure</th>\n",
       "      <th>PhoneService</th>\n",
       "      <th>MultipleLines</th>\n",
       "      <th>InternetService</th>\n",
       "      <th>OnlineSecurity</th>\n",
       "      <th>...</th>\n",
       "      <th>DeviceProtection</th>\n",
       "      <th>TechSupport</th>\n",
       "      <th>StreamingTV</th>\n",
       "      <th>StreamingMovies</th>\n",
       "      <th>Contract</th>\n",
       "      <th>PaperlessBilling</th>\n",
       "      <th>PaymentMethod</th>\n",
       "      <th>MonthlyCharges</th>\n",
       "      <th>TotalCharges</th>\n",
       "      <th>Churn</th>\n",
       "    </tr>\n",
       "  </thead>\n",
       "  <tbody>\n",
       "    <tr>\n",
       "      <th>0</th>\n",
       "      <td>7590-VHVEG</td>\n",
       "      <td>Female</td>\n",
       "      <td>0</td>\n",
       "      <td>Yes</td>\n",
       "      <td>No</td>\n",
       "      <td>1</td>\n",
       "      <td>No</td>\n",
       "      <td>No phone service</td>\n",
       "      <td>DSL</td>\n",
       "      <td>No</td>\n",
       "      <td>...</td>\n",
       "      <td>No</td>\n",
       "      <td>No</td>\n",
       "      <td>No</td>\n",
       "      <td>No</td>\n",
       "      <td>Month-to-month</td>\n",
       "      <td>Yes</td>\n",
       "      <td>Electronic check</td>\n",
       "      <td>29.85</td>\n",
       "      <td>29.85</td>\n",
       "      <td>No</td>\n",
       "    </tr>\n",
       "    <tr>\n",
       "      <th>1</th>\n",
       "      <td>5575-GNVDE</td>\n",
       "      <td>Male</td>\n",
       "      <td>0</td>\n",
       "      <td>No</td>\n",
       "      <td>No</td>\n",
       "      <td>34</td>\n",
       "      <td>Yes</td>\n",
       "      <td>No</td>\n",
       "      <td>DSL</td>\n",
       "      <td>Yes</td>\n",
       "      <td>...</td>\n",
       "      <td>Yes</td>\n",
       "      <td>No</td>\n",
       "      <td>No</td>\n",
       "      <td>No</td>\n",
       "      <td>One year</td>\n",
       "      <td>No</td>\n",
       "      <td>Mailed check</td>\n",
       "      <td>56.95</td>\n",
       "      <td>1889.5</td>\n",
       "      <td>No</td>\n",
       "    </tr>\n",
       "    <tr>\n",
       "      <th>2</th>\n",
       "      <td>3668-QPYBK</td>\n",
       "      <td>Male</td>\n",
       "      <td>0</td>\n",
       "      <td>No</td>\n",
       "      <td>No</td>\n",
       "      <td>2</td>\n",
       "      <td>Yes</td>\n",
       "      <td>No</td>\n",
       "      <td>DSL</td>\n",
       "      <td>Yes</td>\n",
       "      <td>...</td>\n",
       "      <td>No</td>\n",
       "      <td>No</td>\n",
       "      <td>No</td>\n",
       "      <td>No</td>\n",
       "      <td>Month-to-month</td>\n",
       "      <td>Yes</td>\n",
       "      <td>Mailed check</td>\n",
       "      <td>53.85</td>\n",
       "      <td>108.15</td>\n",
       "      <td>Yes</td>\n",
       "    </tr>\n",
       "    <tr>\n",
       "      <th>3</th>\n",
       "      <td>7795-CFOCW</td>\n",
       "      <td>Male</td>\n",
       "      <td>0</td>\n",
       "      <td>No</td>\n",
       "      <td>No</td>\n",
       "      <td>45</td>\n",
       "      <td>No</td>\n",
       "      <td>No phone service</td>\n",
       "      <td>DSL</td>\n",
       "      <td>Yes</td>\n",
       "      <td>...</td>\n",
       "      <td>Yes</td>\n",
       "      <td>Yes</td>\n",
       "      <td>No</td>\n",
       "      <td>No</td>\n",
       "      <td>One year</td>\n",
       "      <td>No</td>\n",
       "      <td>Bank transfer (automatic)</td>\n",
       "      <td>42.30</td>\n",
       "      <td>1840.75</td>\n",
       "      <td>No</td>\n",
       "    </tr>\n",
       "    <tr>\n",
       "      <th>4</th>\n",
       "      <td>9237-HQITU</td>\n",
       "      <td>Female</td>\n",
       "      <td>0</td>\n",
       "      <td>No</td>\n",
       "      <td>No</td>\n",
       "      <td>2</td>\n",
       "      <td>Yes</td>\n",
       "      <td>No</td>\n",
       "      <td>Fiber optic</td>\n",
       "      <td>No</td>\n",
       "      <td>...</td>\n",
       "      <td>No</td>\n",
       "      <td>No</td>\n",
       "      <td>No</td>\n",
       "      <td>No</td>\n",
       "      <td>Month-to-month</td>\n",
       "      <td>Yes</td>\n",
       "      <td>Electronic check</td>\n",
       "      <td>70.70</td>\n",
       "      <td>151.65</td>\n",
       "      <td>Yes</td>\n",
       "    </tr>\n",
       "    <tr>\n",
       "      <th>...</th>\n",
       "      <td>...</td>\n",
       "      <td>...</td>\n",
       "      <td>...</td>\n",
       "      <td>...</td>\n",
       "      <td>...</td>\n",
       "      <td>...</td>\n",
       "      <td>...</td>\n",
       "      <td>...</td>\n",
       "      <td>...</td>\n",
       "      <td>...</td>\n",
       "      <td>...</td>\n",
       "      <td>...</td>\n",
       "      <td>...</td>\n",
       "      <td>...</td>\n",
       "      <td>...</td>\n",
       "      <td>...</td>\n",
       "      <td>...</td>\n",
       "      <td>...</td>\n",
       "      <td>...</td>\n",
       "      <td>...</td>\n",
       "      <td>...</td>\n",
       "    </tr>\n",
       "    <tr>\n",
       "      <th>7038</th>\n",
       "      <td>6840-RESVB</td>\n",
       "      <td>Male</td>\n",
       "      <td>0</td>\n",
       "      <td>Yes</td>\n",
       "      <td>Yes</td>\n",
       "      <td>24</td>\n",
       "      <td>Yes</td>\n",
       "      <td>Yes</td>\n",
       "      <td>DSL</td>\n",
       "      <td>Yes</td>\n",
       "      <td>...</td>\n",
       "      <td>Yes</td>\n",
       "      <td>Yes</td>\n",
       "      <td>Yes</td>\n",
       "      <td>Yes</td>\n",
       "      <td>One year</td>\n",
       "      <td>Yes</td>\n",
       "      <td>Mailed check</td>\n",
       "      <td>84.80</td>\n",
       "      <td>1990.5</td>\n",
       "      <td>No</td>\n",
       "    </tr>\n",
       "    <tr>\n",
       "      <th>7039</th>\n",
       "      <td>2234-XADUH</td>\n",
       "      <td>Female</td>\n",
       "      <td>0</td>\n",
       "      <td>Yes</td>\n",
       "      <td>Yes</td>\n",
       "      <td>72</td>\n",
       "      <td>Yes</td>\n",
       "      <td>Yes</td>\n",
       "      <td>Fiber optic</td>\n",
       "      <td>No</td>\n",
       "      <td>...</td>\n",
       "      <td>Yes</td>\n",
       "      <td>No</td>\n",
       "      <td>Yes</td>\n",
       "      <td>Yes</td>\n",
       "      <td>One year</td>\n",
       "      <td>Yes</td>\n",
       "      <td>Credit card (automatic)</td>\n",
       "      <td>103.20</td>\n",
       "      <td>7362.9</td>\n",
       "      <td>No</td>\n",
       "    </tr>\n",
       "    <tr>\n",
       "      <th>7040</th>\n",
       "      <td>4801-JZAZL</td>\n",
       "      <td>Female</td>\n",
       "      <td>0</td>\n",
       "      <td>Yes</td>\n",
       "      <td>Yes</td>\n",
       "      <td>11</td>\n",
       "      <td>No</td>\n",
       "      <td>No phone service</td>\n",
       "      <td>DSL</td>\n",
       "      <td>Yes</td>\n",
       "      <td>...</td>\n",
       "      <td>No</td>\n",
       "      <td>No</td>\n",
       "      <td>No</td>\n",
       "      <td>No</td>\n",
       "      <td>Month-to-month</td>\n",
       "      <td>Yes</td>\n",
       "      <td>Electronic check</td>\n",
       "      <td>29.60</td>\n",
       "      <td>346.45</td>\n",
       "      <td>No</td>\n",
       "    </tr>\n",
       "    <tr>\n",
       "      <th>7041</th>\n",
       "      <td>8361-LTMKD</td>\n",
       "      <td>Male</td>\n",
       "      <td>1</td>\n",
       "      <td>Yes</td>\n",
       "      <td>No</td>\n",
       "      <td>4</td>\n",
       "      <td>Yes</td>\n",
       "      <td>Yes</td>\n",
       "      <td>Fiber optic</td>\n",
       "      <td>No</td>\n",
       "      <td>...</td>\n",
       "      <td>No</td>\n",
       "      <td>No</td>\n",
       "      <td>No</td>\n",
       "      <td>No</td>\n",
       "      <td>Month-to-month</td>\n",
       "      <td>Yes</td>\n",
       "      <td>Mailed check</td>\n",
       "      <td>74.40</td>\n",
       "      <td>306.6</td>\n",
       "      <td>Yes</td>\n",
       "    </tr>\n",
       "    <tr>\n",
       "      <th>7042</th>\n",
       "      <td>3186-AJIEK</td>\n",
       "      <td>Male</td>\n",
       "      <td>0</td>\n",
       "      <td>No</td>\n",
       "      <td>No</td>\n",
       "      <td>66</td>\n",
       "      <td>Yes</td>\n",
       "      <td>No</td>\n",
       "      <td>Fiber optic</td>\n",
       "      <td>Yes</td>\n",
       "      <td>...</td>\n",
       "      <td>Yes</td>\n",
       "      <td>Yes</td>\n",
       "      <td>Yes</td>\n",
       "      <td>Yes</td>\n",
       "      <td>Two year</td>\n",
       "      <td>Yes</td>\n",
       "      <td>Bank transfer (automatic)</td>\n",
       "      <td>105.65</td>\n",
       "      <td>6844.5</td>\n",
       "      <td>No</td>\n",
       "    </tr>\n",
       "  </tbody>\n",
       "</table>\n",
       "<p>7043 rows × 21 columns</p>\n",
       "</div>"
      ],
      "text/plain": [
       "      customerID  gender  SeniorCitizen Partner Dependents  tenure  \\\n",
       "0     7590-VHVEG  Female              0     Yes         No       1   \n",
       "1     5575-GNVDE    Male              0      No         No      34   \n",
       "2     3668-QPYBK    Male              0      No         No       2   \n",
       "3     7795-CFOCW    Male              0      No         No      45   \n",
       "4     9237-HQITU  Female              0      No         No       2   \n",
       "...          ...     ...            ...     ...        ...     ...   \n",
       "7038  6840-RESVB    Male              0     Yes        Yes      24   \n",
       "7039  2234-XADUH  Female              0     Yes        Yes      72   \n",
       "7040  4801-JZAZL  Female              0     Yes        Yes      11   \n",
       "7041  8361-LTMKD    Male              1     Yes         No       4   \n",
       "7042  3186-AJIEK    Male              0      No         No      66   \n",
       "\n",
       "     PhoneService     MultipleLines InternetService OnlineSecurity  ...  \\\n",
       "0              No  No phone service             DSL             No  ...   \n",
       "1             Yes                No             DSL            Yes  ...   \n",
       "2             Yes                No             DSL            Yes  ...   \n",
       "3              No  No phone service             DSL            Yes  ...   \n",
       "4             Yes                No     Fiber optic             No  ...   \n",
       "...           ...               ...             ...            ...  ...   \n",
       "7038          Yes               Yes             DSL            Yes  ...   \n",
       "7039          Yes               Yes     Fiber optic             No  ...   \n",
       "7040           No  No phone service             DSL            Yes  ...   \n",
       "7041          Yes               Yes     Fiber optic             No  ...   \n",
       "7042          Yes                No     Fiber optic            Yes  ...   \n",
       "\n",
       "     DeviceProtection TechSupport StreamingTV StreamingMovies        Contract  \\\n",
       "0                  No          No          No              No  Month-to-month   \n",
       "1                 Yes          No          No              No        One year   \n",
       "2                  No          No          No              No  Month-to-month   \n",
       "3                 Yes         Yes          No              No        One year   \n",
       "4                  No          No          No              No  Month-to-month   \n",
       "...               ...         ...         ...             ...             ...   \n",
       "7038              Yes         Yes         Yes             Yes        One year   \n",
       "7039              Yes          No         Yes             Yes        One year   \n",
       "7040               No          No          No              No  Month-to-month   \n",
       "7041               No          No          No              No  Month-to-month   \n",
       "7042              Yes         Yes         Yes             Yes        Two year   \n",
       "\n",
       "     PaperlessBilling              PaymentMethod MonthlyCharges  TotalCharges  \\\n",
       "0                 Yes           Electronic check          29.85         29.85   \n",
       "1                  No               Mailed check          56.95        1889.5   \n",
       "2                 Yes               Mailed check          53.85        108.15   \n",
       "3                  No  Bank transfer (automatic)          42.30       1840.75   \n",
       "4                 Yes           Electronic check          70.70        151.65   \n",
       "...               ...                        ...            ...           ...   \n",
       "7038              Yes               Mailed check          84.80        1990.5   \n",
       "7039              Yes    Credit card (automatic)         103.20        7362.9   \n",
       "7040              Yes           Electronic check          29.60        346.45   \n",
       "7041              Yes               Mailed check          74.40         306.6   \n",
       "7042              Yes  Bank transfer (automatic)         105.65        6844.5   \n",
       "\n",
       "     Churn  \n",
       "0       No  \n",
       "1       No  \n",
       "2      Yes  \n",
       "3       No  \n",
       "4      Yes  \n",
       "...    ...  \n",
       "7038    No  \n",
       "7039    No  \n",
       "7040    No  \n",
       "7041   Yes  \n",
       "7042    No  \n",
       "\n",
       "[7043 rows x 21 columns]"
      ]
     },
     "execution_count": 2,
     "metadata": {},
     "output_type": "execute_result"
    }
   ],
   "source": [
    "df = pd.read_csv(r'Downloads/churn.csv')\n",
    "df"
   ]
  },
  {
   "cell_type": "markdown",
   "metadata": {},
   "source": [
    "### CHECKING THE SHAPE OF THE DATAFRAME"
   ]
  },
  {
   "cell_type": "code",
   "execution_count": 3,
   "metadata": {},
   "outputs": [
    {
     "data": {
      "text/plain": [
       "(7043, 21)"
      ]
     },
     "execution_count": 3,
     "metadata": {},
     "output_type": "execute_result"
    }
   ],
   "source": [
    "df.shape"
   ]
  },
  {
   "cell_type": "markdown",
   "metadata": {},
   "source": [
    "### APPLYING info( ) FUNCTION & OBSERVING THE DTYPES ALONG WITH MISSING VALUES"
   ]
  },
  {
   "cell_type": "markdown",
   "metadata": {},
   "source": [
    "### info() function: This is used to print a concise summary of a DataFrame. This method prints information about a DataFrame including the index dtype and column dtypes, non-null values and memory usage."
   ]
  },
  {
   "cell_type": "code",
   "execution_count": 4,
   "metadata": {},
   "outputs": [
    {
     "name": "stdout",
     "output_type": "stream",
     "text": [
      "<class 'pandas.core.frame.DataFrame'>\n",
      "RangeIndex: 7043 entries, 0 to 7042\n",
      "Data columns (total 21 columns):\n",
      " #   Column            Non-Null Count  Dtype  \n",
      "---  ------            --------------  -----  \n",
      " 0   customerID        7043 non-null   object \n",
      " 1   gender            7043 non-null   object \n",
      " 2   SeniorCitizen     7043 non-null   int64  \n",
      " 3   Partner           7043 non-null   object \n",
      " 4   Dependents        7043 non-null   object \n",
      " 5   tenure            7043 non-null   int64  \n",
      " 6   PhoneService      7043 non-null   object \n",
      " 7   MultipleLines     7043 non-null   object \n",
      " 8   InternetService   7043 non-null   object \n",
      " 9   OnlineSecurity    7043 non-null   object \n",
      " 10  OnlineBackup      7043 non-null   object \n",
      " 11  DeviceProtection  7043 non-null   object \n",
      " 12  TechSupport       7043 non-null   object \n",
      " 13  StreamingTV       7043 non-null   object \n",
      " 14  StreamingMovies   7043 non-null   object \n",
      " 15  Contract          7043 non-null   object \n",
      " 16  PaperlessBilling  7043 non-null   object \n",
      " 17  PaymentMethod     7043 non-null   object \n",
      " 18  MonthlyCharges    7043 non-null   float64\n",
      " 19  TotalCharges      7043 non-null   object \n",
      " 20  Churn             7043 non-null   object \n",
      "dtypes: float64(1), int64(2), object(18)\n",
      "memory usage: 1.1+ MB\n"
     ]
    }
   ],
   "source": [
    "df.info()"
   ]
  },
  {
   "cell_type": "markdown",
   "metadata": {},
   "source": [
    "### DESCRIBE( ) FUNCTION: The describe() function is used to generate descriptive statistics that summarize the central tendency, dispersion and shape of a dataset’s distribution, excluding NaN values."
   ]
  },
  {
   "cell_type": "code",
   "execution_count": 5,
   "metadata": {},
   "outputs": [
    {
     "data": {
      "text/html": [
       "<div>\n",
       "<style scoped>\n",
       "    .dataframe tbody tr th:only-of-type {\n",
       "        vertical-align: middle;\n",
       "    }\n",
       "\n",
       "    .dataframe tbody tr th {\n",
       "        vertical-align: top;\n",
       "    }\n",
       "\n",
       "    .dataframe thead th {\n",
       "        text-align: right;\n",
       "    }\n",
       "</style>\n",
       "<table border=\"1\" class=\"dataframe\">\n",
       "  <thead>\n",
       "    <tr style=\"text-align: right;\">\n",
       "      <th></th>\n",
       "      <th>SeniorCitizen</th>\n",
       "      <th>tenure</th>\n",
       "      <th>MonthlyCharges</th>\n",
       "    </tr>\n",
       "  </thead>\n",
       "  <tbody>\n",
       "    <tr>\n",
       "      <th>count</th>\n",
       "      <td>7043.000000</td>\n",
       "      <td>7043.000000</td>\n",
       "      <td>7043.000000</td>\n",
       "    </tr>\n",
       "    <tr>\n",
       "      <th>mean</th>\n",
       "      <td>0.162147</td>\n",
       "      <td>32.371149</td>\n",
       "      <td>64.761692</td>\n",
       "    </tr>\n",
       "    <tr>\n",
       "      <th>std</th>\n",
       "      <td>0.368612</td>\n",
       "      <td>24.559481</td>\n",
       "      <td>30.090047</td>\n",
       "    </tr>\n",
       "    <tr>\n",
       "      <th>min</th>\n",
       "      <td>0.000000</td>\n",
       "      <td>0.000000</td>\n",
       "      <td>18.250000</td>\n",
       "    </tr>\n",
       "    <tr>\n",
       "      <th>25%</th>\n",
       "      <td>0.000000</td>\n",
       "      <td>9.000000</td>\n",
       "      <td>35.500000</td>\n",
       "    </tr>\n",
       "    <tr>\n",
       "      <th>50%</th>\n",
       "      <td>0.000000</td>\n",
       "      <td>29.000000</td>\n",
       "      <td>70.350000</td>\n",
       "    </tr>\n",
       "    <tr>\n",
       "      <th>75%</th>\n",
       "      <td>0.000000</td>\n",
       "      <td>55.000000</td>\n",
       "      <td>89.850000</td>\n",
       "    </tr>\n",
       "    <tr>\n",
       "      <th>max</th>\n",
       "      <td>1.000000</td>\n",
       "      <td>72.000000</td>\n",
       "      <td>118.750000</td>\n",
       "    </tr>\n",
       "  </tbody>\n",
       "</table>\n",
       "</div>"
      ],
      "text/plain": [
       "       SeniorCitizen       tenure  MonthlyCharges\n",
       "count    7043.000000  7043.000000     7043.000000\n",
       "mean        0.162147    32.371149       64.761692\n",
       "std         0.368612    24.559481       30.090047\n",
       "min         0.000000     0.000000       18.250000\n",
       "25%         0.000000     9.000000       35.500000\n",
       "50%         0.000000    29.000000       70.350000\n",
       "75%         0.000000    55.000000       89.850000\n",
       "max         1.000000    72.000000      118.750000"
      ]
     },
     "execution_count": 5,
     "metadata": {},
     "output_type": "execute_result"
    }
   ],
   "source": [
    "df.describe()"
   ]
  },
  {
   "cell_type": "markdown",
   "metadata": {},
   "source": [
    "## STEP - II: CLEANING THE DATA\n",
    "\n",
    "### Observing that all the Object columns have two values - \"Yes\" and \"No\"."
   ]
  },
  {
   "cell_type": "markdown",
   "metadata": {},
   "source": [
    "### LOC[ ] FUNCTION: The loc property is used to access a group of rows and columns by label(s) or a boolean array. It's primarily label based, but may also be used with a boolean array."
   ]
  },
  {
   "cell_type": "code",
   "execution_count": 6,
   "metadata": {},
   "outputs": [
    {
     "data": {
      "text/html": [
       "<div>\n",
       "<style scoped>\n",
       "    .dataframe tbody tr th:only-of-type {\n",
       "        vertical-align: middle;\n",
       "    }\n",
       "\n",
       "    .dataframe tbody tr th {\n",
       "        vertical-align: top;\n",
       "    }\n",
       "\n",
       "    .dataframe thead th {\n",
       "        text-align: right;\n",
       "    }\n",
       "</style>\n",
       "<table border=\"1\" class=\"dataframe\">\n",
       "  <thead>\n",
       "    <tr style=\"text-align: right;\">\n",
       "      <th></th>\n",
       "      <th>Partner</th>\n",
       "      <th>Dependents</th>\n",
       "      <th>PhoneService</th>\n",
       "      <th>OnlineSecurity</th>\n",
       "      <th>OnlineBackup</th>\n",
       "      <th>DeviceProtection</th>\n",
       "      <th>TechSupport</th>\n",
       "      <th>StreamingTV</th>\n",
       "      <th>StreamingMovies</th>\n",
       "      <th>PaperlessBilling</th>\n",
       "      <th>Churn</th>\n",
       "    </tr>\n",
       "  </thead>\n",
       "  <tbody>\n",
       "    <tr>\n",
       "      <th>0</th>\n",
       "      <td>Yes</td>\n",
       "      <td>No</td>\n",
       "      <td>No</td>\n",
       "      <td>No</td>\n",
       "      <td>Yes</td>\n",
       "      <td>No</td>\n",
       "      <td>No</td>\n",
       "      <td>No</td>\n",
       "      <td>No</td>\n",
       "      <td>Yes</td>\n",
       "      <td>No</td>\n",
       "    </tr>\n",
       "    <tr>\n",
       "      <th>1</th>\n",
       "      <td>No</td>\n",
       "      <td>No</td>\n",
       "      <td>Yes</td>\n",
       "      <td>Yes</td>\n",
       "      <td>No</td>\n",
       "      <td>Yes</td>\n",
       "      <td>No</td>\n",
       "      <td>No</td>\n",
       "      <td>No</td>\n",
       "      <td>No</td>\n",
       "      <td>No</td>\n",
       "    </tr>\n",
       "    <tr>\n",
       "      <th>2</th>\n",
       "      <td>No</td>\n",
       "      <td>No</td>\n",
       "      <td>Yes</td>\n",
       "      <td>Yes</td>\n",
       "      <td>Yes</td>\n",
       "      <td>No</td>\n",
       "      <td>No</td>\n",
       "      <td>No</td>\n",
       "      <td>No</td>\n",
       "      <td>Yes</td>\n",
       "      <td>Yes</td>\n",
       "    </tr>\n",
       "    <tr>\n",
       "      <th>3</th>\n",
       "      <td>No</td>\n",
       "      <td>No</td>\n",
       "      <td>No</td>\n",
       "      <td>Yes</td>\n",
       "      <td>No</td>\n",
       "      <td>Yes</td>\n",
       "      <td>Yes</td>\n",
       "      <td>No</td>\n",
       "      <td>No</td>\n",
       "      <td>No</td>\n",
       "      <td>No</td>\n",
       "    </tr>\n",
       "    <tr>\n",
       "      <th>4</th>\n",
       "      <td>No</td>\n",
       "      <td>No</td>\n",
       "      <td>Yes</td>\n",
       "      <td>No</td>\n",
       "      <td>No</td>\n",
       "      <td>No</td>\n",
       "      <td>No</td>\n",
       "      <td>No</td>\n",
       "      <td>No</td>\n",
       "      <td>Yes</td>\n",
       "      <td>Yes</td>\n",
       "    </tr>\n",
       "    <tr>\n",
       "      <th>...</th>\n",
       "      <td>...</td>\n",
       "      <td>...</td>\n",
       "      <td>...</td>\n",
       "      <td>...</td>\n",
       "      <td>...</td>\n",
       "      <td>...</td>\n",
       "      <td>...</td>\n",
       "      <td>...</td>\n",
       "      <td>...</td>\n",
       "      <td>...</td>\n",
       "      <td>...</td>\n",
       "    </tr>\n",
       "    <tr>\n",
       "      <th>7038</th>\n",
       "      <td>Yes</td>\n",
       "      <td>Yes</td>\n",
       "      <td>Yes</td>\n",
       "      <td>Yes</td>\n",
       "      <td>No</td>\n",
       "      <td>Yes</td>\n",
       "      <td>Yes</td>\n",
       "      <td>Yes</td>\n",
       "      <td>Yes</td>\n",
       "      <td>Yes</td>\n",
       "      <td>No</td>\n",
       "    </tr>\n",
       "    <tr>\n",
       "      <th>7039</th>\n",
       "      <td>Yes</td>\n",
       "      <td>Yes</td>\n",
       "      <td>Yes</td>\n",
       "      <td>No</td>\n",
       "      <td>Yes</td>\n",
       "      <td>Yes</td>\n",
       "      <td>No</td>\n",
       "      <td>Yes</td>\n",
       "      <td>Yes</td>\n",
       "      <td>Yes</td>\n",
       "      <td>No</td>\n",
       "    </tr>\n",
       "    <tr>\n",
       "      <th>7040</th>\n",
       "      <td>Yes</td>\n",
       "      <td>Yes</td>\n",
       "      <td>No</td>\n",
       "      <td>Yes</td>\n",
       "      <td>No</td>\n",
       "      <td>No</td>\n",
       "      <td>No</td>\n",
       "      <td>No</td>\n",
       "      <td>No</td>\n",
       "      <td>Yes</td>\n",
       "      <td>No</td>\n",
       "    </tr>\n",
       "    <tr>\n",
       "      <th>7041</th>\n",
       "      <td>Yes</td>\n",
       "      <td>No</td>\n",
       "      <td>Yes</td>\n",
       "      <td>No</td>\n",
       "      <td>No</td>\n",
       "      <td>No</td>\n",
       "      <td>No</td>\n",
       "      <td>No</td>\n",
       "      <td>No</td>\n",
       "      <td>Yes</td>\n",
       "      <td>Yes</td>\n",
       "    </tr>\n",
       "    <tr>\n",
       "      <th>7042</th>\n",
       "      <td>No</td>\n",
       "      <td>No</td>\n",
       "      <td>Yes</td>\n",
       "      <td>Yes</td>\n",
       "      <td>No</td>\n",
       "      <td>Yes</td>\n",
       "      <td>Yes</td>\n",
       "      <td>Yes</td>\n",
       "      <td>Yes</td>\n",
       "      <td>Yes</td>\n",
       "      <td>No</td>\n",
       "    </tr>\n",
       "  </tbody>\n",
       "</table>\n",
       "<p>7043 rows × 11 columns</p>\n",
       "</div>"
      ],
      "text/plain": [
       "     Partner Dependents PhoneService OnlineSecurity OnlineBackup  \\\n",
       "0        Yes         No           No             No          Yes   \n",
       "1         No         No          Yes            Yes           No   \n",
       "2         No         No          Yes            Yes          Yes   \n",
       "3         No         No           No            Yes           No   \n",
       "4         No         No          Yes             No           No   \n",
       "...      ...        ...          ...            ...          ...   \n",
       "7038     Yes        Yes          Yes            Yes           No   \n",
       "7039     Yes        Yes          Yes             No          Yes   \n",
       "7040     Yes        Yes           No            Yes           No   \n",
       "7041     Yes         No          Yes             No           No   \n",
       "7042      No         No          Yes            Yes           No   \n",
       "\n",
       "     DeviceProtection TechSupport StreamingTV StreamingMovies  \\\n",
       "0                  No          No          No              No   \n",
       "1                 Yes          No          No              No   \n",
       "2                  No          No          No              No   \n",
       "3                 Yes         Yes          No              No   \n",
       "4                  No          No          No              No   \n",
       "...               ...         ...         ...             ...   \n",
       "7038              Yes         Yes         Yes             Yes   \n",
       "7039              Yes          No         Yes             Yes   \n",
       "7040               No          No          No              No   \n",
       "7041               No          No          No              No   \n",
       "7042              Yes         Yes         Yes             Yes   \n",
       "\n",
       "     PaperlessBilling Churn  \n",
       "0                 Yes    No  \n",
       "1                  No    No  \n",
       "2                 Yes   Yes  \n",
       "3                  No    No  \n",
       "4                 Yes   Yes  \n",
       "...               ...   ...  \n",
       "7038              Yes    No  \n",
       "7039              Yes    No  \n",
       "7040              Yes    No  \n",
       "7041              Yes   Yes  \n",
       "7042              Yes    No  \n",
       "\n",
       "[7043 rows x 11 columns]"
      ]
     },
     "execution_count": 6,
     "metadata": {},
     "output_type": "execute_result"
    }
   ],
   "source": [
    "df.loc[:, ['Partner', 'Dependents', 'PhoneService','OnlineSecurity', 'OnlineBackup', 'DeviceProtection','TechSupport', \n",
    "           'StreamingTV', 'StreamingMovies','PaperlessBilling', 'Churn']]"
   ]
  },
  {
   "cell_type": "markdown",
   "metadata": {},
   "source": [
    "### Converting all the \"Yes\" to '1' and \"No\" to '0'"
   ]
  },
  {
   "cell_type": "code",
   "execution_count": 7,
   "metadata": {},
   "outputs": [
    {
     "data": {
      "text/html": [
       "<div>\n",
       "<style scoped>\n",
       "    .dataframe tbody tr th:only-of-type {\n",
       "        vertical-align: middle;\n",
       "    }\n",
       "\n",
       "    .dataframe tbody tr th {\n",
       "        vertical-align: top;\n",
       "    }\n",
       "\n",
       "    .dataframe thead th {\n",
       "        text-align: right;\n",
       "    }\n",
       "</style>\n",
       "<table border=\"1\" class=\"dataframe\">\n",
       "  <thead>\n",
       "    <tr style=\"text-align: right;\">\n",
       "      <th></th>\n",
       "      <th>customerID</th>\n",
       "      <th>gender</th>\n",
       "      <th>SeniorCitizen</th>\n",
       "      <th>Partner</th>\n",
       "      <th>Dependents</th>\n",
       "      <th>tenure</th>\n",
       "      <th>PhoneService</th>\n",
       "      <th>MultipleLines</th>\n",
       "      <th>InternetService</th>\n",
       "      <th>OnlineSecurity</th>\n",
       "      <th>...</th>\n",
       "      <th>DeviceProtection</th>\n",
       "      <th>TechSupport</th>\n",
       "      <th>StreamingTV</th>\n",
       "      <th>StreamingMovies</th>\n",
       "      <th>Contract</th>\n",
       "      <th>PaperlessBilling</th>\n",
       "      <th>PaymentMethod</th>\n",
       "      <th>MonthlyCharges</th>\n",
       "      <th>TotalCharges</th>\n",
       "      <th>Churn</th>\n",
       "    </tr>\n",
       "  </thead>\n",
       "  <tbody>\n",
       "    <tr>\n",
       "      <th>0</th>\n",
       "      <td>7590-VHVEG</td>\n",
       "      <td>Female</td>\n",
       "      <td>0</td>\n",
       "      <td>1</td>\n",
       "      <td>0</td>\n",
       "      <td>1</td>\n",
       "      <td>0</td>\n",
       "      <td>No phone service</td>\n",
       "      <td>DSL</td>\n",
       "      <td>0</td>\n",
       "      <td>...</td>\n",
       "      <td>0</td>\n",
       "      <td>0</td>\n",
       "      <td>0</td>\n",
       "      <td>0</td>\n",
       "      <td>Month-to-month</td>\n",
       "      <td>1</td>\n",
       "      <td>Electronic check</td>\n",
       "      <td>29.85</td>\n",
       "      <td>29.85</td>\n",
       "      <td>0</td>\n",
       "    </tr>\n",
       "    <tr>\n",
       "      <th>1</th>\n",
       "      <td>5575-GNVDE</td>\n",
       "      <td>Male</td>\n",
       "      <td>0</td>\n",
       "      <td>0</td>\n",
       "      <td>0</td>\n",
       "      <td>34</td>\n",
       "      <td>1</td>\n",
       "      <td>No</td>\n",
       "      <td>DSL</td>\n",
       "      <td>1</td>\n",
       "      <td>...</td>\n",
       "      <td>1</td>\n",
       "      <td>0</td>\n",
       "      <td>0</td>\n",
       "      <td>0</td>\n",
       "      <td>One year</td>\n",
       "      <td>0</td>\n",
       "      <td>Mailed check</td>\n",
       "      <td>56.95</td>\n",
       "      <td>1889.5</td>\n",
       "      <td>0</td>\n",
       "    </tr>\n",
       "    <tr>\n",
       "      <th>2</th>\n",
       "      <td>3668-QPYBK</td>\n",
       "      <td>Male</td>\n",
       "      <td>0</td>\n",
       "      <td>0</td>\n",
       "      <td>0</td>\n",
       "      <td>2</td>\n",
       "      <td>1</td>\n",
       "      <td>No</td>\n",
       "      <td>DSL</td>\n",
       "      <td>1</td>\n",
       "      <td>...</td>\n",
       "      <td>0</td>\n",
       "      <td>0</td>\n",
       "      <td>0</td>\n",
       "      <td>0</td>\n",
       "      <td>Month-to-month</td>\n",
       "      <td>1</td>\n",
       "      <td>Mailed check</td>\n",
       "      <td>53.85</td>\n",
       "      <td>108.15</td>\n",
       "      <td>1</td>\n",
       "    </tr>\n",
       "    <tr>\n",
       "      <th>3</th>\n",
       "      <td>7795-CFOCW</td>\n",
       "      <td>Male</td>\n",
       "      <td>0</td>\n",
       "      <td>0</td>\n",
       "      <td>0</td>\n",
       "      <td>45</td>\n",
       "      <td>0</td>\n",
       "      <td>No phone service</td>\n",
       "      <td>DSL</td>\n",
       "      <td>1</td>\n",
       "      <td>...</td>\n",
       "      <td>1</td>\n",
       "      <td>1</td>\n",
       "      <td>0</td>\n",
       "      <td>0</td>\n",
       "      <td>One year</td>\n",
       "      <td>0</td>\n",
       "      <td>Bank transfer (automatic)</td>\n",
       "      <td>42.30</td>\n",
       "      <td>1840.75</td>\n",
       "      <td>0</td>\n",
       "    </tr>\n",
       "    <tr>\n",
       "      <th>4</th>\n",
       "      <td>9237-HQITU</td>\n",
       "      <td>Female</td>\n",
       "      <td>0</td>\n",
       "      <td>0</td>\n",
       "      <td>0</td>\n",
       "      <td>2</td>\n",
       "      <td>1</td>\n",
       "      <td>No</td>\n",
       "      <td>Fiber optic</td>\n",
       "      <td>0</td>\n",
       "      <td>...</td>\n",
       "      <td>0</td>\n",
       "      <td>0</td>\n",
       "      <td>0</td>\n",
       "      <td>0</td>\n",
       "      <td>Month-to-month</td>\n",
       "      <td>1</td>\n",
       "      <td>Electronic check</td>\n",
       "      <td>70.70</td>\n",
       "      <td>151.65</td>\n",
       "      <td>1</td>\n",
       "    </tr>\n",
       "    <tr>\n",
       "      <th>...</th>\n",
       "      <td>...</td>\n",
       "      <td>...</td>\n",
       "      <td>...</td>\n",
       "      <td>...</td>\n",
       "      <td>...</td>\n",
       "      <td>...</td>\n",
       "      <td>...</td>\n",
       "      <td>...</td>\n",
       "      <td>...</td>\n",
       "      <td>...</td>\n",
       "      <td>...</td>\n",
       "      <td>...</td>\n",
       "      <td>...</td>\n",
       "      <td>...</td>\n",
       "      <td>...</td>\n",
       "      <td>...</td>\n",
       "      <td>...</td>\n",
       "      <td>...</td>\n",
       "      <td>...</td>\n",
       "      <td>...</td>\n",
       "      <td>...</td>\n",
       "    </tr>\n",
       "    <tr>\n",
       "      <th>7038</th>\n",
       "      <td>6840-RESVB</td>\n",
       "      <td>Male</td>\n",
       "      <td>0</td>\n",
       "      <td>1</td>\n",
       "      <td>1</td>\n",
       "      <td>24</td>\n",
       "      <td>1</td>\n",
       "      <td>Yes</td>\n",
       "      <td>DSL</td>\n",
       "      <td>1</td>\n",
       "      <td>...</td>\n",
       "      <td>1</td>\n",
       "      <td>1</td>\n",
       "      <td>1</td>\n",
       "      <td>1</td>\n",
       "      <td>One year</td>\n",
       "      <td>1</td>\n",
       "      <td>Mailed check</td>\n",
       "      <td>84.80</td>\n",
       "      <td>1990.5</td>\n",
       "      <td>0</td>\n",
       "    </tr>\n",
       "    <tr>\n",
       "      <th>7039</th>\n",
       "      <td>2234-XADUH</td>\n",
       "      <td>Female</td>\n",
       "      <td>0</td>\n",
       "      <td>1</td>\n",
       "      <td>1</td>\n",
       "      <td>72</td>\n",
       "      <td>1</td>\n",
       "      <td>Yes</td>\n",
       "      <td>Fiber optic</td>\n",
       "      <td>0</td>\n",
       "      <td>...</td>\n",
       "      <td>1</td>\n",
       "      <td>0</td>\n",
       "      <td>1</td>\n",
       "      <td>1</td>\n",
       "      <td>One year</td>\n",
       "      <td>1</td>\n",
       "      <td>Credit card (automatic)</td>\n",
       "      <td>103.20</td>\n",
       "      <td>7362.9</td>\n",
       "      <td>0</td>\n",
       "    </tr>\n",
       "    <tr>\n",
       "      <th>7040</th>\n",
       "      <td>4801-JZAZL</td>\n",
       "      <td>Female</td>\n",
       "      <td>0</td>\n",
       "      <td>1</td>\n",
       "      <td>1</td>\n",
       "      <td>11</td>\n",
       "      <td>0</td>\n",
       "      <td>No phone service</td>\n",
       "      <td>DSL</td>\n",
       "      <td>1</td>\n",
       "      <td>...</td>\n",
       "      <td>0</td>\n",
       "      <td>0</td>\n",
       "      <td>0</td>\n",
       "      <td>0</td>\n",
       "      <td>Month-to-month</td>\n",
       "      <td>1</td>\n",
       "      <td>Electronic check</td>\n",
       "      <td>29.60</td>\n",
       "      <td>346.45</td>\n",
       "      <td>0</td>\n",
       "    </tr>\n",
       "    <tr>\n",
       "      <th>7041</th>\n",
       "      <td>8361-LTMKD</td>\n",
       "      <td>Male</td>\n",
       "      <td>1</td>\n",
       "      <td>1</td>\n",
       "      <td>0</td>\n",
       "      <td>4</td>\n",
       "      <td>1</td>\n",
       "      <td>Yes</td>\n",
       "      <td>Fiber optic</td>\n",
       "      <td>0</td>\n",
       "      <td>...</td>\n",
       "      <td>0</td>\n",
       "      <td>0</td>\n",
       "      <td>0</td>\n",
       "      <td>0</td>\n",
       "      <td>Month-to-month</td>\n",
       "      <td>1</td>\n",
       "      <td>Mailed check</td>\n",
       "      <td>74.40</td>\n",
       "      <td>306.6</td>\n",
       "      <td>1</td>\n",
       "    </tr>\n",
       "    <tr>\n",
       "      <th>7042</th>\n",
       "      <td>3186-AJIEK</td>\n",
       "      <td>Male</td>\n",
       "      <td>0</td>\n",
       "      <td>0</td>\n",
       "      <td>0</td>\n",
       "      <td>66</td>\n",
       "      <td>1</td>\n",
       "      <td>No</td>\n",
       "      <td>Fiber optic</td>\n",
       "      <td>1</td>\n",
       "      <td>...</td>\n",
       "      <td>1</td>\n",
       "      <td>1</td>\n",
       "      <td>1</td>\n",
       "      <td>1</td>\n",
       "      <td>Two year</td>\n",
       "      <td>1</td>\n",
       "      <td>Bank transfer (automatic)</td>\n",
       "      <td>105.65</td>\n",
       "      <td>6844.5</td>\n",
       "      <td>0</td>\n",
       "    </tr>\n",
       "  </tbody>\n",
       "</table>\n",
       "<p>7043 rows × 21 columns</p>\n",
       "</div>"
      ],
      "text/plain": [
       "      customerID  gender  SeniorCitizen  Partner  Dependents  tenure  \\\n",
       "0     7590-VHVEG  Female              0        1           0       1   \n",
       "1     5575-GNVDE    Male              0        0           0      34   \n",
       "2     3668-QPYBK    Male              0        0           0       2   \n",
       "3     7795-CFOCW    Male              0        0           0      45   \n",
       "4     9237-HQITU  Female              0        0           0       2   \n",
       "...          ...     ...            ...      ...         ...     ...   \n",
       "7038  6840-RESVB    Male              0        1           1      24   \n",
       "7039  2234-XADUH  Female              0        1           1      72   \n",
       "7040  4801-JZAZL  Female              0        1           1      11   \n",
       "7041  8361-LTMKD    Male              1        1           0       4   \n",
       "7042  3186-AJIEK    Male              0        0           0      66   \n",
       "\n",
       "      PhoneService     MultipleLines InternetService  OnlineSecurity  ...  \\\n",
       "0                0  No phone service             DSL               0  ...   \n",
       "1                1                No             DSL               1  ...   \n",
       "2                1                No             DSL               1  ...   \n",
       "3                0  No phone service             DSL               1  ...   \n",
       "4                1                No     Fiber optic               0  ...   \n",
       "...            ...               ...             ...             ...  ...   \n",
       "7038             1               Yes             DSL               1  ...   \n",
       "7039             1               Yes     Fiber optic               0  ...   \n",
       "7040             0  No phone service             DSL               1  ...   \n",
       "7041             1               Yes     Fiber optic               0  ...   \n",
       "7042             1                No     Fiber optic               1  ...   \n",
       "\n",
       "      DeviceProtection  TechSupport  StreamingTV  StreamingMovies  \\\n",
       "0                    0            0            0                0   \n",
       "1                    1            0            0                0   \n",
       "2                    0            0            0                0   \n",
       "3                    1            1            0                0   \n",
       "4                    0            0            0                0   \n",
       "...                ...          ...          ...              ...   \n",
       "7038                 1            1            1                1   \n",
       "7039                 1            0            1                1   \n",
       "7040                 0            0            0                0   \n",
       "7041                 0            0            0                0   \n",
       "7042                 1            1            1                1   \n",
       "\n",
       "            Contract PaperlessBilling              PaymentMethod  \\\n",
       "0     Month-to-month                1           Electronic check   \n",
       "1           One year                0               Mailed check   \n",
       "2     Month-to-month                1               Mailed check   \n",
       "3           One year                0  Bank transfer (automatic)   \n",
       "4     Month-to-month                1           Electronic check   \n",
       "...              ...              ...                        ...   \n",
       "7038        One year                1               Mailed check   \n",
       "7039        One year                1    Credit card (automatic)   \n",
       "7040  Month-to-month                1           Electronic check   \n",
       "7041  Month-to-month                1               Mailed check   \n",
       "7042        Two year                1  Bank transfer (automatic)   \n",
       "\n",
       "     MonthlyCharges  TotalCharges Churn  \n",
       "0             29.85         29.85     0  \n",
       "1             56.95        1889.5     0  \n",
       "2             53.85        108.15     1  \n",
       "3             42.30       1840.75     0  \n",
       "4             70.70        151.65     1  \n",
       "...             ...           ...   ...  \n",
       "7038          84.80        1990.5     0  \n",
       "7039         103.20        7362.9     0  \n",
       "7040          29.60        346.45     0  \n",
       "7041          74.40         306.6     1  \n",
       "7042         105.65        6844.5     0  \n",
       "\n",
       "[7043 rows x 21 columns]"
      ]
     },
     "execution_count": 7,
     "metadata": {},
     "output_type": "execute_result"
    }
   ],
   "source": [
    "var = ['Partner', 'Dependents', 'PhoneService', 'OnlineSecurity', 'OnlineBackup', 'DeviceProtection', 'TechSupport', \n",
    "       'StreamingTV', 'StreamingMovies', 'PaperlessBilling', 'Churn']\n",
    "\n",
    "for feature in var:\n",
    "    df[feature] = df[feature].apply(lambda x : 1 if x=='Yes' else 0)\n",
    "    \n",
    "df"
   ]
  },
  {
   "cell_type": "markdown",
   "metadata": {},
   "source": [
    "###  HAVING A LOOK OF ALL THE DATAFRAME COLUMNS AGAIN"
   ]
  },
  {
   "cell_type": "code",
   "execution_count": 8,
   "metadata": {},
   "outputs": [
    {
     "data": {
      "text/html": [
       "<div>\n",
       "<style scoped>\n",
       "    .dataframe tbody tr th:only-of-type {\n",
       "        vertical-align: middle;\n",
       "    }\n",
       "\n",
       "    .dataframe tbody tr th {\n",
       "        vertical-align: top;\n",
       "    }\n",
       "\n",
       "    .dataframe thead th {\n",
       "        text-align: right;\n",
       "    }\n",
       "</style>\n",
       "<table border=\"1\" class=\"dataframe\">\n",
       "  <thead>\n",
       "    <tr style=\"text-align: right;\">\n",
       "      <th></th>\n",
       "      <th>Partner</th>\n",
       "      <th>Dependents</th>\n",
       "      <th>PhoneService</th>\n",
       "      <th>OnlineSecurity</th>\n",
       "      <th>OnlineBackup</th>\n",
       "      <th>DeviceProtection</th>\n",
       "      <th>TechSupport</th>\n",
       "      <th>StreamingTV</th>\n",
       "      <th>StreamingMovies</th>\n",
       "      <th>PaperlessBilling</th>\n",
       "      <th>Churn</th>\n",
       "    </tr>\n",
       "  </thead>\n",
       "  <tbody>\n",
       "    <tr>\n",
       "      <th>0</th>\n",
       "      <td>1</td>\n",
       "      <td>0</td>\n",
       "      <td>0</td>\n",
       "      <td>0</td>\n",
       "      <td>1</td>\n",
       "      <td>0</td>\n",
       "      <td>0</td>\n",
       "      <td>0</td>\n",
       "      <td>0</td>\n",
       "      <td>1</td>\n",
       "      <td>0</td>\n",
       "    </tr>\n",
       "    <tr>\n",
       "      <th>1</th>\n",
       "      <td>0</td>\n",
       "      <td>0</td>\n",
       "      <td>1</td>\n",
       "      <td>1</td>\n",
       "      <td>0</td>\n",
       "      <td>1</td>\n",
       "      <td>0</td>\n",
       "      <td>0</td>\n",
       "      <td>0</td>\n",
       "      <td>0</td>\n",
       "      <td>0</td>\n",
       "    </tr>\n",
       "    <tr>\n",
       "      <th>2</th>\n",
       "      <td>0</td>\n",
       "      <td>0</td>\n",
       "      <td>1</td>\n",
       "      <td>1</td>\n",
       "      <td>1</td>\n",
       "      <td>0</td>\n",
       "      <td>0</td>\n",
       "      <td>0</td>\n",
       "      <td>0</td>\n",
       "      <td>1</td>\n",
       "      <td>1</td>\n",
       "    </tr>\n",
       "    <tr>\n",
       "      <th>3</th>\n",
       "      <td>0</td>\n",
       "      <td>0</td>\n",
       "      <td>0</td>\n",
       "      <td>1</td>\n",
       "      <td>0</td>\n",
       "      <td>1</td>\n",
       "      <td>1</td>\n",
       "      <td>0</td>\n",
       "      <td>0</td>\n",
       "      <td>0</td>\n",
       "      <td>0</td>\n",
       "    </tr>\n",
       "    <tr>\n",
       "      <th>4</th>\n",
       "      <td>0</td>\n",
       "      <td>0</td>\n",
       "      <td>1</td>\n",
       "      <td>0</td>\n",
       "      <td>0</td>\n",
       "      <td>0</td>\n",
       "      <td>0</td>\n",
       "      <td>0</td>\n",
       "      <td>0</td>\n",
       "      <td>1</td>\n",
       "      <td>1</td>\n",
       "    </tr>\n",
       "    <tr>\n",
       "      <th>...</th>\n",
       "      <td>...</td>\n",
       "      <td>...</td>\n",
       "      <td>...</td>\n",
       "      <td>...</td>\n",
       "      <td>...</td>\n",
       "      <td>...</td>\n",
       "      <td>...</td>\n",
       "      <td>...</td>\n",
       "      <td>...</td>\n",
       "      <td>...</td>\n",
       "      <td>...</td>\n",
       "    </tr>\n",
       "    <tr>\n",
       "      <th>7038</th>\n",
       "      <td>1</td>\n",
       "      <td>1</td>\n",
       "      <td>1</td>\n",
       "      <td>1</td>\n",
       "      <td>0</td>\n",
       "      <td>1</td>\n",
       "      <td>1</td>\n",
       "      <td>1</td>\n",
       "      <td>1</td>\n",
       "      <td>1</td>\n",
       "      <td>0</td>\n",
       "    </tr>\n",
       "    <tr>\n",
       "      <th>7039</th>\n",
       "      <td>1</td>\n",
       "      <td>1</td>\n",
       "      <td>1</td>\n",
       "      <td>0</td>\n",
       "      <td>1</td>\n",
       "      <td>1</td>\n",
       "      <td>0</td>\n",
       "      <td>1</td>\n",
       "      <td>1</td>\n",
       "      <td>1</td>\n",
       "      <td>0</td>\n",
       "    </tr>\n",
       "    <tr>\n",
       "      <th>7040</th>\n",
       "      <td>1</td>\n",
       "      <td>1</td>\n",
       "      <td>0</td>\n",
       "      <td>1</td>\n",
       "      <td>0</td>\n",
       "      <td>0</td>\n",
       "      <td>0</td>\n",
       "      <td>0</td>\n",
       "      <td>0</td>\n",
       "      <td>1</td>\n",
       "      <td>0</td>\n",
       "    </tr>\n",
       "    <tr>\n",
       "      <th>7041</th>\n",
       "      <td>1</td>\n",
       "      <td>0</td>\n",
       "      <td>1</td>\n",
       "      <td>0</td>\n",
       "      <td>0</td>\n",
       "      <td>0</td>\n",
       "      <td>0</td>\n",
       "      <td>0</td>\n",
       "      <td>0</td>\n",
       "      <td>1</td>\n",
       "      <td>1</td>\n",
       "    </tr>\n",
       "    <tr>\n",
       "      <th>7042</th>\n",
       "      <td>0</td>\n",
       "      <td>0</td>\n",
       "      <td>1</td>\n",
       "      <td>1</td>\n",
       "      <td>0</td>\n",
       "      <td>1</td>\n",
       "      <td>1</td>\n",
       "      <td>1</td>\n",
       "      <td>1</td>\n",
       "      <td>1</td>\n",
       "      <td>0</td>\n",
       "    </tr>\n",
       "  </tbody>\n",
       "</table>\n",
       "<p>7043 rows × 11 columns</p>\n",
       "</div>"
      ],
      "text/plain": [
       "      Partner  Dependents  PhoneService  OnlineSecurity  OnlineBackup  \\\n",
       "0           1           0             0               0             1   \n",
       "1           0           0             1               1             0   \n",
       "2           0           0             1               1             1   \n",
       "3           0           0             0               1             0   \n",
       "4           0           0             1               0             0   \n",
       "...       ...         ...           ...             ...           ...   \n",
       "7038        1           1             1               1             0   \n",
       "7039        1           1             1               0             1   \n",
       "7040        1           1             0               1             0   \n",
       "7041        1           0             1               0             0   \n",
       "7042        0           0             1               1             0   \n",
       "\n",
       "      DeviceProtection  TechSupport  StreamingTV  StreamingMovies  \\\n",
       "0                    0            0            0                0   \n",
       "1                    1            0            0                0   \n",
       "2                    0            0            0                0   \n",
       "3                    1            1            0                0   \n",
       "4                    0            0            0                0   \n",
       "...                ...          ...          ...              ...   \n",
       "7038                 1            1            1                1   \n",
       "7039                 1            0            1                1   \n",
       "7040                 0            0            0                0   \n",
       "7041                 0            0            0                0   \n",
       "7042                 1            1            1                1   \n",
       "\n",
       "      PaperlessBilling  Churn  \n",
       "0                    1      0  \n",
       "1                    0      0  \n",
       "2                    1      1  \n",
       "3                    0      0  \n",
       "4                    1      1  \n",
       "...                ...    ...  \n",
       "7038                 1      0  \n",
       "7039                 1      0  \n",
       "7040                 1      0  \n",
       "7041                 1      1  \n",
       "7042                 1      0  \n",
       "\n",
       "[7043 rows x 11 columns]"
      ]
     },
     "execution_count": 8,
     "metadata": {},
     "output_type": "execute_result"
    }
   ],
   "source": [
    "df.loc[:, ['Partner', 'Dependents', 'PhoneService','OnlineSecurity', 'OnlineBackup', 'DeviceProtection','TechSupport', \n",
    "           'StreamingTV', 'StreamingMovies','PaperlessBilling', 'Churn']]"
   ]
  },
  {
   "cell_type": "markdown",
   "metadata": {},
   "source": [
    "### OBSERVING ALL THE COLUMNS WHETHER ALL THE COLUMNS ARE CONVERTED FROM OBJECT TO INT64"
   ]
  },
  {
   "cell_type": "code",
   "execution_count": 9,
   "metadata": {},
   "outputs": [
    {
     "name": "stdout",
     "output_type": "stream",
     "text": [
      "<class 'pandas.core.frame.DataFrame'>\n",
      "RangeIndex: 7043 entries, 0 to 7042\n",
      "Data columns (total 21 columns):\n",
      " #   Column            Non-Null Count  Dtype  \n",
      "---  ------            --------------  -----  \n",
      " 0   customerID        7043 non-null   object \n",
      " 1   gender            7043 non-null   object \n",
      " 2   SeniorCitizen     7043 non-null   int64  \n",
      " 3   Partner           7043 non-null   int64  \n",
      " 4   Dependents        7043 non-null   int64  \n",
      " 5   tenure            7043 non-null   int64  \n",
      " 6   PhoneService      7043 non-null   int64  \n",
      " 7   MultipleLines     7043 non-null   object \n",
      " 8   InternetService   7043 non-null   object \n",
      " 9   OnlineSecurity    7043 non-null   int64  \n",
      " 10  OnlineBackup      7043 non-null   int64  \n",
      " 11  DeviceProtection  7043 non-null   int64  \n",
      " 12  TechSupport       7043 non-null   int64  \n",
      " 13  StreamingTV       7043 non-null   int64  \n",
      " 14  StreamingMovies   7043 non-null   int64  \n",
      " 15  Contract          7043 non-null   object \n",
      " 16  PaperlessBilling  7043 non-null   int64  \n",
      " 17  PaymentMethod     7043 non-null   object \n",
      " 18  MonthlyCharges    7043 non-null   float64\n",
      " 19  TotalCharges      7043 non-null   object \n",
      " 20  Churn             7043 non-null   int64  \n",
      "dtypes: float64(1), int64(13), object(7)\n",
      "memory usage: 1.1+ MB\n"
     ]
    }
   ],
   "source": [
    "df.info()"
   ]
  },
  {
   "cell_type": "markdown",
   "metadata": {},
   "source": [
    "### CHECKING ALL THE OBJECT DTYPES - HERE WE HAVE MORE THAN 2 CATEGORIES"
   ]
  },
  {
   "cell_type": "code",
   "execution_count": 10,
   "metadata": {},
   "outputs": [
    {
     "data": {
      "text/html": [
       "<div>\n",
       "<style scoped>\n",
       "    .dataframe tbody tr th:only-of-type {\n",
       "        vertical-align: middle;\n",
       "    }\n",
       "\n",
       "    .dataframe tbody tr th {\n",
       "        vertical-align: top;\n",
       "    }\n",
       "\n",
       "    .dataframe thead th {\n",
       "        text-align: right;\n",
       "    }\n",
       "</style>\n",
       "<table border=\"1\" class=\"dataframe\">\n",
       "  <thead>\n",
       "    <tr style=\"text-align: right;\">\n",
       "      <th></th>\n",
       "      <th>MultipleLines</th>\n",
       "      <th>InternetService</th>\n",
       "      <th>Contract</th>\n",
       "      <th>PaymentMethod</th>\n",
       "      <th>TotalCharges</th>\n",
       "    </tr>\n",
       "  </thead>\n",
       "  <tbody>\n",
       "    <tr>\n",
       "      <th>0</th>\n",
       "      <td>No phone service</td>\n",
       "      <td>DSL</td>\n",
       "      <td>Month-to-month</td>\n",
       "      <td>Electronic check</td>\n",
       "      <td>29.85</td>\n",
       "    </tr>\n",
       "    <tr>\n",
       "      <th>1</th>\n",
       "      <td>No</td>\n",
       "      <td>DSL</td>\n",
       "      <td>One year</td>\n",
       "      <td>Mailed check</td>\n",
       "      <td>1889.5</td>\n",
       "    </tr>\n",
       "    <tr>\n",
       "      <th>2</th>\n",
       "      <td>No</td>\n",
       "      <td>DSL</td>\n",
       "      <td>Month-to-month</td>\n",
       "      <td>Mailed check</td>\n",
       "      <td>108.15</td>\n",
       "    </tr>\n",
       "    <tr>\n",
       "      <th>3</th>\n",
       "      <td>No phone service</td>\n",
       "      <td>DSL</td>\n",
       "      <td>One year</td>\n",
       "      <td>Bank transfer (automatic)</td>\n",
       "      <td>1840.75</td>\n",
       "    </tr>\n",
       "    <tr>\n",
       "      <th>4</th>\n",
       "      <td>No</td>\n",
       "      <td>Fiber optic</td>\n",
       "      <td>Month-to-month</td>\n",
       "      <td>Electronic check</td>\n",
       "      <td>151.65</td>\n",
       "    </tr>\n",
       "    <tr>\n",
       "      <th>5</th>\n",
       "      <td>Yes</td>\n",
       "      <td>Fiber optic</td>\n",
       "      <td>Month-to-month</td>\n",
       "      <td>Electronic check</td>\n",
       "      <td>820.5</td>\n",
       "    </tr>\n",
       "  </tbody>\n",
       "</table>\n",
       "</div>"
      ],
      "text/plain": [
       "      MultipleLines InternetService        Contract  \\\n",
       "0  No phone service             DSL  Month-to-month   \n",
       "1                No             DSL        One year   \n",
       "2                No             DSL  Month-to-month   \n",
       "3  No phone service             DSL        One year   \n",
       "4                No     Fiber optic  Month-to-month   \n",
       "5               Yes     Fiber optic  Month-to-month   \n",
       "\n",
       "               PaymentMethod TotalCharges  \n",
       "0           Electronic check        29.85  \n",
       "1               Mailed check       1889.5  \n",
       "2               Mailed check       108.15  \n",
       "3  Bank transfer (automatic)      1840.75  \n",
       "4           Electronic check       151.65  \n",
       "5           Electronic check        820.5  "
      ]
     },
     "execution_count": 10,
     "metadata": {},
     "output_type": "execute_result"
    }
   ],
   "source": [
    "df.loc[:5, ['MultipleLines', 'InternetService', 'Contract', 'PaymentMethod', 'TotalCharges']]"
   ]
  },
  {
   "cell_type": "markdown",
   "metadata": {},
   "source": [
    "### SEPERATING THE OBJECT COLUMNS"
   ]
  },
  {
   "cell_type": "code",
   "execution_count": 11,
   "metadata": {},
   "outputs": [
    {
     "data": {
      "text/html": [
       "<div>\n",
       "<style scoped>\n",
       "    .dataframe tbody tr th:only-of-type {\n",
       "        vertical-align: middle;\n",
       "    }\n",
       "\n",
       "    .dataframe tbody tr th {\n",
       "        vertical-align: top;\n",
       "    }\n",
       "\n",
       "    .dataframe thead th {\n",
       "        text-align: right;\n",
       "    }\n",
       "</style>\n",
       "<table border=\"1\" class=\"dataframe\">\n",
       "  <thead>\n",
       "    <tr style=\"text-align: right;\">\n",
       "      <th></th>\n",
       "      <th>customerID</th>\n",
       "      <th>gender</th>\n",
       "      <th>MultipleLines</th>\n",
       "      <th>InternetService</th>\n",
       "      <th>Contract</th>\n",
       "      <th>PaymentMethod</th>\n",
       "      <th>TotalCharges</th>\n",
       "    </tr>\n",
       "  </thead>\n",
       "  <tbody>\n",
       "    <tr>\n",
       "      <th>0</th>\n",
       "      <td>7590-VHVEG</td>\n",
       "      <td>Female</td>\n",
       "      <td>No phone service</td>\n",
       "      <td>DSL</td>\n",
       "      <td>Month-to-month</td>\n",
       "      <td>Electronic check</td>\n",
       "      <td>29.85</td>\n",
       "    </tr>\n",
       "    <tr>\n",
       "      <th>1</th>\n",
       "      <td>5575-GNVDE</td>\n",
       "      <td>Male</td>\n",
       "      <td>No</td>\n",
       "      <td>DSL</td>\n",
       "      <td>One year</td>\n",
       "      <td>Mailed check</td>\n",
       "      <td>1889.5</td>\n",
       "    </tr>\n",
       "    <tr>\n",
       "      <th>2</th>\n",
       "      <td>3668-QPYBK</td>\n",
       "      <td>Male</td>\n",
       "      <td>No</td>\n",
       "      <td>DSL</td>\n",
       "      <td>Month-to-month</td>\n",
       "      <td>Mailed check</td>\n",
       "      <td>108.15</td>\n",
       "    </tr>\n",
       "    <tr>\n",
       "      <th>3</th>\n",
       "      <td>7795-CFOCW</td>\n",
       "      <td>Male</td>\n",
       "      <td>No phone service</td>\n",
       "      <td>DSL</td>\n",
       "      <td>One year</td>\n",
       "      <td>Bank transfer (automatic)</td>\n",
       "      <td>1840.75</td>\n",
       "    </tr>\n",
       "    <tr>\n",
       "      <th>4</th>\n",
       "      <td>9237-HQITU</td>\n",
       "      <td>Female</td>\n",
       "      <td>No</td>\n",
       "      <td>Fiber optic</td>\n",
       "      <td>Month-to-month</td>\n",
       "      <td>Electronic check</td>\n",
       "      <td>151.65</td>\n",
       "    </tr>\n",
       "    <tr>\n",
       "      <th>...</th>\n",
       "      <td>...</td>\n",
       "      <td>...</td>\n",
       "      <td>...</td>\n",
       "      <td>...</td>\n",
       "      <td>...</td>\n",
       "      <td>...</td>\n",
       "      <td>...</td>\n",
       "    </tr>\n",
       "    <tr>\n",
       "      <th>7038</th>\n",
       "      <td>6840-RESVB</td>\n",
       "      <td>Male</td>\n",
       "      <td>Yes</td>\n",
       "      <td>DSL</td>\n",
       "      <td>One year</td>\n",
       "      <td>Mailed check</td>\n",
       "      <td>1990.5</td>\n",
       "    </tr>\n",
       "    <tr>\n",
       "      <th>7039</th>\n",
       "      <td>2234-XADUH</td>\n",
       "      <td>Female</td>\n",
       "      <td>Yes</td>\n",
       "      <td>Fiber optic</td>\n",
       "      <td>One year</td>\n",
       "      <td>Credit card (automatic)</td>\n",
       "      <td>7362.9</td>\n",
       "    </tr>\n",
       "    <tr>\n",
       "      <th>7040</th>\n",
       "      <td>4801-JZAZL</td>\n",
       "      <td>Female</td>\n",
       "      <td>No phone service</td>\n",
       "      <td>DSL</td>\n",
       "      <td>Month-to-month</td>\n",
       "      <td>Electronic check</td>\n",
       "      <td>346.45</td>\n",
       "    </tr>\n",
       "    <tr>\n",
       "      <th>7041</th>\n",
       "      <td>8361-LTMKD</td>\n",
       "      <td>Male</td>\n",
       "      <td>Yes</td>\n",
       "      <td>Fiber optic</td>\n",
       "      <td>Month-to-month</td>\n",
       "      <td>Mailed check</td>\n",
       "      <td>306.6</td>\n",
       "    </tr>\n",
       "    <tr>\n",
       "      <th>7042</th>\n",
       "      <td>3186-AJIEK</td>\n",
       "      <td>Male</td>\n",
       "      <td>No</td>\n",
       "      <td>Fiber optic</td>\n",
       "      <td>Two year</td>\n",
       "      <td>Bank transfer (automatic)</td>\n",
       "      <td>6844.5</td>\n",
       "    </tr>\n",
       "  </tbody>\n",
       "</table>\n",
       "<p>7043 rows × 7 columns</p>\n",
       "</div>"
      ],
      "text/plain": [
       "      customerID  gender     MultipleLines InternetService        Contract  \\\n",
       "0     7590-VHVEG  Female  No phone service             DSL  Month-to-month   \n",
       "1     5575-GNVDE    Male                No             DSL        One year   \n",
       "2     3668-QPYBK    Male                No             DSL  Month-to-month   \n",
       "3     7795-CFOCW    Male  No phone service             DSL        One year   \n",
       "4     9237-HQITU  Female                No     Fiber optic  Month-to-month   \n",
       "...          ...     ...               ...             ...             ...   \n",
       "7038  6840-RESVB    Male               Yes             DSL        One year   \n",
       "7039  2234-XADUH  Female               Yes     Fiber optic        One year   \n",
       "7040  4801-JZAZL  Female  No phone service             DSL  Month-to-month   \n",
       "7041  8361-LTMKD    Male               Yes     Fiber optic  Month-to-month   \n",
       "7042  3186-AJIEK    Male                No     Fiber optic        Two year   \n",
       "\n",
       "                  PaymentMethod TotalCharges  \n",
       "0              Electronic check        29.85  \n",
       "1                  Mailed check       1889.5  \n",
       "2                  Mailed check       108.15  \n",
       "3     Bank transfer (automatic)      1840.75  \n",
       "4              Electronic check       151.65  \n",
       "...                         ...          ...  \n",
       "7038               Mailed check       1990.5  \n",
       "7039    Credit card (automatic)       7362.9  \n",
       "7040           Electronic check       346.45  \n",
       "7041               Mailed check        306.6  \n",
       "7042  Bank transfer (automatic)       6844.5  \n",
       "\n",
       "[7043 rows x 7 columns]"
      ]
     },
     "execution_count": 11,
     "metadata": {},
     "output_type": "execute_result"
    }
   ],
   "source": [
    "df.select_dtypes(include = ['object'])"
   ]
  },
  {
   "cell_type": "markdown",
   "metadata": {},
   "source": [
    "### SINCE TOTALCHARGES ARE IN OBJECT TYPE, NOW CONVERTING IT INTO FLOAT64"
   ]
  },
  {
   "cell_type": "code",
   "execution_count": 12,
   "metadata": {},
   "outputs": [
    {
     "ename": "ValueError",
     "evalue": "could not convert string to float: ''",
     "output_type": "error",
     "traceback": [
      "\u001b[1;31m---------------------------------------------------------------------------\u001b[0m",
      "\u001b[1;31mValueError\u001b[0m                                Traceback (most recent call last)",
      "\u001b[1;32m<ipython-input-12-9173b99d20f0>\u001b[0m in \u001b[0;36m<module>\u001b[1;34m\u001b[0m\n\u001b[1;32m----> 1\u001b[1;33m \u001b[0mdf\u001b[0m\u001b[1;33m[\u001b[0m\u001b[1;34m'TotalCharges'\u001b[0m\u001b[1;33m]\u001b[0m \u001b[1;33m=\u001b[0m \u001b[0mdf\u001b[0m\u001b[1;33m[\u001b[0m\u001b[1;34m'TotalCharges'\u001b[0m\u001b[1;33m]\u001b[0m\u001b[1;33m.\u001b[0m\u001b[0mastype\u001b[0m\u001b[1;33m(\u001b[0m\u001b[1;34m'float64'\u001b[0m\u001b[1;33m)\u001b[0m\u001b[1;33m\u001b[0m\u001b[1;33m\u001b[0m\u001b[0m\n\u001b[0m\u001b[0;32m      2\u001b[0m \u001b[1;33m\u001b[0m\u001b[0m\n\u001b[0;32m      3\u001b[0m \u001b[0mdf\u001b[0m\u001b[1;33m.\u001b[0m\u001b[0minfo\u001b[0m\u001b[1;33m(\u001b[0m\u001b[1;33m)\u001b[0m\u001b[1;33m\u001b[0m\u001b[1;33m\u001b[0m\u001b[0m\n",
      "\u001b[1;32m~\\anaconda3\\lib\\site-packages\\pandas\\core\\generic.py\u001b[0m in \u001b[0;36mastype\u001b[1;34m(self, dtype, copy, errors)\u001b[0m\n\u001b[0;32m   5696\u001b[0m         \u001b[1;32melse\u001b[0m\u001b[1;33m:\u001b[0m\u001b[1;33m\u001b[0m\u001b[1;33m\u001b[0m\u001b[0m\n\u001b[0;32m   5697\u001b[0m             \u001b[1;31m# else, only a single dtype is given\u001b[0m\u001b[1;33m\u001b[0m\u001b[1;33m\u001b[0m\u001b[1;33m\u001b[0m\u001b[0m\n\u001b[1;32m-> 5698\u001b[1;33m             \u001b[0mnew_data\u001b[0m \u001b[1;33m=\u001b[0m \u001b[0mself\u001b[0m\u001b[1;33m.\u001b[0m\u001b[0m_data\u001b[0m\u001b[1;33m.\u001b[0m\u001b[0mastype\u001b[0m\u001b[1;33m(\u001b[0m\u001b[0mdtype\u001b[0m\u001b[1;33m=\u001b[0m\u001b[0mdtype\u001b[0m\u001b[1;33m,\u001b[0m \u001b[0mcopy\u001b[0m\u001b[1;33m=\u001b[0m\u001b[0mcopy\u001b[0m\u001b[1;33m,\u001b[0m \u001b[0merrors\u001b[0m\u001b[1;33m=\u001b[0m\u001b[0merrors\u001b[0m\u001b[1;33m)\u001b[0m\u001b[1;33m\u001b[0m\u001b[1;33m\u001b[0m\u001b[0m\n\u001b[0m\u001b[0;32m   5699\u001b[0m             \u001b[1;32mreturn\u001b[0m \u001b[0mself\u001b[0m\u001b[1;33m.\u001b[0m\u001b[0m_constructor\u001b[0m\u001b[1;33m(\u001b[0m\u001b[0mnew_data\u001b[0m\u001b[1;33m)\u001b[0m\u001b[1;33m.\u001b[0m\u001b[0m__finalize__\u001b[0m\u001b[1;33m(\u001b[0m\u001b[0mself\u001b[0m\u001b[1;33m)\u001b[0m\u001b[1;33m\u001b[0m\u001b[1;33m\u001b[0m\u001b[0m\n\u001b[0;32m   5700\u001b[0m \u001b[1;33m\u001b[0m\u001b[0m\n",
      "\u001b[1;32m~\\anaconda3\\lib\\site-packages\\pandas\\core\\internals\\managers.py\u001b[0m in \u001b[0;36mastype\u001b[1;34m(self, dtype, copy, errors)\u001b[0m\n\u001b[0;32m    580\u001b[0m \u001b[1;33m\u001b[0m\u001b[0m\n\u001b[0;32m    581\u001b[0m     \u001b[1;32mdef\u001b[0m \u001b[0mastype\u001b[0m\u001b[1;33m(\u001b[0m\u001b[0mself\u001b[0m\u001b[1;33m,\u001b[0m \u001b[0mdtype\u001b[0m\u001b[1;33m,\u001b[0m \u001b[0mcopy\u001b[0m\u001b[1;33m:\u001b[0m \u001b[0mbool\u001b[0m \u001b[1;33m=\u001b[0m \u001b[1;32mFalse\u001b[0m\u001b[1;33m,\u001b[0m \u001b[0merrors\u001b[0m\u001b[1;33m:\u001b[0m \u001b[0mstr\u001b[0m \u001b[1;33m=\u001b[0m \u001b[1;34m\"raise\"\u001b[0m\u001b[1;33m)\u001b[0m\u001b[1;33m:\u001b[0m\u001b[1;33m\u001b[0m\u001b[1;33m\u001b[0m\u001b[0m\n\u001b[1;32m--> 582\u001b[1;33m         \u001b[1;32mreturn\u001b[0m \u001b[0mself\u001b[0m\u001b[1;33m.\u001b[0m\u001b[0mapply\u001b[0m\u001b[1;33m(\u001b[0m\u001b[1;34m\"astype\"\u001b[0m\u001b[1;33m,\u001b[0m \u001b[0mdtype\u001b[0m\u001b[1;33m=\u001b[0m\u001b[0mdtype\u001b[0m\u001b[1;33m,\u001b[0m \u001b[0mcopy\u001b[0m\u001b[1;33m=\u001b[0m\u001b[0mcopy\u001b[0m\u001b[1;33m,\u001b[0m \u001b[0merrors\u001b[0m\u001b[1;33m=\u001b[0m\u001b[0merrors\u001b[0m\u001b[1;33m)\u001b[0m\u001b[1;33m\u001b[0m\u001b[1;33m\u001b[0m\u001b[0m\n\u001b[0m\u001b[0;32m    583\u001b[0m \u001b[1;33m\u001b[0m\u001b[0m\n\u001b[0;32m    584\u001b[0m     \u001b[1;32mdef\u001b[0m \u001b[0mconvert\u001b[0m\u001b[1;33m(\u001b[0m\u001b[0mself\u001b[0m\u001b[1;33m,\u001b[0m \u001b[1;33m**\u001b[0m\u001b[0mkwargs\u001b[0m\u001b[1;33m)\u001b[0m\u001b[1;33m:\u001b[0m\u001b[1;33m\u001b[0m\u001b[1;33m\u001b[0m\u001b[0m\n",
      "\u001b[1;32m~\\anaconda3\\lib\\site-packages\\pandas\\core\\internals\\managers.py\u001b[0m in \u001b[0;36mapply\u001b[1;34m(self, f, filter, **kwargs)\u001b[0m\n\u001b[0;32m    440\u001b[0m                 \u001b[0mapplied\u001b[0m \u001b[1;33m=\u001b[0m \u001b[0mb\u001b[0m\u001b[1;33m.\u001b[0m\u001b[0mapply\u001b[0m\u001b[1;33m(\u001b[0m\u001b[0mf\u001b[0m\u001b[1;33m,\u001b[0m \u001b[1;33m**\u001b[0m\u001b[0mkwargs\u001b[0m\u001b[1;33m)\u001b[0m\u001b[1;33m\u001b[0m\u001b[1;33m\u001b[0m\u001b[0m\n\u001b[0;32m    441\u001b[0m             \u001b[1;32melse\u001b[0m\u001b[1;33m:\u001b[0m\u001b[1;33m\u001b[0m\u001b[1;33m\u001b[0m\u001b[0m\n\u001b[1;32m--> 442\u001b[1;33m                 \u001b[0mapplied\u001b[0m \u001b[1;33m=\u001b[0m \u001b[0mgetattr\u001b[0m\u001b[1;33m(\u001b[0m\u001b[0mb\u001b[0m\u001b[1;33m,\u001b[0m \u001b[0mf\u001b[0m\u001b[1;33m)\u001b[0m\u001b[1;33m(\u001b[0m\u001b[1;33m**\u001b[0m\u001b[0mkwargs\u001b[0m\u001b[1;33m)\u001b[0m\u001b[1;33m\u001b[0m\u001b[1;33m\u001b[0m\u001b[0m\n\u001b[0m\u001b[0;32m    443\u001b[0m             \u001b[0mresult_blocks\u001b[0m \u001b[1;33m=\u001b[0m \u001b[0m_extend_blocks\u001b[0m\u001b[1;33m(\u001b[0m\u001b[0mapplied\u001b[0m\u001b[1;33m,\u001b[0m \u001b[0mresult_blocks\u001b[0m\u001b[1;33m)\u001b[0m\u001b[1;33m\u001b[0m\u001b[1;33m\u001b[0m\u001b[0m\n\u001b[0;32m    444\u001b[0m \u001b[1;33m\u001b[0m\u001b[0m\n",
      "\u001b[1;32m~\\anaconda3\\lib\\site-packages\\pandas\\core\\internals\\blocks.py\u001b[0m in \u001b[0;36mastype\u001b[1;34m(self, dtype, copy, errors)\u001b[0m\n\u001b[0;32m    623\u001b[0m             \u001b[0mvals1d\u001b[0m \u001b[1;33m=\u001b[0m \u001b[0mvalues\u001b[0m\u001b[1;33m.\u001b[0m\u001b[0mravel\u001b[0m\u001b[1;33m(\u001b[0m\u001b[1;33m)\u001b[0m\u001b[1;33m\u001b[0m\u001b[1;33m\u001b[0m\u001b[0m\n\u001b[0;32m    624\u001b[0m             \u001b[1;32mtry\u001b[0m\u001b[1;33m:\u001b[0m\u001b[1;33m\u001b[0m\u001b[1;33m\u001b[0m\u001b[0m\n\u001b[1;32m--> 625\u001b[1;33m                 \u001b[0mvalues\u001b[0m \u001b[1;33m=\u001b[0m \u001b[0mastype_nansafe\u001b[0m\u001b[1;33m(\u001b[0m\u001b[0mvals1d\u001b[0m\u001b[1;33m,\u001b[0m \u001b[0mdtype\u001b[0m\u001b[1;33m,\u001b[0m \u001b[0mcopy\u001b[0m\u001b[1;33m=\u001b[0m\u001b[1;32mTrue\u001b[0m\u001b[1;33m)\u001b[0m\u001b[1;33m\u001b[0m\u001b[1;33m\u001b[0m\u001b[0m\n\u001b[0m\u001b[0;32m    626\u001b[0m             \u001b[1;32mexcept\u001b[0m \u001b[1;33m(\u001b[0m\u001b[0mValueError\u001b[0m\u001b[1;33m,\u001b[0m \u001b[0mTypeError\u001b[0m\u001b[1;33m)\u001b[0m\u001b[1;33m:\u001b[0m\u001b[1;33m\u001b[0m\u001b[1;33m\u001b[0m\u001b[0m\n\u001b[0;32m    627\u001b[0m                 \u001b[1;31m# e.g. astype_nansafe can fail on object-dtype of strings\u001b[0m\u001b[1;33m\u001b[0m\u001b[1;33m\u001b[0m\u001b[1;33m\u001b[0m\u001b[0m\n",
      "\u001b[1;32m~\\anaconda3\\lib\\site-packages\\pandas\\core\\dtypes\\cast.py\u001b[0m in \u001b[0;36mastype_nansafe\u001b[1;34m(arr, dtype, copy, skipna)\u001b[0m\n\u001b[0;32m    895\u001b[0m     \u001b[1;32mif\u001b[0m \u001b[0mcopy\u001b[0m \u001b[1;32mor\u001b[0m \u001b[0mis_object_dtype\u001b[0m\u001b[1;33m(\u001b[0m\u001b[0marr\u001b[0m\u001b[1;33m)\u001b[0m \u001b[1;32mor\u001b[0m \u001b[0mis_object_dtype\u001b[0m\u001b[1;33m(\u001b[0m\u001b[0mdtype\u001b[0m\u001b[1;33m)\u001b[0m\u001b[1;33m:\u001b[0m\u001b[1;33m\u001b[0m\u001b[1;33m\u001b[0m\u001b[0m\n\u001b[0;32m    896\u001b[0m         \u001b[1;31m# Explicit copy, or required since NumPy can't view from / to object.\u001b[0m\u001b[1;33m\u001b[0m\u001b[1;33m\u001b[0m\u001b[1;33m\u001b[0m\u001b[0m\n\u001b[1;32m--> 897\u001b[1;33m         \u001b[1;32mreturn\u001b[0m \u001b[0marr\u001b[0m\u001b[1;33m.\u001b[0m\u001b[0mastype\u001b[0m\u001b[1;33m(\u001b[0m\u001b[0mdtype\u001b[0m\u001b[1;33m,\u001b[0m \u001b[0mcopy\u001b[0m\u001b[1;33m=\u001b[0m\u001b[1;32mTrue\u001b[0m\u001b[1;33m)\u001b[0m\u001b[1;33m\u001b[0m\u001b[1;33m\u001b[0m\u001b[0m\n\u001b[0m\u001b[0;32m    898\u001b[0m \u001b[1;33m\u001b[0m\u001b[0m\n\u001b[0;32m    899\u001b[0m     \u001b[1;32mreturn\u001b[0m \u001b[0marr\u001b[0m\u001b[1;33m.\u001b[0m\u001b[0mview\u001b[0m\u001b[1;33m(\u001b[0m\u001b[0mdtype\u001b[0m\u001b[1;33m)\u001b[0m\u001b[1;33m\u001b[0m\u001b[1;33m\u001b[0m\u001b[0m\n",
      "\u001b[1;31mValueError\u001b[0m: could not convert string to float: ''"
     ]
    }
   ],
   "source": [
    "df['TotalCharges'] = df['TotalCharges'].astype('float64')\n",
    "\n",
    "df.info()"
   ]
  },
  {
   "cell_type": "markdown",
   "metadata": {},
   "source": [
    "### LETS SEE WHAT HAPPENED WITH THE TOTALCHARGES"
   ]
  },
  {
   "cell_type": "code",
   "execution_count": null,
   "metadata": {},
   "outputs": [],
   "source": [
    "df['TotalCharges'].value_counts()"
   ]
  },
  {
   "cell_type": "markdown",
   "metadata": {},
   "source": [
    "### LOOKING AT ALL THE 11 NULL VALUES"
   ]
  },
  {
   "cell_type": "code",
   "execution_count": 13,
   "metadata": {},
   "outputs": [
    {
     "data": {
      "text/html": [
       "<div>\n",
       "<style scoped>\n",
       "    .dataframe tbody tr th:only-of-type {\n",
       "        vertical-align: middle;\n",
       "    }\n",
       "\n",
       "    .dataframe tbody tr th {\n",
       "        vertical-align: top;\n",
       "    }\n",
       "\n",
       "    .dataframe thead th {\n",
       "        text-align: right;\n",
       "    }\n",
       "</style>\n",
       "<table border=\"1\" class=\"dataframe\">\n",
       "  <thead>\n",
       "    <tr style=\"text-align: right;\">\n",
       "      <th></th>\n",
       "      <th>customerID</th>\n",
       "      <th>gender</th>\n",
       "      <th>SeniorCitizen</th>\n",
       "      <th>Partner</th>\n",
       "      <th>Dependents</th>\n",
       "      <th>tenure</th>\n",
       "      <th>PhoneService</th>\n",
       "      <th>MultipleLines</th>\n",
       "      <th>InternetService</th>\n",
       "      <th>OnlineSecurity</th>\n",
       "      <th>...</th>\n",
       "      <th>DeviceProtection</th>\n",
       "      <th>TechSupport</th>\n",
       "      <th>StreamingTV</th>\n",
       "      <th>StreamingMovies</th>\n",
       "      <th>Contract</th>\n",
       "      <th>PaperlessBilling</th>\n",
       "      <th>PaymentMethod</th>\n",
       "      <th>MonthlyCharges</th>\n",
       "      <th>TotalCharges</th>\n",
       "      <th>Churn</th>\n",
       "    </tr>\n",
       "  </thead>\n",
       "  <tbody>\n",
       "  </tbody>\n",
       "</table>\n",
       "<p>0 rows × 21 columns</p>\n",
       "</div>"
      ],
      "text/plain": [
       "Empty DataFrame\n",
       "Columns: [customerID, gender, SeniorCitizen, Partner, Dependents, tenure, PhoneService, MultipleLines, InternetService, OnlineSecurity, OnlineBackup, DeviceProtection, TechSupport, StreamingTV, StreamingMovies, Contract, PaperlessBilling, PaymentMethod, MonthlyCharges, TotalCharges, Churn]\n",
       "Index: []\n",
       "\n",
       "[0 rows x 21 columns]"
      ]
     },
     "execution_count": 13,
     "metadata": {},
     "output_type": "execute_result"
    }
   ],
   "source": [
    "df.loc[df.TotalCharges == '', :]"
   ]
  },
  {
   "cell_type": "markdown",
   "metadata": {},
   "source": [
    "### CONVERTING EMPTY STRING IN TOTALCHARGES TO NaN"
   ]
  },
  {
   "cell_type": "code",
   "execution_count": 14,
   "metadata": {},
   "outputs": [],
   "source": [
    "df['TotalCharges'] = df['TotalCharges'].apply(lambda x : np.NaN if x==' ' else float(x))"
   ]
  },
  {
   "cell_type": "markdown",
   "metadata": {},
   "source": [
    "### NOW LETS OBSERVE THE DATAFRAME"
   ]
  },
  {
   "cell_type": "code",
   "execution_count": 15,
   "metadata": {},
   "outputs": [
    {
     "name": "stdout",
     "output_type": "stream",
     "text": [
      "<class 'pandas.core.frame.DataFrame'>\n",
      "RangeIndex: 7043 entries, 0 to 7042\n",
      "Data columns (total 21 columns):\n",
      " #   Column            Non-Null Count  Dtype  \n",
      "---  ------            --------------  -----  \n",
      " 0   customerID        7043 non-null   object \n",
      " 1   gender            7043 non-null   object \n",
      " 2   SeniorCitizen     7043 non-null   int64  \n",
      " 3   Partner           7043 non-null   int64  \n",
      " 4   Dependents        7043 non-null   int64  \n",
      " 5   tenure            7043 non-null   int64  \n",
      " 6   PhoneService      7043 non-null   int64  \n",
      " 7   MultipleLines     7043 non-null   object \n",
      " 8   InternetService   7043 non-null   object \n",
      " 9   OnlineSecurity    7043 non-null   int64  \n",
      " 10  OnlineBackup      7043 non-null   int64  \n",
      " 11  DeviceProtection  7043 non-null   int64  \n",
      " 12  TechSupport       7043 non-null   int64  \n",
      " 13  StreamingTV       7043 non-null   int64  \n",
      " 14  StreamingMovies   7043 non-null   int64  \n",
      " 15  Contract          7043 non-null   object \n",
      " 16  PaperlessBilling  7043 non-null   int64  \n",
      " 17  PaymentMethod     7043 non-null   object \n",
      " 18  MonthlyCharges    7043 non-null   float64\n",
      " 19  TotalCharges      7032 non-null   float64\n",
      " 20  Churn             7043 non-null   int64  \n",
      "dtypes: float64(2), int64(13), object(6)\n",
      "memory usage: 1.1+ MB\n"
     ]
    }
   ],
   "source": [
    "df.info()"
   ]
  },
  {
   "cell_type": "markdown",
   "metadata": {},
   "source": [
    "### Observation:\n",
    "TotalCharges has 11 missing values"
   ]
  },
  {
   "cell_type": "markdown",
   "metadata": {},
   "source": [
    "### DROPPING THE CUSTOMERID"
   ]
  },
  {
   "cell_type": "code",
   "execution_count": 16,
   "metadata": {},
   "outputs": [
    {
     "data": {
      "text/plain": [
       "(7043, 20)"
      ]
     },
     "execution_count": 16,
     "metadata": {},
     "output_type": "execute_result"
    }
   ],
   "source": [
    "df = df.drop('customerID', axis = 1)\n",
    "\n",
    "df.shape"
   ]
  },
  {
   "cell_type": "markdown",
   "metadata": {},
   "source": [
    "### GETTING ALL THE OBJECT DTYPES"
   ]
  },
  {
   "cell_type": "code",
   "execution_count": 17,
   "metadata": {},
   "outputs": [
    {
     "data": {
      "text/html": [
       "<div>\n",
       "<style scoped>\n",
       "    .dataframe tbody tr th:only-of-type {\n",
       "        vertical-align: middle;\n",
       "    }\n",
       "\n",
       "    .dataframe tbody tr th {\n",
       "        vertical-align: top;\n",
       "    }\n",
       "\n",
       "    .dataframe thead th {\n",
       "        text-align: right;\n",
       "    }\n",
       "</style>\n",
       "<table border=\"1\" class=\"dataframe\">\n",
       "  <thead>\n",
       "    <tr style=\"text-align: right;\">\n",
       "      <th></th>\n",
       "      <th>gender</th>\n",
       "      <th>MultipleLines</th>\n",
       "      <th>InternetService</th>\n",
       "      <th>Contract</th>\n",
       "      <th>PaymentMethod</th>\n",
       "    </tr>\n",
       "  </thead>\n",
       "  <tbody>\n",
       "    <tr>\n",
       "      <th>0</th>\n",
       "      <td>Female</td>\n",
       "      <td>No phone service</td>\n",
       "      <td>DSL</td>\n",
       "      <td>Month-to-month</td>\n",
       "      <td>Electronic check</td>\n",
       "    </tr>\n",
       "    <tr>\n",
       "      <th>1</th>\n",
       "      <td>Male</td>\n",
       "      <td>No</td>\n",
       "      <td>DSL</td>\n",
       "      <td>One year</td>\n",
       "      <td>Mailed check</td>\n",
       "    </tr>\n",
       "    <tr>\n",
       "      <th>2</th>\n",
       "      <td>Male</td>\n",
       "      <td>No</td>\n",
       "      <td>DSL</td>\n",
       "      <td>Month-to-month</td>\n",
       "      <td>Mailed check</td>\n",
       "    </tr>\n",
       "    <tr>\n",
       "      <th>3</th>\n",
       "      <td>Male</td>\n",
       "      <td>No phone service</td>\n",
       "      <td>DSL</td>\n",
       "      <td>One year</td>\n",
       "      <td>Bank transfer (automatic)</td>\n",
       "    </tr>\n",
       "    <tr>\n",
       "      <th>4</th>\n",
       "      <td>Female</td>\n",
       "      <td>No</td>\n",
       "      <td>Fiber optic</td>\n",
       "      <td>Month-to-month</td>\n",
       "      <td>Electronic check</td>\n",
       "    </tr>\n",
       "    <tr>\n",
       "      <th>...</th>\n",
       "      <td>...</td>\n",
       "      <td>...</td>\n",
       "      <td>...</td>\n",
       "      <td>...</td>\n",
       "      <td>...</td>\n",
       "    </tr>\n",
       "    <tr>\n",
       "      <th>7038</th>\n",
       "      <td>Male</td>\n",
       "      <td>Yes</td>\n",
       "      <td>DSL</td>\n",
       "      <td>One year</td>\n",
       "      <td>Mailed check</td>\n",
       "    </tr>\n",
       "    <tr>\n",
       "      <th>7039</th>\n",
       "      <td>Female</td>\n",
       "      <td>Yes</td>\n",
       "      <td>Fiber optic</td>\n",
       "      <td>One year</td>\n",
       "      <td>Credit card (automatic)</td>\n",
       "    </tr>\n",
       "    <tr>\n",
       "      <th>7040</th>\n",
       "      <td>Female</td>\n",
       "      <td>No phone service</td>\n",
       "      <td>DSL</td>\n",
       "      <td>Month-to-month</td>\n",
       "      <td>Electronic check</td>\n",
       "    </tr>\n",
       "    <tr>\n",
       "      <th>7041</th>\n",
       "      <td>Male</td>\n",
       "      <td>Yes</td>\n",
       "      <td>Fiber optic</td>\n",
       "      <td>Month-to-month</td>\n",
       "      <td>Mailed check</td>\n",
       "    </tr>\n",
       "    <tr>\n",
       "      <th>7042</th>\n",
       "      <td>Male</td>\n",
       "      <td>No</td>\n",
       "      <td>Fiber optic</td>\n",
       "      <td>Two year</td>\n",
       "      <td>Bank transfer (automatic)</td>\n",
       "    </tr>\n",
       "  </tbody>\n",
       "</table>\n",
       "<p>7043 rows × 5 columns</p>\n",
       "</div>"
      ],
      "text/plain": [
       "      gender     MultipleLines InternetService        Contract  \\\n",
       "0     Female  No phone service             DSL  Month-to-month   \n",
       "1       Male                No             DSL        One year   \n",
       "2       Male                No             DSL  Month-to-month   \n",
       "3       Male  No phone service             DSL        One year   \n",
       "4     Female                No     Fiber optic  Month-to-month   \n",
       "...      ...               ...             ...             ...   \n",
       "7038    Male               Yes             DSL        One year   \n",
       "7039  Female               Yes     Fiber optic        One year   \n",
       "7040  Female  No phone service             DSL  Month-to-month   \n",
       "7041    Male               Yes     Fiber optic  Month-to-month   \n",
       "7042    Male                No     Fiber optic        Two year   \n",
       "\n",
       "                  PaymentMethod  \n",
       "0              Electronic check  \n",
       "1                  Mailed check  \n",
       "2                  Mailed check  \n",
       "3     Bank transfer (automatic)  \n",
       "4              Electronic check  \n",
       "...                         ...  \n",
       "7038               Mailed check  \n",
       "7039    Credit card (automatic)  \n",
       "7040           Electronic check  \n",
       "7041               Mailed check  \n",
       "7042  Bank transfer (automatic)  \n",
       "\n",
       "[7043 rows x 5 columns]"
      ]
     },
     "execution_count": 17,
     "metadata": {},
     "output_type": "execute_result"
    }
   ],
   "source": [
    "df_categorical = df.select_dtypes(include = ['object'])\n",
    "\n",
    "df_categorical"
   ]
  },
  {
   "cell_type": "markdown",
   "metadata": {},
   "source": [
    "### ENCODING THE CATEGORICAL DATA USING \"ONE HOT ENCODER\""
   ]
  },
  {
   "cell_type": "code",
   "execution_count": 18,
   "metadata": {},
   "outputs": [
    {
     "data": {
      "text/html": [
       "<div>\n",
       "<style scoped>\n",
       "    .dataframe tbody tr th:only-of-type {\n",
       "        vertical-align: middle;\n",
       "    }\n",
       "\n",
       "    .dataframe tbody tr th {\n",
       "        vertical-align: top;\n",
       "    }\n",
       "\n",
       "    .dataframe thead th {\n",
       "        text-align: right;\n",
       "    }\n",
       "</style>\n",
       "<table border=\"1\" class=\"dataframe\">\n",
       "  <thead>\n",
       "    <tr style=\"text-align: right;\">\n",
       "      <th></th>\n",
       "      <th>gender_Male</th>\n",
       "      <th>MultipleLines_No phone service</th>\n",
       "      <th>MultipleLines_Yes</th>\n",
       "      <th>InternetService_Fiber optic</th>\n",
       "      <th>InternetService_No</th>\n",
       "      <th>Contract_One year</th>\n",
       "      <th>Contract_Two year</th>\n",
       "      <th>PaymentMethod_Credit card (automatic)</th>\n",
       "      <th>PaymentMethod_Electronic check</th>\n",
       "      <th>PaymentMethod_Mailed check</th>\n",
       "    </tr>\n",
       "  </thead>\n",
       "  <tbody>\n",
       "    <tr>\n",
       "      <th>0</th>\n",
       "      <td>0.0</td>\n",
       "      <td>1.0</td>\n",
       "      <td>0.0</td>\n",
       "      <td>0.0</td>\n",
       "      <td>0.0</td>\n",
       "      <td>0.0</td>\n",
       "      <td>0.0</td>\n",
       "      <td>0.0</td>\n",
       "      <td>1.0</td>\n",
       "      <td>0.0</td>\n",
       "    </tr>\n",
       "    <tr>\n",
       "      <th>1</th>\n",
       "      <td>1.0</td>\n",
       "      <td>0.0</td>\n",
       "      <td>0.0</td>\n",
       "      <td>0.0</td>\n",
       "      <td>0.0</td>\n",
       "      <td>1.0</td>\n",
       "      <td>0.0</td>\n",
       "      <td>0.0</td>\n",
       "      <td>0.0</td>\n",
       "      <td>1.0</td>\n",
       "    </tr>\n",
       "    <tr>\n",
       "      <th>2</th>\n",
       "      <td>1.0</td>\n",
       "      <td>0.0</td>\n",
       "      <td>0.0</td>\n",
       "      <td>0.0</td>\n",
       "      <td>0.0</td>\n",
       "      <td>0.0</td>\n",
       "      <td>0.0</td>\n",
       "      <td>0.0</td>\n",
       "      <td>0.0</td>\n",
       "      <td>1.0</td>\n",
       "    </tr>\n",
       "    <tr>\n",
       "      <th>3</th>\n",
       "      <td>1.0</td>\n",
       "      <td>1.0</td>\n",
       "      <td>0.0</td>\n",
       "      <td>0.0</td>\n",
       "      <td>0.0</td>\n",
       "      <td>1.0</td>\n",
       "      <td>0.0</td>\n",
       "      <td>0.0</td>\n",
       "      <td>0.0</td>\n",
       "      <td>0.0</td>\n",
       "    </tr>\n",
       "    <tr>\n",
       "      <th>4</th>\n",
       "      <td>0.0</td>\n",
       "      <td>0.0</td>\n",
       "      <td>0.0</td>\n",
       "      <td>1.0</td>\n",
       "      <td>0.0</td>\n",
       "      <td>0.0</td>\n",
       "      <td>0.0</td>\n",
       "      <td>0.0</td>\n",
       "      <td>1.0</td>\n",
       "      <td>0.0</td>\n",
       "    </tr>\n",
       "    <tr>\n",
       "      <th>...</th>\n",
       "      <td>...</td>\n",
       "      <td>...</td>\n",
       "      <td>...</td>\n",
       "      <td>...</td>\n",
       "      <td>...</td>\n",
       "      <td>...</td>\n",
       "      <td>...</td>\n",
       "      <td>...</td>\n",
       "      <td>...</td>\n",
       "      <td>...</td>\n",
       "    </tr>\n",
       "    <tr>\n",
       "      <th>7038</th>\n",
       "      <td>1.0</td>\n",
       "      <td>0.0</td>\n",
       "      <td>1.0</td>\n",
       "      <td>0.0</td>\n",
       "      <td>0.0</td>\n",
       "      <td>1.0</td>\n",
       "      <td>0.0</td>\n",
       "      <td>0.0</td>\n",
       "      <td>0.0</td>\n",
       "      <td>1.0</td>\n",
       "    </tr>\n",
       "    <tr>\n",
       "      <th>7039</th>\n",
       "      <td>0.0</td>\n",
       "      <td>0.0</td>\n",
       "      <td>1.0</td>\n",
       "      <td>1.0</td>\n",
       "      <td>0.0</td>\n",
       "      <td>1.0</td>\n",
       "      <td>0.0</td>\n",
       "      <td>1.0</td>\n",
       "      <td>0.0</td>\n",
       "      <td>0.0</td>\n",
       "    </tr>\n",
       "    <tr>\n",
       "      <th>7040</th>\n",
       "      <td>0.0</td>\n",
       "      <td>1.0</td>\n",
       "      <td>0.0</td>\n",
       "      <td>0.0</td>\n",
       "      <td>0.0</td>\n",
       "      <td>0.0</td>\n",
       "      <td>0.0</td>\n",
       "      <td>0.0</td>\n",
       "      <td>1.0</td>\n",
       "      <td>0.0</td>\n",
       "    </tr>\n",
       "    <tr>\n",
       "      <th>7041</th>\n",
       "      <td>1.0</td>\n",
       "      <td>0.0</td>\n",
       "      <td>1.0</td>\n",
       "      <td>1.0</td>\n",
       "      <td>0.0</td>\n",
       "      <td>0.0</td>\n",
       "      <td>0.0</td>\n",
       "      <td>0.0</td>\n",
       "      <td>0.0</td>\n",
       "      <td>1.0</td>\n",
       "    </tr>\n",
       "    <tr>\n",
       "      <th>7042</th>\n",
       "      <td>1.0</td>\n",
       "      <td>0.0</td>\n",
       "      <td>0.0</td>\n",
       "      <td>1.0</td>\n",
       "      <td>0.0</td>\n",
       "      <td>0.0</td>\n",
       "      <td>1.0</td>\n",
       "      <td>0.0</td>\n",
       "      <td>0.0</td>\n",
       "      <td>0.0</td>\n",
       "    </tr>\n",
       "  </tbody>\n",
       "</table>\n",
       "<p>7043 rows × 10 columns</p>\n",
       "</div>"
      ],
      "text/plain": [
       "      gender_Male  MultipleLines_No phone service  MultipleLines_Yes  \\\n",
       "0             0.0                             1.0                0.0   \n",
       "1             1.0                             0.0                0.0   \n",
       "2             1.0                             0.0                0.0   \n",
       "3             1.0                             1.0                0.0   \n",
       "4             0.0                             0.0                0.0   \n",
       "...           ...                             ...                ...   \n",
       "7038          1.0                             0.0                1.0   \n",
       "7039          0.0                             0.0                1.0   \n",
       "7040          0.0                             1.0                0.0   \n",
       "7041          1.0                             0.0                1.0   \n",
       "7042          1.0                             0.0                0.0   \n",
       "\n",
       "      InternetService_Fiber optic  InternetService_No  Contract_One year  \\\n",
       "0                             0.0                 0.0                0.0   \n",
       "1                             0.0                 0.0                1.0   \n",
       "2                             0.0                 0.0                0.0   \n",
       "3                             0.0                 0.0                1.0   \n",
       "4                             1.0                 0.0                0.0   \n",
       "...                           ...                 ...                ...   \n",
       "7038                          0.0                 0.0                1.0   \n",
       "7039                          1.0                 0.0                1.0   \n",
       "7040                          0.0                 0.0                0.0   \n",
       "7041                          1.0                 0.0                0.0   \n",
       "7042                          1.0                 0.0                0.0   \n",
       "\n",
       "      Contract_Two year  PaymentMethod_Credit card (automatic)  \\\n",
       "0                   0.0                                    0.0   \n",
       "1                   0.0                                    0.0   \n",
       "2                   0.0                                    0.0   \n",
       "3                   0.0                                    0.0   \n",
       "4                   0.0                                    0.0   \n",
       "...                 ...                                    ...   \n",
       "7038                0.0                                    0.0   \n",
       "7039                0.0                                    1.0   \n",
       "7040                0.0                                    0.0   \n",
       "7041                0.0                                    0.0   \n",
       "7042                1.0                                    0.0   \n",
       "\n",
       "      PaymentMethod_Electronic check  PaymentMethod_Mailed check  \n",
       "0                                1.0                         0.0  \n",
       "1                                0.0                         1.0  \n",
       "2                                0.0                         1.0  \n",
       "3                                0.0                         0.0  \n",
       "4                                1.0                         0.0  \n",
       "...                              ...                         ...  \n",
       "7038                             0.0                         1.0  \n",
       "7039                             0.0                         0.0  \n",
       "7040                             1.0                         0.0  \n",
       "7041                             0.0                         1.0  \n",
       "7042                             0.0                         0.0  \n",
       "\n",
       "[7043 rows x 10 columns]"
      ]
     },
     "execution_count": 18,
     "metadata": {},
     "output_type": "execute_result"
    }
   ],
   "source": [
    "from sklearn.preprocessing import OneHotEncoder\n",
    "\n",
    "encoder = OneHotEncoder(drop = 'first', sparse = False)\n",
    "\n",
    "# column names are (annoyingly) lost after OneHotEncoding (i.e. the dataframe is converted to a numpy ndarray)\n",
    "\n",
    "df_encoded = pd.DataFrame(encoder.fit_transform(df_categorical), columns = encoder.get_feature_names(df_categorical.columns))\n",
    "\n",
    "df_encoded"
   ]
  },
  {
   "cell_type": "code",
   "execution_count": 19,
   "metadata": {},
   "outputs": [
    {
     "data": {
      "text/plain": [
       "(7043, 20)"
      ]
     },
     "execution_count": 19,
     "metadata": {},
     "output_type": "execute_result"
    }
   ],
   "source": [
    "df.shape"
   ]
  },
  {
   "cell_type": "code",
   "execution_count": 20,
   "metadata": {},
   "outputs": [
    {
     "data": {
      "text/html": [
       "<div>\n",
       "<style scoped>\n",
       "    .dataframe tbody tr th:only-of-type {\n",
       "        vertical-align: middle;\n",
       "    }\n",
       "\n",
       "    .dataframe tbody tr th {\n",
       "        vertical-align: top;\n",
       "    }\n",
       "\n",
       "    .dataframe thead th {\n",
       "        text-align: right;\n",
       "    }\n",
       "</style>\n",
       "<table border=\"1\" class=\"dataframe\">\n",
       "  <thead>\n",
       "    <tr style=\"text-align: right;\">\n",
       "      <th></th>\n",
       "      <th>gender</th>\n",
       "      <th>SeniorCitizen</th>\n",
       "      <th>Partner</th>\n",
       "      <th>Dependents</th>\n",
       "      <th>tenure</th>\n",
       "      <th>PhoneService</th>\n",
       "      <th>MultipleLines</th>\n",
       "      <th>InternetService</th>\n",
       "      <th>OnlineSecurity</th>\n",
       "      <th>OnlineBackup</th>\n",
       "      <th>...</th>\n",
       "      <th>gender_Male</th>\n",
       "      <th>MultipleLines_No phone service</th>\n",
       "      <th>MultipleLines_Yes</th>\n",
       "      <th>InternetService_Fiber optic</th>\n",
       "      <th>InternetService_No</th>\n",
       "      <th>Contract_One year</th>\n",
       "      <th>Contract_Two year</th>\n",
       "      <th>PaymentMethod_Credit card (automatic)</th>\n",
       "      <th>PaymentMethod_Electronic check</th>\n",
       "      <th>PaymentMethod_Mailed check</th>\n",
       "    </tr>\n",
       "  </thead>\n",
       "  <tbody>\n",
       "    <tr>\n",
       "      <th>0</th>\n",
       "      <td>Female</td>\n",
       "      <td>0</td>\n",
       "      <td>1</td>\n",
       "      <td>0</td>\n",
       "      <td>1</td>\n",
       "      <td>0</td>\n",
       "      <td>No phone service</td>\n",
       "      <td>DSL</td>\n",
       "      <td>0</td>\n",
       "      <td>1</td>\n",
       "      <td>...</td>\n",
       "      <td>0.0</td>\n",
       "      <td>1.0</td>\n",
       "      <td>0.0</td>\n",
       "      <td>0.0</td>\n",
       "      <td>0.0</td>\n",
       "      <td>0.0</td>\n",
       "      <td>0.0</td>\n",
       "      <td>0.0</td>\n",
       "      <td>1.0</td>\n",
       "      <td>0.0</td>\n",
       "    </tr>\n",
       "    <tr>\n",
       "      <th>1</th>\n",
       "      <td>Male</td>\n",
       "      <td>0</td>\n",
       "      <td>0</td>\n",
       "      <td>0</td>\n",
       "      <td>34</td>\n",
       "      <td>1</td>\n",
       "      <td>No</td>\n",
       "      <td>DSL</td>\n",
       "      <td>1</td>\n",
       "      <td>0</td>\n",
       "      <td>...</td>\n",
       "      <td>1.0</td>\n",
       "      <td>0.0</td>\n",
       "      <td>0.0</td>\n",
       "      <td>0.0</td>\n",
       "      <td>0.0</td>\n",
       "      <td>1.0</td>\n",
       "      <td>0.0</td>\n",
       "      <td>0.0</td>\n",
       "      <td>0.0</td>\n",
       "      <td>1.0</td>\n",
       "    </tr>\n",
       "    <tr>\n",
       "      <th>2</th>\n",
       "      <td>Male</td>\n",
       "      <td>0</td>\n",
       "      <td>0</td>\n",
       "      <td>0</td>\n",
       "      <td>2</td>\n",
       "      <td>1</td>\n",
       "      <td>No</td>\n",
       "      <td>DSL</td>\n",
       "      <td>1</td>\n",
       "      <td>1</td>\n",
       "      <td>...</td>\n",
       "      <td>1.0</td>\n",
       "      <td>0.0</td>\n",
       "      <td>0.0</td>\n",
       "      <td>0.0</td>\n",
       "      <td>0.0</td>\n",
       "      <td>0.0</td>\n",
       "      <td>0.0</td>\n",
       "      <td>0.0</td>\n",
       "      <td>0.0</td>\n",
       "      <td>1.0</td>\n",
       "    </tr>\n",
       "    <tr>\n",
       "      <th>3</th>\n",
       "      <td>Male</td>\n",
       "      <td>0</td>\n",
       "      <td>0</td>\n",
       "      <td>0</td>\n",
       "      <td>45</td>\n",
       "      <td>0</td>\n",
       "      <td>No phone service</td>\n",
       "      <td>DSL</td>\n",
       "      <td>1</td>\n",
       "      <td>0</td>\n",
       "      <td>...</td>\n",
       "      <td>1.0</td>\n",
       "      <td>1.0</td>\n",
       "      <td>0.0</td>\n",
       "      <td>0.0</td>\n",
       "      <td>0.0</td>\n",
       "      <td>1.0</td>\n",
       "      <td>0.0</td>\n",
       "      <td>0.0</td>\n",
       "      <td>0.0</td>\n",
       "      <td>0.0</td>\n",
       "    </tr>\n",
       "    <tr>\n",
       "      <th>4</th>\n",
       "      <td>Female</td>\n",
       "      <td>0</td>\n",
       "      <td>0</td>\n",
       "      <td>0</td>\n",
       "      <td>2</td>\n",
       "      <td>1</td>\n",
       "      <td>No</td>\n",
       "      <td>Fiber optic</td>\n",
       "      <td>0</td>\n",
       "      <td>0</td>\n",
       "      <td>...</td>\n",
       "      <td>0.0</td>\n",
       "      <td>0.0</td>\n",
       "      <td>0.0</td>\n",
       "      <td>1.0</td>\n",
       "      <td>0.0</td>\n",
       "      <td>0.0</td>\n",
       "      <td>0.0</td>\n",
       "      <td>0.0</td>\n",
       "      <td>1.0</td>\n",
       "      <td>0.0</td>\n",
       "    </tr>\n",
       "    <tr>\n",
       "      <th>...</th>\n",
       "      <td>...</td>\n",
       "      <td>...</td>\n",
       "      <td>...</td>\n",
       "      <td>...</td>\n",
       "      <td>...</td>\n",
       "      <td>...</td>\n",
       "      <td>...</td>\n",
       "      <td>...</td>\n",
       "      <td>...</td>\n",
       "      <td>...</td>\n",
       "      <td>...</td>\n",
       "      <td>...</td>\n",
       "      <td>...</td>\n",
       "      <td>...</td>\n",
       "      <td>...</td>\n",
       "      <td>...</td>\n",
       "      <td>...</td>\n",
       "      <td>...</td>\n",
       "      <td>...</td>\n",
       "      <td>...</td>\n",
       "      <td>...</td>\n",
       "    </tr>\n",
       "    <tr>\n",
       "      <th>7038</th>\n",
       "      <td>Male</td>\n",
       "      <td>0</td>\n",
       "      <td>1</td>\n",
       "      <td>1</td>\n",
       "      <td>24</td>\n",
       "      <td>1</td>\n",
       "      <td>Yes</td>\n",
       "      <td>DSL</td>\n",
       "      <td>1</td>\n",
       "      <td>0</td>\n",
       "      <td>...</td>\n",
       "      <td>1.0</td>\n",
       "      <td>0.0</td>\n",
       "      <td>1.0</td>\n",
       "      <td>0.0</td>\n",
       "      <td>0.0</td>\n",
       "      <td>1.0</td>\n",
       "      <td>0.0</td>\n",
       "      <td>0.0</td>\n",
       "      <td>0.0</td>\n",
       "      <td>1.0</td>\n",
       "    </tr>\n",
       "    <tr>\n",
       "      <th>7039</th>\n",
       "      <td>Female</td>\n",
       "      <td>0</td>\n",
       "      <td>1</td>\n",
       "      <td>1</td>\n",
       "      <td>72</td>\n",
       "      <td>1</td>\n",
       "      <td>Yes</td>\n",
       "      <td>Fiber optic</td>\n",
       "      <td>0</td>\n",
       "      <td>1</td>\n",
       "      <td>...</td>\n",
       "      <td>0.0</td>\n",
       "      <td>0.0</td>\n",
       "      <td>1.0</td>\n",
       "      <td>1.0</td>\n",
       "      <td>0.0</td>\n",
       "      <td>1.0</td>\n",
       "      <td>0.0</td>\n",
       "      <td>1.0</td>\n",
       "      <td>0.0</td>\n",
       "      <td>0.0</td>\n",
       "    </tr>\n",
       "    <tr>\n",
       "      <th>7040</th>\n",
       "      <td>Female</td>\n",
       "      <td>0</td>\n",
       "      <td>1</td>\n",
       "      <td>1</td>\n",
       "      <td>11</td>\n",
       "      <td>0</td>\n",
       "      <td>No phone service</td>\n",
       "      <td>DSL</td>\n",
       "      <td>1</td>\n",
       "      <td>0</td>\n",
       "      <td>...</td>\n",
       "      <td>0.0</td>\n",
       "      <td>1.0</td>\n",
       "      <td>0.0</td>\n",
       "      <td>0.0</td>\n",
       "      <td>0.0</td>\n",
       "      <td>0.0</td>\n",
       "      <td>0.0</td>\n",
       "      <td>0.0</td>\n",
       "      <td>1.0</td>\n",
       "      <td>0.0</td>\n",
       "    </tr>\n",
       "    <tr>\n",
       "      <th>7041</th>\n",
       "      <td>Male</td>\n",
       "      <td>1</td>\n",
       "      <td>1</td>\n",
       "      <td>0</td>\n",
       "      <td>4</td>\n",
       "      <td>1</td>\n",
       "      <td>Yes</td>\n",
       "      <td>Fiber optic</td>\n",
       "      <td>0</td>\n",
       "      <td>0</td>\n",
       "      <td>...</td>\n",
       "      <td>1.0</td>\n",
       "      <td>0.0</td>\n",
       "      <td>1.0</td>\n",
       "      <td>1.0</td>\n",
       "      <td>0.0</td>\n",
       "      <td>0.0</td>\n",
       "      <td>0.0</td>\n",
       "      <td>0.0</td>\n",
       "      <td>0.0</td>\n",
       "      <td>1.0</td>\n",
       "    </tr>\n",
       "    <tr>\n",
       "      <th>7042</th>\n",
       "      <td>Male</td>\n",
       "      <td>0</td>\n",
       "      <td>0</td>\n",
       "      <td>0</td>\n",
       "      <td>66</td>\n",
       "      <td>1</td>\n",
       "      <td>No</td>\n",
       "      <td>Fiber optic</td>\n",
       "      <td>1</td>\n",
       "      <td>0</td>\n",
       "      <td>...</td>\n",
       "      <td>1.0</td>\n",
       "      <td>0.0</td>\n",
       "      <td>0.0</td>\n",
       "      <td>1.0</td>\n",
       "      <td>0.0</td>\n",
       "      <td>0.0</td>\n",
       "      <td>1.0</td>\n",
       "      <td>0.0</td>\n",
       "      <td>0.0</td>\n",
       "      <td>0.0</td>\n",
       "    </tr>\n",
       "  </tbody>\n",
       "</table>\n",
       "<p>7043 rows × 30 columns</p>\n",
       "</div>"
      ],
      "text/plain": [
       "      gender  SeniorCitizen  Partner  Dependents  tenure  PhoneService  \\\n",
       "0     Female              0        1           0       1             0   \n",
       "1       Male              0        0           0      34             1   \n",
       "2       Male              0        0           0       2             1   \n",
       "3       Male              0        0           0      45             0   \n",
       "4     Female              0        0           0       2             1   \n",
       "...      ...            ...      ...         ...     ...           ...   \n",
       "7038    Male              0        1           1      24             1   \n",
       "7039  Female              0        1           1      72             1   \n",
       "7040  Female              0        1           1      11             0   \n",
       "7041    Male              1        1           0       4             1   \n",
       "7042    Male              0        0           0      66             1   \n",
       "\n",
       "         MultipleLines InternetService  OnlineSecurity  OnlineBackup  ...  \\\n",
       "0     No phone service             DSL               0             1  ...   \n",
       "1                   No             DSL               1             0  ...   \n",
       "2                   No             DSL               1             1  ...   \n",
       "3     No phone service             DSL               1             0  ...   \n",
       "4                   No     Fiber optic               0             0  ...   \n",
       "...                ...             ...             ...           ...  ...   \n",
       "7038               Yes             DSL               1             0  ...   \n",
       "7039               Yes     Fiber optic               0             1  ...   \n",
       "7040  No phone service             DSL               1             0  ...   \n",
       "7041               Yes     Fiber optic               0             0  ...   \n",
       "7042                No     Fiber optic               1             0  ...   \n",
       "\n",
       "      gender_Male  MultipleLines_No phone service  MultipleLines_Yes  \\\n",
       "0             0.0                             1.0                0.0   \n",
       "1             1.0                             0.0                0.0   \n",
       "2             1.0                             0.0                0.0   \n",
       "3             1.0                             1.0                0.0   \n",
       "4             0.0                             0.0                0.0   \n",
       "...           ...                             ...                ...   \n",
       "7038          1.0                             0.0                1.0   \n",
       "7039          0.0                             0.0                1.0   \n",
       "7040          0.0                             1.0                0.0   \n",
       "7041          1.0                             0.0                1.0   \n",
       "7042          1.0                             0.0                0.0   \n",
       "\n",
       "      InternetService_Fiber optic InternetService_No  Contract_One year  \\\n",
       "0                             0.0                0.0                0.0   \n",
       "1                             0.0                0.0                1.0   \n",
       "2                             0.0                0.0                0.0   \n",
       "3                             0.0                0.0                1.0   \n",
       "4                             1.0                0.0                0.0   \n",
       "...                           ...                ...                ...   \n",
       "7038                          0.0                0.0                1.0   \n",
       "7039                          1.0                0.0                1.0   \n",
       "7040                          0.0                0.0                0.0   \n",
       "7041                          1.0                0.0                0.0   \n",
       "7042                          1.0                0.0                0.0   \n",
       "\n",
       "     Contract_Two year  PaymentMethod_Credit card (automatic)  \\\n",
       "0                  0.0                                    0.0   \n",
       "1                  0.0                                    0.0   \n",
       "2                  0.0                                    0.0   \n",
       "3                  0.0                                    0.0   \n",
       "4                  0.0                                    0.0   \n",
       "...                ...                                    ...   \n",
       "7038               0.0                                    0.0   \n",
       "7039               0.0                                    1.0   \n",
       "7040               0.0                                    0.0   \n",
       "7041               0.0                                    0.0   \n",
       "7042               1.0                                    0.0   \n",
       "\n",
       "      PaymentMethod_Electronic check  PaymentMethod_Mailed check  \n",
       "0                                1.0                         0.0  \n",
       "1                                0.0                         1.0  \n",
       "2                                0.0                         1.0  \n",
       "3                                0.0                         0.0  \n",
       "4                                1.0                         0.0  \n",
       "...                              ...                         ...  \n",
       "7038                             0.0                         1.0  \n",
       "7039                             0.0                         0.0  \n",
       "7040                             1.0                         0.0  \n",
       "7041                             0.0                         1.0  \n",
       "7042                             0.0                         0.0  \n",
       "\n",
       "[7043 rows x 30 columns]"
      ]
     },
     "execution_count": 20,
     "metadata": {},
     "output_type": "execute_result"
    }
   ],
   "source": [
    "df = pd.concat([df, df_encoded], axis = 1)\n",
    "\n",
    "df"
   ]
  },
  {
   "cell_type": "code",
   "execution_count": 21,
   "metadata": {},
   "outputs": [
    {
     "name": "stdout",
     "output_type": "stream",
     "text": [
      "<class 'pandas.core.frame.DataFrame'>\n",
      "RangeIndex: 7043 entries, 0 to 7042\n",
      "Data columns (total 30 columns):\n",
      " #   Column                                 Non-Null Count  Dtype  \n",
      "---  ------                                 --------------  -----  \n",
      " 0   gender                                 7043 non-null   object \n",
      " 1   SeniorCitizen                          7043 non-null   int64  \n",
      " 2   Partner                                7043 non-null   int64  \n",
      " 3   Dependents                             7043 non-null   int64  \n",
      " 4   tenure                                 7043 non-null   int64  \n",
      " 5   PhoneService                           7043 non-null   int64  \n",
      " 6   MultipleLines                          7043 non-null   object \n",
      " 7   InternetService                        7043 non-null   object \n",
      " 8   OnlineSecurity                         7043 non-null   int64  \n",
      " 9   OnlineBackup                           7043 non-null   int64  \n",
      " 10  DeviceProtection                       7043 non-null   int64  \n",
      " 11  TechSupport                            7043 non-null   int64  \n",
      " 12  StreamingTV                            7043 non-null   int64  \n",
      " 13  StreamingMovies                        7043 non-null   int64  \n",
      " 14  Contract                               7043 non-null   object \n",
      " 15  PaperlessBilling                       7043 non-null   int64  \n",
      " 16  PaymentMethod                          7043 non-null   object \n",
      " 17  MonthlyCharges                         7043 non-null   float64\n",
      " 18  TotalCharges                           7032 non-null   float64\n",
      " 19  Churn                                  7043 non-null   int64  \n",
      " 20  gender_Male                            7043 non-null   float64\n",
      " 21  MultipleLines_No phone service         7043 non-null   float64\n",
      " 22  MultipleLines_Yes                      7043 non-null   float64\n",
      " 23  InternetService_Fiber optic            7043 non-null   float64\n",
      " 24  InternetService_No                     7043 non-null   float64\n",
      " 25  Contract_One year                      7043 non-null   float64\n",
      " 26  Contract_Two year                      7043 non-null   float64\n",
      " 27  PaymentMethod_Credit card (automatic)  7043 non-null   float64\n",
      " 28  PaymentMethod_Electronic check         7043 non-null   float64\n",
      " 29  PaymentMethod_Mailed check             7043 non-null   float64\n",
      "dtypes: float64(12), int64(13), object(5)\n",
      "memory usage: 1.6+ MB\n"
     ]
    }
   ],
   "source": [
    "df.info()"
   ]
  },
  {
   "cell_type": "code",
   "execution_count": 22,
   "metadata": {},
   "outputs": [
    {
     "data": {
      "text/plain": [
       "Index(['gender', 'MultipleLines', 'InternetService', 'Contract',\n",
       "       'PaymentMethod'],\n",
       "      dtype='object')"
      ]
     },
     "execution_count": 22,
     "metadata": {},
     "output_type": "execute_result"
    }
   ],
   "source": [
    "df_categorical.columns"
   ]
  },
  {
   "cell_type": "code",
   "execution_count": 23,
   "metadata": {},
   "outputs": [
    {
     "data": {
      "text/html": [
       "<div>\n",
       "<style scoped>\n",
       "    .dataframe tbody tr th:only-of-type {\n",
       "        vertical-align: middle;\n",
       "    }\n",
       "\n",
       "    .dataframe tbody tr th {\n",
       "        vertical-align: top;\n",
       "    }\n",
       "\n",
       "    .dataframe thead th {\n",
       "        text-align: right;\n",
       "    }\n",
       "</style>\n",
       "<table border=\"1\" class=\"dataframe\">\n",
       "  <thead>\n",
       "    <tr style=\"text-align: right;\">\n",
       "      <th></th>\n",
       "      <th>SeniorCitizen</th>\n",
       "      <th>Partner</th>\n",
       "      <th>Dependents</th>\n",
       "      <th>tenure</th>\n",
       "      <th>PhoneService</th>\n",
       "      <th>OnlineSecurity</th>\n",
       "      <th>OnlineBackup</th>\n",
       "      <th>DeviceProtection</th>\n",
       "      <th>TechSupport</th>\n",
       "      <th>StreamingTV</th>\n",
       "      <th>...</th>\n",
       "      <th>gender_Male</th>\n",
       "      <th>MultipleLines_No phone service</th>\n",
       "      <th>MultipleLines_Yes</th>\n",
       "      <th>InternetService_Fiber optic</th>\n",
       "      <th>InternetService_No</th>\n",
       "      <th>Contract_One year</th>\n",
       "      <th>Contract_Two year</th>\n",
       "      <th>PaymentMethod_Credit card (automatic)</th>\n",
       "      <th>PaymentMethod_Electronic check</th>\n",
       "      <th>PaymentMethod_Mailed check</th>\n",
       "    </tr>\n",
       "  </thead>\n",
       "  <tbody>\n",
       "    <tr>\n",
       "      <th>0</th>\n",
       "      <td>0</td>\n",
       "      <td>1</td>\n",
       "      <td>0</td>\n",
       "      <td>1</td>\n",
       "      <td>0</td>\n",
       "      <td>0</td>\n",
       "      <td>1</td>\n",
       "      <td>0</td>\n",
       "      <td>0</td>\n",
       "      <td>0</td>\n",
       "      <td>...</td>\n",
       "      <td>0.0</td>\n",
       "      <td>1.0</td>\n",
       "      <td>0.0</td>\n",
       "      <td>0.0</td>\n",
       "      <td>0.0</td>\n",
       "      <td>0.0</td>\n",
       "      <td>0.0</td>\n",
       "      <td>0.0</td>\n",
       "      <td>1.0</td>\n",
       "      <td>0.0</td>\n",
       "    </tr>\n",
       "    <tr>\n",
       "      <th>1</th>\n",
       "      <td>0</td>\n",
       "      <td>0</td>\n",
       "      <td>0</td>\n",
       "      <td>34</td>\n",
       "      <td>1</td>\n",
       "      <td>1</td>\n",
       "      <td>0</td>\n",
       "      <td>1</td>\n",
       "      <td>0</td>\n",
       "      <td>0</td>\n",
       "      <td>...</td>\n",
       "      <td>1.0</td>\n",
       "      <td>0.0</td>\n",
       "      <td>0.0</td>\n",
       "      <td>0.0</td>\n",
       "      <td>0.0</td>\n",
       "      <td>1.0</td>\n",
       "      <td>0.0</td>\n",
       "      <td>0.0</td>\n",
       "      <td>0.0</td>\n",
       "      <td>1.0</td>\n",
       "    </tr>\n",
       "    <tr>\n",
       "      <th>2</th>\n",
       "      <td>0</td>\n",
       "      <td>0</td>\n",
       "      <td>0</td>\n",
       "      <td>2</td>\n",
       "      <td>1</td>\n",
       "      <td>1</td>\n",
       "      <td>1</td>\n",
       "      <td>0</td>\n",
       "      <td>0</td>\n",
       "      <td>0</td>\n",
       "      <td>...</td>\n",
       "      <td>1.0</td>\n",
       "      <td>0.0</td>\n",
       "      <td>0.0</td>\n",
       "      <td>0.0</td>\n",
       "      <td>0.0</td>\n",
       "      <td>0.0</td>\n",
       "      <td>0.0</td>\n",
       "      <td>0.0</td>\n",
       "      <td>0.0</td>\n",
       "      <td>1.0</td>\n",
       "    </tr>\n",
       "    <tr>\n",
       "      <th>3</th>\n",
       "      <td>0</td>\n",
       "      <td>0</td>\n",
       "      <td>0</td>\n",
       "      <td>45</td>\n",
       "      <td>0</td>\n",
       "      <td>1</td>\n",
       "      <td>0</td>\n",
       "      <td>1</td>\n",
       "      <td>1</td>\n",
       "      <td>0</td>\n",
       "      <td>...</td>\n",
       "      <td>1.0</td>\n",
       "      <td>1.0</td>\n",
       "      <td>0.0</td>\n",
       "      <td>0.0</td>\n",
       "      <td>0.0</td>\n",
       "      <td>1.0</td>\n",
       "      <td>0.0</td>\n",
       "      <td>0.0</td>\n",
       "      <td>0.0</td>\n",
       "      <td>0.0</td>\n",
       "    </tr>\n",
       "    <tr>\n",
       "      <th>4</th>\n",
       "      <td>0</td>\n",
       "      <td>0</td>\n",
       "      <td>0</td>\n",
       "      <td>2</td>\n",
       "      <td>1</td>\n",
       "      <td>0</td>\n",
       "      <td>0</td>\n",
       "      <td>0</td>\n",
       "      <td>0</td>\n",
       "      <td>0</td>\n",
       "      <td>...</td>\n",
       "      <td>0.0</td>\n",
       "      <td>0.0</td>\n",
       "      <td>0.0</td>\n",
       "      <td>1.0</td>\n",
       "      <td>0.0</td>\n",
       "      <td>0.0</td>\n",
       "      <td>0.0</td>\n",
       "      <td>0.0</td>\n",
       "      <td>1.0</td>\n",
       "      <td>0.0</td>\n",
       "    </tr>\n",
       "    <tr>\n",
       "      <th>...</th>\n",
       "      <td>...</td>\n",
       "      <td>...</td>\n",
       "      <td>...</td>\n",
       "      <td>...</td>\n",
       "      <td>...</td>\n",
       "      <td>...</td>\n",
       "      <td>...</td>\n",
       "      <td>...</td>\n",
       "      <td>...</td>\n",
       "      <td>...</td>\n",
       "      <td>...</td>\n",
       "      <td>...</td>\n",
       "      <td>...</td>\n",
       "      <td>...</td>\n",
       "      <td>...</td>\n",
       "      <td>...</td>\n",
       "      <td>...</td>\n",
       "      <td>...</td>\n",
       "      <td>...</td>\n",
       "      <td>...</td>\n",
       "      <td>...</td>\n",
       "    </tr>\n",
       "    <tr>\n",
       "      <th>7038</th>\n",
       "      <td>0</td>\n",
       "      <td>1</td>\n",
       "      <td>1</td>\n",
       "      <td>24</td>\n",
       "      <td>1</td>\n",
       "      <td>1</td>\n",
       "      <td>0</td>\n",
       "      <td>1</td>\n",
       "      <td>1</td>\n",
       "      <td>1</td>\n",
       "      <td>...</td>\n",
       "      <td>1.0</td>\n",
       "      <td>0.0</td>\n",
       "      <td>1.0</td>\n",
       "      <td>0.0</td>\n",
       "      <td>0.0</td>\n",
       "      <td>1.0</td>\n",
       "      <td>0.0</td>\n",
       "      <td>0.0</td>\n",
       "      <td>0.0</td>\n",
       "      <td>1.0</td>\n",
       "    </tr>\n",
       "    <tr>\n",
       "      <th>7039</th>\n",
       "      <td>0</td>\n",
       "      <td>1</td>\n",
       "      <td>1</td>\n",
       "      <td>72</td>\n",
       "      <td>1</td>\n",
       "      <td>0</td>\n",
       "      <td>1</td>\n",
       "      <td>1</td>\n",
       "      <td>0</td>\n",
       "      <td>1</td>\n",
       "      <td>...</td>\n",
       "      <td>0.0</td>\n",
       "      <td>0.0</td>\n",
       "      <td>1.0</td>\n",
       "      <td>1.0</td>\n",
       "      <td>0.0</td>\n",
       "      <td>1.0</td>\n",
       "      <td>0.0</td>\n",
       "      <td>1.0</td>\n",
       "      <td>0.0</td>\n",
       "      <td>0.0</td>\n",
       "    </tr>\n",
       "    <tr>\n",
       "      <th>7040</th>\n",
       "      <td>0</td>\n",
       "      <td>1</td>\n",
       "      <td>1</td>\n",
       "      <td>11</td>\n",
       "      <td>0</td>\n",
       "      <td>1</td>\n",
       "      <td>0</td>\n",
       "      <td>0</td>\n",
       "      <td>0</td>\n",
       "      <td>0</td>\n",
       "      <td>...</td>\n",
       "      <td>0.0</td>\n",
       "      <td>1.0</td>\n",
       "      <td>0.0</td>\n",
       "      <td>0.0</td>\n",
       "      <td>0.0</td>\n",
       "      <td>0.0</td>\n",
       "      <td>0.0</td>\n",
       "      <td>0.0</td>\n",
       "      <td>1.0</td>\n",
       "      <td>0.0</td>\n",
       "    </tr>\n",
       "    <tr>\n",
       "      <th>7041</th>\n",
       "      <td>1</td>\n",
       "      <td>1</td>\n",
       "      <td>0</td>\n",
       "      <td>4</td>\n",
       "      <td>1</td>\n",
       "      <td>0</td>\n",
       "      <td>0</td>\n",
       "      <td>0</td>\n",
       "      <td>0</td>\n",
       "      <td>0</td>\n",
       "      <td>...</td>\n",
       "      <td>1.0</td>\n",
       "      <td>0.0</td>\n",
       "      <td>1.0</td>\n",
       "      <td>1.0</td>\n",
       "      <td>0.0</td>\n",
       "      <td>0.0</td>\n",
       "      <td>0.0</td>\n",
       "      <td>0.0</td>\n",
       "      <td>0.0</td>\n",
       "      <td>1.0</td>\n",
       "    </tr>\n",
       "    <tr>\n",
       "      <th>7042</th>\n",
       "      <td>0</td>\n",
       "      <td>0</td>\n",
       "      <td>0</td>\n",
       "      <td>66</td>\n",
       "      <td>1</td>\n",
       "      <td>1</td>\n",
       "      <td>0</td>\n",
       "      <td>1</td>\n",
       "      <td>1</td>\n",
       "      <td>1</td>\n",
       "      <td>...</td>\n",
       "      <td>1.0</td>\n",
       "      <td>0.0</td>\n",
       "      <td>0.0</td>\n",
       "      <td>1.0</td>\n",
       "      <td>0.0</td>\n",
       "      <td>0.0</td>\n",
       "      <td>1.0</td>\n",
       "      <td>0.0</td>\n",
       "      <td>0.0</td>\n",
       "      <td>0.0</td>\n",
       "    </tr>\n",
       "  </tbody>\n",
       "</table>\n",
       "<p>7043 rows × 25 columns</p>\n",
       "</div>"
      ],
      "text/plain": [
       "      SeniorCitizen  Partner  Dependents  tenure  PhoneService  \\\n",
       "0                 0        1           0       1             0   \n",
       "1                 0        0           0      34             1   \n",
       "2                 0        0           0       2             1   \n",
       "3                 0        0           0      45             0   \n",
       "4                 0        0           0       2             1   \n",
       "...             ...      ...         ...     ...           ...   \n",
       "7038              0        1           1      24             1   \n",
       "7039              0        1           1      72             1   \n",
       "7040              0        1           1      11             0   \n",
       "7041              1        1           0       4             1   \n",
       "7042              0        0           0      66             1   \n",
       "\n",
       "      OnlineSecurity  OnlineBackup  DeviceProtection  TechSupport  \\\n",
       "0                  0             1                 0            0   \n",
       "1                  1             0                 1            0   \n",
       "2                  1             1                 0            0   \n",
       "3                  1             0                 1            1   \n",
       "4                  0             0                 0            0   \n",
       "...              ...           ...               ...          ...   \n",
       "7038               1             0                 1            1   \n",
       "7039               0             1                 1            0   \n",
       "7040               1             0                 0            0   \n",
       "7041               0             0                 0            0   \n",
       "7042               1             0                 1            1   \n",
       "\n",
       "      StreamingTV  ...  gender_Male  MultipleLines_No phone service  \\\n",
       "0               0  ...          0.0                             1.0   \n",
       "1               0  ...          1.0                             0.0   \n",
       "2               0  ...          1.0                             0.0   \n",
       "3               0  ...          1.0                             1.0   \n",
       "4               0  ...          0.0                             0.0   \n",
       "...           ...  ...          ...                             ...   \n",
       "7038            1  ...          1.0                             0.0   \n",
       "7039            1  ...          0.0                             0.0   \n",
       "7040            0  ...          0.0                             1.0   \n",
       "7041            0  ...          1.0                             0.0   \n",
       "7042            1  ...          1.0                             0.0   \n",
       "\n",
       "      MultipleLines_Yes  InternetService_Fiber optic  InternetService_No  \\\n",
       "0                   0.0                          0.0                 0.0   \n",
       "1                   0.0                          0.0                 0.0   \n",
       "2                   0.0                          0.0                 0.0   \n",
       "3                   0.0                          0.0                 0.0   \n",
       "4                   0.0                          1.0                 0.0   \n",
       "...                 ...                          ...                 ...   \n",
       "7038                1.0                          0.0                 0.0   \n",
       "7039                1.0                          1.0                 0.0   \n",
       "7040                0.0                          0.0                 0.0   \n",
       "7041                1.0                          1.0                 0.0   \n",
       "7042                0.0                          1.0                 0.0   \n",
       "\n",
       "      Contract_One year  Contract_Two year  \\\n",
       "0                   0.0                0.0   \n",
       "1                   1.0                0.0   \n",
       "2                   0.0                0.0   \n",
       "3                   1.0                0.0   \n",
       "4                   0.0                0.0   \n",
       "...                 ...                ...   \n",
       "7038                1.0                0.0   \n",
       "7039                1.0                0.0   \n",
       "7040                0.0                0.0   \n",
       "7041                0.0                0.0   \n",
       "7042                0.0                1.0   \n",
       "\n",
       "      PaymentMethod_Credit card (automatic)  PaymentMethod_Electronic check  \\\n",
       "0                                       0.0                             1.0   \n",
       "1                                       0.0                             0.0   \n",
       "2                                       0.0                             0.0   \n",
       "3                                       0.0                             0.0   \n",
       "4                                       0.0                             1.0   \n",
       "...                                     ...                             ...   \n",
       "7038                                    0.0                             0.0   \n",
       "7039                                    1.0                             0.0   \n",
       "7040                                    0.0                             1.0   \n",
       "7041                                    0.0                             0.0   \n",
       "7042                                    0.0                             0.0   \n",
       "\n",
       "      PaymentMethod_Mailed check  \n",
       "0                            0.0  \n",
       "1                            1.0  \n",
       "2                            1.0  \n",
       "3                            0.0  \n",
       "4                            0.0  \n",
       "...                          ...  \n",
       "7038                         1.0  \n",
       "7039                         0.0  \n",
       "7040                         0.0  \n",
       "7041                         1.0  \n",
       "7042                         0.0  \n",
       "\n",
       "[7043 rows x 25 columns]"
      ]
     },
     "execution_count": 23,
     "metadata": {},
     "output_type": "execute_result"
    }
   ],
   "source": [
    "df = df.drop(df_categorical.columns, axis = 1)\n",
    "df"
   ]
  },
  {
   "cell_type": "code",
   "execution_count": 24,
   "metadata": {},
   "outputs": [
    {
     "name": "stdout",
     "output_type": "stream",
     "text": [
      "<class 'pandas.core.frame.DataFrame'>\n",
      "RangeIndex: 7043 entries, 0 to 7042\n",
      "Data columns (total 25 columns):\n",
      " #   Column                                 Non-Null Count  Dtype  \n",
      "---  ------                                 --------------  -----  \n",
      " 0   SeniorCitizen                          7043 non-null   int64  \n",
      " 1   Partner                                7043 non-null   int64  \n",
      " 2   Dependents                             7043 non-null   int64  \n",
      " 3   tenure                                 7043 non-null   int64  \n",
      " 4   PhoneService                           7043 non-null   int64  \n",
      " 5   OnlineSecurity                         7043 non-null   int64  \n",
      " 6   OnlineBackup                           7043 non-null   int64  \n",
      " 7   DeviceProtection                       7043 non-null   int64  \n",
      " 8   TechSupport                            7043 non-null   int64  \n",
      " 9   StreamingTV                            7043 non-null   int64  \n",
      " 10  StreamingMovies                        7043 non-null   int64  \n",
      " 11  PaperlessBilling                       7043 non-null   int64  \n",
      " 12  MonthlyCharges                         7043 non-null   float64\n",
      " 13  TotalCharges                           7032 non-null   float64\n",
      " 14  Churn                                  7043 non-null   int64  \n",
      " 15  gender_Male                            7043 non-null   float64\n",
      " 16  MultipleLines_No phone service         7043 non-null   float64\n",
      " 17  MultipleLines_Yes                      7043 non-null   float64\n",
      " 18  InternetService_Fiber optic            7043 non-null   float64\n",
      " 19  InternetService_No                     7043 non-null   float64\n",
      " 20  Contract_One year                      7043 non-null   float64\n",
      " 21  Contract_Two year                      7043 non-null   float64\n",
      " 22  PaymentMethod_Credit card (automatic)  7043 non-null   float64\n",
      " 23  PaymentMethod_Electronic check         7043 non-null   float64\n",
      " 24  PaymentMethod_Mailed check             7043 non-null   float64\n",
      "dtypes: float64(12), int64(13)\n",
      "memory usage: 1.3 MB\n"
     ]
    }
   ],
   "source": [
    "df.info()"
   ]
  },
  {
   "cell_type": "markdown",
   "metadata": {},
   "source": [
    "### OUTLIERS: An outlier is a data point in a data set that is distant from all other observations. A data point that lies outside the overall distribution of the dataset."
   ]
  },
  {
   "cell_type": "code",
   "execution_count": 25,
   "metadata": {},
   "outputs": [
    {
     "data": {
      "text/plain": [
       "Index(['SeniorCitizen', 'Partner', 'Dependents', 'tenure', 'PhoneService',\n",
       "       'OnlineSecurity', 'OnlineBackup', 'DeviceProtection', 'TechSupport',\n",
       "       'StreamingTV', 'StreamingMovies', 'PaperlessBilling', 'MonthlyCharges',\n",
       "       'TotalCharges', 'Churn', 'gender_Male',\n",
       "       'MultipleLines_No phone service', 'MultipleLines_Yes',\n",
       "       'InternetService_Fiber optic', 'InternetService_No',\n",
       "       'Contract_One year', 'Contract_Two year',\n",
       "       'PaymentMethod_Credit card (automatic)',\n",
       "       'PaymentMethod_Electronic check', 'PaymentMethod_Mailed check'],\n",
       "      dtype='object')"
      ]
     },
     "execution_count": 25,
     "metadata": {},
     "output_type": "execute_result"
    }
   ],
   "source": [
    "df.columns"
   ]
  },
  {
   "cell_type": "code",
   "execution_count": 26,
   "metadata": {},
   "outputs": [
    {
     "data": {
      "text/html": [
       "<div>\n",
       "<style scoped>\n",
       "    .dataframe tbody tr th:only-of-type {\n",
       "        vertical-align: middle;\n",
       "    }\n",
       "\n",
       "    .dataframe tbody tr th {\n",
       "        vertical-align: top;\n",
       "    }\n",
       "\n",
       "    .dataframe thead th {\n",
       "        text-align: right;\n",
       "    }\n",
       "</style>\n",
       "<table border=\"1\" class=\"dataframe\">\n",
       "  <thead>\n",
       "    <tr style=\"text-align: right;\">\n",
       "      <th></th>\n",
       "      <th>tenure</th>\n",
       "      <th>MonthlyCharges</th>\n",
       "      <th>TotalCharges</th>\n",
       "    </tr>\n",
       "  </thead>\n",
       "  <tbody>\n",
       "    <tr>\n",
       "      <th>count</th>\n",
       "      <td>7043.000000</td>\n",
       "      <td>7043.000000</td>\n",
       "      <td>7032.000000</td>\n",
       "    </tr>\n",
       "    <tr>\n",
       "      <th>mean</th>\n",
       "      <td>32.371149</td>\n",
       "      <td>64.761692</td>\n",
       "      <td>2283.300441</td>\n",
       "    </tr>\n",
       "    <tr>\n",
       "      <th>std</th>\n",
       "      <td>24.559481</td>\n",
       "      <td>30.090047</td>\n",
       "      <td>2266.771362</td>\n",
       "    </tr>\n",
       "    <tr>\n",
       "      <th>min</th>\n",
       "      <td>0.000000</td>\n",
       "      <td>18.250000</td>\n",
       "      <td>18.800000</td>\n",
       "    </tr>\n",
       "    <tr>\n",
       "      <th>25%</th>\n",
       "      <td>9.000000</td>\n",
       "      <td>35.500000</td>\n",
       "      <td>401.450000</td>\n",
       "    </tr>\n",
       "    <tr>\n",
       "      <th>50%</th>\n",
       "      <td>29.000000</td>\n",
       "      <td>70.350000</td>\n",
       "      <td>1397.475000</td>\n",
       "    </tr>\n",
       "    <tr>\n",
       "      <th>75%</th>\n",
       "      <td>55.000000</td>\n",
       "      <td>89.850000</td>\n",
       "      <td>3794.737500</td>\n",
       "    </tr>\n",
       "    <tr>\n",
       "      <th>90%</th>\n",
       "      <td>69.000000</td>\n",
       "      <td>102.600000</td>\n",
       "      <td>5976.640000</td>\n",
       "    </tr>\n",
       "    <tr>\n",
       "      <th>95%</th>\n",
       "      <td>72.000000</td>\n",
       "      <td>107.400000</td>\n",
       "      <td>6923.590000</td>\n",
       "    </tr>\n",
       "    <tr>\n",
       "      <th>99%</th>\n",
       "      <td>72.000000</td>\n",
       "      <td>114.729000</td>\n",
       "      <td>8039.883000</td>\n",
       "    </tr>\n",
       "    <tr>\n",
       "      <th>max</th>\n",
       "      <td>72.000000</td>\n",
       "      <td>118.750000</td>\n",
       "      <td>8684.800000</td>\n",
       "    </tr>\n",
       "  </tbody>\n",
       "</table>\n",
       "</div>"
      ],
      "text/plain": [
       "            tenure  MonthlyCharges  TotalCharges\n",
       "count  7043.000000     7043.000000   7032.000000\n",
       "mean     32.371149       64.761692   2283.300441\n",
       "std      24.559481       30.090047   2266.771362\n",
       "min       0.000000       18.250000     18.800000\n",
       "25%       9.000000       35.500000    401.450000\n",
       "50%      29.000000       70.350000   1397.475000\n",
       "75%      55.000000       89.850000   3794.737500\n",
       "90%      69.000000      102.600000   5976.640000\n",
       "95%      72.000000      107.400000   6923.590000\n",
       "99%      72.000000      114.729000   8039.883000\n",
       "max      72.000000      118.750000   8684.800000"
      ]
     },
     "execution_count": 26,
     "metadata": {},
     "output_type": "execute_result"
    }
   ],
   "source": [
    "var = ['tenure', 'MonthlyCharges', 'TotalCharges']\n",
    "\n",
    "df[var].describe(percentiles = [.25, .5, .75, .90, .95, .99])"
   ]
  },
  {
   "cell_type": "markdown",
   "metadata": {},
   "source": [
    "### MISSING VALUES: Missing data (or) missing values, occur when no data value is stored for the variable in an observation. Sometimes missing values are caused by the researcher.\n",
    "\n",
    "#### For example, when data collection is done improperly or mistakes are made in data entry.\n",
    "\n",
    "- In Python, specifically Pandas, NumPy and Scikit-Learn, we mark missing values as NaN. \n",
    "- Values with a NaN value are ignored from operations like sum, count, etc.  \n",
    "- Running the example prints the number of missing values in each column."
   ]
  },
  {
   "cell_type": "code",
   "execution_count": 27,
   "metadata": {},
   "outputs": [
    {
     "data": {
      "text/plain": [
       "SeniorCitizen                             0\n",
       "Partner                                   0\n",
       "Dependents                                0\n",
       "tenure                                    0\n",
       "PhoneService                              0\n",
       "OnlineSecurity                            0\n",
       "OnlineBackup                              0\n",
       "DeviceProtection                          0\n",
       "TechSupport                               0\n",
       "StreamingTV                               0\n",
       "StreamingMovies                           0\n",
       "PaperlessBilling                          0\n",
       "MonthlyCharges                            0\n",
       "TotalCharges                             11\n",
       "Churn                                     0\n",
       "gender_Male                               0\n",
       "MultipleLines_No phone service            0\n",
       "MultipleLines_Yes                         0\n",
       "InternetService_Fiber optic               0\n",
       "InternetService_No                        0\n",
       "Contract_One year                         0\n",
       "Contract_Two year                         0\n",
       "PaymentMethod_Credit card (automatic)     0\n",
       "PaymentMethod_Electronic check            0\n",
       "PaymentMethod_Mailed check                0\n",
       "dtype: int64"
      ]
     },
     "execution_count": 27,
     "metadata": {},
     "output_type": "execute_result"
    }
   ],
   "source": [
    "df.isnull().sum()"
   ]
  },
  {
   "cell_type": "code",
   "execution_count": 28,
   "metadata": {},
   "outputs": [],
   "source": [
    "df = df[~np.isnan(df['TotalCharges'])]"
   ]
  },
  {
   "cell_type": "code",
   "execution_count": 29,
   "metadata": {},
   "outputs": [
    {
     "name": "stdout",
     "output_type": "stream",
     "text": [
      "<class 'pandas.core.frame.DataFrame'>\n",
      "Int64Index: 7032 entries, 0 to 7042\n",
      "Data columns (total 25 columns):\n",
      " #   Column                                 Non-Null Count  Dtype  \n",
      "---  ------                                 --------------  -----  \n",
      " 0   SeniorCitizen                          7032 non-null   int64  \n",
      " 1   Partner                                7032 non-null   int64  \n",
      " 2   Dependents                             7032 non-null   int64  \n",
      " 3   tenure                                 7032 non-null   int64  \n",
      " 4   PhoneService                           7032 non-null   int64  \n",
      " 5   OnlineSecurity                         7032 non-null   int64  \n",
      " 6   OnlineBackup                           7032 non-null   int64  \n",
      " 7   DeviceProtection                       7032 non-null   int64  \n",
      " 8   TechSupport                            7032 non-null   int64  \n",
      " 9   StreamingTV                            7032 non-null   int64  \n",
      " 10  StreamingMovies                        7032 non-null   int64  \n",
      " 11  PaperlessBilling                       7032 non-null   int64  \n",
      " 12  MonthlyCharges                         7032 non-null   float64\n",
      " 13  TotalCharges                           7032 non-null   float64\n",
      " 14  Churn                                  7032 non-null   int64  \n",
      " 15  gender_Male                            7032 non-null   float64\n",
      " 16  MultipleLines_No phone service         7032 non-null   float64\n",
      " 17  MultipleLines_Yes                      7032 non-null   float64\n",
      " 18  InternetService_Fiber optic            7032 non-null   float64\n",
      " 19  InternetService_No                     7032 non-null   float64\n",
      " 20  Contract_One year                      7032 non-null   float64\n",
      " 21  Contract_Two year                      7032 non-null   float64\n",
      " 22  PaymentMethod_Credit card (automatic)  7032 non-null   float64\n",
      " 23  PaymentMethod_Electronic check         7032 non-null   float64\n",
      " 24  PaymentMethod_Mailed check             7032 non-null   float64\n",
      "dtypes: float64(12), int64(13)\n",
      "memory usage: 1.4 MB\n"
     ]
    }
   ],
   "source": [
    "df.info()"
   ]
  },
  {
   "cell_type": "markdown",
   "metadata": {},
   "source": [
    "### FREQUENCY OF THE MISSINGS(RELATIVE)"
   ]
  },
  {
   "cell_type": "code",
   "execution_count": 30,
   "metadata": {},
   "outputs": [
    {
     "data": {
      "text/plain": [
       "26.578498293515356"
      ]
     },
     "execution_count": 30,
     "metadata": {},
     "output_type": "execute_result"
    }
   ],
   "source": [
    "sum(df['Churn'])/len(df['Churn'].index)*100"
   ]
  },
  {
   "cell_type": "markdown",
   "metadata": {},
   "source": [
    "### VALUE_COUNTS( ): It Returns a Series containing counts of unique rows in the DataFrame."
   ]
  },
  {
   "cell_type": "code",
   "execution_count": 31,
   "metadata": {},
   "outputs": [
    {
     "data": {
      "text/plain": [
       "0    5163\n",
       "1    1869\n",
       "Name: Churn, dtype: int64"
      ]
     },
     "execution_count": 31,
     "metadata": {},
     "output_type": "execute_result"
    }
   ],
   "source": [
    "df['Churn'].value_counts()"
   ]
  },
  {
   "cell_type": "markdown",
   "metadata": {},
   "source": [
    "#### NOTE: Churn ''Yes'' are '1' and ''No'' are '0'"
   ]
  },
  {
   "cell_type": "markdown",
   "metadata": {},
   "source": [
    "### - As we Observe that 26.5% datapoints belong to one class & the rest all belongs to other class which Clearly states that the dataset is having high imbalance."
   ]
  },
  {
   "cell_type": "markdown",
   "metadata": {},
   "source": [
    "#### So, Now we shall go for undersampling"
   ]
  },
  {
   "cell_type": "markdown",
   "metadata": {},
   "source": [
    "### UNDERSAMPLING: In Simple terms, sampling at a lower rate than normal.\n",
    "\n",
    "Undersampling refers to a group of techniques designed to balance the class distribution for a classification dataset that has a skewed class distribution. Undersampling methods can be used directly on a training dataset that can, in turn, be used to fit a machine learning model."
   ]
  },
  {
   "cell_type": "code",
   "execution_count": 32,
   "metadata": {},
   "outputs": [
    {
     "data": {
      "text/html": [
       "<div>\n",
       "<style scoped>\n",
       "    .dataframe tbody tr th:only-of-type {\n",
       "        vertical-align: middle;\n",
       "    }\n",
       "\n",
       "    .dataframe tbody tr th {\n",
       "        vertical-align: top;\n",
       "    }\n",
       "\n",
       "    .dataframe thead th {\n",
       "        text-align: right;\n",
       "    }\n",
       "</style>\n",
       "<table border=\"1\" class=\"dataframe\">\n",
       "  <thead>\n",
       "    <tr style=\"text-align: right;\">\n",
       "      <th></th>\n",
       "      <th>SeniorCitizen</th>\n",
       "      <th>Partner</th>\n",
       "      <th>Dependents</th>\n",
       "      <th>tenure</th>\n",
       "      <th>PhoneService</th>\n",
       "      <th>OnlineSecurity</th>\n",
       "      <th>OnlineBackup</th>\n",
       "      <th>DeviceProtection</th>\n",
       "      <th>TechSupport</th>\n",
       "      <th>StreamingTV</th>\n",
       "      <th>...</th>\n",
       "      <th>gender_Male</th>\n",
       "      <th>MultipleLines_No phone service</th>\n",
       "      <th>MultipleLines_Yes</th>\n",
       "      <th>InternetService_Fiber optic</th>\n",
       "      <th>InternetService_No</th>\n",
       "      <th>Contract_One year</th>\n",
       "      <th>Contract_Two year</th>\n",
       "      <th>PaymentMethod_Credit card (automatic)</th>\n",
       "      <th>PaymentMethod_Electronic check</th>\n",
       "      <th>PaymentMethod_Mailed check</th>\n",
       "    </tr>\n",
       "  </thead>\n",
       "  <tbody>\n",
       "    <tr>\n",
       "      <th>2900</th>\n",
       "      <td>1</td>\n",
       "      <td>1</td>\n",
       "      <td>1</td>\n",
       "      <td>1</td>\n",
       "      <td>1</td>\n",
       "      <td>0</td>\n",
       "      <td>0</td>\n",
       "      <td>0</td>\n",
       "      <td>0</td>\n",
       "      <td>0</td>\n",
       "      <td>...</td>\n",
       "      <td>0.0</td>\n",
       "      <td>0.0</td>\n",
       "      <td>0.0</td>\n",
       "      <td>1.0</td>\n",
       "      <td>0.0</td>\n",
       "      <td>0.0</td>\n",
       "      <td>0.0</td>\n",
       "      <td>0.0</td>\n",
       "      <td>1.0</td>\n",
       "      <td>0.0</td>\n",
       "    </tr>\n",
       "    <tr>\n",
       "      <th>6085</th>\n",
       "      <td>0</td>\n",
       "      <td>0</td>\n",
       "      <td>0</td>\n",
       "      <td>3</td>\n",
       "      <td>1</td>\n",
       "      <td>0</td>\n",
       "      <td>0</td>\n",
       "      <td>0</td>\n",
       "      <td>0</td>\n",
       "      <td>0</td>\n",
       "      <td>...</td>\n",
       "      <td>0.0</td>\n",
       "      <td>0.0</td>\n",
       "      <td>1.0</td>\n",
       "      <td>0.0</td>\n",
       "      <td>0.0</td>\n",
       "      <td>0.0</td>\n",
       "      <td>0.0</td>\n",
       "      <td>0.0</td>\n",
       "      <td>0.0</td>\n",
       "      <td>1.0</td>\n",
       "    </tr>\n",
       "    <tr>\n",
       "      <th>6660</th>\n",
       "      <td>0</td>\n",
       "      <td>1</td>\n",
       "      <td>0</td>\n",
       "      <td>1</td>\n",
       "      <td>1</td>\n",
       "      <td>0</td>\n",
       "      <td>0</td>\n",
       "      <td>0</td>\n",
       "      <td>0</td>\n",
       "      <td>0</td>\n",
       "      <td>...</td>\n",
       "      <td>1.0</td>\n",
       "      <td>0.0</td>\n",
       "      <td>0.0</td>\n",
       "      <td>1.0</td>\n",
       "      <td>0.0</td>\n",
       "      <td>0.0</td>\n",
       "      <td>0.0</td>\n",
       "      <td>0.0</td>\n",
       "      <td>1.0</td>\n",
       "      <td>0.0</td>\n",
       "    </tr>\n",
       "    <tr>\n",
       "      <th>2948</th>\n",
       "      <td>1</td>\n",
       "      <td>1</td>\n",
       "      <td>0</td>\n",
       "      <td>41</td>\n",
       "      <td>1</td>\n",
       "      <td>0</td>\n",
       "      <td>0</td>\n",
       "      <td>1</td>\n",
       "      <td>0</td>\n",
       "      <td>1</td>\n",
       "      <td>...</td>\n",
       "      <td>1.0</td>\n",
       "      <td>0.0</td>\n",
       "      <td>1.0</td>\n",
       "      <td>1.0</td>\n",
       "      <td>0.0</td>\n",
       "      <td>0.0</td>\n",
       "      <td>0.0</td>\n",
       "      <td>0.0</td>\n",
       "      <td>1.0</td>\n",
       "      <td>0.0</td>\n",
       "    </tr>\n",
       "    <tr>\n",
       "      <th>5810</th>\n",
       "      <td>0</td>\n",
       "      <td>1</td>\n",
       "      <td>1</td>\n",
       "      <td>17</td>\n",
       "      <td>1</td>\n",
       "      <td>0</td>\n",
       "      <td>0</td>\n",
       "      <td>0</td>\n",
       "      <td>0</td>\n",
       "      <td>0</td>\n",
       "      <td>...</td>\n",
       "      <td>0.0</td>\n",
       "      <td>0.0</td>\n",
       "      <td>1.0</td>\n",
       "      <td>1.0</td>\n",
       "      <td>0.0</td>\n",
       "      <td>0.0</td>\n",
       "      <td>0.0</td>\n",
       "      <td>0.0</td>\n",
       "      <td>1.0</td>\n",
       "      <td>0.0</td>\n",
       "    </tr>\n",
       "    <tr>\n",
       "      <th>...</th>\n",
       "      <td>...</td>\n",
       "      <td>...</td>\n",
       "      <td>...</td>\n",
       "      <td>...</td>\n",
       "      <td>...</td>\n",
       "      <td>...</td>\n",
       "      <td>...</td>\n",
       "      <td>...</td>\n",
       "      <td>...</td>\n",
       "      <td>...</td>\n",
       "      <td>...</td>\n",
       "      <td>...</td>\n",
       "      <td>...</td>\n",
       "      <td>...</td>\n",
       "      <td>...</td>\n",
       "      <td>...</td>\n",
       "      <td>...</td>\n",
       "      <td>...</td>\n",
       "      <td>...</td>\n",
       "      <td>...</td>\n",
       "      <td>...</td>\n",
       "    </tr>\n",
       "    <tr>\n",
       "      <th>730</th>\n",
       "      <td>0</td>\n",
       "      <td>0</td>\n",
       "      <td>0</td>\n",
       "      <td>45</td>\n",
       "      <td>1</td>\n",
       "      <td>0</td>\n",
       "      <td>0</td>\n",
       "      <td>1</td>\n",
       "      <td>1</td>\n",
       "      <td>0</td>\n",
       "      <td>...</td>\n",
       "      <td>0.0</td>\n",
       "      <td>0.0</td>\n",
       "      <td>1.0</td>\n",
       "      <td>1.0</td>\n",
       "      <td>0.0</td>\n",
       "      <td>0.0</td>\n",
       "      <td>0.0</td>\n",
       "      <td>0.0</td>\n",
       "      <td>1.0</td>\n",
       "      <td>0.0</td>\n",
       "    </tr>\n",
       "    <tr>\n",
       "      <th>3136</th>\n",
       "      <td>0</td>\n",
       "      <td>0</td>\n",
       "      <td>0</td>\n",
       "      <td>17</td>\n",
       "      <td>1</td>\n",
       "      <td>0</td>\n",
       "      <td>0</td>\n",
       "      <td>0</td>\n",
       "      <td>0</td>\n",
       "      <td>0</td>\n",
       "      <td>...</td>\n",
       "      <td>0.0</td>\n",
       "      <td>0.0</td>\n",
       "      <td>0.0</td>\n",
       "      <td>1.0</td>\n",
       "      <td>0.0</td>\n",
       "      <td>0.0</td>\n",
       "      <td>0.0</td>\n",
       "      <td>0.0</td>\n",
       "      <td>1.0</td>\n",
       "      <td>0.0</td>\n",
       "    </tr>\n",
       "    <tr>\n",
       "      <th>6012</th>\n",
       "      <td>0</td>\n",
       "      <td>1</td>\n",
       "      <td>1</td>\n",
       "      <td>5</td>\n",
       "      <td>1</td>\n",
       "      <td>0</td>\n",
       "      <td>1</td>\n",
       "      <td>0</td>\n",
       "      <td>0</td>\n",
       "      <td>0</td>\n",
       "      <td>...</td>\n",
       "      <td>0.0</td>\n",
       "      <td>0.0</td>\n",
       "      <td>0.0</td>\n",
       "      <td>1.0</td>\n",
       "      <td>0.0</td>\n",
       "      <td>0.0</td>\n",
       "      <td>0.0</td>\n",
       "      <td>0.0</td>\n",
       "      <td>1.0</td>\n",
       "      <td>0.0</td>\n",
       "    </tr>\n",
       "    <tr>\n",
       "      <th>2353</th>\n",
       "      <td>0</td>\n",
       "      <td>0</td>\n",
       "      <td>0</td>\n",
       "      <td>3</td>\n",
       "      <td>1</td>\n",
       "      <td>0</td>\n",
       "      <td>0</td>\n",
       "      <td>0</td>\n",
       "      <td>0</td>\n",
       "      <td>0</td>\n",
       "      <td>...</td>\n",
       "      <td>1.0</td>\n",
       "      <td>0.0</td>\n",
       "      <td>0.0</td>\n",
       "      <td>1.0</td>\n",
       "      <td>0.0</td>\n",
       "      <td>0.0</td>\n",
       "      <td>0.0</td>\n",
       "      <td>0.0</td>\n",
       "      <td>1.0</td>\n",
       "      <td>0.0</td>\n",
       "    </tr>\n",
       "    <tr>\n",
       "      <th>1978</th>\n",
       "      <td>0</td>\n",
       "      <td>0</td>\n",
       "      <td>0</td>\n",
       "      <td>57</td>\n",
       "      <td>1</td>\n",
       "      <td>0</td>\n",
       "      <td>1</td>\n",
       "      <td>1</td>\n",
       "      <td>1</td>\n",
       "      <td>1</td>\n",
       "      <td>...</td>\n",
       "      <td>0.0</td>\n",
       "      <td>0.0</td>\n",
       "      <td>0.0</td>\n",
       "      <td>0.0</td>\n",
       "      <td>0.0</td>\n",
       "      <td>0.0</td>\n",
       "      <td>1.0</td>\n",
       "      <td>0.0</td>\n",
       "      <td>0.0</td>\n",
       "      <td>1.0</td>\n",
       "    </tr>\n",
       "  </tbody>\n",
       "</table>\n",
       "<p>3738 rows × 25 columns</p>\n",
       "</div>"
      ],
      "text/plain": [
       "      SeniorCitizen  Partner  Dependents  tenure  PhoneService  \\\n",
       "2900              1        1           1       1             1   \n",
       "6085              0        0           0       3             1   \n",
       "6660              0        1           0       1             1   \n",
       "2948              1        1           0      41             1   \n",
       "5810              0        1           1      17             1   \n",
       "...             ...      ...         ...     ...           ...   \n",
       "730               0        0           0      45             1   \n",
       "3136              0        0           0      17             1   \n",
       "6012              0        1           1       5             1   \n",
       "2353              0        0           0       3             1   \n",
       "1978              0        0           0      57             1   \n",
       "\n",
       "      OnlineSecurity  OnlineBackup  DeviceProtection  TechSupport  \\\n",
       "2900               0             0                 0            0   \n",
       "6085               0             0                 0            0   \n",
       "6660               0             0                 0            0   \n",
       "2948               0             0                 1            0   \n",
       "5810               0             0                 0            0   \n",
       "...              ...           ...               ...          ...   \n",
       "730                0             0                 1            1   \n",
       "3136               0             0                 0            0   \n",
       "6012               0             1                 0            0   \n",
       "2353               0             0                 0            0   \n",
       "1978               0             1                 1            1   \n",
       "\n",
       "      StreamingTV  ...  gender_Male  MultipleLines_No phone service  \\\n",
       "2900            0  ...          0.0                             0.0   \n",
       "6085            0  ...          0.0                             0.0   \n",
       "6660            0  ...          1.0                             0.0   \n",
       "2948            1  ...          1.0                             0.0   \n",
       "5810            0  ...          0.0                             0.0   \n",
       "...           ...  ...          ...                             ...   \n",
       "730             0  ...          0.0                             0.0   \n",
       "3136            0  ...          0.0                             0.0   \n",
       "6012            0  ...          0.0                             0.0   \n",
       "2353            0  ...          1.0                             0.0   \n",
       "1978            1  ...          0.0                             0.0   \n",
       "\n",
       "      MultipleLines_Yes  InternetService_Fiber optic  InternetService_No  \\\n",
       "2900                0.0                          1.0                 0.0   \n",
       "6085                1.0                          0.0                 0.0   \n",
       "6660                0.0                          1.0                 0.0   \n",
       "2948                1.0                          1.0                 0.0   \n",
       "5810                1.0                          1.0                 0.0   \n",
       "...                 ...                          ...                 ...   \n",
       "730                 1.0                          1.0                 0.0   \n",
       "3136                0.0                          1.0                 0.0   \n",
       "6012                0.0                          1.0                 0.0   \n",
       "2353                0.0                          1.0                 0.0   \n",
       "1978                0.0                          0.0                 0.0   \n",
       "\n",
       "      Contract_One year  Contract_Two year  \\\n",
       "2900                0.0                0.0   \n",
       "6085                0.0                0.0   \n",
       "6660                0.0                0.0   \n",
       "2948                0.0                0.0   \n",
       "5810                0.0                0.0   \n",
       "...                 ...                ...   \n",
       "730                 0.0                0.0   \n",
       "3136                0.0                0.0   \n",
       "6012                0.0                0.0   \n",
       "2353                0.0                0.0   \n",
       "1978                0.0                1.0   \n",
       "\n",
       "      PaymentMethod_Credit card (automatic)  PaymentMethod_Electronic check  \\\n",
       "2900                                    0.0                             1.0   \n",
       "6085                                    0.0                             0.0   \n",
       "6660                                    0.0                             1.0   \n",
       "2948                                    0.0                             1.0   \n",
       "5810                                    0.0                             1.0   \n",
       "...                                     ...                             ...   \n",
       "730                                     0.0                             1.0   \n",
       "3136                                    0.0                             1.0   \n",
       "6012                                    0.0                             1.0   \n",
       "2353                                    0.0                             1.0   \n",
       "1978                                    0.0                             0.0   \n",
       "\n",
       "      PaymentMethod_Mailed check  \n",
       "2900                         0.0  \n",
       "6085                         1.0  \n",
       "6660                         0.0  \n",
       "2948                         0.0  \n",
       "5810                         0.0  \n",
       "...                          ...  \n",
       "730                          0.0  \n",
       "3136                         0.0  \n",
       "6012                         0.0  \n",
       "2353                         0.0  \n",
       "1978                         1.0  \n",
       "\n",
       "[3738 rows x 25 columns]"
      ]
     },
     "execution_count": 32,
     "metadata": {},
     "output_type": "execute_result"
    }
   ],
   "source": [
    "df = df.sample(frac = 1)\n",
    "\n",
    "# amount of fraud classes 492 rows.\n",
    "churn_df = df.loc[df['Churn'] == 1]\n",
    "non_churn_df = df.loc[df['Churn'] == 0][:1869]\n",
    "\n",
    "normal_distributed_df = pd.concat([churn_df, non_churn_df])\n",
    "\n",
    "# Shuffle dataframe rows\n",
    "new_df = normal_distributed_df.sample(frac = 1, random_state = 42)\n",
    "\n",
    "new_df"
   ]
  },
  {
   "cell_type": "code",
   "execution_count": 33,
   "metadata": {},
   "outputs": [
    {
     "data": {
      "text/plain": [
       "Index(['SeniorCitizen', 'Partner', 'Dependents', 'tenure', 'PhoneService',\n",
       "       'OnlineSecurity', 'OnlineBackup', 'DeviceProtection', 'TechSupport',\n",
       "       'StreamingTV', 'StreamingMovies', 'PaperlessBilling', 'MonthlyCharges',\n",
       "       'TotalCharges', 'Churn', 'gender_Male',\n",
       "       'MultipleLines_No phone service', 'MultipleLines_Yes',\n",
       "       'InternetService_Fiber optic', 'InternetService_No',\n",
       "       'Contract_One year', 'Contract_Two year',\n",
       "       'PaymentMethod_Credit card (automatic)',\n",
       "       'PaymentMethod_Electronic check', 'PaymentMethod_Mailed check'],\n",
       "      dtype='object')"
      ]
     },
     "execution_count": 33,
     "metadata": {},
     "output_type": "execute_result"
    }
   ],
   "source": [
    "new_df.columns"
   ]
  },
  {
   "cell_type": "code",
   "execution_count": 34,
   "metadata": {},
   "outputs": [],
   "source": [
    "X = new_df.drop('Churn', axis = 1)\n",
    "y = new_df['Churn']"
   ]
  },
  {
   "cell_type": "code",
   "execution_count": 35,
   "metadata": {},
   "outputs": [
    {
     "data": {
      "text/plain": [
       "2900    1\n",
       "6085    1\n",
       "6660    1\n",
       "2948    1\n",
       "5810    1\n",
       "       ..\n",
       "730     1\n",
       "3136    1\n",
       "6012    1\n",
       "2353    0\n",
       "1978    0\n",
       "Name: Churn, Length: 3738, dtype: int64"
      ]
     },
     "execution_count": 35,
     "metadata": {},
     "output_type": "execute_result"
    }
   ],
   "source": [
    "y"
   ]
  },
  {
   "cell_type": "markdown",
   "metadata": {},
   "source": [
    "### STEP - III: DATA PREPROCESSING - STANDARDIZING THE DATA"
   ]
  },
  {
   "cell_type": "markdown",
   "metadata": {},
   "source": [
    "### STANDARDIZATION: Data standardization is the process of rescaling one or more attributes so that they have a mean value of 0 and a standard deviation of 1(unit variance). Standardization assumes that your data has a Gaussian (bell curve) distribution."
   ]
  },
  {
   "cell_type": "code",
   "execution_count": 36,
   "metadata": {},
   "outputs": [
    {
     "name": "stdout",
     "output_type": "stream",
     "text": [
      "(3738, 24)\n"
     ]
    }
   ],
   "source": [
    "from sklearn.preprocessing import StandardScaler\n",
    "standardized_data = StandardScaler().fit_transform(X)\n",
    "print(standardized_data.shape)"
   ]
  },
  {
   "cell_type": "markdown",
   "metadata": {},
   "source": [
    "### STEP - IV: TRAIN-TEST SPLIT"
   ]
  },
  {
   "cell_type": "markdown",
   "metadata": {},
   "source": [
    "### TRAIN-TEST SPLIT EVALUATION: The train-test split is a technique for evaluating the performance of a machine learning algorithm. It can be used for classification or regression problems and can be used for any supervised learning algorithm. \n",
    "\n",
    "### Test Dataset: Used to evaluate the fit machine learning model.\n",
    "\n",
    "#### We are performing 80-20 split for the dataset provided"
   ]
  },
  {
   "cell_type": "code",
   "execution_count": 37,
   "metadata": {},
   "outputs": [],
   "source": [
    "from sklearn.model_selection import train_test_split\n",
    "X_train, X_test, y_train, y_test = train_test_split(standardized_data, y, train_size = 0.20, random_state = 0)"
   ]
  },
  {
   "cell_type": "markdown",
   "metadata": {},
   "source": [
    "### STEP - V: MODEL BUILDING \n",
    "\n",
    "- Machine learning consists of algorithms that can automate analytical model building. \n",
    "- Using algorithms that iteratively learn from data, machine learning models facilitate computers to find hidden insights from Big Data without being explicitly programmed where to look."
   ]
  },
  {
   "cell_type": "markdown",
   "metadata": {},
   "source": [
    "### 1. LOGISTIC REGRESSION: \n",
    "\n",
    "- Logistic regression is a supervised learning classification algorithm used to predict the probability of a target variable.\n",
    "- The nature of target or dependent variable is dichotomous, which means there would be only two possible classes. \n",
    "- Mathematically, a logistic regression model predicts P(Y=1) as a function of X."
   ]
  },
  {
   "cell_type": "markdown",
   "metadata": {},
   "source": [
    "### TRAINING THE MODEL\n",
    "\n",
    "- The process of training an ML model involves providing an ML algorithm (that is, the learning algorithm) with training data to learn from. \n",
    "- The term ML model refers to the model artifact that is created by the training process.\n",
    "- Now we can use the ML model to get predictions on new data for which we don't know the target."
   ]
  },
  {
   "cell_type": "code",
   "execution_count": 38,
   "metadata": {},
   "outputs": [
    {
     "data": {
      "text/plain": [
       "LogisticRegression()"
      ]
     },
     "execution_count": 38,
     "metadata": {},
     "output_type": "execute_result"
    }
   ],
   "source": [
    "from sklearn.linear_model import LogisticRegression\n",
    "classifier = LogisticRegression()\n",
    "classifier.fit(X_train,y_train)"
   ]
  },
  {
   "cell_type": "markdown",
   "metadata": {},
   "source": [
    "### PREDICTING THE MODEL \n",
    "\n",
    "- Predictive modeling is a commonly used statistical technique to predict future behavior. \n",
    "- Predictive modeling solutions are a form of data-mining technology that works by analyzing historical and current data and generating a model to help predict future outcomes."
   ]
  },
  {
   "cell_type": "code",
   "execution_count": 39,
   "metadata": {},
   "outputs": [],
   "source": [
    "y_pred = classifier.predict(X_test)"
   ]
  },
  {
   "cell_type": "markdown",
   "metadata": {},
   "source": [
    "### EVALUATING THE MODEL\n",
    "\n",
    "- Model evaluation aims to estimate the generalization accuracy of a model on future (unseen/out-of-sample) data. \n",
    "- Methods for evaluating a model's performance are divided into 2 categories: namely, holdout and Cross-validation.\n",
    "- Both methods use a test set (i.e data not seen by the model) to evaluate model performance."
   ]
  },
  {
   "cell_type": "markdown",
   "metadata": {},
   "source": [
    "### What are the evaluation metrics for classification?\n",
    "\n",
    "The key classification metrics are: \n",
    "\n",
    "- Accuracy.\n",
    "- Confusion Matrix.\n",
    "- Precision.\n",
    "- Recall.\n",
    "- F1- Score.\n",
    "- ROC-AUC curve."
   ]
  },
  {
   "cell_type": "markdown",
   "metadata": {},
   "source": [
    "#### CALCULATING THE \"ACCURACY\" OF THE CLASS PREDICTIONS"
   ]
  },
  {
   "cell_type": "code",
   "execution_count": 40,
   "metadata": {},
   "outputs": [
    {
     "data": {
      "text/plain": [
       "0.7606151788699431"
      ]
     },
     "execution_count": 40,
     "metadata": {},
     "output_type": "execute_result"
    }
   ],
   "source": [
    "from sklearn import metrics\n",
    "metrics.accuracy_score(y_test, y_pred)"
   ]
  },
  {
   "cell_type": "markdown",
   "metadata": {},
   "source": [
    "### HYPERPARAMETER: A Hyperparameter is a parameter whose value is used to control the learning process.\n",
    "\n",
    "- Hyperparameter optimization or tuning is the problem of choosing a set of optimal hyperparameters for a learning algorithm.\n",
    "- By contrast, the values of other parameters (typically node weights) are learned."
   ]
  },
  {
   "cell_type": "markdown",
   "metadata": {},
   "source": [
    "#### What is the importance of Hyperparameter tuning? \n",
    "\n",
    "- Hyperparameters are crucial as they control the overall behaviour of a machine learning model. \n",
    "- The ultimate goal is to find an optimal combination of hyperparameters that minimizes a predefined loss function to give better results."
   ]
  },
  {
   "cell_type": "markdown",
   "metadata": {},
   "source": [
    "#### Which strategy is used for tuning Hyperparameters?\n",
    "\n",
    "- We'll explore three different methods of optimizing hyperparameters: Grid Search, Random Search and Bayesian optimization. \n",
    "- There are other potential strategies, but many of these require too many function evaluations per optimization to be feasible."
   ]
  },
  {
   "cell_type": "code",
   "execution_count": 41,
   "metadata": {},
   "outputs": [],
   "source": [
    "from sklearn.model_selection import GridSearchCV, RandomizedSearchCV\n",
    "from sklearn.metrics import classification_report"
   ]
  },
  {
   "cell_type": "code",
   "execution_count": 42,
   "metadata": {},
   "outputs": [],
   "source": [
    "import warnings\n",
    "warnings.filterwarnings('ignore')"
   ]
  },
  {
   "cell_type": "markdown",
   "metadata": {},
   "source": [
    "### GridSearchCV: It is a library function that is a member of sklearn's model_selection package. It helps to loop through predefined hyperparameters and fit your estimator (model) on your training set. \n",
    "- In addition to that, you can specify the number of times for the cross-validation for each set of hyperparameters.\n",
    "\n",
    "#### Why do we use?\n",
    "- GridSearchCV tries all the combinations of the values passed in the dictionary and evaluates the model for each combination using the Cross-Validation method. \n",
    "- Hence after using this function we get accuracy/loss for every combination of hyperparameters and we can choose the one with the best performance.\n",
    "\n",
    "##### NOTE: In general, the fold value in gridsearchcv is taken as 5 by default."
   ]
  },
  {
   "cell_type": "markdown",
   "metadata": {},
   "source": [
    "### ACCURACY: It is a metric for evaluating classification models. \n",
    "\n",
    "- Informally, accuracy is the fraction of predictions our model got right. \n",
    "- Formally, accuracy has the following definition: Accuracy = Number of correct predictions Total number of predictions."
   ]
  },
  {
   "cell_type": "code",
   "execution_count": 43,
   "metadata": {},
   "outputs": [
    {
     "name": "stdout",
     "output_type": "stream",
     "text": [
      "Best parameters set found on train set : \n",
      "{'C': 1, 'penalty': 'l2', 'solver': 'newton-cg'}\n",
      "LogisticRegression(C=1, solver='newton-cg')\n",
      "\n",
      "0.7602808425275828\n"
     ]
    }
   ],
   "source": [
    "tuned_parameters = [{'solver':['newton-cg','lbfgs','liblinear','sag','saga'], 'C':[1, 10, 100, 1000],\n",
    "                     'penalty':['l1','l2','elasticnet']}]\n",
    "\n",
    "clf = GridSearchCV(LogisticRegression(), tuned_parameters, scoring = 'accuracy')\n",
    "\n",
    "clf.fit(X_train, y_train)\n",
    "\n",
    "print(\"Best parameters set found on train set : \")\n",
    "\n",
    "print(clf.best_params_)\n",
    "\n",
    "print(clf.best_estimator_)\n",
    "\n",
    "print()\n",
    "\n",
    "print(clf.score(X_test, y_test))"
   ]
  },
  {
   "cell_type": "code",
   "execution_count": 44,
   "metadata": {},
   "outputs": [
    {
     "name": "stdout",
     "output_type": "stream",
     "text": [
      "dict_keys(['mean_fit_time', 'std_fit_time', 'mean_score_time', 'std_score_time', 'param_C', 'param_penalty', 'param_solver', 'params', 'split0_test_score', 'split1_test_score', 'split2_test_score', 'split3_test_score', 'split4_test_score', 'mean_test_score', 'std_test_score', 'rank_test_score'])\n"
     ]
    }
   ],
   "source": [
    "print(clf.cv_results_.keys())"
   ]
  },
  {
   "cell_type": "code",
   "execution_count": 45,
   "metadata": {},
   "outputs": [
    {
     "name": "stdout",
     "output_type": "stream",
     "text": [
      "[       nan        nan 0.78              nan 0.77333333 0.77333333\n",
      " 0.77333333 0.77333333 0.77333333 0.77333333        nan        nan\n",
      "        nan        nan        nan        nan        nan 0.75333333\n",
      "        nan 0.76666667 0.75333333 0.75333333 0.75333333 0.76666667\n",
      " 0.76666667        nan        nan        nan        nan        nan\n",
      "        nan        nan 0.77333333        nan 0.76666667 0.77333333\n",
      " 0.77333333 0.77333333 0.75333333 0.76666667        nan        nan\n",
      "        nan        nan        nan        nan        nan 0.77333333\n",
      "        nan 0.76666667 0.77333333 0.77333333 0.77333333 0.75333333\n",
      " 0.76666667        nan        nan        nan        nan        nan]\n"
     ]
    }
   ],
   "source": [
    "print(clf.cv_results_['split0_test_score'])"
   ]
  },
  {
   "cell_type": "code",
   "execution_count": 46,
   "metadata": {},
   "outputs": [
    {
     "name": "stdout",
     "output_type": "stream",
     "text": [
      "[       nan        nan 0.75333333        nan 0.76       0.75333333\n",
      " 0.75333333 0.75333333 0.75333333 0.75333333        nan        nan\n",
      "        nan        nan        nan        nan        nan 0.75333333\n",
      "        nan 0.75333333 0.75333333 0.75333333 0.75333333 0.75333333\n",
      " 0.75333333        nan        nan        nan        nan        nan\n",
      "        nan        nan 0.75333333        nan 0.75333333 0.75333333\n",
      " 0.75333333 0.75333333 0.75333333 0.75333333        nan        nan\n",
      "        nan        nan        nan        nan        nan 0.75333333\n",
      "        nan 0.75333333 0.75333333 0.75333333 0.75333333 0.75333333\n",
      " 0.75333333        nan        nan        nan        nan        nan]\n"
     ]
    }
   ],
   "source": [
    "print(clf.cv_results_['split1_test_score'])"
   ]
  },
  {
   "cell_type": "code",
   "execution_count": 47,
   "metadata": {},
   "outputs": [
    {
     "name": "stdout",
     "output_type": "stream",
     "text": [
      "[       nan        nan 0.69127517        nan 0.69127517 0.69798658\n",
      " 0.69798658 0.69798658 0.69798658 0.69798658        nan        nan\n",
      "        nan        nan        nan        nan        nan 0.69798658\n",
      "        nan 0.69798658 0.69798658 0.69798658 0.69798658 0.69798658\n",
      " 0.69798658        nan        nan        nan        nan        nan\n",
      "        nan        nan 0.69798658        nan 0.69798658 0.69798658\n",
      " 0.69798658 0.69798658 0.69798658 0.69798658        nan        nan\n",
      "        nan        nan        nan        nan        nan 0.69798658\n",
      "        nan 0.69798658 0.69798658 0.69798658 0.69798658 0.69798658\n",
      " 0.69798658        nan        nan        nan        nan        nan]\n"
     ]
    }
   ],
   "source": [
    "print(clf.cv_results_['split2_test_score'])"
   ]
  },
  {
   "cell_type": "code",
   "execution_count": 48,
   "metadata": {},
   "outputs": [
    {
     "name": "stdout",
     "output_type": "stream",
     "text": [
      "[       nan        nan 0.79194631        nan 0.79194631 0.79865772\n",
      " 0.79865772 0.79865772 0.79865772 0.79865772        nan        nan\n",
      "        nan        nan        nan        nan        nan 0.79194631\n",
      "        nan 0.79194631 0.79194631 0.79194631 0.79194631 0.79194631\n",
      " 0.79194631        nan        nan        nan        nan        nan\n",
      "        nan        nan 0.79194631        nan 0.79194631 0.79194631\n",
      " 0.79194631 0.79194631 0.79194631 0.79194631        nan        nan\n",
      "        nan        nan        nan        nan        nan 0.79194631\n",
      "        nan 0.79194631 0.79194631 0.79194631 0.79194631 0.79194631\n",
      " 0.79194631        nan        nan        nan        nan        nan]\n"
     ]
    }
   ],
   "source": [
    "print(clf.cv_results_['split3_test_score'])"
   ]
  },
  {
   "cell_type": "code",
   "execution_count": 49,
   "metadata": {},
   "outputs": [
    {
     "name": "stdout",
     "output_type": "stream",
     "text": [
      "[       nan        nan 0.71812081        nan 0.71812081 0.72483221\n",
      " 0.72483221 0.72483221 0.72483221 0.72483221        nan        nan\n",
      "        nan        nan        nan        nan        nan 0.71812081\n",
      "        nan 0.71812081 0.71812081 0.71812081 0.71812081 0.71812081\n",
      " 0.71812081        nan        nan        nan        nan        nan\n",
      "        nan        nan 0.71812081        nan 0.71812081 0.71812081\n",
      " 0.71812081 0.71812081 0.71812081 0.71812081        nan        nan\n",
      "        nan        nan        nan        nan        nan 0.71812081\n",
      "        nan 0.71812081 0.71812081 0.71812081 0.71812081 0.71812081\n",
      " 0.71812081        nan        nan        nan        nan        nan]\n"
     ]
    }
   ],
   "source": [
    "print(clf.cv_results_['split4_test_score'])"
   ]
  },
  {
   "cell_type": "markdown",
   "metadata": {},
   "source": [
    "### CONFUSION MATRIX:A Confusion matrix is an N x N matrix used for evaluating the performance of a classification model, where N is the number of target classes. The matrix compares the actual target values with those predicted by the machine learning model.  The rows represent the predicted values of the target variable.\n",
    "\n",
    "- A confusion matrix is a technique for summarizing the performance of a classification algorithm. \n",
    "- Classification accuracy alone can be misleading if you have an unequal number of observations in each class or if you have more than two classes in your dataset.\n",
    "- It is a useful machine learning method which allows you to measure Recall, Precision, Accuracy, and AUC-ROC curve.\n",
    "\n",
    "#### Why is it called confusion matrix?\n",
    "\n",
    "- Each row of the matrix represents the instances in a predicted class, while each column represents the instances in an actual class (or vice versa). \n",
    "\n",
    "- The name stems from the fact that it makes it easy to see whether the system is confusing two classes (i.e. commonly mislabeling one as another).\n",
    "\n",
    "#### Why do we need Confusion Matrix?\n",
    "\n",
    "- Confusion matrices are used to visualize important predictive analytics like recall, specificity, accuracy, and precision.\n",
    "\n",
    "- Confusion matrices are useful because they give direct comparisons of values like True Positives, False Positives, True Negatives and False Negatives.\n",
    "\n",
    "#### What is the main benefit of plotting the Confusion Matrix of a Classification Model?\n",
    "- Confusion matrix shows how any classification model is confused when it makes predictions. \n",
    "- Confusion matrix not only gives you insight into the errors being made by your classifier but also types of errors that are being made.\n",
    "\n",
    "### NOTE: A good Confusion matrix (model) will have large values across the diagonal and small values off the diagonal."
   ]
  },
  {
   "cell_type": "code",
   "execution_count": 50,
   "metadata": {},
   "outputs": [
    {
     "data": {
      "text/plain": [
       "array([[1096,  397],\n",
       "       [ 319, 1179]], dtype=int64)"
      ]
     },
     "execution_count": 50,
     "metadata": {},
     "output_type": "execute_result"
    }
   ],
   "source": [
    "con_metric = metrics.confusion_matrix(y_test, y_pred)\n",
    "con_metric"
   ]
  },
  {
   "cell_type": "code",
   "execution_count": 51,
   "metadata": {},
   "outputs": [
    {
     "data": {
      "image/png": "[encoded data removed]",
      "text/plain": [
       "<Figure size 432x288 with 2 Axes>"
      ]
     },
     "metadata": {
      "needs_background": "light"
     },
     "output_type": "display_data"
    }
   ],
   "source": [
    "sns.heatmap(con_metric, annot = True, fmt = 'd')\n",
    "plt.title('Confusion Matrix')\n",
    "plt.show()"
   ]
  },
  {
   "cell_type": "markdown",
   "metadata": {},
   "source": [
    "### PRECISION:  Also called positive predictive value. Precision is something made with exact measurements. It is  used or intended for accurate or exact measurement.\n",
    "\n",
    "- In pattern recognition, information retrieval and classification (machine learning), it is the fraction of relevant instances among the retrieved instances, while recall (also known as sensitivity) is the fraction of relevant instances that were retrieved."
   ]
  },
  {
   "cell_type": "code",
   "execution_count": 52,
   "metadata": {},
   "outputs": [
    {
     "name": "stdout",
     "output_type": "stream",
     "text": [
      "Best parameters set found on train set : \n",
      "{'C': 1, 'penalty': 'l2', 'solver': 'newton-cg'}\n",
      "LogisticRegression(C=1, solver='newton-cg')\n",
      "\n",
      "0.7479365079365079\n"
     ]
    }
   ],
   "source": [
    "tuned_parameters = [{'solver':['newton-cg','lbfgs','liblinear','sag','saga'], 'C':[1, 10, 100, 1000],\n",
    "                     'penalty':['l1','l2','elasticnet']}]\n",
    "\n",
    "clf = GridSearchCV(LogisticRegression(), tuned_parameters, scoring = 'precision')\n",
    "\n",
    "clf.fit(X_train, y_train)\n",
    "\n",
    "print(\"Best parameters set found on train set : \")\n",
    "\n",
    "print(clf.best_params_)\n",
    "\n",
    "print(clf.best_estimator_)\n",
    "\n",
    "print()\n",
    "\n",
    "print(clf.score(X_test, y_test))"
   ]
  },
  {
   "cell_type": "code",
   "execution_count": 53,
   "metadata": {},
   "outputs": [
    {
     "name": "stdout",
     "output_type": "stream",
     "text": [
      "dict_keys(['mean_fit_time', 'std_fit_time', 'mean_score_time', 'std_score_time', 'param_C', 'param_penalty', 'param_solver', 'params', 'split0_test_score', 'split1_test_score', 'split2_test_score', 'split3_test_score', 'split4_test_score', 'mean_test_score', 'std_test_score', 'rank_test_score'])\n"
     ]
    }
   ],
   "source": [
    "print(clf.cv_results_.keys())"
   ]
  },
  {
   "cell_type": "code",
   "execution_count": 54,
   "metadata": {},
   "outputs": [
    {
     "name": "stdout",
     "output_type": "stream",
     "text": [
      "[       nan        nan 0.76623377        nan 0.76315789 0.75641026\n",
      " 0.75641026 0.75641026 0.75641026 0.75641026        nan        nan\n",
      "        nan        nan        nan        nan        nan 0.73417722\n",
      "        nan 0.75324675 0.73417722 0.73417722 0.73417722 0.75324675\n",
      " 0.75324675        nan        nan        nan        nan        nan\n",
      "        nan        nan 0.75641026        nan 0.75324675 0.75641026\n",
      " 0.75641026 0.75641026 0.73417722 0.75324675        nan        nan\n",
      "        nan        nan        nan        nan        nan 0.75641026\n",
      "        nan 0.75324675 0.75641026 0.75641026 0.75641026 0.73417722\n",
      " 0.75324675        nan        nan        nan        nan        nan]\n"
     ]
    }
   ],
   "source": [
    "print(clf.cv_results_['split0_test_score'])"
   ]
  },
  {
   "cell_type": "code",
   "execution_count": 55,
   "metadata": {},
   "outputs": [
    {
     "name": "stdout",
     "output_type": "stream",
     "text": [
      "[       nan        nan 0.71111111        nan 0.71910112 0.71111111\n",
      " 0.71111111 0.71111111 0.71111111 0.71111111        nan        nan\n",
      "        nan        nan        nan        nan        nan 0.71111111\n",
      "        nan 0.71111111 0.71111111 0.71111111 0.71111111 0.71111111\n",
      " 0.71111111        nan        nan        nan        nan        nan\n",
      "        nan        nan 0.70652174        nan 0.71111111 0.70652174\n",
      " 0.70652174 0.70652174 0.71111111 0.71111111        nan        nan\n",
      "        nan        nan        nan        nan        nan 0.70652174\n",
      "        nan 0.71111111 0.70652174 0.70652174 0.70652174 0.71111111\n",
      " 0.71111111        nan        nan        nan        nan        nan]\n"
     ]
    }
   ],
   "source": [
    "print(clf.cv_results_['split1_test_score'])"
   ]
  },
  {
   "cell_type": "code",
   "execution_count": 56,
   "metadata": {},
   "outputs": [
    {
     "name": "stdout",
     "output_type": "stream",
     "text": [
      "[       nan        nan 0.65555556        nan 0.65555556 0.66292135\n",
      " 0.66292135 0.66292135 0.66292135 0.66292135        nan        nan\n",
      "        nan        nan        nan        nan        nan 0.65555556\n",
      "        nan 0.66292135 0.66292135 0.66292135 0.66292135 0.66292135\n",
      " 0.66292135        nan        nan        nan        nan        nan\n",
      "        nan        nan 0.66292135        nan 0.66292135 0.66292135\n",
      " 0.66292135 0.66292135 0.66292135 0.66292135        nan        nan\n",
      "        nan        nan        nan        nan        nan 0.66292135\n",
      "        nan 0.66292135 0.66292135 0.66292135 0.66292135 0.66292135\n",
      " 0.66292135        nan        nan        nan        nan        nan]\n"
     ]
    }
   ],
   "source": [
    "print(clf.cv_results_['split2_test_score'])"
   ]
  },
  {
   "cell_type": "code",
   "execution_count": 57,
   "metadata": {},
   "outputs": [
    {
     "name": "stdout",
     "output_type": "stream",
     "text": [
      "[       nan        nan 0.8028169         nan 0.8028169  0.81428571\n",
      " 0.81428571 0.81428571 0.81428571 0.81428571        nan        nan\n",
      "        nan        nan        nan        nan        nan 0.8028169\n",
      "        nan 0.8028169  0.8028169  0.8028169  0.8028169  0.8028169\n",
      " 0.8028169         nan        nan        nan        nan        nan\n",
      "        nan        nan 0.8028169         nan 0.8028169  0.8028169\n",
      " 0.8028169  0.8028169  0.8028169  0.8028169         nan        nan\n",
      "        nan        nan        nan        nan        nan 0.8028169\n",
      "        nan 0.8028169  0.8028169  0.8028169  0.8028169  0.8028169\n",
      " 0.8028169         nan        nan        nan        nan        nan]\n"
     ]
    }
   ],
   "source": [
    "print(clf.cv_results_['split3_test_score'])"
   ]
  },
  {
   "cell_type": "code",
   "execution_count": 58,
   "metadata": {},
   "outputs": [
    {
     "name": "stdout",
     "output_type": "stream",
     "text": [
      "[       nan        nan 0.71621622        nan 0.71621622 0.7260274\n",
      " 0.7260274  0.7260274  0.7260274  0.7260274         nan        nan\n",
      "        nan        nan        nan        nan        nan 0.71621622\n",
      "        nan 0.71621622 0.71621622 0.71621622 0.71621622 0.71621622\n",
      " 0.71621622        nan        nan        nan        nan        nan\n",
      "        nan        nan 0.70666667        nan 0.71621622 0.71621622\n",
      " 0.71621622 0.71621622 0.71621622 0.71621622        nan        nan\n",
      "        nan        nan        nan        nan        nan 0.71621622\n",
      "        nan 0.71621622 0.71621622 0.71621622 0.71621622 0.71621622\n",
      " 0.71621622        nan        nan        nan        nan        nan]\n"
     ]
    }
   ],
   "source": [
    "print(clf.cv_results_['split4_test_score'])"
   ]
  },
  {
   "cell_type": "markdown",
   "metadata": {},
   "source": [
    "### RECALL: Recall literally is how many of the true positives were recalled (found), i.e. how many of the correct hits were also found. \n",
    "\n",
    "- Precision (your formula is incorrect) is how many of the returned hits were true positive i.e. how many of the found were correct hits. It's pretty straightforward, actually.\n",
    "\n",
    "##### NOTE: \"A perfect classifier has precision and recall both equal to 1\"."
   ]
  },
  {
   "cell_type": "code",
   "execution_count": 59,
   "metadata": {},
   "outputs": [
    {
     "name": "stdout",
     "output_type": "stream",
     "text": [
      "Best parameters set found on train set : \n",
      "{'C': 100, 'penalty': 'l1', 'solver': 'liblinear'}\n",
      "LogisticRegression(C=100, penalty='l1', solver='liblinear')\n",
      "\n",
      "0.7903871829105474\n"
     ]
    }
   ],
   "source": [
    "tuned_parameters = [{'solver':['newton-cg','lbfgs','liblinear','sag','saga'], 'C':[1, 10, 100, 1000],\n",
    "                     'penalty':['l1','l2','elasticnet']}]\n",
    "\n",
    "clf = GridSearchCV(LogisticRegression(), tuned_parameters, scoring = 'recall')\n",
    "\n",
    "clf.fit(X_train, y_train)\n",
    "\n",
    "print(\"Best parameters set found on train set : \")\n",
    "\n",
    "print(clf.best_params_)\n",
    "\n",
    "print(clf.best_estimator_)\n",
    "\n",
    "print()\n",
    "\n",
    "print(clf.score(X_test, y_test))"
   ]
  },
  {
   "cell_type": "code",
   "execution_count": 60,
   "metadata": {},
   "outputs": [
    {
     "name": "stdout",
     "output_type": "stream",
     "text": [
      "dict_keys(['mean_fit_time', 'std_fit_time', 'mean_score_time', 'std_score_time', 'param_C', 'param_penalty', 'param_solver', 'params', 'split0_test_score', 'split1_test_score', 'split2_test_score', 'split3_test_score', 'split4_test_score', 'mean_test_score', 'std_test_score', 'rank_test_score'])\n"
     ]
    }
   ],
   "source": [
    "print(clf.cv_results_.keys())"
   ]
  },
  {
   "cell_type": "code",
   "execution_count": 61,
   "metadata": {},
   "outputs": [
    {
     "name": "stdout",
     "output_type": "stream",
     "text": [
      "[       nan        nan 0.7972973         nan 0.78378378 0.7972973\n",
      " 0.7972973  0.7972973  0.7972973  0.7972973         nan        nan\n",
      "        nan        nan        nan        nan        nan 0.78378378\n",
      "        nan 0.78378378 0.78378378 0.78378378 0.78378378 0.78378378\n",
      " 0.78378378        nan        nan        nan        nan        nan\n",
      "        nan        nan 0.7972973         nan 0.78378378 0.7972973\n",
      " 0.7972973  0.7972973  0.78378378 0.78378378        nan        nan\n",
      "        nan        nan        nan        nan        nan 0.7972973\n",
      "        nan 0.78378378 0.7972973  0.7972973  0.7972973  0.78378378\n",
      " 0.78378378        nan        nan        nan        nan        nan]\n"
     ]
    }
   ],
   "source": [
    "print(clf.cv_results_['split0_test_score'])"
   ]
  },
  {
   "cell_type": "code",
   "execution_count": 62,
   "metadata": {},
   "outputs": [
    {
     "name": "stdout",
     "output_type": "stream",
     "text": [
      "[       nan        nan 0.85333333        nan 0.85333333 0.85333333\n",
      " 0.85333333 0.85333333 0.85333333 0.85333333        nan        nan\n",
      "        nan        nan        nan        nan        nan 0.85333333\n",
      "        nan 0.85333333 0.85333333 0.85333333 0.85333333 0.85333333\n",
      " 0.85333333        nan        nan        nan        nan        nan\n",
      "        nan        nan 0.86666667        nan 0.85333333 0.86666667\n",
      " 0.86666667 0.86666667 0.85333333 0.85333333        nan        nan\n",
      "        nan        nan        nan        nan        nan 0.86666667\n",
      "        nan 0.85333333 0.86666667 0.86666667 0.86666667 0.85333333\n",
      " 0.85333333        nan        nan        nan        nan        nan]\n"
     ]
    }
   ],
   "source": [
    "print(clf.cv_results_['split1_test_score'])"
   ]
  },
  {
   "cell_type": "code",
   "execution_count": 63,
   "metadata": {},
   "outputs": [
    {
     "name": "stdout",
     "output_type": "stream",
     "text": [
      "[      nan       nan 0.7972973       nan 0.7972973 0.7972973 0.7972973\n",
      " 0.7972973 0.7972973 0.7972973       nan       nan       nan       nan\n",
      "       nan       nan       nan 0.7972973       nan 0.7972973 0.7972973\n",
      " 0.7972973 0.7972973 0.7972973 0.7972973       nan       nan       nan\n",
      "       nan       nan       nan       nan 0.7972973       nan 0.7972973\n",
      " 0.7972973 0.7972973 0.7972973 0.7972973 0.7972973       nan       nan\n",
      "       nan       nan       nan       nan       nan 0.7972973       nan\n",
      " 0.7972973 0.7972973 0.7972973 0.7972973 0.7972973 0.7972973       nan\n",
      "       nan       nan       nan       nan]\n"
     ]
    }
   ],
   "source": [
    "print(clf.cv_results_['split2_test_score'])"
   ]
  },
  {
   "cell_type": "code",
   "execution_count": 64,
   "metadata": {},
   "outputs": [
    {
     "name": "stdout",
     "output_type": "stream",
     "text": [
      "[       nan        nan 0.77027027        nan 0.77027027 0.77027027\n",
      " 0.77027027 0.77027027 0.77027027 0.77027027        nan        nan\n",
      "        nan        nan        nan        nan        nan 0.77027027\n",
      "        nan 0.77027027 0.77027027 0.77027027 0.77027027 0.77027027\n",
      " 0.77027027        nan        nan        nan        nan        nan\n",
      "        nan        nan 0.77027027        nan 0.77027027 0.77027027\n",
      " 0.77027027 0.77027027 0.77027027 0.77027027        nan        nan\n",
      "        nan        nan        nan        nan        nan 0.77027027\n",
      "        nan 0.77027027 0.77027027 0.77027027 0.77027027 0.77027027\n",
      " 0.77027027        nan        nan        nan        nan        nan]\n"
     ]
    }
   ],
   "source": [
    "print(clf.cv_results_['split3_test_score'])"
   ]
  },
  {
   "cell_type": "code",
   "execution_count": 65,
   "metadata": {},
   "outputs": [
    {
     "name": "stdout",
     "output_type": "stream",
     "text": [
      "[       nan        nan 0.71621622        nan 0.71621622 0.71621622\n",
      " 0.71621622 0.71621622 0.71621622 0.71621622        nan        nan\n",
      "        nan        nan        nan        nan        nan 0.71621622\n",
      "        nan 0.71621622 0.71621622 0.71621622 0.71621622 0.71621622\n",
      " 0.71621622        nan        nan        nan        nan        nan\n",
      "        nan        nan 0.71621622        nan 0.71621622 0.71621622\n",
      " 0.71621622 0.71621622 0.71621622 0.71621622        nan        nan\n",
      "        nan        nan        nan        nan        nan 0.71621622\n",
      "        nan 0.71621622 0.71621622 0.71621622 0.71621622 0.71621622\n",
      " 0.71621622        nan        nan        nan        nan        nan]\n"
     ]
    }
   ],
   "source": [
    "print(clf.cv_results_['split4_test_score'])"
   ]
  },
  {
   "cell_type": "markdown",
   "metadata": {},
   "source": [
    "### F1 SCORE: The F1 score, also called the F score (or) F measure, is a measure of a test's accuracy. \n",
    "\n",
    "- The F1 score is defined as the weighted harmonic mean of the test's precision and recall.\n",
    "- Mathematically, The F1 Score is the 2*((precision*recall)/(precision+recall))."
   ]
  },
  {
   "cell_type": "code",
   "execution_count": 66,
   "metadata": {},
   "outputs": [
    {
     "name": "stdout",
     "output_type": "stream",
     "text": [
      "Best parameters set found on train set : \n",
      "{'C': 1, 'penalty': 'l2', 'solver': 'newton-cg'}\n",
      "LogisticRegression(C=1, solver='newton-cg')\n",
      "\n",
      "0.7666775138301334\n"
     ]
    }
   ],
   "source": [
    "tuned_parameters = [{'solver':['newton-cg','lbfgs','liblinear','sag','saga'], 'C':[1, 10, 100, 1000],\n",
    "                     'penalty':['l1','l2','elasticnet']}]\n",
    "\n",
    "clf = GridSearchCV(LogisticRegression(), tuned_parameters, scoring = 'f1')\n",
    "\n",
    "clf.fit(X_train, y_train)\n",
    "\n",
    "print(\"Best parameters set found on train set : \")\n",
    "\n",
    "print(clf.best_params_)\n",
    "\n",
    "print(clf.best_estimator_)\n",
    "\n",
    "print()\n",
    "\n",
    "print(clf.score(X_test, y_test))"
   ]
  },
  {
   "cell_type": "code",
   "execution_count": 67,
   "metadata": {},
   "outputs": [
    {
     "name": "stdout",
     "output_type": "stream",
     "text": [
      "dict_keys(['mean_fit_time', 'std_fit_time', 'mean_score_time', 'std_score_time', 'param_C', 'param_penalty', 'param_solver', 'params', 'split0_test_score', 'split1_test_score', 'split2_test_score', 'split3_test_score', 'split4_test_score', 'mean_test_score', 'std_test_score', 'rank_test_score'])\n"
     ]
    }
   ],
   "source": [
    "print(clf.cv_results_.keys())"
   ]
  },
  {
   "cell_type": "code",
   "execution_count": 68,
   "metadata": {},
   "outputs": [
    {
     "name": "stdout",
     "output_type": "stream",
     "text": [
      "[       nan        nan 0.78145695        nan 0.77333333 0.77631579\n",
      " 0.77631579 0.77631579 0.77631579 0.77631579        nan        nan\n",
      "        nan        nan        nan        nan        nan 0.75816993\n",
      "        nan 0.76821192 0.75816993 0.75816993 0.75816993 0.76821192\n",
      " 0.76821192        nan        nan        nan        nan        nan\n",
      "        nan        nan 0.77631579        nan 0.76821192 0.77631579\n",
      " 0.77631579 0.77631579 0.75816993 0.76821192        nan        nan\n",
      "        nan        nan        nan        nan        nan 0.77631579\n",
      "        nan 0.76821192 0.77631579 0.77631579 0.77631579 0.75816993\n",
      " 0.76821192        nan        nan        nan        nan        nan]\n"
     ]
    }
   ],
   "source": [
    "print(clf.cv_results_['split0_test_score'])"
   ]
  },
  {
   "cell_type": "code",
   "execution_count": 69,
   "metadata": {},
   "outputs": [
    {
     "name": "stdout",
     "output_type": "stream",
     "text": [
      "[       nan        nan 0.77575758        nan 0.7804878  0.77575758\n",
      " 0.77575758 0.77575758 0.77575758 0.77575758        nan        nan\n",
      "        nan        nan        nan        nan        nan 0.77575758\n",
      "        nan 0.77575758 0.77575758 0.77575758 0.77575758 0.77575758\n",
      " 0.77575758        nan        nan        nan        nan        nan\n",
      "        nan        nan 0.77844311        nan 0.77575758 0.77844311\n",
      " 0.77844311 0.77844311 0.77575758 0.77575758        nan        nan\n",
      "        nan        nan        nan        nan        nan 0.77844311\n",
      "        nan 0.77575758 0.77844311 0.77844311 0.77844311 0.77575758\n",
      " 0.77575758        nan        nan        nan        nan        nan]\n"
     ]
    }
   ],
   "source": [
    "print(clf.cv_results_['split1_test_score'])"
   ]
  },
  {
   "cell_type": "code",
   "execution_count": 70,
   "metadata": {},
   "outputs": [
    {
     "name": "stdout",
     "output_type": "stream",
     "text": [
      "[       nan        nan 0.7195122         nan 0.7195122  0.72392638\n",
      " 0.72392638 0.72392638 0.72392638 0.72392638        nan        nan\n",
      "        nan        nan        nan        nan        nan 0.72392638\n",
      "        nan 0.72392638 0.72392638 0.72392638 0.72392638 0.72392638\n",
      " 0.72392638        nan        nan        nan        nan        nan\n",
      "        nan        nan 0.72392638        nan 0.72392638 0.72392638\n",
      " 0.72392638 0.72392638 0.72392638 0.72392638        nan        nan\n",
      "        nan        nan        nan        nan        nan 0.72392638\n",
      "        nan 0.72392638 0.72392638 0.72392638 0.72392638 0.72392638\n",
      " 0.72392638        nan        nan        nan        nan        nan]\n"
     ]
    }
   ],
   "source": [
    "print(clf.cv_results_['split2_test_score'])"
   ]
  },
  {
   "cell_type": "code",
   "execution_count": 71,
   "metadata": {},
   "outputs": [
    {
     "name": "stdout",
     "output_type": "stream",
     "text": [
      "[       nan        nan 0.7862069         nan 0.7862069  0.79166667\n",
      " 0.79166667 0.79166667 0.79166667 0.79166667        nan        nan\n",
      "        nan        nan        nan        nan        nan 0.7862069\n",
      "        nan 0.7862069  0.7862069  0.7862069  0.7862069  0.7862069\n",
      " 0.7862069         nan        nan        nan        nan        nan\n",
      "        nan        nan 0.7862069         nan 0.7862069  0.7862069\n",
      " 0.7862069  0.7862069  0.7862069  0.7862069         nan        nan\n",
      "        nan        nan        nan        nan        nan 0.7862069\n",
      "        nan 0.7862069  0.7862069  0.7862069  0.7862069  0.7862069\n",
      " 0.7862069         nan        nan        nan        nan        nan]\n"
     ]
    }
   ],
   "source": [
    "print(clf.cv_results_['split3_test_score'])"
   ]
  },
  {
   "cell_type": "code",
   "execution_count": 72,
   "metadata": {},
   "outputs": [
    {
     "name": "stdout",
     "output_type": "stream",
     "text": [
      "[       nan        nan 0.71621622        nan 0.71621622 0.72108844\n",
      " 0.72108844 0.72108844 0.72108844 0.72108844        nan        nan\n",
      "        nan        nan        nan        nan        nan 0.71621622\n",
      "        nan 0.71621622 0.71621622 0.71621622 0.71621622 0.71621622\n",
      " 0.71621622        nan        nan        nan        nan        nan\n",
      "        nan        nan 0.71621622        nan 0.71621622 0.71621622\n",
      " 0.71621622 0.71621622 0.71621622 0.71621622        nan        nan\n",
      "        nan        nan        nan        nan        nan 0.71621622\n",
      "        nan 0.71621622 0.71621622 0.71621622 0.71621622 0.71621622\n",
      " 0.71621622        nan        nan        nan        nan        nan]\n"
     ]
    }
   ],
   "source": [
    "print(clf.cv_results_['split4_test_score'])"
   ]
  },
  {
   "cell_type": "markdown",
   "metadata": {},
   "source": [
    "### ROC-AUC CURVE (Receiver Operating Characteristic Curve - Area Under the ROC Curve): ROC is a probability curve and AUC represents the degree or measure of separability. \n",
    "\n",
    "- It tells how much the model is capable of distinguishing between classes.\n",
    "- AUC - ROC curve is a performance measurement for the classification problems at various threshold settings. \n",
    "- The higher the AUC, the better the performance of the model at distinguishing between the positive and negative classes."
   ]
  },
  {
   "cell_type": "code",
   "execution_count": 73,
   "metadata": {},
   "outputs": [
    {
     "name": "stdout",
     "output_type": "stream",
     "text": [
      "Best parameters set found on train set : \n",
      "{'C': 1, 'penalty': 'l1', 'solver': 'saga'}\n",
      "LogisticRegression(C=1, penalty='l1', solver='saga')\n",
      "\n",
      "0.8413182300669704\n"
     ]
    }
   ],
   "source": [
    "tuned_parameters = [{'solver':['newton-cg','lbfgs','liblinear','sag','saga'], 'C':[1, 10, 100, 1000],\n",
    "                     'penalty':['l1','l2','elasticnet']}]\n",
    "\n",
    "clf = GridSearchCV(LogisticRegression(), tuned_parameters, scoring = 'roc_auc')\n",
    "\n",
    "clf.fit(X_train, y_train)\n",
    "\n",
    "print(\"Best parameters set found on train set : \")\n",
    "\n",
    "print(clf.best_params_)\n",
    "\n",
    "print(clf.best_estimator_)\n",
    "\n",
    "print()\n",
    "\n",
    "print(clf.score(X_test, y_test))"
   ]
  },
  {
   "cell_type": "code",
   "execution_count": 74,
   "metadata": {},
   "outputs": [
    {
     "name": "stdout",
     "output_type": "stream",
     "text": [
      "dict_keys(['mean_fit_time', 'std_fit_time', 'mean_score_time', 'std_score_time', 'param_C', 'param_penalty', 'param_solver', 'params', 'split0_test_score', 'split1_test_score', 'split2_test_score', 'split3_test_score', 'split4_test_score', 'mean_test_score', 'std_test_score', 'rank_test_score'])\n"
     ]
    }
   ],
   "source": [
    "print(clf.cv_results_.keys())"
   ]
  },
  {
   "cell_type": "code",
   "execution_count": 75,
   "metadata": {},
   "outputs": [
    {
     "name": "stdout",
     "output_type": "stream",
     "text": [
      "[       nan        nan 0.85526316        nan 0.85579659 0.85384068\n",
      " 0.85384068 0.85384068 0.85384068 0.85384068        nan        nan\n",
      "        nan        nan        nan        nan        nan 0.84975107\n",
      "        nan 0.8504623  0.85010669 0.85010669 0.8502845  0.85064011\n",
      " 0.85064011        nan        nan        nan        nan        nan\n",
      "        nan        nan 0.84495021        nan 0.8504623  0.8447724\n",
      " 0.8447724  0.84495021 0.84992888 0.8504623         nan        nan\n",
      "        nan        nan        nan        nan        nan 0.84495021\n",
      "        nan 0.8502845  0.84566145 0.84566145 0.84566145 0.84975107\n",
      " 0.8502845         nan        nan        nan        nan        nan]\n"
     ]
    }
   ],
   "source": [
    "print(clf.cv_results_['split0_test_score'])"
   ]
  },
  {
   "cell_type": "code",
   "execution_count": 76,
   "metadata": {},
   "outputs": [
    {
     "name": "stdout",
     "output_type": "stream",
     "text": [
      "[       nan        nan 0.84746667        nan 0.84764444 0.84817778\n",
      " 0.84817778 0.848      0.84817778 0.848             nan        nan\n",
      "        nan        nan        nan        nan        nan 0.84728889\n",
      "        nan 0.84693333 0.848      0.848      0.848      0.84728889\n",
      " 0.84675556        nan        nan        nan        nan        nan\n",
      "        nan        nan 0.84568889        nan 0.8464     0.84586667\n",
      " 0.84586667 0.84586667 0.84675556 0.8464            nan        nan\n",
      "        nan        nan        nan        nan        nan 0.84551111\n",
      "        nan 0.8464     0.84586667 0.84568889 0.84568889 0.84711111\n",
      " 0.8464            nan        nan        nan        nan        nan]\n"
     ]
    }
   ],
   "source": [
    "print(clf.cv_results_['split1_test_score'])"
   ]
  },
  {
   "cell_type": "code",
   "execution_count": 77,
   "metadata": {},
   "outputs": [
    {
     "name": "stdout",
     "output_type": "stream",
     "text": [
      "[       nan        nan 0.81801802        nan 0.81801802 0.81801802\n",
      " 0.81801802 0.81801802 0.81801802 0.81801802        nan        nan\n",
      "        nan        nan        nan        nan        nan 0.8209009\n",
      "        nan 0.8209009  0.82036036 0.82036036 0.82036036 0.82036036\n",
      " 0.82126126        nan        nan        nan        nan        nan\n",
      "        nan        nan 0.82036036        nan 0.82162162 0.8209009\n",
      " 0.8209009  0.8209009  0.82126126 0.82162162        nan        nan\n",
      "        nan        nan        nan        nan        nan 0.82018018\n",
      "        nan 0.82162162 0.82072072 0.82072072 0.82072072 0.82126126\n",
      " 0.82162162        nan        nan        nan        nan        nan]\n"
     ]
    }
   ],
   "source": [
    "print(clf.cv_results_['split2_test_score'])"
   ]
  },
  {
   "cell_type": "code",
   "execution_count": 78,
   "metadata": {},
   "outputs": [
    {
     "name": "stdout",
     "output_type": "stream",
     "text": [
      "[       nan        nan 0.8754955         nan 0.87567568 0.87513514\n",
      " 0.87513514 0.87513514 0.87513514 0.87513514        nan        nan\n",
      "        nan        nan        nan        nan        nan 0.8754955\n",
      "        nan 0.8754955  0.87531532 0.87531532 0.87513514 0.8754955\n",
      " 0.8754955         nan        nan        nan        nan        nan\n",
      "        nan        nan 0.87585586        nan 0.8754955  0.87585586\n",
      " 0.87567568 0.87585586 0.8754955  0.8754955         nan        nan\n",
      "        nan        nan        nan        nan        nan 0.87567568\n",
      "        nan 0.87567568 0.87567568 0.87567568 0.87567568 0.87531532\n",
      " 0.87567568        nan        nan        nan        nan        nan]\n"
     ]
    }
   ],
   "source": [
    "print(clf.cv_results_['split3_test_score'])"
   ]
  },
  {
   "cell_type": "code",
   "execution_count": 79,
   "metadata": {},
   "outputs": [
    {
     "name": "stdout",
     "output_type": "stream",
     "text": [
      "[       nan        nan 0.7790991         nan 0.77945946 0.78072072\n",
      " 0.7809009  0.78072072 0.78072072 0.78072072        nan        nan\n",
      "        nan        nan        nan        nan        nan 0.77513514\n",
      "        nan 0.7754955  0.77531532 0.77531532 0.77531532 0.7754955\n",
      " 0.77585586        nan        nan        nan        nan        nan\n",
      "        nan        nan 0.77621622        nan 0.77423423 0.77621622\n",
      " 0.77621622 0.77621622 0.77459459 0.77423423        nan        nan\n",
      "        nan        nan        nan        nan        nan 0.7763964\n",
      "        nan 0.77405405 0.77657658 0.77657658 0.77657658 0.77477477\n",
      " 0.77423423        nan        nan        nan        nan        nan]\n"
     ]
    }
   ],
   "source": [
    "print(clf.cv_results_['split4_test_score'])"
   ]
  },
  {
   "cell_type": "markdown",
   "metadata": {},
   "source": [
    "### RandomizedSearchCV: RandomizedSearchCV implements a “fit” and a “score” method.\n",
    "\n",
    "- Random search is a technique where random combinations of the hyperparameters are used to find the best solution for the built model. \n",
    "- It is similar to grid search, and yet it has proven to yield better results comparatively.\n",
    "- In contrast to GridSearchCV, not all parameter values are tried out, but rather a fixed number of parameter settings is sampled from the specified distributions.\n",
    "\n",
    "#### Why do we use?\n",
    "\n",
    "- So, In the GridSearchCV object searches for the best parameters and automatically fits a new model on the whole training dataset. \n",
    "- But, RandomizedSearchCV is very useful when we have many parameters to try and the training time is very long."
   ]
  },
  {
   "cell_type": "markdown",
   "metadata": {},
   "source": [
    "### ACCURACY"
   ]
  },
  {
   "cell_type": "code",
   "execution_count": 80,
   "metadata": {},
   "outputs": [
    {
     "name": "stdout",
     "output_type": "stream",
     "text": [
      "Best parameters set found on train set : \n",
      "{'solver': 'sag', 'penalty': 'l2', 'C': 1}\n",
      "LogisticRegression(C=1, solver='sag')\n",
      "\n",
      "0.7602808425275828\n"
     ]
    }
   ],
   "source": [
    "tuned_parameters = [{'solver':['newton-cg','lbfgs','liblinear','sag','saga'], 'C':[1, 10, 100, 1000],\n",
    "                     'penalty':['l1','l2','elasticnet']}]\n",
    "\n",
    "clf = RandomizedSearchCV(LogisticRegression(), tuned_parameters, scoring = 'accuracy')\n",
    "\n",
    "clf.fit(X_train, y_train)\n",
    "\n",
    "print(\"Best parameters set found on train set : \")\n",
    "\n",
    "print(clf.best_params_)\n",
    "\n",
    "print(clf.best_estimator_)\n",
    "\n",
    "print()\n",
    "\n",
    "print(clf.score(X_test, y_test))"
   ]
  },
  {
   "cell_type": "code",
   "execution_count": 81,
   "metadata": {},
   "outputs": [
    {
     "name": "stdout",
     "output_type": "stream",
     "text": [
      "dict_keys(['mean_fit_time', 'std_fit_time', 'mean_score_time', 'std_score_time', 'param_solver', 'param_penalty', 'param_C', 'params', 'split0_test_score', 'split1_test_score', 'split2_test_score', 'split3_test_score', 'split4_test_score', 'mean_test_score', 'std_test_score', 'rank_test_score'])\n"
     ]
    }
   ],
   "source": [
    "print(clf.cv_results_.keys())"
   ]
  },
  {
   "cell_type": "code",
   "execution_count": 82,
   "metadata": {},
   "outputs": [
    {
     "name": "stdout",
     "output_type": "stream",
     "text": [
      "[0.75333333 0.75333333 0.76666667 0.77333333        nan        nan\n",
      "        nan        nan 0.76666667 0.77333333]\n"
     ]
    }
   ],
   "source": [
    "print(clf.cv_results_['split0_test_score'])"
   ]
  },
  {
   "cell_type": "code",
   "execution_count": 83,
   "metadata": {},
   "outputs": [
    {
     "name": "stdout",
     "output_type": "stream",
     "text": [
      "[0.75333333 0.75333333 0.75333333 0.75333333        nan        nan\n",
      "        nan        nan 0.75333333 0.75333333]\n"
     ]
    }
   ],
   "source": [
    "print(clf.cv_results_['split1_test_score'])"
   ]
  },
  {
   "cell_type": "code",
   "execution_count": 84,
   "metadata": {},
   "outputs": [
    {
     "name": "stdout",
     "output_type": "stream",
     "text": [
      "[0.69798658 0.69798658 0.69798658 0.69798658        nan        nan\n",
      "        nan        nan 0.69798658 0.69798658]\n"
     ]
    }
   ],
   "source": [
    "print(clf.cv_results_['split2_test_score'])"
   ]
  },
  {
   "cell_type": "code",
   "execution_count": 85,
   "metadata": {},
   "outputs": [
    {
     "name": "stdout",
     "output_type": "stream",
     "text": [
      "[0.79194631 0.79194631 0.79194631 0.79865772        nan        nan\n",
      "        nan        nan 0.79194631 0.79194631]\n"
     ]
    }
   ],
   "source": [
    "print(clf.cv_results_['split3_test_score'])"
   ]
  },
  {
   "cell_type": "code",
   "execution_count": 86,
   "metadata": {},
   "outputs": [
    {
     "name": "stdout",
     "output_type": "stream",
     "text": [
      "[0.71812081 0.71812081 0.71812081 0.72483221        nan        nan\n",
      "        nan        nan 0.71812081 0.71812081]\n"
     ]
    }
   ],
   "source": [
    "print(clf.cv_results_['split4_test_score'])"
   ]
  },
  {
   "cell_type": "markdown",
   "metadata": {},
   "source": [
    "### CONFUSION MATRIX"
   ]
  },
  {
   "cell_type": "code",
   "execution_count": 87,
   "metadata": {},
   "outputs": [
    {
     "data": {
      "text/plain": [
       "array([[1096,  397],\n",
       "       [ 319, 1179]], dtype=int64)"
      ]
     },
     "execution_count": 87,
     "metadata": {},
     "output_type": "execute_result"
    }
   ],
   "source": [
    "con_metric = metrics.confusion_matrix(y_test, y_pred)\n",
    "con_metric"
   ]
  },
  {
   "cell_type": "code",
   "execution_count": 88,
   "metadata": {},
   "outputs": [
    {
     "data": {
      "image/png": "[encoded data removed]",
      "text/plain": [
       "<Figure size 432x288 with 2 Axes>"
      ]
     },
     "metadata": {
      "needs_background": "light"
     },
     "output_type": "display_data"
    }
   ],
   "source": [
    "sns.heatmap(con_metric, annot = True, fmt = 'd')\n",
    "plt.title('Confusion Matrix')\n",
    "plt.show()"
   ]
  },
  {
   "cell_type": "markdown",
   "metadata": {},
   "source": [
    "### PRECISION"
   ]
  },
  {
   "cell_type": "code",
   "execution_count": 89,
   "metadata": {},
   "outputs": [
    {
     "name": "stdout",
     "output_type": "stream",
     "text": [
      "Best parameters set found on train set : \n",
      "{'solver': 'sag', 'penalty': 'l2', 'C': 1}\n",
      "LogisticRegression(C=1, solver='sag')\n",
      "\n",
      "0.7479365079365079\n"
     ]
    }
   ],
   "source": [
    "tuned_parameters = [{'solver':['newton-cg','lbfgs','liblinear','sag','saga'], 'C':[1, 10, 100, 1000],\n",
    "                     'penalty':['l1','l2','elasticnet']}]\n",
    "\n",
    "clf = RandomizedSearchCV(LogisticRegression(), tuned_parameters, scoring = 'precision')\n",
    "\n",
    "clf.fit(X_train, y_train)\n",
    "\n",
    "print(\"Best parameters set found on train set : \")\n",
    "\n",
    "print(clf.best_params_)\n",
    "\n",
    "print(clf.best_estimator_)\n",
    "\n",
    "print()\n",
    "\n",
    "print(clf.score(X_test, y_test))"
   ]
  },
  {
   "cell_type": "code",
   "execution_count": 90,
   "metadata": {},
   "outputs": [
    {
     "name": "stdout",
     "output_type": "stream",
     "text": [
      "dict_keys(['mean_fit_time', 'std_fit_time', 'mean_score_time', 'std_score_time', 'param_solver', 'param_penalty', 'param_C', 'params', 'split0_test_score', 'split1_test_score', 'split2_test_score', 'split3_test_score', 'split4_test_score', 'mean_test_score', 'std_test_score', 'rank_test_score'])\n"
     ]
    }
   ],
   "source": [
    "print(clf.cv_results_.keys())"
   ]
  },
  {
   "cell_type": "code",
   "execution_count": 91,
   "metadata": {},
   "outputs": [
    {
     "name": "stdout",
     "output_type": "stream",
     "text": [
      "[0.75641026 0.75641026        nan        nan 0.75641026 0.75641026\n",
      " 0.75641026        nan 0.75324675        nan]\n"
     ]
    }
   ],
   "source": [
    "print(clf.cv_results_['split0_test_score'])"
   ]
  },
  {
   "cell_type": "code",
   "execution_count": 92,
   "metadata": {},
   "outputs": [
    {
     "name": "stdout",
     "output_type": "stream",
     "text": [
      "[0.71111111 0.70652174        nan        nan 0.71111111 0.71111111\n",
      " 0.70652174        nan 0.71111111        nan]\n"
     ]
    }
   ],
   "source": [
    "print(clf.cv_results_['split1_test_score'])"
   ]
  },
  {
   "cell_type": "code",
   "execution_count": 93,
   "metadata": {},
   "outputs": [
    {
     "name": "stdout",
     "output_type": "stream",
     "text": [
      "[0.66292135 0.66292135        nan        nan 0.66292135 0.66292135\n",
      " 0.66292135        nan 0.66292135        nan]\n"
     ]
    }
   ],
   "source": [
    "print(clf.cv_results_['split2_test_score'])"
   ]
  },
  {
   "cell_type": "code",
   "execution_count": 94,
   "metadata": {},
   "outputs": [
    {
     "name": "stdout",
     "output_type": "stream",
     "text": [
      "[0.81428571 0.8028169         nan        nan 0.81428571 0.81428571\n",
      " 0.8028169         nan 0.8028169         nan]\n"
     ]
    }
   ],
   "source": [
    "print(clf.cv_results_['split3_test_score'])"
   ]
  },
  {
   "cell_type": "code",
   "execution_count": 95,
   "metadata": {},
   "outputs": [
    {
     "name": "stdout",
     "output_type": "stream",
     "text": [
      "[0.7260274  0.71621622        nan        nan 0.7260274  0.7260274\n",
      " 0.71621622        nan 0.71621622        nan]\n"
     ]
    }
   ],
   "source": [
    "print(clf.cv_results_['split4_test_score'])"
   ]
  },
  {
   "cell_type": "markdown",
   "metadata": {},
   "source": [
    "### RECALL"
   ]
  },
  {
   "cell_type": "code",
   "execution_count": 96,
   "metadata": {},
   "outputs": [
    {
     "name": "stdout",
     "output_type": "stream",
     "text": [
      "Best parameters set found on train set : \n",
      "{'solver': 'lbfgs', 'penalty': 'l2', 'C': 1000}\n",
      "LogisticRegression(C=1000)\n",
      "\n",
      "0.7917222963951935\n"
     ]
    }
   ],
   "source": [
    "tuned_parameters = [{'solver':['newton-cg','lbfgs','liblinear','sag','saga'], 'C':[1, 10, 100, 1000],\n",
    "                     'penalty':['l1','l2','elasticnet']}]\n",
    "\n",
    "clf = RandomizedSearchCV(LogisticRegression(), tuned_parameters, scoring = 'recall')\n",
    "\n",
    "clf.fit(X_train, y_train)\n",
    "\n",
    "print(\"Best parameters set found on train set : \")\n",
    "\n",
    "print(clf.best_params_)\n",
    "\n",
    "print(clf.best_estimator_)\n",
    "\n",
    "print()\n",
    "\n",
    "print(clf.score(X_test, y_test))"
   ]
  },
  {
   "cell_type": "code",
   "execution_count": 97,
   "metadata": {},
   "outputs": [
    {
     "name": "stdout",
     "output_type": "stream",
     "text": [
      "dict_keys(['mean_fit_time', 'std_fit_time', 'mean_score_time', 'std_score_time', 'param_solver', 'param_penalty', 'param_C', 'params', 'split0_test_score', 'split1_test_score', 'split2_test_score', 'split3_test_score', 'split4_test_score', 'mean_test_score', 'std_test_score', 'rank_test_score'])\n"
     ]
    }
   ],
   "source": [
    "print(clf.cv_results_.keys())"
   ]
  },
  {
   "cell_type": "code",
   "execution_count": 98,
   "metadata": {},
   "outputs": [
    {
     "name": "stdout",
     "output_type": "stream",
     "text": [
      "[       nan        nan        nan 0.78378378        nan 0.78378378\n",
      " 0.7972973  0.7972973  0.7972973  0.78378378]\n"
     ]
    }
   ],
   "source": [
    "print(clf.cv_results_['split0_test_score'])"
   ]
  },
  {
   "cell_type": "code",
   "execution_count": 99,
   "metadata": {},
   "outputs": [
    {
     "name": "stdout",
     "output_type": "stream",
     "text": [
      "[       nan        nan        nan 0.85333333        nan 0.85333333\n",
      " 0.85333333 0.86666667 0.86666667 0.85333333]\n"
     ]
    }
   ],
   "source": [
    "print(clf.cv_results_['split1_test_score'])"
   ]
  },
  {
   "cell_type": "code",
   "execution_count": 100,
   "metadata": {},
   "outputs": [
    {
     "name": "stdout",
     "output_type": "stream",
     "text": [
      "[      nan       nan       nan 0.7972973       nan 0.7972973 0.7972973\n",
      " 0.7972973 0.7972973 0.7972973]\n"
     ]
    }
   ],
   "source": [
    "print(clf.cv_results_['split2_test_score'])"
   ]
  },
  {
   "cell_type": "code",
   "execution_count": 101,
   "metadata": {},
   "outputs": [
    {
     "name": "stdout",
     "output_type": "stream",
     "text": [
      "[       nan        nan        nan 0.77027027        nan 0.77027027\n",
      " 0.77027027 0.77027027 0.77027027 0.77027027]\n"
     ]
    }
   ],
   "source": [
    "print(clf.cv_results_['split3_test_score'])"
   ]
  },
  {
   "cell_type": "code",
   "execution_count": 102,
   "metadata": {},
   "outputs": [
    {
     "name": "stdout",
     "output_type": "stream",
     "text": [
      "[       nan        nan        nan 0.71621622        nan 0.71621622\n",
      " 0.71621622 0.71621622 0.71621622 0.71621622]\n"
     ]
    }
   ],
   "source": [
    "print(clf.cv_results_['split4_test_score'])"
   ]
  },
  {
   "cell_type": "markdown",
   "metadata": {},
   "source": [
    "### F1 SCORE:"
   ]
  },
  {
   "cell_type": "code",
   "execution_count": 103,
   "metadata": {},
   "outputs": [
    {
     "name": "stdout",
     "output_type": "stream",
     "text": [
      "Best parameters set found on train set : \n",
      "{'solver': 'newton-cg', 'penalty': 'l2', 'C': 1000}\n",
      "LogisticRegression(C=1000, solver='newton-cg')\n",
      "\n",
      "0.7696301103179752\n"
     ]
    }
   ],
   "source": [
    "tuned_parameters = [{'solver':['newton-cg','lbfgs','liblinear','sag','saga'], 'C':[1, 10, 100, 1000],\n",
    "                     'penalty':['l1','l2','elasticnet']}]\n",
    "\n",
    "clf = RandomizedSearchCV(LogisticRegression(), tuned_parameters, scoring = 'f1')\n",
    "\n",
    "clf.fit(X_train, y_train)\n",
    "\n",
    "print(\"Best parameters set found on train set : \")\n",
    "\n",
    "print(clf.best_params_)\n",
    "\n",
    "print(clf.best_estimator_)\n",
    "\n",
    "print()\n",
    "\n",
    "print(clf.score(X_test, y_test))"
   ]
  },
  {
   "cell_type": "code",
   "execution_count": 104,
   "metadata": {},
   "outputs": [
    {
     "name": "stdout",
     "output_type": "stream",
     "text": [
      "dict_keys(['mean_fit_time', 'std_fit_time', 'mean_score_time', 'std_score_time', 'param_solver', 'param_penalty', 'param_C', 'params', 'split0_test_score', 'split1_test_score', 'split2_test_score', 'split3_test_score', 'split4_test_score', 'mean_test_score', 'std_test_score', 'rank_test_score'])\n"
     ]
    }
   ],
   "source": [
    "print(clf.cv_results_.keys())"
   ]
  },
  {
   "cell_type": "code",
   "execution_count": 105,
   "metadata": {},
   "outputs": [
    {
     "name": "stdout",
     "output_type": "stream",
     "text": [
      "[       nan 0.76821192        nan        nan        nan        nan\n",
      " 0.77631579        nan        nan        nan]\n"
     ]
    }
   ],
   "source": [
    "print(clf.cv_results_['split0_test_score'])"
   ]
  },
  {
   "cell_type": "code",
   "execution_count": 106,
   "metadata": {},
   "outputs": [
    {
     "name": "stdout",
     "output_type": "stream",
     "text": [
      "[       nan 0.77575758        nan        nan        nan        nan\n",
      " 0.77844311        nan        nan        nan]\n"
     ]
    }
   ],
   "source": [
    "print(clf.cv_results_['split1_test_score'])"
   ]
  },
  {
   "cell_type": "code",
   "execution_count": 107,
   "metadata": {},
   "outputs": [
    {
     "name": "stdout",
     "output_type": "stream",
     "text": [
      "[       nan 0.72392638        nan        nan        nan        nan\n",
      " 0.72392638        nan        nan        nan]\n"
     ]
    }
   ],
   "source": [
    "print(clf.cv_results_['split2_test_score'])"
   ]
  },
  {
   "cell_type": "code",
   "execution_count": 108,
   "metadata": {},
   "outputs": [
    {
     "name": "stdout",
     "output_type": "stream",
     "text": [
      "[      nan 0.7862069       nan       nan       nan       nan 0.7862069\n",
      "       nan       nan       nan]\n"
     ]
    }
   ],
   "source": [
    "print(clf.cv_results_['split3_test_score'])"
   ]
  },
  {
   "cell_type": "code",
   "execution_count": 109,
   "metadata": {},
   "outputs": [
    {
     "name": "stdout",
     "output_type": "stream",
     "text": [
      "[       nan 0.71621622        nan        nan        nan        nan\n",
      " 0.71621622        nan        nan        nan]\n"
     ]
    }
   ],
   "source": [
    "print(clf.cv_results_['split4_test_score'])"
   ]
  },
  {
   "cell_type": "markdown",
   "metadata": {},
   "source": [
    "### ROC-AUC "
   ]
  },
  {
   "cell_type": "code",
   "execution_count": 110,
   "metadata": {},
   "outputs": [
    {
     "name": "stdout",
     "output_type": "stream",
     "text": [
      "Best parameters set found on train set : \n",
      "{'solver': 'sag', 'penalty': 'l2', 'C': 1}\n",
      "LogisticRegression(C=1, solver='sag')\n",
      "\n",
      "0.8409963004926416\n"
     ]
    }
   ],
   "source": [
    "tuned_parameters = [{'solver':['newton-cg','lbfgs','liblinear','sag','saga'], 'C':[1, 10, 100, 1000],\n",
    "                     'penalty':['l1','l2','elasticnet']}]\n",
    "\n",
    "clf = RandomizedSearchCV(LogisticRegression(), tuned_parameters, scoring = 'roc_auc')\n",
    "\n",
    "clf.fit(X_train, y_train)\n",
    "\n",
    "print(\"Best parameters set found on train set : \")\n",
    "\n",
    "print(clf.best_params_)\n",
    "\n",
    "print(clf.best_estimator_)\n",
    "\n",
    "print()\n",
    "\n",
    "print(clf.score(X_test, y_test))"
   ]
  },
  {
   "cell_type": "code",
   "execution_count": 111,
   "metadata": {},
   "outputs": [
    {
     "name": "stdout",
     "output_type": "stream",
     "text": [
      "dict_keys(['mean_fit_time', 'std_fit_time', 'mean_score_time', 'std_score_time', 'param_solver', 'param_penalty', 'param_C', 'params', 'split0_test_score', 'split1_test_score', 'split2_test_score', 'split3_test_score', 'split4_test_score', 'mean_test_score', 'std_test_score', 'rank_test_score'])\n"
     ]
    }
   ],
   "source": [
    "print(clf.cv_results_.keys())"
   ]
  },
  {
   "cell_type": "code",
   "execution_count": 112,
   "metadata": {},
   "outputs": [
    {
     "name": "stdout",
     "output_type": "stream",
     "text": [
      "[       nan        nan 0.85010669        nan 0.8502845         nan\n",
      "        nan 0.85064011 0.85384068 0.8504623 ]\n"
     ]
    }
   ],
   "source": [
    "print(clf.cv_results_['split0_test_score'])"
   ]
  },
  {
   "cell_type": "code",
   "execution_count": 113,
   "metadata": {},
   "outputs": [
    {
     "name": "stdout",
     "output_type": "stream",
     "text": [
      "[       nan        nan 0.848             nan 0.8464            nan\n",
      "        nan 0.84675556 0.84817778 0.84693333]\n"
     ]
    }
   ],
   "source": [
    "print(clf.cv_results_['split1_test_score'])"
   ]
  },
  {
   "cell_type": "code",
   "execution_count": 114,
   "metadata": {},
   "outputs": [
    {
     "name": "stdout",
     "output_type": "stream",
     "text": [
      "[       nan        nan 0.82036036        nan 0.82162162        nan\n",
      "        nan 0.82108108 0.81801802 0.82054054]\n"
     ]
    }
   ],
   "source": [
    "print(clf.cv_results_['split2_test_score'])"
   ]
  },
  {
   "cell_type": "code",
   "execution_count": 115,
   "metadata": {},
   "outputs": [
    {
     "name": "stdout",
     "output_type": "stream",
     "text": [
      "[       nan        nan 0.87531532        nan 0.8754955         nan\n",
      "        nan 0.8754955  0.87513514 0.8754955 ]\n"
     ]
    }
   ],
   "source": [
    "print(clf.cv_results_['split3_test_score'])"
   ]
  },
  {
   "cell_type": "code",
   "execution_count": 116,
   "metadata": {},
   "outputs": [
    {
     "name": "stdout",
     "output_type": "stream",
     "text": [
      "[       nan        nan 0.77531532        nan 0.77459459        nan\n",
      "        nan 0.77585586 0.78072072 0.7754955 ]\n"
     ]
    }
   ],
   "source": [
    "print(clf.cv_results_['split4_test_score'])"
   ]
  },
  {
   "cell_type": "markdown",
   "metadata": {},
   "source": [
    "## For the Logistic Regression, The Hyperparameter Tuning Values are as follows:\n",
    "\n",
    "### GridSearchCV                                               \n",
    "\n",
    "    1. Accuracy: 0.7602808425275828                          \n",
    "    2. Confusion Matrix: array([[1096,  397],  [ 319, 1179]], dtype=int64)\n",
    "    3. Precision: 0.7479365079365079\n",
    "    4. Recall: 0.7903871829105474\n",
    "    5. F1-Score: 0.7666775138301334\n",
    "    6. ROC-AUC: 0.8413182300669704\n",
    "    \n",
    "### RandomizedSearchCV   \n",
    "\n",
    "    1. Accuracy: 0.7602808425275828\n",
    "    2. Confusion Matrix: array([[1096,  397],  [ 319, 1179]], dtype=int64)\n",
    "    3. Precision: 0.7479365079365079\n",
    "    4. Recall: 0.7917222963951935\n",
    "    5. F1-Score: 0.7696301103179752\n",
    "    6. ROC-AUC: 0.8409963004926416"
   ]
  },
  {
   "cell_type": "code",
   "execution_count": null,
   "metadata": {},
   "outputs": [],
   "source": []
  },
  {
   "cell_type": "markdown",
   "metadata": {},
   "source": [
    "### 2. KNN CLASSIFICATION: \n",
    "\n",
    "- K-Nearest Neighbors (KNN) is one of the simplest algorithms used in Machine Learning for regression and classification problem. \n",
    "- KNN algorithms use data and classify new data points based on similarity measures (e.g. distance function). \n",
    "- Classification is done by a majority vote to its neighbors."
   ]
  },
  {
   "cell_type": "markdown",
   "metadata": {},
   "source": [
    "### TRAINING THE MODEL"
   ]
  },
  {
   "cell_type": "code",
   "execution_count": 117,
   "metadata": {},
   "outputs": [
    {
     "data": {
      "text/plain": [
       "KNeighborsClassifier()"
      ]
     },
     "execution_count": 117,
     "metadata": {},
     "output_type": "execute_result"
    }
   ],
   "source": [
    "from sklearn.neighbors import KNeighborsClassifier\n",
    "classifier = KNeighborsClassifier()\n",
    "classifier.fit(X_train, y_train)"
   ]
  },
  {
   "cell_type": "markdown",
   "metadata": {},
   "source": [
    "### PREDICTING THE MODEL"
   ]
  },
  {
   "cell_type": "code",
   "execution_count": 118,
   "metadata": {},
   "outputs": [],
   "source": [
    "y_pred = classifier.predict(X_test)"
   ]
  },
  {
   "cell_type": "markdown",
   "metadata": {},
   "source": [
    "### EVALUATING THE MODEL USING HYPERPARAMETERS BY GRIDSEARCHCV\n",
    "\n",
    "### ACCURACY"
   ]
  },
  {
   "cell_type": "code",
   "execution_count": 119,
   "metadata": {},
   "outputs": [
    {
     "name": "stdout",
     "output_type": "stream",
     "text": [
      "Best parameters set found on train set : \n",
      "{'n_neighbors': 7, 'p': 3}\n",
      "KNeighborsClassifier(n_neighbors=7, p=3)\n",
      "\n",
      "0.7295218990304246\n"
     ]
    }
   ],
   "source": [
    "tuned_parameters = [{'n_neighbors' : [1, 2, 3, 4, 5, 6, 7], 'p' : [1, 2, 3, 4]}]\n",
    "\n",
    "clf = GridSearchCV(KNeighborsClassifier(), tuned_parameters, scoring = 'accuracy')\n",
    "\n",
    "clf.fit(X_train, y_train)\n",
    "\n",
    "print(\"Best parameters set found on train set : \")\n",
    "\n",
    "print(clf.best_params_)\n",
    "\n",
    "print(clf.best_estimator_)\n",
    "\n",
    "print()\n",
    "\n",
    "print(clf.score(X_test, y_test))"
   ]
  },
  {
   "cell_type": "code",
   "execution_count": 120,
   "metadata": {},
   "outputs": [
    {
     "name": "stdout",
     "output_type": "stream",
     "text": [
      "dict_keys(['mean_fit_time', 'std_fit_time', 'mean_score_time', 'std_score_time', 'param_n_neighbors', 'param_p', 'params', 'split0_test_score', 'split1_test_score', 'split2_test_score', 'split3_test_score', 'split4_test_score', 'mean_test_score', 'std_test_score', 'rank_test_score'])\n"
     ]
    }
   ],
   "source": [
    "print(clf.cv_results_.keys())"
   ]
  },
  {
   "cell_type": "code",
   "execution_count": 121,
   "metadata": {},
   "outputs": [
    {
     "name": "stdout",
     "output_type": "stream",
     "text": [
      "[0.72       0.72       0.72666667 0.72666667 0.66       0.67333333\n",
      " 0.65333333 0.68666667 0.77333333 0.77333333 0.75333333 0.76\n",
      " 0.76       0.74       0.74666667 0.74666667 0.73333333 0.75333333\n",
      " 0.74666667 0.74       0.72666667 0.74666667 0.74666667 0.74\n",
      " 0.73333333 0.74       0.76       0.76666667]\n"
     ]
    }
   ],
   "source": [
    "print(clf.cv_results_['split0_test_score'])"
   ]
  },
  {
   "cell_type": "code",
   "execution_count": 122,
   "metadata": {},
   "outputs": [
    {
     "name": "stdout",
     "output_type": "stream",
     "text": [
      "[0.68666667 0.67333333 0.68666667 0.69333333 0.7        0.72\n",
      " 0.70666667 0.68       0.75333333 0.72       0.69333333 0.7\n",
      " 0.75333333 0.75333333 0.74666667 0.73333333 0.73333333 0.74666667\n",
      " 0.76       0.75333333 0.74       0.76666667 0.76666667 0.77333333\n",
      " 0.75333333 0.76       0.75333333 0.75333333]\n"
     ]
    }
   ],
   "source": [
    "print(clf.cv_results_['split1_test_score'])"
   ]
  },
  {
   "cell_type": "code",
   "execution_count": 123,
   "metadata": {},
   "outputs": [
    {
     "name": "stdout",
     "output_type": "stream",
     "text": [
      "[0.70469799 0.69127517 0.68456376 0.70469799 0.68456376 0.65771812\n",
      " 0.67114094 0.67114094 0.65100671 0.66442953 0.6442953  0.6442953\n",
      " 0.65771812 0.65771812 0.65771812 0.65100671 0.66442953 0.63758389\n",
      " 0.63758389 0.65771812 0.65771812 0.65100671 0.6442953  0.65771812\n",
      " 0.66442953 0.67114094 0.68456376 0.67114094]\n"
     ]
    }
   ],
   "source": [
    "print(clf.cv_results_['split2_test_score'])"
   ]
  },
  {
   "cell_type": "code",
   "execution_count": 124,
   "metadata": {},
   "outputs": [
    {
     "name": "stdout",
     "output_type": "stream",
     "text": [
      "[0.70469799 0.70469799 0.67785235 0.67785235 0.67114094 0.67785235\n",
      " 0.67114094 0.6442953  0.68456376 0.69798658 0.69798658 0.72483221\n",
      " 0.72483221 0.69127517 0.69127517 0.7114094  0.73154362 0.73825503\n",
      " 0.7114094  0.73825503 0.72483221 0.73154362 0.72483221 0.73825503\n",
      " 0.73154362 0.7114094  0.76510067 0.75167785]\n"
     ]
    }
   ],
   "source": [
    "print(clf.cv_results_['split3_test_score'])"
   ]
  },
  {
   "cell_type": "code",
   "execution_count": 125,
   "metadata": {},
   "outputs": [
    {
     "name": "stdout",
     "output_type": "stream",
     "text": [
      "[0.6442953  0.6442953  0.65100671 0.65771812 0.61073826 0.60402685\n",
      " 0.60402685 0.61073826 0.66442953 0.65771812 0.67114094 0.69127517\n",
      " 0.67785235 0.68456376 0.69127517 0.70469799 0.69127517 0.69127517\n",
      " 0.68456376 0.68456376 0.69127517 0.65771812 0.67785235 0.69798658\n",
      " 0.67785235 0.68456376 0.68456376 0.70469799]\n"
     ]
    }
   ],
   "source": [
    "print(clf.cv_results_['split4_test_score'])"
   ]
  },
  {
   "cell_type": "markdown",
   "metadata": {},
   "source": [
    "### CONFUSION MATRIX"
   ]
  },
  {
   "cell_type": "code",
   "execution_count": 126,
   "metadata": {},
   "outputs": [],
   "source": [
    "from sklearn.metrics import confusion_matrix"
   ]
  },
  {
   "cell_type": "code",
   "execution_count": 127,
   "metadata": {},
   "outputs": [
    {
     "data": {
      "text/plain": [
       "array([[ 979,  514],\n",
       "       [ 332, 1166]], dtype=int64)"
      ]
     },
     "execution_count": 127,
     "metadata": {},
     "output_type": "execute_result"
    }
   ],
   "source": [
    "con_metric = metrics.confusion_matrix(y_test, y_pred)\n",
    "con_metric"
   ]
  },
  {
   "cell_type": "code",
   "execution_count": 128,
   "metadata": {},
   "outputs": [
    {
     "data": {
      "image/png": "[encoded data removed]",
      "text/plain": [
       "<Figure size 432x288 with 2 Axes>"
      ]
     },
     "metadata": {
      "needs_background": "light"
     },
     "output_type": "display_data"
    }
   ],
   "source": [
    "sns.heatmap(con_metric, annot = True, fmt = 'd')\n",
    "plt.title('Confusion Matrix')\n",
    "plt.show()"
   ]
  },
  {
   "cell_type": "markdown",
   "metadata": {},
   "source": [
    "### PRECISION"
   ]
  },
  {
   "cell_type": "code",
   "execution_count": 129,
   "metadata": {},
   "outputs": [
    {
     "name": "stdout",
     "output_type": "stream",
     "text": [
      "Best parameters set found on train set : \n",
      "{'n_neighbors': 2, 'p': 3}\n",
      "KNeighborsClassifier(n_neighbors=2, p=3)\n",
      "\n",
      "0.7140255009107468\n"
     ]
    }
   ],
   "source": [
    "tuned_parameters = [{'n_neighbors' : [1, 2, 3, 4, 5, 6, 7], 'p' : [1, 2, 3, 4]}]\n",
    "\n",
    "clf = GridSearchCV(KNeighborsClassifier(), tuned_parameters, scoring = 'precision')\n",
    "\n",
    "clf.fit(X_train, y_train)\n",
    "\n",
    "print(\"Best parameters set found on train set : \")\n",
    "\n",
    "print(clf.best_params_)\n",
    "\n",
    "print(clf.best_estimator_)\n",
    "\n",
    "print()\n",
    "\n",
    "print(clf.score(X_test, y_test))"
   ]
  },
  {
   "cell_type": "code",
   "execution_count": 130,
   "metadata": {},
   "outputs": [
    {
     "name": "stdout",
     "output_type": "stream",
     "text": [
      "dict_keys(['mean_fit_time', 'std_fit_time', 'mean_score_time', 'std_score_time', 'param_n_neighbors', 'param_p', 'params', 'split0_test_score', 'split1_test_score', 'split2_test_score', 'split3_test_score', 'split4_test_score', 'mean_test_score', 'std_test_score', 'rank_test_score'])\n"
     ]
    }
   ],
   "source": [
    "print(clf.cv_results_.keys())"
   ]
  },
  {
   "cell_type": "code",
   "execution_count": 131,
   "metadata": {},
   "outputs": [
    {
     "name": "stdout",
     "output_type": "stream",
     "text": [
      "[0.70512821 0.70512821 0.7037037  0.69879518 0.74468085 0.76595745\n",
      " 0.73913043 0.78723404 0.73809524 0.74390244 0.72839506 0.73170732\n",
      " 0.796875   0.77777778 0.81034483 0.79032258 0.70238095 0.71264368\n",
      " 0.71428571 0.71604938 0.7260274  0.73684211 0.73684211 0.73333333\n",
      " 0.69318182 0.70588235 0.72619048 0.72941176]\n"
     ]
    }
   ],
   "source": [
    "print(clf.cv_results_['split0_test_score'])"
   ]
  },
  {
   "cell_type": "code",
   "execution_count": 132,
   "metadata": {},
   "outputs": [
    {
     "name": "stdout",
     "output_type": "stream",
     "text": [
      "[0.6627907  0.64772727 0.65909091 0.66292135 0.75       0.7704918\n",
      " 0.76271186 0.74545455 0.70652174 0.67741935 0.65591398 0.66666667\n",
      " 0.75675676 0.77142857 0.76056338 0.75362319 0.69230769 0.70786517\n",
      " 0.72941176 0.71111111 0.725      0.73809524 0.75       0.75949367\n",
      " 0.71111111 0.70967742 0.70652174 0.71111111]\n"
     ]
    }
   ],
   "source": [
    "print(clf.cv_results_['split1_test_score'])"
   ]
  },
  {
   "cell_type": "code",
   "execution_count": 133,
   "metadata": {},
   "outputs": [
    {
     "name": "stdout",
     "output_type": "stream",
     "text": [
      "[0.68292683 0.66666667 0.65882353 0.68292683 0.72131148 0.69491525\n",
      " 0.72727273 0.72727273 0.62222222 0.63636364 0.61538462 0.61797753\n",
      " 0.64935065 0.64935065 0.65333333 0.65277778 0.62       0.60869565\n",
      " 0.61111111 0.63218391 0.63529412 0.63095238 0.62068966 0.63529412\n",
      " 0.62244898 0.63157895 0.64516129 0.63736264]\n"
     ]
    }
   ],
   "source": [
    "print(clf.cv_results_['split2_test_score'])"
   ]
  },
  {
   "cell_type": "code",
   "execution_count": 134,
   "metadata": {},
   "outputs": [
    {
     "name": "stdout",
     "output_type": "stream",
     "text": [
      "[0.734375   0.734375   0.6969697  0.6969697  0.82051282 0.86111111\n",
      " 0.87878788 0.81818182 0.69565217 0.72307692 0.72307692 0.73239437\n",
      " 0.8        0.76923077 0.76923077 0.79245283 0.73611111 0.73972603\n",
      " 0.71830986 0.75362319 0.76190476 0.75757576 0.75384615 0.76923077\n",
      " 0.74285714 0.71830986 0.76       0.74025974]\n"
     ]
    }
   ],
   "source": [
    "print(clf.cv_results_['split3_test_score'])"
   ]
  },
  {
   "cell_type": "code",
   "execution_count": 135,
   "metadata": {},
   "outputs": [
    {
     "name": "stdout",
     "output_type": "stream",
     "text": [
      "[0.63636364 0.63636364 0.64473684 0.65333333 0.64814815 0.64150943\n",
      " 0.64705882 0.66666667 0.66216216 0.64197531 0.65822785 0.67073171\n",
      " 0.6969697  0.70149254 0.71875    0.7027027  0.66666667 0.66666667\n",
      " 0.6626506  0.65517241 0.68421053 0.65333333 0.67105263 0.69333333\n",
      " 0.65116279 0.65517241 0.65882353 0.67045455]\n"
     ]
    }
   ],
   "source": [
    "print(clf.cv_results_['split4_test_score'])"
   ]
  },
  {
   "cell_type": "markdown",
   "metadata": {},
   "source": [
    "### RECALL"
   ]
  },
  {
   "cell_type": "code",
   "execution_count": 136,
   "metadata": {},
   "outputs": [
    {
     "name": "stdout",
     "output_type": "stream",
     "text": [
      "Best parameters set found on train set : \n",
      "{'n_neighbors': 7, 'p': 4}\n",
      "KNeighborsClassifier(n_neighbors=7, p=4)\n",
      "\n",
      "0.7950600801068091\n"
     ]
    }
   ],
   "source": [
    "tuned_parameters = [{'n_neighbors' : [1, 2, 3, 4, 5, 6, 7], 'p' : [1, 2, 3, 4]}]\n",
    "\n",
    "clf = GridSearchCV(KNeighborsClassifier(), tuned_parameters, scoring = 'recall')\n",
    "\n",
    "clf.fit(X_train, y_train)\n",
    "\n",
    "print(\"Best parameters set found on train set : \")\n",
    "\n",
    "print(clf.best_params_)\n",
    "\n",
    "print(clf.best_estimator_)\n",
    "\n",
    "print()\n",
    "\n",
    "print(clf.score(X_test, y_test))"
   ]
  },
  {
   "cell_type": "code",
   "execution_count": 137,
   "metadata": {},
   "outputs": [
    {
     "name": "stdout",
     "output_type": "stream",
     "text": [
      "dict_keys(['mean_fit_time', 'std_fit_time', 'mean_score_time', 'std_score_time', 'param_n_neighbors', 'param_p', 'params', 'split0_test_score', 'split1_test_score', 'split2_test_score', 'split3_test_score', 'split4_test_score', 'mean_test_score', 'std_test_score', 'rank_test_score'])\n"
     ]
    }
   ],
   "source": [
    "print(clf.cv_results_.keys())"
   ]
  },
  {
   "cell_type": "code",
   "execution_count": 138,
   "metadata": {},
   "outputs": [
    {
     "name": "stdout",
     "output_type": "stream",
     "text": [
      "[0.74324324 0.74324324 0.77027027 0.78378378 0.47297297 0.48648649\n",
      " 0.45945946 0.5        0.83783784 0.82432432 0.7972973  0.81081081\n",
      " 0.68918919 0.66216216 0.63513514 0.66216216 0.7972973  0.83783784\n",
      " 0.81081081 0.78378378 0.71621622 0.75675676 0.75675676 0.74324324\n",
      " 0.82432432 0.81081081 0.82432432 0.83783784]\n"
     ]
    }
   ],
   "source": [
    "print(clf.cv_results_['split0_test_score'])"
   ]
  },
  {
   "cell_type": "code",
   "execution_count": 139,
   "metadata": {},
   "outputs": [
    {
     "name": "stdout",
     "output_type": "stream",
     "text": [
      "[0.76       0.76       0.77333333 0.78666667 0.6        0.62666667\n",
      " 0.6        0.54666667 0.86666667 0.84       0.81333333 0.8\n",
      " 0.74666667 0.72       0.72       0.69333333 0.84       0.84\n",
      " 0.82666667 0.85333333 0.77333333 0.82666667 0.8        0.8\n",
      " 0.85333333 0.88       0.86666667 0.85333333]\n"
     ]
    }
   ],
   "source": [
    "print(clf.cv_results_['split1_test_score'])"
   ]
  },
  {
   "cell_type": "code",
   "execution_count": 140,
   "metadata": {},
   "outputs": [
    {
     "name": "stdout",
     "output_type": "stream",
     "text": [
      "[0.75675676 0.75675676 0.75675676 0.75675676 0.59459459 0.55405405\n",
      " 0.54054054 0.54054054 0.75675676 0.75675676 0.75675676 0.74324324\n",
      " 0.67567568 0.67567568 0.66216216 0.63513514 0.83783784 0.75675676\n",
      " 0.74324324 0.74324324 0.72972973 0.71621622 0.72972973 0.72972973\n",
      " 0.82432432 0.81081081 0.81081081 0.78378378]\n"
     ]
    }
   ],
   "source": [
    "print(clf.cv_results_['split2_test_score'])"
   ]
  },
  {
   "cell_type": "code",
   "execution_count": 141,
   "metadata": {},
   "outputs": [
    {
     "name": "stdout",
     "output_type": "stream",
     "text": [
      "[0.63513514 0.63513514 0.62162162 0.62162162 0.43243243 0.41891892\n",
      " 0.39189189 0.36486486 0.64864865 0.63513514 0.63513514 0.7027027\n",
      " 0.59459459 0.54054054 0.54054054 0.56756757 0.71621622 0.72972973\n",
      " 0.68918919 0.7027027  0.64864865 0.67567568 0.66216216 0.67567568\n",
      " 0.7027027  0.68918919 0.77027027 0.77027027]\n"
     ]
    }
   ],
   "source": [
    "print(clf.cv_results_['split3_test_score'])"
   ]
  },
  {
   "cell_type": "code",
   "execution_count": 142,
   "metadata": {},
   "outputs": [
    {
     "name": "stdout",
     "output_type": "stream",
     "text": [
      "[0.66216216 0.66216216 0.66216216 0.66216216 0.47297297 0.45945946\n",
      " 0.44594595 0.43243243 0.66216216 0.7027027  0.7027027  0.74324324\n",
      " 0.62162162 0.63513514 0.62162162 0.7027027  0.75675676 0.75675676\n",
      " 0.74324324 0.77027027 0.7027027  0.66216216 0.68918919 0.7027027\n",
      " 0.75675676 0.77027027 0.75675676 0.7972973 ]\n"
     ]
    }
   ],
   "source": [
    "print(clf.cv_results_['split4_test_score'])"
   ]
  },
  {
   "cell_type": "markdown",
   "metadata": {},
   "source": [
    "### F1-SCORE "
   ]
  },
  {
   "cell_type": "code",
   "execution_count": 143,
   "metadata": {},
   "outputs": [
    {
     "name": "stdout",
     "output_type": "stream",
     "text": [
      "Best parameters set found on train set : \n",
      "{'n_neighbors': 7, 'p': 4}\n",
      "KNeighborsClassifier(n_neighbors=7, p=4)\n",
      "\n",
      "0.7481155778894472\n"
     ]
    }
   ],
   "source": [
    "tuned_parameters = [{'n_neighbors' : [1, 2, 3, 4, 5, 6, 7], 'p' : [1, 2, 3, 4]}]\n",
    "\n",
    "clf = GridSearchCV(KNeighborsClassifier(), tuned_parameters, scoring = 'f1')\n",
    "\n",
    "clf.fit(X_train, y_train)\n",
    "\n",
    "print(\"Best parameters set found on train set : \")\n",
    "\n",
    "print(clf.best_params_)\n",
    "\n",
    "print(clf.best_estimator_)\n",
    "\n",
    "print()\n",
    "\n",
    "print(clf.score(X_test, y_test))"
   ]
  },
  {
   "cell_type": "code",
   "execution_count": 144,
   "metadata": {},
   "outputs": [
    {
     "name": "stdout",
     "output_type": "stream",
     "text": [
      "dict_keys(['mean_fit_time', 'std_fit_time', 'mean_score_time', 'std_score_time', 'param_n_neighbors', 'param_p', 'params', 'split0_test_score', 'split1_test_score', 'split2_test_score', 'split3_test_score', 'split4_test_score', 'mean_test_score', 'std_test_score', 'rank_test_score'])\n"
     ]
    }
   ],
   "source": [
    "print(clf.cv_results_.keys())"
   ]
  },
  {
   "cell_type": "code",
   "execution_count": 145,
   "metadata": {},
   "outputs": [
    {
     "name": "stdout",
     "output_type": "stream",
     "text": [
      "[0.72368421 0.72368421 0.73548387 0.7388535  0.5785124  0.59504132\n",
      " 0.56666667 0.61157025 0.78481013 0.78205128 0.76129032 0.76923077\n",
      " 0.73913043 0.71532847 0.71212121 0.72058824 0.74683544 0.77018634\n",
      " 0.75949367 0.7483871  0.72108844 0.74666667 0.74666667 0.73825503\n",
      " 0.75308642 0.75471698 0.7721519  0.77987421]\n"
     ]
    }
   ],
   "source": [
    "print(clf.cv_results_['split0_test_score'])"
   ]
  },
  {
   "cell_type": "code",
   "execution_count": 146,
   "metadata": {},
   "outputs": [
    {
     "name": "stdout",
     "output_type": "stream",
     "text": [
      "[0.70807453 0.6993865  0.71165644 0.7195122  0.66666667 0.69117647\n",
      " 0.67164179 0.63076923 0.77844311 0.75       0.72619048 0.72727273\n",
      " 0.75167785 0.74482759 0.73972603 0.72222222 0.75903614 0.76829268\n",
      " 0.775      0.77575758 0.7483871  0.77987421 0.77419355 0.77922078\n",
      " 0.77575758 0.78571429 0.77844311 0.77575758]\n"
     ]
    }
   ],
   "source": [
    "print(clf.cv_results_['split1_test_score'])"
   ]
  },
  {
   "cell_type": "code",
   "execution_count": 147,
   "metadata": {},
   "outputs": [
    {
     "name": "stdout",
     "output_type": "stream",
     "text": [
      "[0.71794872 0.70886076 0.70440252 0.71794872 0.65185185 0.61654135\n",
      " 0.62015504 0.62015504 0.68292683 0.69135802 0.67878788 0.67484663\n",
      " 0.66225166 0.66225166 0.65771812 0.64383562 0.71264368 0.6746988\n",
      " 0.67073171 0.68322981 0.67924528 0.67088608 0.67080745 0.67924528\n",
      " 0.70930233 0.71005917 0.71856287 0.7030303 ]\n"
     ]
    }
   ],
   "source": [
    "print(clf.cv_results_['split2_test_score'])"
   ]
  },
  {
   "cell_type": "code",
   "execution_count": 148,
   "metadata": {},
   "outputs": [
    {
     "name": "stdout",
     "output_type": "stream",
     "text": [
      "[0.68115942 0.68115942 0.65714286 0.65714286 0.56637168 0.56363636\n",
      " 0.54205607 0.5046729  0.67132867 0.67625899 0.67625899 0.71724138\n",
      " 0.68217054 0.63492063 0.63492063 0.66141732 0.7260274  0.73469388\n",
      " 0.70344828 0.72727273 0.70072993 0.71428571 0.70503597 0.71942446\n",
      " 0.72222222 0.70344828 0.76510067 0.75496689]\n"
     ]
    }
   ],
   "source": [
    "print(clf.cv_results_['split3_test_score'])"
   ]
  },
  {
   "cell_type": "code",
   "execution_count": 149,
   "metadata": {},
   "outputs": [
    {
     "name": "stdout",
     "output_type": "stream",
     "text": [
      "[0.64900662 0.64900662 0.65333333 0.65771812 0.546875   0.53543307\n",
      " 0.528      0.52459016 0.66216216 0.67096774 0.67973856 0.70512821\n",
      " 0.65714286 0.66666667 0.66666667 0.7027027  0.70886076 0.70886076\n",
      " 0.70063694 0.70807453 0.69333333 0.65771812 0.68       0.69798658\n",
      " 0.7        0.70807453 0.70440252 0.72839506]\n"
     ]
    }
   ],
   "source": [
    "print(clf.cv_results_['split4_test_score'])"
   ]
  },
  {
   "cell_type": "markdown",
   "metadata": {},
   "source": [
    "### ROC-AUC"
   ]
  },
  {
   "cell_type": "code",
   "execution_count": 150,
   "metadata": {},
   "outputs": [
    {
     "name": "stdout",
     "output_type": "stream",
     "text": [
      "Best parameters set found on train set : \n",
      "{'n_neighbors': 7, 'p': 3}\n",
      "KNeighborsClassifier(n_neighbors=7, p=3)\n",
      "\n",
      "0.7944249398841232\n"
     ]
    }
   ],
   "source": [
    "tuned_parameters = [{'n_neighbors' : [1, 2, 3, 4, 5, 6, 7], 'p' : [1, 2, 3, 4]}]\n",
    "\n",
    "clf = GridSearchCV(KNeighborsClassifier(), tuned_parameters, scoring = 'roc_auc')\n",
    "\n",
    "clf.fit(X_train, y_train)\n",
    "\n",
    "print(\"Best parameters set found on train set : \")\n",
    "\n",
    "print(clf.best_params_)\n",
    "\n",
    "print(clf.best_estimator_)\n",
    "\n",
    "print()\n",
    "\n",
    "print(clf.score(X_test, y_test))"
   ]
  },
  {
   "cell_type": "code",
   "execution_count": 151,
   "metadata": {},
   "outputs": [
    {
     "name": "stdout",
     "output_type": "stream",
     "text": [
      "dict_keys(['mean_fit_time', 'std_fit_time', 'mean_score_time', 'std_score_time', 'param_n_neighbors', 'param_p', 'params', 'split0_test_score', 'split1_test_score', 'split2_test_score', 'split3_test_score', 'split4_test_score', 'mean_test_score', 'std_test_score', 'rank_test_score'])\n"
     ]
    }
   ],
   "source": [
    "print(clf.cv_results_.keys())"
   ]
  },
  {
   "cell_type": "code",
   "execution_count": 152,
   "metadata": {},
   "outputs": [
    {
     "name": "stdout",
     "output_type": "stream",
     "text": [
      "[0.72030583 0.72030583 0.7272404  0.72741821 0.75071124 0.76653627\n",
      " 0.76742532 0.79116287 0.77578236 0.77391536 0.76795875 0.78289474\n",
      " 0.78822902 0.78627312 0.80005334 0.80280939 0.78938478 0.79774182\n",
      " 0.8086771  0.81196657 0.79640825 0.80885491 0.81027738 0.80458748\n",
      " 0.79943101 0.80325391 0.80778805 0.79649716]\n"
     ]
    }
   ],
   "source": [
    "print(clf.cv_results_['split0_test_score'])"
   ]
  },
  {
   "cell_type": "code",
   "execution_count": 153,
   "metadata": {},
   "outputs": [
    {
     "name": "stdout",
     "output_type": "stream",
     "text": [
      "[0.68666667 0.67333333 0.68666667 0.69333333 0.75066667 0.74248889\n",
      " 0.74862222 0.72426667 0.77928889 0.76613333 0.74746667 0.752\n",
      " 0.79137778 0.78453333 0.77715556 0.78106667 0.78844444 0.80195556\n",
      " 0.80702222 0.79662222 0.82231111 0.81262222 0.81822222 0.81431111\n",
      " 0.83102222 0.81671111 0.82346667 0.81413333]\n"
     ]
    }
   ],
   "source": [
    "print(clf.cv_results_['split1_test_score'])"
   ]
  },
  {
   "cell_type": "code",
   "execution_count": 154,
   "metadata": {},
   "outputs": [
    {
     "name": "stdout",
     "output_type": "stream",
     "text": [
      "[0.70504505 0.69171171 0.68504505 0.70504505 0.73387387 0.70810811\n",
      " 0.71585586 0.71585586 0.72855856 0.71045045 0.71081081 0.68837838\n",
      " 0.73918919 0.72405405 0.70720721 0.69099099 0.73828829 0.72846847\n",
      " 0.72855856 0.70198198 0.73648649 0.72693694 0.72558559 0.72918919\n",
      " 0.73990991 0.75       0.7518018  0.7518018 ]\n"
     ]
    }
   ],
   "source": [
    "print(clf.cv_results_['split2_test_score'])"
   ]
  },
  {
   "cell_type": "code",
   "execution_count": 155,
   "metadata": {},
   "outputs": [
    {
     "name": "stdout",
     "output_type": "stream",
     "text": [
      "[0.70423423 0.70423423 0.67747748 0.67747748 0.76432432 0.75783784\n",
      " 0.78432432 0.79144144 0.76756757 0.78324324 0.7781982  0.8018018\n",
      " 0.79495495 0.79855856 0.80585586 0.80675676 0.80351351 0.80900901\n",
      " 0.80693694 0.81225225 0.80855856 0.82234234 0.83378378 0.84036036\n",
      " 0.81351351 0.82459459 0.85135135 0.84558559]\n"
     ]
    }
   ],
   "source": [
    "print(clf.cv_results_['split3_test_score'])"
   ]
  },
  {
   "cell_type": "code",
   "execution_count": 156,
   "metadata": {},
   "outputs": [
    {
     "name": "stdout",
     "output_type": "stream",
     "text": [
      "[0.64441441 0.64441441 0.65108108 0.65774775 0.6909009  0.68234234\n",
      " 0.69342342 0.69792793 0.71495495 0.70837838 0.72234234 0.73\n",
      " 0.72540541 0.72513514 0.72954955 0.7372973  0.73261261 0.72261261\n",
      " 0.73441441 0.74603604 0.73306306 0.71927928 0.73522523 0.74009009\n",
      " 0.72783784 0.7172973  0.73117117 0.73981982]\n"
     ]
    }
   ],
   "source": [
    "print(clf.cv_results_['split4_test_score'])"
   ]
  },
  {
   "cell_type": "markdown",
   "metadata": {},
   "source": [
    "### EVALUATING THE MODEL USING HYPERPARAMETERS BY RANDOMIZEDSEARCHCV\n",
    "\n",
    "### ACCURACY"
   ]
  },
  {
   "cell_type": "code",
   "execution_count": 157,
   "metadata": {},
   "outputs": [
    {
     "name": "stdout",
     "output_type": "stream",
     "text": [
      "Best parameters set found on train set : \n",
      "{'p': 1, 'n_neighbors': 4}\n",
      "KNeighborsClassifier(n_neighbors=4, p=1)\n",
      "\n",
      "0.7091273821464393\n"
     ]
    }
   ],
   "source": [
    "tuned_parameters = [{'n_neighbors' : [1, 2, 3, 4, 5, 6, 7], 'p' : [1, 2, 3, 4]}]\n",
    "\n",
    "clf = RandomizedSearchCV(KNeighborsClassifier(), tuned_parameters, scoring = 'accuracy')\n",
    "\n",
    "clf.fit(X_train, y_train)\n",
    "\n",
    "print(\"Best parameters set found on train set : \")\n",
    "\n",
    "print(clf.best_params_)\n",
    "\n",
    "print(clf.best_estimator_)\n",
    "\n",
    "print()\n",
    "\n",
    "print(clf.score(X_test, y_test))"
   ]
  },
  {
   "cell_type": "code",
   "execution_count": 158,
   "metadata": {},
   "outputs": [
    {
     "name": "stdout",
     "output_type": "stream",
     "text": [
      "dict_keys(['mean_fit_time', 'std_fit_time', 'mean_score_time', 'std_score_time', 'param_p', 'param_n_neighbors', 'params', 'split0_test_score', 'split1_test_score', 'split2_test_score', 'split3_test_score', 'split4_test_score', 'mean_test_score', 'std_test_score', 'rank_test_score'])\n"
     ]
    }
   ],
   "source": [
    "print(clf.cv_results_.keys())"
   ]
  },
  {
   "cell_type": "code",
   "execution_count": 159,
   "metadata": {},
   "outputs": [
    {
     "name": "stdout",
     "output_type": "stream",
     "text": [
      "[0.77333333 0.74666667 0.74666667 0.72666667 0.73333333 0.66\n",
      " 0.77333333 0.67333333 0.75333333 0.76      ]\n"
     ]
    }
   ],
   "source": [
    "print(clf.cv_results_['split0_test_score'])"
   ]
  },
  {
   "cell_type": "code",
   "execution_count": 160,
   "metadata": {},
   "outputs": [
    {
     "name": "stdout",
     "output_type": "stream",
     "text": [
      "[0.75333333 0.74666667 0.73333333 0.68666667 0.75333333 0.7\n",
      " 0.72       0.72       0.69333333 0.75333333]\n"
     ]
    }
   ],
   "source": [
    "print(clf.cv_results_['split1_test_score'])"
   ]
  },
  {
   "cell_type": "code",
   "execution_count": 161,
   "metadata": {},
   "outputs": [
    {
     "name": "stdout",
     "output_type": "stream",
     "text": [
      "[0.65100671 0.65771812 0.65100671 0.68456376 0.66442953 0.68456376\n",
      " 0.66442953 0.65771812 0.6442953  0.65771812]\n"
     ]
    }
   ],
   "source": [
    "print(clf.cv_results_['split2_test_score'])"
   ]
  },
  {
   "cell_type": "code",
   "execution_count": 162,
   "metadata": {},
   "outputs": [
    {
     "name": "stdout",
     "output_type": "stream",
     "text": [
      "[0.68456376 0.69127517 0.7114094  0.67785235 0.73154362 0.67114094\n",
      " 0.69798658 0.67785235 0.69798658 0.72483221]\n"
     ]
    }
   ],
   "source": [
    "print(clf.cv_results_['split3_test_score'])"
   ]
  },
  {
   "cell_type": "code",
   "execution_count": 163,
   "metadata": {},
   "outputs": [
    {
     "name": "stdout",
     "output_type": "stream",
     "text": [
      "[0.66442953 0.69127517 0.70469799 0.65100671 0.67785235 0.61073826\n",
      " 0.65771812 0.60402685 0.67114094 0.67785235]\n"
     ]
    }
   ],
   "source": [
    "print(clf.cv_results_['split4_test_score'])"
   ]
  },
  {
   "cell_type": "markdown",
   "metadata": {},
   "source": [
    "### CONFUSION MATRIX"
   ]
  },
  {
   "cell_type": "code",
   "execution_count": 164,
   "metadata": {},
   "outputs": [],
   "source": [
    "from sklearn.metrics import confusion_matrix"
   ]
  },
  {
   "cell_type": "code",
   "execution_count": 165,
   "metadata": {},
   "outputs": [
    {
     "data": {
      "text/plain": [
       "array([[ 979,  514],\n",
       "       [ 332, 1166]], dtype=int64)"
      ]
     },
     "execution_count": 165,
     "metadata": {},
     "output_type": "execute_result"
    }
   ],
   "source": [
    "con_metric = metrics.confusion_matrix(y_test, y_pred)\n",
    "con_metric"
   ]
  },
  {
   "cell_type": "code",
   "execution_count": 166,
   "metadata": {},
   "outputs": [
    {
     "data": {
      "image/png": "[encoded data removed]",
      "text/plain": [
       "<Figure size 432x288 with 2 Axes>"
      ]
     },
     "metadata": {
      "needs_background": "light"
     },
     "output_type": "display_data"
    }
   ],
   "source": [
    "sns.heatmap(con_metric, annot = True, fmt = 'd')\n",
    "plt.title('Confusion Matrix')\n",
    "plt.show()"
   ]
  },
  {
   "cell_type": "markdown",
   "metadata": {},
   "source": [
    "### PRECISION"
   ]
  },
  {
   "cell_type": "code",
   "execution_count": 167,
   "metadata": {},
   "outputs": [
    {
     "name": "stdout",
     "output_type": "stream",
     "text": [
      "Best parameters set found on train set : \n",
      "{'p': 2, 'n_neighbors': 2}\n",
      "KNeighborsClassifier(n_neighbors=2)\n",
      "\n",
      "0.7214484679665738\n"
     ]
    }
   ],
   "source": [
    "tuned_parameters = [{'n_neighbors' : [1, 2, 3, 4, 5, 6, 7], 'p' : [1, 2, 3, 4]}]\n",
    "\n",
    "clf = RandomizedSearchCV(KNeighborsClassifier(), tuned_parameters, scoring = 'precision')\n",
    "\n",
    "clf.fit(X_train, y_train)\n",
    "\n",
    "print(\"Best parameters set found on train set : \")\n",
    "\n",
    "print(clf.best_params_)\n",
    "\n",
    "print(clf.best_estimator_)\n",
    "\n",
    "print()\n",
    "\n",
    "print(clf.score(X_test, y_test))"
   ]
  },
  {
   "cell_type": "code",
   "execution_count": 168,
   "metadata": {},
   "outputs": [
    {
     "name": "stdout",
     "output_type": "stream",
     "text": [
      "dict_keys(['mean_fit_time', 'std_fit_time', 'mean_score_time', 'std_score_time', 'param_p', 'param_n_neighbors', 'params', 'split0_test_score', 'split1_test_score', 'split2_test_score', 'split3_test_score', 'split4_test_score', 'mean_test_score', 'std_test_score', 'rank_test_score'])\n"
     ]
    }
   ],
   "source": [
    "print(clf.cv_results_.keys())"
   ]
  },
  {
   "cell_type": "code",
   "execution_count": 169,
   "metadata": {},
   "outputs": [
    {
     "name": "stdout",
     "output_type": "stream",
     "text": [
      "[0.73170732 0.76595745 0.69879518 0.81034483 0.72941176 0.70588235\n",
      " 0.71428571 0.73809524 0.72619048 0.72839506]\n"
     ]
    }
   ],
   "source": [
    "print(clf.cv_results_['split0_test_score'])"
   ]
  },
  {
   "cell_type": "code",
   "execution_count": 170,
   "metadata": {},
   "outputs": [
    {
     "name": "stdout",
     "output_type": "stream",
     "text": [
      "[0.66666667 0.7704918  0.66292135 0.76056338 0.71111111 0.70967742\n",
      " 0.72941176 0.70652174 0.70652174 0.65591398]\n"
     ]
    }
   ],
   "source": [
    "print(clf.cv_results_['split1_test_score'])"
   ]
  },
  {
   "cell_type": "code",
   "execution_count": 171,
   "metadata": {},
   "outputs": [
    {
     "name": "stdout",
     "output_type": "stream",
     "text": [
      "[0.61797753 0.69491525 0.68292683 0.65333333 0.63736264 0.63157895\n",
      " 0.61111111 0.62222222 0.64516129 0.61538462]\n"
     ]
    }
   ],
   "source": [
    "print(clf.cv_results_['split2_test_score'])"
   ]
  },
  {
   "cell_type": "code",
   "execution_count": 172,
   "metadata": {},
   "outputs": [
    {
     "name": "stdout",
     "output_type": "stream",
     "text": [
      "[0.73239437 0.86111111 0.6969697  0.76923077 0.74025974 0.71830986\n",
      " 0.71830986 0.69565217 0.76       0.72307692]\n"
     ]
    }
   ],
   "source": [
    "print(clf.cv_results_['split3_test_score'])"
   ]
  },
  {
   "cell_type": "code",
   "execution_count": 173,
   "metadata": {},
   "outputs": [
    {
     "name": "stdout",
     "output_type": "stream",
     "text": [
      "[0.67073171 0.64150943 0.65333333 0.71875    0.67045455 0.65517241\n",
      " 0.6626506  0.66216216 0.65882353 0.65822785]\n"
     ]
    }
   ],
   "source": [
    "print(clf.cv_results_['split4_test_score'])"
   ]
  },
  {
   "cell_type": "markdown",
   "metadata": {},
   "source": [
    "### RECALL"
   ]
  },
  {
   "cell_type": "code",
   "execution_count": 174,
   "metadata": {},
   "outputs": [
    {
     "name": "stdout",
     "output_type": "stream",
     "text": [
      "Best parameters set found on train set : \n",
      "{'p': 1, 'n_neighbors': 5}\n",
      "KNeighborsClassifier(p=1)\n",
      "\n",
      "0.7696929238985314\n"
     ]
    }
   ],
   "source": [
    "tuned_parameters = [{'n_neighbors' : [1, 2, 3, 4, 5, 6, 7], 'p' : [1, 2, 3, 4]}]\n",
    "\n",
    "clf = RandomizedSearchCV(KNeighborsClassifier(), tuned_parameters, scoring = 'recall')\n",
    "\n",
    "clf.fit(X_train, y_train)\n",
    "\n",
    "print(\"Best parameters set found on train set : \")\n",
    "\n",
    "print(clf.best_params_)\n",
    "\n",
    "print(clf.best_estimator_)\n",
    "\n",
    "print()\n",
    "\n",
    "print(clf.score(X_test, y_test))"
   ]
  },
  {
   "cell_type": "code",
   "execution_count": 175,
   "metadata": {},
   "outputs": [
    {
     "name": "stdout",
     "output_type": "stream",
     "text": [
      "dict_keys(['mean_fit_time', 'std_fit_time', 'mean_score_time', 'std_score_time', 'param_p', 'param_n_neighbors', 'params', 'split0_test_score', 'split1_test_score', 'split2_test_score', 'split3_test_score', 'split4_test_score', 'mean_test_score', 'std_test_score', 'rank_test_score'])\n"
     ]
    }
   ],
   "source": [
    "print(clf.cv_results_.keys())"
   ]
  },
  {
   "cell_type": "code",
   "execution_count": 176,
   "metadata": {},
   "outputs": [
    {
     "name": "stdout",
     "output_type": "stream",
     "text": [
      "[0.74324324 0.48648649 0.7972973  0.75675676 0.83783784 0.63513514\n",
      " 0.66216216 0.5        0.78378378 0.77027027]\n"
     ]
    }
   ],
   "source": [
    "print(clf.cv_results_['split0_test_score'])"
   ]
  },
  {
   "cell_type": "code",
   "execution_count": 177,
   "metadata": {},
   "outputs": [
    {
     "name": "stdout",
     "output_type": "stream",
     "text": [
      "[0.76       0.62666667 0.84       0.8        0.86666667 0.72\n",
      " 0.72       0.54666667 0.78666667 0.77333333]\n"
     ]
    }
   ],
   "source": [
    "print(clf.cv_results_['split1_test_score'])"
   ]
  },
  {
   "cell_type": "code",
   "execution_count": 178,
   "metadata": {},
   "outputs": [
    {
     "name": "stdout",
     "output_type": "stream",
     "text": [
      "[0.75675676 0.55405405 0.83783784 0.72972973 0.75675676 0.66216216\n",
      " 0.67567568 0.54054054 0.75675676 0.75675676]\n"
     ]
    }
   ],
   "source": [
    "print(clf.cv_results_['split2_test_score'])"
   ]
  },
  {
   "cell_type": "code",
   "execution_count": 179,
   "metadata": {},
   "outputs": [
    {
     "name": "stdout",
     "output_type": "stream",
     "text": [
      "[0.63513514 0.41891892 0.71621622 0.66216216 0.64864865 0.54054054\n",
      " 0.54054054 0.36486486 0.62162162 0.62162162]\n"
     ]
    }
   ],
   "source": [
    "print(clf.cv_results_['split3_test_score'])"
   ]
  },
  {
   "cell_type": "code",
   "execution_count": 180,
   "metadata": {},
   "outputs": [
    {
     "name": "stdout",
     "output_type": "stream",
     "text": [
      "[0.66216216 0.45945946 0.75675676 0.68918919 0.66216216 0.62162162\n",
      " 0.63513514 0.43243243 0.66216216 0.66216216]\n"
     ]
    }
   ],
   "source": [
    "print(clf.cv_results_['split4_test_score'])"
   ]
  },
  {
   "cell_type": "markdown",
   "metadata": {},
   "source": [
    "### F1-SCORE"
   ]
  },
  {
   "cell_type": "code",
   "execution_count": 181,
   "metadata": {},
   "outputs": [
    {
     "name": "stdout",
     "output_type": "stream",
     "text": [
      "Best parameters set found on train set : \n",
      "{'p': 1, 'n_neighbors': 7}\n",
      "KNeighborsClassifier(n_neighbors=7, p=1)\n",
      "\n",
      "0.7521847690387016\n"
     ]
    }
   ],
   "source": [
    "tuned_parameters = [{'n_neighbors' : [1, 2, 3, 4, 5, 6, 7], 'p' : [1, 2, 3, 4]}]\n",
    "\n",
    "clf = RandomizedSearchCV(KNeighborsClassifier(), tuned_parameters, scoring = 'f1')\n",
    "\n",
    "clf.fit(X_train, y_train)\n",
    "\n",
    "print(\"Best parameters set found on train set : \")\n",
    "\n",
    "print(clf.best_params_)\n",
    "\n",
    "print(clf.best_estimator_)\n",
    "\n",
    "print()\n",
    "\n",
    "print(clf.score(X_test, y_test))"
   ]
  },
  {
   "cell_type": "code",
   "execution_count": 182,
   "metadata": {},
   "outputs": [
    {
     "name": "stdout",
     "output_type": "stream",
     "text": [
      "dict_keys(['mean_fit_time', 'std_fit_time', 'mean_score_time', 'std_score_time', 'param_p', 'param_n_neighbors', 'params', 'split0_test_score', 'split1_test_score', 'split2_test_score', 'split3_test_score', 'split4_test_score', 'mean_test_score', 'std_test_score', 'rank_test_score'])\n"
     ]
    }
   ],
   "source": [
    "print(clf.cv_results_.keys())"
   ]
  },
  {
   "cell_type": "code",
   "execution_count": 183,
   "metadata": {},
   "outputs": [
    {
     "name": "stdout",
     "output_type": "stream",
     "text": [
      "[0.78205128 0.73825503 0.74683544 0.78481013 0.5785124  0.56666667\n",
      " 0.75308642 0.71532847 0.72058824 0.74666667]\n"
     ]
    }
   ],
   "source": [
    "print(clf.cv_results_['split0_test_score'])"
   ]
  },
  {
   "cell_type": "code",
   "execution_count": 184,
   "metadata": {},
   "outputs": [
    {
     "name": "stdout",
     "output_type": "stream",
     "text": [
      "[0.75       0.77922078 0.75903614 0.77844311 0.66666667 0.67164179\n",
      " 0.77575758 0.74482759 0.72222222 0.77419355]\n"
     ]
    }
   ],
   "source": [
    "print(clf.cv_results_['split1_test_score'])"
   ]
  },
  {
   "cell_type": "code",
   "execution_count": 185,
   "metadata": {},
   "outputs": [
    {
     "name": "stdout",
     "output_type": "stream",
     "text": [
      "[0.69135802 0.67924528 0.71264368 0.68292683 0.65185185 0.62015504\n",
      " 0.70930233 0.66225166 0.64383562 0.67080745]\n"
     ]
    }
   ],
   "source": [
    "print(clf.cv_results_['split2_test_score'])"
   ]
  },
  {
   "cell_type": "code",
   "execution_count": 186,
   "metadata": {},
   "outputs": [
    {
     "name": "stdout",
     "output_type": "stream",
     "text": [
      "[0.67625899 0.71942446 0.7260274  0.67132867 0.56637168 0.54205607\n",
      " 0.72222222 0.63492063 0.66141732 0.70503597]\n"
     ]
    }
   ],
   "source": [
    "print(clf.cv_results_['split3_test_score'])"
   ]
  },
  {
   "cell_type": "code",
   "execution_count": 187,
   "metadata": {},
   "outputs": [
    {
     "name": "stdout",
     "output_type": "stream",
     "text": [
      "[0.67096774 0.69798658 0.70886076 0.66216216 0.546875   0.528\n",
      " 0.7        0.66666667 0.7027027  0.68      ]\n"
     ]
    }
   ],
   "source": [
    "print(clf.cv_results_['split4_test_score'])"
   ]
  },
  {
   "cell_type": "markdown",
   "metadata": {},
   "source": [
    "### ROC-AUC"
   ]
  },
  {
   "cell_type": "code",
   "execution_count": 188,
   "metadata": {},
   "outputs": [
    {
     "name": "stdout",
     "output_type": "stream",
     "text": [
      "Best parameters set found on train set : \n",
      "{'p': 4, 'n_neighbors': 7}\n",
      "KNeighborsClassifier(n_neighbors=7, p=4)\n",
      "\n",
      "0.7928000897825812\n"
     ]
    }
   ],
   "source": [
    "tuned_parameters = [{'n_neighbors' : [1, 2, 3, 4, 5, 6, 7], 'p' : [1, 2, 3, 4]}]\n",
    "\n",
    "clf = RandomizedSearchCV(KNeighborsClassifier(), tuned_parameters, scoring = 'roc_auc')\n",
    "\n",
    "clf.fit(X_train, y_train)\n",
    "\n",
    "print(\"Best parameters set found on train set : \")\n",
    "\n",
    "print(clf.best_params_)\n",
    "\n",
    "print(clf.best_estimator_)\n",
    "\n",
    "print()\n",
    "\n",
    "print(clf.score(X_test, y_test))"
   ]
  },
  {
   "cell_type": "code",
   "execution_count": 189,
   "metadata": {},
   "outputs": [
    {
     "name": "stdout",
     "output_type": "stream",
     "text": [
      "dict_keys(['mean_fit_time', 'std_fit_time', 'mean_score_time', 'std_score_time', 'param_p', 'param_n_neighbors', 'params', 'split0_test_score', 'split1_test_score', 'split2_test_score', 'split3_test_score', 'split4_test_score', 'mean_test_score', 'std_test_score', 'rank_test_score'])\n"
     ]
    }
   ],
   "source": [
    "print(clf.cv_results_.keys())"
   ]
  },
  {
   "cell_type": "code",
   "execution_count": 190,
   "metadata": {},
   "outputs": [
    {
     "name": "stdout",
     "output_type": "stream",
     "text": [
      "[0.80280939 0.75071124 0.76653627 0.78627312 0.79649716 0.78938478\n",
      " 0.76795875 0.72030583 0.79116287 0.80325391]\n"
     ]
    }
   ],
   "source": [
    "print(clf.cv_results_['split0_test_score'])"
   ]
  },
  {
   "cell_type": "code",
   "execution_count": 191,
   "metadata": {},
   "outputs": [
    {
     "name": "stdout",
     "output_type": "stream",
     "text": [
      "[0.78106667 0.75066667 0.74248889 0.78453333 0.81413333 0.78844444\n",
      " 0.74746667 0.67333333 0.72426667 0.81671111]\n"
     ]
    }
   ],
   "source": [
    "print(clf.cv_results_['split1_test_score'])"
   ]
  },
  {
   "cell_type": "code",
   "execution_count": 192,
   "metadata": {},
   "outputs": [
    {
     "name": "stdout",
     "output_type": "stream",
     "text": [
      "[0.69099099 0.73387387 0.70810811 0.72405405 0.7518018  0.73828829\n",
      " 0.71081081 0.69171171 0.71585586 0.75      ]\n"
     ]
    }
   ],
   "source": [
    "print(clf.cv_results_['split2_test_score'])"
   ]
  },
  {
   "cell_type": "code",
   "execution_count": 193,
   "metadata": {},
   "outputs": [
    {
     "name": "stdout",
     "output_type": "stream",
     "text": [
      "[0.80675676 0.76432432 0.75783784 0.79855856 0.84558559 0.80351351\n",
      " 0.7781982  0.70423423 0.79144144 0.82459459]\n"
     ]
    }
   ],
   "source": [
    "print(clf.cv_results_['split3_test_score'])"
   ]
  },
  {
   "cell_type": "code",
   "execution_count": 194,
   "metadata": {},
   "outputs": [
    {
     "name": "stdout",
     "output_type": "stream",
     "text": [
      "[0.7372973  0.6909009  0.68234234 0.72513514 0.73981982 0.73261261\n",
      " 0.72234234 0.64441441 0.69792793 0.7172973 ]\n"
     ]
    }
   ],
   "source": [
    "print(clf.cv_results_['split4_test_score'])"
   ]
  },
  {
   "cell_type": "markdown",
   "metadata": {},
   "source": [
    "## For the KNN Classifier, The Hyperparameter Tuning Values are as follows:\n",
    "\n",
    "### GridSearchCV\n",
    "\n",
    "    1. Accuracy: 0.7295218990304246\n",
    "    2. Confusion Matrix: array([[ 979,  514],  [ 332, 1166]], dtype=int64)\n",
    "    3. Precision: 0.7140255009107468\n",
    "    4. Recall: 0.7950600801068091\n",
    "    5. F1-Score: 0.7481155778894472\n",
    "    6. ROC-AUC: 0.7944249398841232\n",
    "\n",
    "### RandomizedSearchCV\n",
    "\n",
    "    1. Accuracy: 0.7091273821464393\n",
    "    2. Confusion Matrix: array([[ 979,  514],  [ 332, 1166]], dtype=int64)\n",
    "    3. Precision: 0.7214484679665738\n",
    "    4. Recall: 0.7696929238985314\n",
    "    5. F1-Score: 0.7521847690387016\n",
    "    6. ROC-AUC: 0.7928000897825812"
   ]
  },
  {
   "cell_type": "code",
   "execution_count": null,
   "metadata": {},
   "outputs": [],
   "source": []
  },
  {
   "cell_type": "markdown",
   "metadata": {},
   "source": [
    "### 3. SVM:\n",
    "\n",
    "- A support vector machine (SVM) is machine learning algorithm that analyzes data for classification and regression analysis. \n",
    "- SVMs are used in text categorization, image classification, handwriting recognition and in the sciences. \n",
    "- A support vector machine is also known as a support vector network (SVN).\n",
    "- Support vector machines (SVMs) are particular linear classifiers which are based on the margin maximization principle. \n",
    "- They perform structural risk minimization, which improves the complexity of the classifier with the aim of achieving excellent generalization performance.\n",
    "\n",
    "#### When is it used?\n",
    "\n",
    "- It uses a technique called the kernel trick to transform your data and then based on these transformations it finds an optimal boundary between the possible outputs."
   ]
  },
  {
   "cell_type": "markdown",
   "metadata": {},
   "source": [
    "### TRAINING THE MODEL"
   ]
  },
  {
   "cell_type": "code",
   "execution_count": 195,
   "metadata": {},
   "outputs": [
    {
     "data": {
      "text/plain": [
       "SVC()"
      ]
     },
     "execution_count": 195,
     "metadata": {},
     "output_type": "execute_result"
    }
   ],
   "source": [
    "from sklearn.svm import SVC\n",
    "classifier = SVC()\n",
    "classifier.fit(X_train, y_train)"
   ]
  },
  {
   "cell_type": "markdown",
   "metadata": {},
   "source": [
    "### PREDICTING THE MODEL"
   ]
  },
  {
   "cell_type": "code",
   "execution_count": 196,
   "metadata": {},
   "outputs": [],
   "source": [
    "y_pred = classifier.predict(X_test)"
   ]
  },
  {
   "cell_type": "markdown",
   "metadata": {},
   "source": [
    "### EVALUATING THE MODEL USING HYPERPARAMETERS BY GRIDSEARCHCV\n",
    "### ACCURACY"
   ]
  },
  {
   "cell_type": "code",
   "execution_count": 197,
   "metadata": {},
   "outputs": [
    {
     "name": "stdout",
     "output_type": "stream",
     "text": [
      "Best parameters set found on train set : \n",
      "{'C': 100, 'kernel': 'linear'}\n",
      "SVC(C=100, kernel='linear')\n",
      "\n",
      "0.7589434971581411\n"
     ]
    }
   ],
   "source": [
    "tuned_parameters = [{'kernel' : ['rbf'], 'gamma' : np.random.rand(4), 'C' : [1, 10, 100, 1000]},\n",
    "                    {'kernel' : ['linear'], 'C' : [1, 10, 100, 1000]}]\n",
    "\n",
    "clf = GridSearchCV(SVC(), tuned_parameters, scoring = 'accuracy')\n",
    "\n",
    "clf.fit(X_train, y_train)\n",
    "\n",
    "print(\"Best parameters set found on train set : \")\n",
    "\n",
    "print(clf.best_params_)\n",
    "\n",
    "print(clf.best_estimator_)\n",
    "\n",
    "print()\n",
    "\n",
    "print(clf.score(X_test, y_test))"
   ]
  },
  {
   "cell_type": "code",
   "execution_count": 198,
   "metadata": {},
   "outputs": [
    {
     "name": "stdout",
     "output_type": "stream",
     "text": [
      "dict_keys(['mean_fit_time', 'std_fit_time', 'mean_score_time', 'std_score_time', 'param_C', 'param_gamma', 'param_kernel', 'params', 'split0_test_score', 'split1_test_score', 'split2_test_score', 'split3_test_score', 'split4_test_score', 'mean_test_score', 'std_test_score', 'rank_test_score'])\n"
     ]
    }
   ],
   "source": [
    "print(clf.cv_results_.keys())"
   ]
  },
  {
   "cell_type": "code",
   "execution_count": 199,
   "metadata": {},
   "outputs": [
    {
     "name": "stdout",
     "output_type": "stream",
     "text": [
      "[0.78       0.65333333 0.66666667 0.68       0.76       0.67333333\n",
      " 0.68       0.68       0.76666667 0.58666667 0.6        0.62666667\n",
      " 0.76666667 0.58666667 0.58666667 0.58666667 0.76666667 0.76666667\n",
      " 0.77333333 0.77333333]\n"
     ]
    }
   ],
   "source": [
    "print(clf.cv_results_['split0_test_score'])"
   ]
  },
  {
   "cell_type": "code",
   "execution_count": 200,
   "metadata": {},
   "outputs": [
    {
     "name": "stdout",
     "output_type": "stream",
     "text": [
      "[0.74       0.63333333 0.64       0.64       0.74       0.67333333\n",
      " 0.64666667 0.64666667 0.78       0.64       0.66666667 0.68\n",
      " 0.72       0.60666667 0.60666667 0.61333333 0.74       0.73333333\n",
      " 0.74       0.74      ]\n"
     ]
    }
   ],
   "source": [
    "print(clf.cv_results_['split1_test_score'])"
   ]
  },
  {
   "cell_type": "code",
   "execution_count": 201,
   "metadata": {},
   "outputs": [
    {
     "name": "stdout",
     "output_type": "stream",
     "text": [
      "[0.68456376 0.63087248 0.6442953  0.6442953  0.7114094  0.63758389\n",
      " 0.63758389 0.6442953  0.69127517 0.63758389 0.6442953  0.66442953\n",
      " 0.67785235 0.65771812 0.66442953 0.67785235 0.71812081 0.72483221\n",
      " 0.73154362 0.73154362]\n"
     ]
    }
   ],
   "source": [
    "print(clf.cv_results_['split2_test_score'])"
   ]
  },
  {
   "cell_type": "code",
   "execution_count": 202,
   "metadata": {},
   "outputs": [
    {
     "name": "stdout",
     "output_type": "stream",
     "text": [
      "[0.71812081 0.68456376 0.69798658 0.69798658 0.71812081 0.70469799\n",
      " 0.69127517 0.69798658 0.71812081 0.7114094  0.70469799 0.69798658\n",
      " 0.7114094  0.56375839 0.58389262 0.58389262 0.7852349  0.79194631\n",
      " 0.79194631 0.79194631]\n"
     ]
    }
   ],
   "source": [
    "print(clf.cv_results_['split3_test_score'])"
   ]
  },
  {
   "cell_type": "code",
   "execution_count": 203,
   "metadata": {},
   "outputs": [
    {
     "name": "stdout",
     "output_type": "stream",
     "text": [
      "[0.70469799 0.61073826 0.61744966 0.63087248 0.68456376 0.62416107\n",
      " 0.63087248 0.63758389 0.68456376 0.63758389 0.65100671 0.65100671\n",
      " 0.65771812 0.61744966 0.60402685 0.60402685 0.70469799 0.69798658\n",
      " 0.70469799 0.70469799]\n"
     ]
    }
   ],
   "source": [
    "print(clf.cv_results_['split4_test_score'])"
   ]
  },
  {
   "cell_type": "markdown",
   "metadata": {},
   "source": [
    "### CONFUSION MATRIX"
   ]
  },
  {
   "cell_type": "code",
   "execution_count": 204,
   "metadata": {},
   "outputs": [],
   "source": [
    "from sklearn.metrics import confusion_matrix"
   ]
  },
  {
   "cell_type": "code",
   "execution_count": 205,
   "metadata": {},
   "outputs": [
    {
     "data": {
      "text/plain": [
       "array([[1079,  414],\n",
       "       [ 337, 1161]], dtype=int64)"
      ]
     },
     "execution_count": 205,
     "metadata": {},
     "output_type": "execute_result"
    }
   ],
   "source": [
    "con_metric = metrics.confusion_matrix(y_test, y_pred)\n",
    "con_metric"
   ]
  },
  {
   "cell_type": "code",
   "execution_count": 206,
   "metadata": {},
   "outputs": [
    {
     "data": {
      "image/png": "[encoded data removed]",
      "text/plain": [
       "<Figure size 432x288 with 2 Axes>"
      ]
     },
     "metadata": {
      "needs_background": "light"
     },
     "output_type": "display_data"
    }
   ],
   "source": [
    "sns.heatmap(con_metric, annot = True, fmt = 'd')\n",
    "plt.title('Confusion Matrix')\n",
    "plt.show()"
   ]
  },
  {
   "cell_type": "markdown",
   "metadata": {},
   "source": [
    "### PRECISION"
   ]
  },
  {
   "cell_type": "code",
   "execution_count": 207,
   "metadata": {},
   "outputs": [
    {
     "name": "stdout",
     "output_type": "stream",
     "text": [
      "Best parameters set found on train set : \n",
      "{'C': 1, 'gamma': 0.550520541809981, 'kernel': 'rbf'}\n",
      "SVC(C=1, gamma=0.550520541809981)\n",
      "\n",
      "0.7683284457478006\n"
     ]
    }
   ],
   "source": [
    "tuned_parameters = [{'kernel' : ['rbf'], 'gamma' : np.random.rand(4), 'C' : [1, 10, 100, 1000]},\n",
    "                    {'kernel' : ['linear'], 'C' : [1, 10, 100, 1000]}]\n",
    "\n",
    "clf = GridSearchCV(SVC(), tuned_parameters, scoring = 'precision')\n",
    "\n",
    "clf.fit(X_train, y_train)\n",
    "\n",
    "print(\"Best parameters set found on train set : \")\n",
    "\n",
    "print(clf.best_params_)\n",
    "\n",
    "print(clf.best_estimator_)\n",
    "\n",
    "print()\n",
    "\n",
    "print(clf.score(X_test, y_test))"
   ]
  },
  {
   "cell_type": "code",
   "execution_count": 208,
   "metadata": {},
   "outputs": [
    {
     "name": "stdout",
     "output_type": "stream",
     "text": [
      "dict_keys(['mean_fit_time', 'std_fit_time', 'mean_score_time', 'std_score_time', 'param_C', 'param_gamma', 'param_kernel', 'params', 'split0_test_score', 'split1_test_score', 'split2_test_score', 'split3_test_score', 'split4_test_score', 'mean_test_score', 'std_test_score', 'rank_test_score'])\n"
     ]
    }
   ],
   "source": [
    "print(clf.cv_results_.keys())"
   ]
  },
  {
   "cell_type": "code",
   "execution_count": 209,
   "metadata": {},
   "outputs": [
    {
     "name": "stdout",
     "output_type": "stream",
     "text": [
      "[0.75471698 0.75925926 0.72289157 0.75       0.74074074 0.75\n",
      " 0.75641026 0.75       0.65909091 0.71212121 0.77027027 0.734375\n",
      " 0.55371901 0.55       0.76       0.54621849 0.76       0.76\n",
      " 0.76315789 0.76315789]\n"
     ]
    }
   ],
   "source": [
    "print(clf.cv_results_['split0_test_score'])"
   ]
  },
  {
   "cell_type": "code",
   "execution_count": 210,
   "metadata": {},
   "outputs": [
    {
     "name": "stdout",
     "output_type": "stream",
     "text": [
      "[0.75       0.75       0.72527473 0.75       0.7037037  0.70909091\n",
      " 0.7032967  0.70909091 0.71428571 0.71428571 0.7        0.71875\n",
      " 0.67346939 0.69230769 0.70454545 0.69230769 0.70454545 0.70114943\n",
      " 0.70454545 0.70454545]\n"
     ]
    }
   ],
   "source": [
    "print(clf.cv_results_['split1_test_score'])"
   ]
  },
  {
   "cell_type": "code",
   "execution_count": 211,
   "metadata": {},
   "outputs": [
    {
     "name": "stdout",
     "output_type": "stream",
     "text": [
      "[0.74468085 0.75510204 0.63541667 0.75510204 0.74468085 0.75510204\n",
      " 0.66292135 0.76       0.76       0.76923077 0.6741573  0.76363636\n",
      " 0.76470588 0.76363636 0.68478261 0.76363636 0.67777778 0.68131868\n",
      " 0.68888889 0.68888889]\n"
     ]
    }
   ],
   "source": [
    "print(clf.cv_results_['split2_test_score'])"
   ]
  },
  {
   "cell_type": "code",
   "execution_count": 212,
   "metadata": {},
   "outputs": [
    {
     "name": "stdout",
     "output_type": "stream",
     "text": [
      "[0.91666667 0.91666667 0.77631579 0.91891892 0.87179487 0.875\n",
      " 0.77631579 0.87804878 0.87179487 0.875      0.8028169  0.87804878\n",
      " 0.55172414 0.57407407 0.80882353 0.57009346 0.78378378 0.79452055\n",
      " 0.79452055 0.79452055]\n"
     ]
    }
   ],
   "source": [
    "print(clf.cv_results_['split3_test_score'])"
   ]
  },
  {
   "cell_type": "code",
   "execution_count": 213,
   "metadata": {},
   "outputs": [
    {
     "name": "stdout",
     "output_type": "stream",
     "text": [
      "[0.8125     0.8125     0.6626506  0.8        0.8        0.78378378\n",
      " 0.68831169 0.78378378 0.76190476 0.76190476 0.69333333 0.76190476\n",
      " 0.56521739 0.57017544 0.69863014 0.57017544 0.69736842 0.69333333\n",
      " 0.7027027  0.7027027 ]\n"
     ]
    }
   ],
   "source": [
    "print(clf.cv_results_['split4_test_score'])"
   ]
  },
  {
   "cell_type": "markdown",
   "metadata": {},
   "source": [
    "### RECALL"
   ]
  },
  {
   "cell_type": "code",
   "execution_count": 214,
   "metadata": {},
   "outputs": [
    {
     "name": "stdout",
     "output_type": "stream",
     "text": [
      "Best parameters set found on train set : \n",
      "{'C': 1000, 'gamma': 0.9890541808267177, 'kernel': 'rbf'}\n",
      "SVC(C=1000, gamma=0.9890541808267177)\n",
      "\n",
      "0.9392523364485982\n"
     ]
    }
   ],
   "source": [
    "tuned_parameters = [{'kernel' : ['rbf'], 'gamma' : np.random.rand(4), 'C' : [1, 10, 100, 1000]},\n",
    "                    {'kernel' : ['linear'], 'C' : [1, 10, 100, 1000]}]\n",
    "\n",
    "clf = GridSearchCV(SVC(), tuned_parameters, scoring = 'recall')\n",
    "\n",
    "clf.fit(X_train, y_train)\n",
    "\n",
    "print(\"Best parameters set found on train set : \")\n",
    "\n",
    "print(clf.best_params_)\n",
    "\n",
    "print(clf.best_estimator_)\n",
    "\n",
    "print()\n",
    "\n",
    "print(clf.score(X_test, y_test))"
   ]
  },
  {
   "cell_type": "code",
   "execution_count": 215,
   "metadata": {},
   "outputs": [
    {
     "name": "stdout",
     "output_type": "stream",
     "text": [
      "dict_keys(['mean_fit_time', 'std_fit_time', 'mean_score_time', 'std_score_time', 'param_C', 'param_gamma', 'param_kernel', 'params', 'split0_test_score', 'split1_test_score', 'split2_test_score', 'split3_test_score', 'split4_test_score', 'mean_test_score', 'std_test_score', 'rank_test_score'])\n"
     ]
    }
   ],
   "source": [
    "print(clf.cv_results_.keys())"
   ]
  },
  {
   "cell_type": "code",
   "execution_count": 216,
   "metadata": {},
   "outputs": [
    {
     "name": "stdout",
     "output_type": "stream",
     "text": [
      "[0.64864865 0.33783784 0.59459459 0.55405405 0.67567568 0.51351351\n",
      " 0.58108108 0.54054054 0.68918919 0.91891892 0.64864865 0.7027027\n",
      " 0.71621622 0.91891892 0.87837838 0.89189189 0.77027027 0.77027027\n",
      " 0.78378378 0.78378378]\n"
     ]
    }
   ],
   "source": [
    "print(clf.cv_results_['split0_test_score'])"
   ]
  },
  {
   "cell_type": "code",
   "execution_count": 217,
   "metadata": {},
   "outputs": [
    {
     "name": "stdout",
     "output_type": "stream",
     "text": [
      "[0.65333333 0.38666667 0.54666667 0.48       0.66666667 0.92\n",
      " 0.6        0.50666667 0.65333333 0.42666667 0.61333333 0.6\n",
      " 0.65333333 0.85333333 0.56       0.44       0.82666667 0.81333333\n",
      " 0.82666667 0.82666667]\n"
     ]
    }
   ],
   "source": [
    "print(clf.cv_results_['split1_test_score'])"
   ]
  },
  {
   "cell_type": "code",
   "execution_count": 218,
   "metadata": {},
   "outputs": [
    {
     "name": "stdout",
     "output_type": "stream",
     "text": [
      "[0.66216216 0.32432432 0.58108108 0.48648649 0.67567568 0.33783784\n",
      " 0.59459459 0.5        0.67567568 0.40540541 0.59459459 0.51351351\n",
      " 0.68918919 0.41891892 0.59459459 0.54054054 0.82432432 0.83783784\n",
      " 0.83783784 0.83783784]\n"
     ]
    }
   ],
   "source": [
    "print(clf.cv_results_['split2_test_score'])"
   ]
  },
  {
   "cell_type": "code",
   "execution_count": 219,
   "metadata": {},
   "outputs": [
    {
     "name": "stdout",
     "output_type": "stream",
     "text": [
      "[0.58108108 0.36486486 0.51351351 0.44594595 0.56756757 0.86486486\n",
      " 0.5        0.45945946 0.55405405 0.86486486 0.5        0.45945946\n",
      " 0.55405405 0.90540541 0.56756757 0.85135135 0.78378378 0.78378378\n",
      " 0.78378378 0.78378378]\n"
     ]
    }
   ],
   "source": [
    "print(clf.cv_results_['split3_test_score'])"
   ]
  },
  {
   "cell_type": "code",
   "execution_count": 220,
   "metadata": {},
   "outputs": [
    {
     "name": "stdout",
     "output_type": "stream",
     "text": [
      "[0.48648649 0.18918919 0.41891892 0.35135135 0.51351351 0.28378378\n",
      " 0.41891892 0.37837838 0.58108108 0.89189189 0.43243243 0.43243243\n",
      " 0.62162162 0.97297297 0.7972973  0.87837838 0.71621622 0.7027027\n",
      " 0.7027027  0.7027027 ]\n"
     ]
    }
   ],
   "source": [
    "print(clf.cv_results_['split4_test_score'])"
   ]
  },
  {
   "cell_type": "markdown",
   "metadata": {},
   "source": [
    "### F1-SCORE"
   ]
  },
  {
   "cell_type": "code",
   "execution_count": 221,
   "metadata": {},
   "outputs": [
    {
     "name": "stdout",
     "output_type": "stream",
     "text": [
      "Best parameters set found on train set : \n",
      "{'C': 100, 'kernel': 'linear'}\n",
      "SVC(C=100, kernel='linear')\n",
      "\n",
      "0.7706013363028953\n"
     ]
    }
   ],
   "source": [
    "tuned_parameters = [{'kernel' : ['rbf'], 'gamma' : np.random.rand(4), 'C' : [1, 10, 100, 1000]},\n",
    "                    {'kernel' : ['linear'], 'C' : [1, 10, 100, 1000]}]\n",
    "\n",
    "clf = GridSearchCV(SVC(), tuned_parameters, scoring = 'f1')\n",
    "\n",
    "clf.fit(X_train, y_train)\n",
    "\n",
    "print(\"Best parameters set found on train set : \")\n",
    "\n",
    "print(clf.best_params_)\n",
    "\n",
    "print(clf.best_estimator_)\n",
    "\n",
    "print()\n",
    "\n",
    "print(clf.score(X_test, y_test))"
   ]
  },
  {
   "cell_type": "code",
   "execution_count": 222,
   "metadata": {},
   "outputs": [
    {
     "name": "stdout",
     "output_type": "stream",
     "text": [
      "dict_keys(['mean_fit_time', 'std_fit_time', 'mean_score_time', 'std_score_time', 'param_C', 'param_gamma', 'param_kernel', 'params', 'split0_test_score', 'split1_test_score', 'split2_test_score', 'split3_test_score', 'split4_test_score', 'mean_test_score', 'std_test_score', 'rank_test_score'])\n"
     ]
    }
   ],
   "source": [
    "print(clf.cv_results_.keys())"
   ]
  },
  {
   "cell_type": "code",
   "execution_count": 223,
   "metadata": {},
   "outputs": [
    {
     "name": "stdout",
     "output_type": "stream",
     "text": [
      "[0.56410256 0.70072993 0.69117647 0.61904762 0.608      0.69565217\n",
      " 0.67647059 0.625      0.68717949 0.71830986 0.70921986 0.68888889\n",
      " 0.68       0.73611111 0.7483871  0.68367347 0.76510067 0.76510067\n",
      " 0.77333333 0.77333333]\n"
     ]
    }
   ],
   "source": [
    "print(clf.cv_results_['split0_test_score'])"
   ]
  },
  {
   "cell_type": "code",
   "execution_count": 224,
   "metadata": {},
   "outputs": [
    {
     "name": "stdout",
     "output_type": "stream",
     "text": [
      "[0.54545455 0.70072993 0.68656716 0.56451613 0.67357513 0.71830986\n",
      " 0.68571429 0.58914729 0.55555556 0.67605634 0.68085106 0.65217391\n",
      " 0.53225806 0.67132867 0.65693431 0.53225806 0.7607362  0.75308642\n",
      " 0.7607362  0.7607362 ]\n"
     ]
    }
   ],
   "source": [
    "print(clf.cv_results_['split1_test_score'])"
   ]
  },
  {
   "cell_type": "code",
   "execution_count": 225,
   "metadata": {},
   "outputs": [
    {
     "name": "stdout",
     "output_type": "stream",
     "text": [
      "[0.52631579 0.68055556 0.65693431 0.55462185 0.52173913 0.6993007\n",
      " 0.68115942 0.56666667 0.53448276 0.69503546 0.68613139 0.59016393\n",
      " 0.55462185 0.70833333 0.69503546 0.624      0.74390244 0.75151515\n",
      " 0.75609756 0.75609756]\n"
     ]
    }
   ],
   "source": [
    "print(clf.cv_results_['split2_test_score'])"
   ]
  },
  {
   "cell_type": "code",
   "execution_count": 226,
   "metadata": {},
   "outputs": [
    {
     "name": "stdout",
     "output_type": "stream",
     "text": [
      "[0.51923077 0.688      0.66666667 0.58715596 0.65497076 0.64516129\n",
      " 0.6440678  0.60176991 0.67021277 0.64516129 0.6440678  0.60176991\n",
      " 0.66666667 0.65079365 0.63414634 0.67368421 0.78378378 0.78911565\n",
      " 0.78911565 0.78911565]\n"
     ]
    }
   ],
   "source": [
    "print(clf.cv_results_['split3_test_score'])"
   ]
  },
  {
   "cell_type": "code",
   "execution_count": 227,
   "metadata": {},
   "outputs": [
    {
     "name": "stdout",
     "output_type": "stream",
     "text": [
      "[0.4040404  0.5785124  0.56410256 0.47619048 0.44660194 0.6031746\n",
      " 0.54237288 0.5        0.60606061 0.63636364 0.64615385 0.54385965\n",
      " 0.70935961 0.65714286 0.66197183 0.69109948 0.70666667 0.69798658\n",
      " 0.7027027  0.7027027 ]\n"
     ]
    }
   ],
   "source": [
    "print(clf.cv_results_['split4_test_score'])"
   ]
  },
  {
   "cell_type": "markdown",
   "metadata": {},
   "source": [
    "### ROC-AUC"
   ]
  },
  {
   "cell_type": "code",
   "execution_count": 228,
   "metadata": {},
   "outputs": [
    {
     "name": "stdout",
     "output_type": "stream",
     "text": [
      "Best parameters set found on train set : \n",
      "{'C': 1, 'kernel': 'linear'}\n",
      "SVC(C=1, kernel='linear')\n",
      "\n",
      "0.8381597432432795\n"
     ]
    }
   ],
   "source": [
    "tuned_parameters = [{'kernel' : ['rbf'], 'gamma' : np.random.rand(4), 'C' : [1, 10, 100, 1000]},\n",
    "                    {'kernel' : ['linear'], 'C' : [1, 10, 100, 1000]}]\n",
    "\n",
    "clf = GridSearchCV(SVC(), tuned_parameters, scoring = 'roc_auc')\n",
    "\n",
    "clf.fit(X_train, y_train)\n",
    "\n",
    "print(\"Best parameters set found on train set : \")\n",
    "\n",
    "print(clf.best_params_)\n",
    "\n",
    "print(clf.best_estimator_)\n",
    "\n",
    "print()\n",
    "\n",
    "print(clf.score(X_test, y_test))"
   ]
  },
  {
   "cell_type": "code",
   "execution_count": 229,
   "metadata": {},
   "outputs": [
    {
     "name": "stdout",
     "output_type": "stream",
     "text": [
      "dict_keys(['mean_fit_time', 'std_fit_time', 'mean_score_time', 'std_score_time', 'param_C', 'param_gamma', 'param_kernel', 'params', 'split0_test_score', 'split1_test_score', 'split2_test_score', 'split3_test_score', 'split4_test_score', 'mean_test_score', 'std_test_score', 'rank_test_score'])\n"
     ]
    }
   ],
   "source": [
    "print(clf.cv_results_.keys())"
   ]
  },
  {
   "cell_type": "code",
   "execution_count": 230,
   "metadata": {},
   "outputs": [
    {
     "name": "stdout",
     "output_type": "stream",
     "text": [
      "[0.80352063 0.79498578 0.77329303 0.73453058 0.79640825 0.78467283\n",
      " 0.76120199 0.7311522  0.7727596  0.76475818 0.75337838 0.72617354\n",
      " 0.74964438 0.73915363 0.72670697 0.7140825  0.84637269 0.84406117\n",
      " 0.84370555 0.84370555]\n"
     ]
    }
   ],
   "source": [
    "print(clf.cv_results_['split0_test_score'])"
   ]
  },
  {
   "cell_type": "code",
   "execution_count": 231,
   "metadata": {},
   "outputs": [
    {
     "name": "stdout",
     "output_type": "stream",
     "text": [
      "[0.83111111 0.80568889 0.7808     0.73653333 0.82044444 0.80017778\n",
      " 0.76071111 0.73404444 0.80195556 0.75413333 0.7376     0.72106667\n",
      " 0.75057778 0.7392     0.72782222 0.72053333 0.84142222 0.83893333\n",
      " 0.83982222 0.83964444]\n"
     ]
    }
   ],
   "source": [
    "print(clf.cv_results_['split1_test_score'])"
   ]
  },
  {
   "cell_type": "code",
   "execution_count": 232,
   "metadata": {},
   "outputs": [
    {
     "name": "stdout",
     "output_type": "stream",
     "text": [
      "[0.76396396 0.75945946 0.74486486 0.7409009  0.76126126 0.75693694\n",
      " 0.74378378 0.72594595 0.75837838 0.76216216 0.74792793 0.72846847\n",
      " 0.74540541 0.76486486 0.75567568 0.74108108 0.83099099 0.83567568\n",
      " 0.83657658 0.83603604]\n"
     ]
    }
   ],
   "source": [
    "print(clf.cv_results_['split2_test_score'])"
   ]
  },
  {
   "cell_type": "code",
   "execution_count": 233,
   "metadata": {},
   "outputs": [
    {
     "name": "stdout",
     "output_type": "stream",
     "text": [
      "[0.8372973  0.8154955  0.77981982 0.74216216 0.81207207 0.77297297\n",
      " 0.75351351 0.73243243 0.79675676 0.77801802 0.74594595 0.73279279\n",
      " 0.80306306 0.78198198 0.74378378 0.72576577 0.87657658 0.87657658\n",
      " 0.87675676 0.87711712]\n"
     ]
    }
   ],
   "source": [
    "print(clf.cv_results_['split3_test_score'])"
   ]
  },
  {
   "cell_type": "code",
   "execution_count": 234,
   "metadata": {},
   "outputs": [
    {
     "name": "stdout",
     "output_type": "stream",
     "text": [
      "[0.76918919 0.75927928 0.7172973  0.70198198 0.73027027 0.73441441\n",
      " 0.71243243 0.70702703 0.73189189 0.73675676 0.72540541 0.71603604\n",
      " 0.72558559 0.72810811 0.72540541 0.71153153 0.78576577 0.78\n",
      " 0.77963964 0.78036036]\n"
     ]
    }
   ],
   "source": [
    "print(clf.cv_results_['split4_test_score'])"
   ]
  },
  {
   "cell_type": "markdown",
   "metadata": {},
   "source": [
    "### EVALUATING THE MODEL USING HYPERPARAMETERS BY RANDOMIZEDSEARCHCV\n",
    "### ACCURACY"
   ]
  },
  {
   "cell_type": "code",
   "execution_count": 235,
   "metadata": {},
   "outputs": [
    {
     "name": "stdout",
     "output_type": "stream",
     "text": [
      "Best parameters set found on train set : \n",
      "{'kernel': 'linear', 'C': 100}\n",
      "SVC(C=100, kernel='linear')\n",
      "\n",
      "0.7589434971581411\n"
     ]
    }
   ],
   "source": [
    "tuned_parameters = [{'kernel' : ['rbf'], 'gamma' : np.random.rand(4), 'C' : [1, 10, 100, 1000]},\n",
    "                    {'kernel' : ['linear'], 'C' : [1, 10, 100, 1000]}]\n",
    "\n",
    "clf = RandomizedSearchCV(SVC(), tuned_parameters, scoring = 'accuracy')\n",
    "\n",
    "clf.fit(X_train, y_train)\n",
    "\n",
    "print(\"Best parameters set found on train set : \")\n",
    "\n",
    "print(clf.best_params_)\n",
    "\n",
    "print(clf.best_estimator_)\n",
    "\n",
    "print()\n",
    "\n",
    "print(clf.score(X_test, y_test))"
   ]
  },
  {
   "cell_type": "code",
   "execution_count": 236,
   "metadata": {},
   "outputs": [
    {
     "name": "stdout",
     "output_type": "stream",
     "text": [
      "dict_keys(['mean_fit_time', 'std_fit_time', 'mean_score_time', 'std_score_time', 'param_kernel', 'param_gamma', 'param_C', 'params', 'split0_test_score', 'split1_test_score', 'split2_test_score', 'split3_test_score', 'split4_test_score', 'mean_test_score', 'std_test_score', 'rank_test_score'])\n"
     ]
    }
   ],
   "source": [
    "print(clf.cv_results_.keys())"
   ]
  },
  {
   "cell_type": "code",
   "execution_count": 237,
   "metadata": {},
   "outputs": [
    {
     "name": "stdout",
     "output_type": "stream",
     "text": [
      "[0.78       0.76666667 0.77333333 0.77333333 0.78       0.76\n",
      " 0.76666667 0.76666667 0.69333333 0.70666667]\n"
     ]
    }
   ],
   "source": [
    "print(clf.cv_results_['split0_test_score'])"
   ]
  },
  {
   "cell_type": "code",
   "execution_count": 238,
   "metadata": {},
   "outputs": [
    {
     "name": "stdout",
     "output_type": "stream",
     "text": [
      "[0.74666667 0.74       0.74       0.74       0.76       0.74666667\n",
      " 0.73333333 0.78       0.68666667 0.72      ]\n"
     ]
    }
   ],
   "source": [
    "print(clf.cv_results_['split1_test_score'])"
   ]
  },
  {
   "cell_type": "code",
   "execution_count": 239,
   "metadata": {},
   "outputs": [
    {
     "name": "stdout",
     "output_type": "stream",
     "text": [
      "[0.70469799 0.71812081 0.73154362 0.73154362 0.69798658 0.70469799\n",
      " 0.67785235 0.69127517 0.68456376 0.67785235]\n"
     ]
    }
   ],
   "source": [
    "print(clf.cv_results_['split2_test_score'])"
   ]
  },
  {
   "cell_type": "code",
   "execution_count": 240,
   "metadata": {},
   "outputs": [
    {
     "name": "stdout",
     "output_type": "stream",
     "text": [
      "[0.79194631 0.7852349  0.79194631 0.79194631 0.73154362 0.71812081\n",
      " 0.7114094  0.72483221 0.7114094  0.73154362]\n"
     ]
    }
   ],
   "source": [
    "print(clf.cv_results_['split3_test_score'])"
   ]
  },
  {
   "cell_type": "code",
   "execution_count": 241,
   "metadata": {},
   "outputs": [
    {
     "name": "stdout",
     "output_type": "stream",
     "text": [
      "[0.70469799 0.70469799 0.70469799 0.70469799 0.70469799 0.70469799\n",
      " 0.69127517 0.67785235 0.65100671 0.65100671]\n"
     ]
    }
   ],
   "source": [
    "print(clf.cv_results_['split4_test_score'])"
   ]
  },
  {
   "cell_type": "markdown",
   "metadata": {},
   "source": [
    "### CONFUSION MATRIX"
   ]
  },
  {
   "cell_type": "code",
   "execution_count": 242,
   "metadata": {},
   "outputs": [],
   "source": [
    "from sklearn.metrics import confusion_matrix"
   ]
  },
  {
   "cell_type": "code",
   "execution_count": 243,
   "metadata": {},
   "outputs": [
    {
     "data": {
      "text/plain": [
       "array([[1079,  414],\n",
       "       [ 337, 1161]], dtype=int64)"
      ]
     },
     "execution_count": 243,
     "metadata": {},
     "output_type": "execute_result"
    }
   ],
   "source": [
    "con_metric = metrics.confusion_matrix(y_test, y_pred)\n",
    "con_metric"
   ]
  },
  {
   "cell_type": "code",
   "execution_count": 244,
   "metadata": {},
   "outputs": [
    {
     "data": {
      "image/png": "[encoded data removed]",
      "text/plain": [
       "<Figure size 432x288 with 2 Axes>"
      ]
     },
     "metadata": {
      "needs_background": "light"
     },
     "output_type": "display_data"
    }
   ],
   "source": [
    "sns.heatmap(con_metric, annot = True, fmt = 'd')\n",
    "plt.title('Confusion Matrix')\n",
    "plt.show()"
   ]
  },
  {
   "cell_type": "markdown",
   "metadata": {},
   "source": [
    "### PRECISION"
   ]
  },
  {
   "cell_type": "code",
   "execution_count": 245,
   "metadata": {},
   "outputs": [
    {
     "name": "stdout",
     "output_type": "stream",
     "text": [
      "Best parameters set found on train set : \n",
      "{'kernel': 'rbf', 'gamma': 0.5508612221133035, 'C': 1}\n",
      "SVC(C=1, gamma=0.5508612221133035)\n",
      "\n",
      "0.7683284457478006\n"
     ]
    }
   ],
   "source": [
    "tuned_parameters = [{'kernel' : ['rbf'], 'gamma' : np.random.rand(4), 'C' : [1, 10, 100, 1000]},\n",
    "                    {'kernel' : ['linear'], 'C' : [1, 10, 100, 1000]}]\n",
    "\n",
    "clf = RandomizedSearchCV(SVC(), tuned_parameters, scoring = 'precision')\n",
    "\n",
    "clf.fit(X_train, y_train)\n",
    "\n",
    "print(\"Best parameters set found on train set : \")\n",
    "\n",
    "print(clf.best_params_)\n",
    "\n",
    "print(clf.best_estimator_)\n",
    "\n",
    "print()\n",
    "\n",
    "print(clf.score(X_test, y_test))"
   ]
  },
  {
   "cell_type": "code",
   "execution_count": 246,
   "metadata": {},
   "outputs": [
    {
     "name": "stdout",
     "output_type": "stream",
     "text": [
      "dict_keys(['mean_fit_time', 'std_fit_time', 'mean_score_time', 'std_score_time', 'param_kernel', 'param_gamma', 'param_C', 'params', 'split0_test_score', 'split1_test_score', 'split2_test_score', 'split3_test_score', 'split4_test_score', 'mean_test_score', 'std_test_score', 'rank_test_score'])\n"
     ]
    }
   ],
   "source": [
    "print(clf.cv_results_.keys())"
   ]
  },
  {
   "cell_type": "code",
   "execution_count": 247,
   "metadata": {},
   "outputs": [
    {
     "name": "stdout",
     "output_type": "stream",
     "text": [
      "[0.75       0.57407407 0.77027027 0.76056338 0.76712329 0.76\n",
      " 0.75       0.75925926 0.734375   0.76315789]\n"
     ]
    }
   ],
   "source": [
    "print(clf.cv_results_['split0_test_score'])"
   ]
  },
  {
   "cell_type": "code",
   "execution_count": 248,
   "metadata": {},
   "outputs": [
    {
     "name": "stdout",
     "output_type": "stream",
     "text": [
      "[0.75       0.73333333 0.75714286 0.74647887 0.72222222 0.70114943\n",
      " 0.70909091 0.75       0.71875    0.70454545]\n"
     ]
    }
   ],
   "source": [
    "print(clf.cv_results_['split1_test_score'])"
   ]
  },
  {
   "cell_type": "code",
   "execution_count": 249,
   "metadata": {},
   "outputs": [
    {
     "name": "stdout",
     "output_type": "stream",
     "text": [
      "[0.76       0.75806452 0.69736842 0.7        0.70666667 0.68131868\n",
      " 0.75510204 0.75510204 0.76363636 0.68888889]\n"
     ]
    }
   ],
   "source": [
    "print(clf.cv_results_['split2_test_score'])"
   ]
  },
  {
   "cell_type": "code",
   "execution_count": 250,
   "metadata": {},
   "outputs": [
    {
     "name": "stdout",
     "output_type": "stream",
     "text": [
      "[0.91891892 0.81632653 0.81355932 0.76666667 0.76271186 0.79452055\n",
      " 0.875      0.91666667 0.87804878 0.79452055]\n"
     ]
    }
   ],
   "source": [
    "print(clf.cv_results_['split3_test_score'])"
   ]
  },
  {
   "cell_type": "code",
   "execution_count": 251,
   "metadata": {},
   "outputs": [
    {
     "name": "stdout",
     "output_type": "stream",
     "text": [
      "[0.8        0.6        0.70769231 0.6984127  0.68656716 0.69333333\n",
      " 0.78378378 0.8125     0.74418605 0.7027027 ]\n"
     ]
    }
   ],
   "source": [
    "print(clf.cv_results_['split4_test_score'])"
   ]
  },
  {
   "cell_type": "markdown",
   "metadata": {},
   "source": [
    "### RECALL"
   ]
  },
  {
   "cell_type": "code",
   "execution_count": 252,
   "metadata": {},
   "outputs": [
    {
     "name": "stdout",
     "output_type": "stream",
     "text": [
      "Best parameters set found on train set : \n",
      "{'kernel': 'rbf', 'gamma': 0.8467145678607909, 'C': 1000}\n",
      "SVC(C=1000, gamma=0.8467145678607909)\n",
      "\n",
      "0.917890520694259\n"
     ]
    }
   ],
   "source": [
    "tuned_parameters = [{'kernel' : ['rbf'], 'gamma' : np.random.rand(4), 'C' : [1, 10, 100, 1000]},\n",
    "                    {'kernel' : ['linear'], 'C' : [1, 10, 100, 1000]}]\n",
    "\n",
    "clf = RandomizedSearchCV(SVC(), tuned_parameters, scoring = 'recall')\n",
    "\n",
    "clf.fit(X_train, y_train)\n",
    "\n",
    "print(\"Best parameters set found on train set : \")\n",
    "\n",
    "print(clf.best_params_)\n",
    "\n",
    "print(clf.best_estimator_)\n",
    "\n",
    "print()\n",
    "\n",
    "print(clf.score(X_test, y_test))"
   ]
  },
  {
   "cell_type": "code",
   "execution_count": 253,
   "metadata": {},
   "outputs": [
    {
     "name": "stdout",
     "output_type": "stream",
     "text": [
      "dict_keys(['mean_fit_time', 'std_fit_time', 'mean_score_time', 'std_score_time', 'param_kernel', 'param_gamma', 'param_C', 'params', 'split0_test_score', 'split1_test_score', 'split2_test_score', 'split3_test_score', 'split4_test_score', 'mean_test_score', 'std_test_score', 'rank_test_score'])\n"
     ]
    }
   ],
   "source": [
    "print(clf.cv_results_.keys())"
   ]
  },
  {
   "cell_type": "code",
   "execution_count": 254,
   "metadata": {},
   "outputs": [
    {
     "name": "stdout",
     "output_type": "stream",
     "text": [
      "[0.68918919 0.66216216 0.83783784 0.51351351 0.7027027  0.78378378\n",
      " 0.91891892 0.60810811 0.60810811 0.78378378]\n"
     ]
    }
   ],
   "source": [
    "print(clf.cv_results_['split0_test_score'])"
   ]
  },
  {
   "cell_type": "code",
   "execution_count": 255,
   "metadata": {},
   "outputs": [
    {
     "name": "stdout",
     "output_type": "stream",
     "text": [
      "[0.66666667 0.61333333 0.6        0.86666667 0.65333333 0.74666667\n",
      " 0.44       0.61333333 0.64       0.76      ]\n"
     ]
    }
   ],
   "source": [
    "print(clf.cv_results_['split1_test_score'])"
   ]
  },
  {
   "cell_type": "code",
   "execution_count": 256,
   "metadata": {},
   "outputs": [
    {
     "name": "stdout",
     "output_type": "stream",
     "text": [
      "[0.67567568 0.59459459 0.63513514 0.41891892 0.68918919 0.7027027\n",
      " 0.47297297 0.60810811 0.59459459 0.72972973]\n"
     ]
    }
   ],
   "source": [
    "print(clf.cv_results_['split2_test_score'])"
   ]
  },
  {
   "cell_type": "code",
   "execution_count": 257,
   "metadata": {},
   "outputs": [
    {
     "name": "stdout",
     "output_type": "stream",
     "text": [
      "[0.60810811 0.51351351 0.52702703 0.54054054 0.58108108 0.63513514\n",
      " 0.90540541 0.52702703 0.51351351 0.62162162]\n"
     ]
    }
   ],
   "source": [
    "print(clf.cv_results_['split3_test_score'])"
   ]
  },
  {
   "cell_type": "code",
   "execution_count": 258,
   "metadata": {},
   "outputs": [
    {
     "name": "stdout",
     "output_type": "stream",
     "text": [
      "[0.56756757 0.48648649 0.66216216 0.32432432 0.62162162 0.63513514\n",
      " 0.97297297 0.43243243 0.41891892 0.66216216]\n"
     ]
    }
   ],
   "source": [
    "print(clf.cv_results_['split4_test_score'])"
   ]
  },
  {
   "cell_type": "markdown",
   "metadata": {},
   "source": [
    "### F1-SCORE"
   ]
  },
  {
   "cell_type": "code",
   "execution_count": 259,
   "metadata": {},
   "outputs": [
    {
     "name": "stdout",
     "output_type": "stream",
     "text": [
      "Best parameters set found on train set : \n",
      "{'kernel': 'linear', 'C': 1000}\n",
      "SVC(C=1000, kernel='linear')\n",
      "\n",
      "0.7712376710149539\n"
     ]
    }
   ],
   "source": [
    "tuned_parameters = [{'kernel' : ['rbf'], 'gamma' : np.random.rand(4), 'C' : [1, 10, 100, 1000]},\n",
    "                    {'kernel' : ['linear'], 'C' : [1, 10, 100, 1000]}]\n",
    "\n",
    "clf = RandomizedSearchCV(SVC(), tuned_parameters, scoring = 'f1')\n",
    "\n",
    "clf.fit(X_train, y_train)\n",
    "\n",
    "print(\"Best parameters set found on train set : \")\n",
    "\n",
    "print(clf.best_params_)\n",
    "\n",
    "print(clf.best_estimator_)\n",
    "\n",
    "print()\n",
    "\n",
    "print(clf.score(X_test, y_test))"
   ]
  },
  {
   "cell_type": "code",
   "execution_count": 260,
   "metadata": {},
   "outputs": [
    {
     "name": "stdout",
     "output_type": "stream",
     "text": [
      "dict_keys(['mean_fit_time', 'std_fit_time', 'mean_score_time', 'std_score_time', 'param_kernel', 'param_gamma', 'param_C', 'params', 'split0_test_score', 'split1_test_score', 'split2_test_score', 'split3_test_score', 'split4_test_score', 'mean_test_score', 'std_test_score', 'rank_test_score'])\n"
     ]
    }
   ],
   "source": [
    "print(clf.cv_results_.keys())"
   ]
  },
  {
   "cell_type": "code",
   "execution_count": 261,
   "metadata": {},
   "outputs": [
    {
     "name": "stdout",
     "output_type": "stream",
     "text": [
      "[0.69565217 0.67357513 0.7        0.61904762 0.77333333 0.71830986\n",
      " 0.76510067 0.76510067 0.67669173 0.62992126]\n"
     ]
    }
   ],
   "source": [
    "print(clf.cv_results_['split0_test_score'])"
   ]
  },
  {
   "cell_type": "code",
   "execution_count": 262,
   "metadata": {},
   "outputs": [
    {
     "name": "stdout",
     "output_type": "stream",
     "text": [
      "[0.71830986 0.56692913 0.67142857 0.56451613 0.7607362  0.67605634\n",
      " 0.75308642 0.7607362  0.68656716 0.58914729]\n"
     ]
    }
   ],
   "source": [
    "print(clf.cv_results_['split1_test_score'])"
   ]
  },
  {
   "cell_type": "code",
   "execution_count": 263,
   "metadata": {},
   "outputs": [
    {
     "name": "stdout",
     "output_type": "stream",
     "text": [
      "[0.6993007  0.65116279 0.66165414 0.55462185 0.75609756 0.69503546\n",
      " 0.75151515 0.74390244 0.67164179 0.54237288]\n"
     ]
    }
   ],
   "source": [
    "print(clf.cv_results_['split2_test_score'])"
   ]
  },
  {
   "cell_type": "code",
   "execution_count": 264,
   "metadata": {},
   "outputs": [
    {
     "name": "stdout",
     "output_type": "stream",
     "text": [
      "[0.64516129 0.68131868 0.6440678  0.58715596 0.78911565 0.64516129\n",
      " 0.78911565 0.78378378 0.65546218 0.58928571]\n"
     ]
    }
   ],
   "source": [
    "print(clf.cv_results_['split3_test_score'])"
   ]
  },
  {
   "cell_type": "code",
   "execution_count": 265,
   "metadata": {},
   "outputs": [
    {
     "name": "stdout",
     "output_type": "stream",
     "text": [
      "[0.6031746  0.69148936 0.58536585 0.47619048 0.7027027  0.63636364\n",
      " 0.69798658 0.70666667 0.55172414 0.5       ]\n"
     ]
    }
   ],
   "source": [
    "print(clf.cv_results_['split4_test_score'])"
   ]
  },
  {
   "cell_type": "markdown",
   "metadata": {},
   "source": [
    "### ROC-AUC"
   ]
  },
  {
   "cell_type": "code",
   "execution_count": 266,
   "metadata": {},
   "outputs": [
    {
     "name": "stdout",
     "output_type": "stream",
     "text": [
      "Best parameters set found on train set : \n",
      "{'kernel': 'linear', 'C': 10}\n",
      "SVC(C=10, kernel='linear')\n",
      "\n",
      "0.836978440555257\n"
     ]
    }
   ],
   "source": [
    "tuned_parameters = [{'kernel' : ['rbf'], 'gamma' : np.random.rand(4), 'C' : [1, 10, 100, 1000]},\n",
    "                    {'kernel' : ['linear'], 'C' : [1, 10, 100, 1000]}]\n",
    "\n",
    "clf = RandomizedSearchCV(SVC(), tuned_parameters, scoring = 'roc_auc')\n",
    "\n",
    "clf.fit(X_train, y_train)\n",
    "\n",
    "print(\"Best parameters set found on train set : \")\n",
    "\n",
    "print(clf.best_params_)\n",
    "\n",
    "print(clf.best_estimator_)\n",
    "\n",
    "print()\n",
    "\n",
    "print(clf.score(X_test, y_test))"
   ]
  },
  {
   "cell_type": "code",
   "execution_count": 267,
   "metadata": {},
   "outputs": [
    {
     "name": "stdout",
     "output_type": "stream",
     "text": [
      "dict_keys(['mean_fit_time', 'std_fit_time', 'mean_score_time', 'std_score_time', 'param_kernel', 'param_gamma', 'param_C', 'params', 'split0_test_score', 'split1_test_score', 'split2_test_score', 'split3_test_score', 'split4_test_score', 'mean_test_score', 'std_test_score', 'rank_test_score'])\n"
     ]
    }
   ],
   "source": [
    "print(clf.cv_results_.keys())"
   ]
  },
  {
   "cell_type": "code",
   "execution_count": 268,
   "metadata": {},
   "outputs": [
    {
     "name": "stdout",
     "output_type": "stream",
     "text": [
      "[0.73204125 0.81418919 0.72706259 0.79587482 0.78076102 0.74128734\n",
      " 0.76191323 0.83623755 0.84406117 0.71443812]\n"
     ]
    }
   ],
   "source": [
    "print(clf.cv_results_['split0_test_score'])"
   ]
  },
  {
   "cell_type": "code",
   "execution_count": 269,
   "metadata": {},
   "outputs": [
    {
     "name": "stdout",
     "output_type": "stream",
     "text": [
      "[0.73528889 0.81315556 0.72177778 0.82311111 0.79253333 0.74897778\n",
      " 0.7472     0.85368889 0.83893333 0.7216    ]\n"
     ]
    }
   ],
   "source": [
    "print(clf.cv_results_['split1_test_score'])"
   ]
  },
  {
   "cell_type": "code",
   "execution_count": 270,
   "metadata": {},
   "outputs": [
    {
     "name": "stdout",
     "output_type": "stream",
     "text": [
      "[0.72540541 0.76396396 0.73369369 0.74468468 0.75495495 0.74432432\n",
      " 0.76198198 0.79297297 0.83567568 0.74288288]\n"
     ]
    }
   ],
   "source": [
    "print(clf.cv_results_['split2_test_score'])"
   ]
  },
  {
   "cell_type": "code",
   "execution_count": 271,
   "metadata": {},
   "outputs": [
    {
     "name": "stdout",
     "output_type": "stream",
     "text": [
      "[0.73297297 0.81027027 0.73315315 0.79135135 0.76720721 0.75027027\n",
      " 0.76414414 0.8627027  0.87657658 0.72504505]\n"
     ]
    }
   ],
   "source": [
    "print(clf.cv_results_['split3_test_score'])"
   ]
  },
  {
   "cell_type": "code",
   "execution_count": 272,
   "metadata": {},
   "outputs": [
    {
     "name": "stdout",
     "output_type": "stream",
     "text": [
      "[0.71297297 0.69891892 0.72216216 0.69279279 0.73063063 0.70612613\n",
      " 0.7363964  0.77063063 0.78       0.71297297]\n"
     ]
    }
   ],
   "source": [
    "print(clf.cv_results_['split4_test_score'])"
   ]
  },
  {
   "cell_type": "markdown",
   "metadata": {},
   "source": [
    "## For the SVM Classifier, The Hyperparameter Tuning Values are as follows:\n",
    "\n",
    "### GridSearchCV\n",
    "\n",
    "    1. Accuracy: 0.7589434971581411\n",
    "    2. Confusion Matrix: array([[1079,  414],  [ 337, 1161]], dtype=int64)\n",
    "    3. Precision: 0.7683284457478006\n",
    "    4. Recall: 0.9392523364485982\n",
    "    5. F1-Score: 0.7706013363028953\n",
    "    6. ROC-AUC: 0.8381597432432795\n",
    "\n",
    "### RandomizedSearchCV\n",
    "\n",
    "    1. Accuracy: 0.7589434971581411\n",
    "    2. Confusion Matrix: array([[1079,  414],  [ 337, 1161]], dtype=int64)\n",
    "    3. Precision: 0.7683284457478006\n",
    "    4. Recall: 0.917890520694259\n",
    "    5. F1-Score: 0.7712376710149539\n",
    "    6. ROC-AUC: 0.836978440555257"
   ]
  },
  {
   "cell_type": "code",
   "execution_count": null,
   "metadata": {},
   "outputs": [],
   "source": []
  },
  {
   "cell_type": "markdown",
   "metadata": {},
   "source": [
    "### 4. DECISION TREE:\n",
    "\n",
    "- Decision Trees are a type of Supervised Machine Learning (that is you explain what the input is and what the corresponding output is in the training data) where the data is continuously split according to a certain parameter. \n",
    "- The tree can be explained by two entities, namely decision nodes and leaves.\n",
    "- It's a flowchart-like structure in which each internal node represents a test on a feature (e.g. whether a coin flip comes up heads or tails), each leaf node represents a class label (decision taken after computing all features) and branches represent conjunctions of features that lead to those class."
   ]
  },
  {
   "cell_type": "markdown",
   "metadata": {},
   "source": [
    "### TRAINING THE MODEL"
   ]
  },
  {
   "cell_type": "code",
   "execution_count": 273,
   "metadata": {},
   "outputs": [
    {
     "data": {
      "text/plain": [
       "DecisionTreeClassifier(max_depth=3)"
      ]
     },
     "execution_count": 273,
     "metadata": {},
     "output_type": "execute_result"
    }
   ],
   "source": [
    "from sklearn.tree import DecisionTreeClassifier\n",
    "classifier = DecisionTreeClassifier(max_depth = 3)\n",
    "classifier.fit(X_train, y_train)"
   ]
  },
  {
   "cell_type": "markdown",
   "metadata": {},
   "source": [
    "### PREDICTING THE MODEL"
   ]
  },
  {
   "cell_type": "code",
   "execution_count": 274,
   "metadata": {},
   "outputs": [],
   "source": [
    "y_pred = classifier.predict(X_test)"
   ]
  },
  {
   "cell_type": "markdown",
   "metadata": {},
   "source": [
    "### EVALUATING THE MODEL USING HYPERPARAMETERS BY GRIDSEARCHCV\n",
    "### ACCURACY"
   ]
  },
  {
   "cell_type": "code",
   "execution_count": 275,
   "metadata": {},
   "outputs": [
    {
     "name": "stdout",
     "output_type": "stream",
     "text": [
      "Best parameters set found on train set : \n",
      "{'max_depth': 5}\n",
      "DecisionTreeClassifier(max_depth=5)\n",
      "\n",
      "0.7305249080575058\n"
     ]
    }
   ],
   "source": [
    "tuned_parameters = [{'max_depth' : [2, 3, 5, 7, 9, 10]}]\n",
    "\n",
    "clf = GridSearchCV(DecisionTreeClassifier(), tuned_parameters, scoring = 'accuracy')\n",
    "\n",
    "clf.fit(X_train, y_train)\n",
    "\n",
    "print(\"Best parameters set found on train set : \")\n",
    "\n",
    "print(clf.best_params_)\n",
    "\n",
    "print(clf.best_estimator_)\n",
    "\n",
    "print()\n",
    "\n",
    "print(clf.score(X_test, y_test))"
   ]
  },
  {
   "cell_type": "code",
   "execution_count": 276,
   "metadata": {},
   "outputs": [
    {
     "name": "stdout",
     "output_type": "stream",
     "text": [
      "dict_keys(['mean_fit_time', 'std_fit_time', 'mean_score_time', 'std_score_time', 'param_max_depth', 'params', 'split0_test_score', 'split1_test_score', 'split2_test_score', 'split3_test_score', 'split4_test_score', 'mean_test_score', 'std_test_score', 'rank_test_score'])\n"
     ]
    }
   ],
   "source": [
    "print(clf.cv_results_.keys())"
   ]
  },
  {
   "cell_type": "code",
   "execution_count": 277,
   "metadata": {},
   "outputs": [
    {
     "name": "stdout",
     "output_type": "stream",
     "text": [
      "[0.72       0.74       0.74       0.70666667 0.68       0.7       ]\n"
     ]
    }
   ],
   "source": [
    "print(clf.cv_results_['split0_test_score'])"
   ]
  },
  {
   "cell_type": "code",
   "execution_count": 278,
   "metadata": {},
   "outputs": [
    {
     "name": "stdout",
     "output_type": "stream",
     "text": [
      "[0.67333333 0.64666667 0.68666667 0.66       0.66       0.65333333]\n"
     ]
    }
   ],
   "source": [
    "print(clf.cv_results_['split1_test_score'])"
   ]
  },
  {
   "cell_type": "code",
   "execution_count": 279,
   "metadata": {},
   "outputs": [
    {
     "name": "stdout",
     "output_type": "stream",
     "text": [
      "[0.69798658 0.66442953 0.7114094  0.67785235 0.69127517 0.69798658]\n"
     ]
    }
   ],
   "source": [
    "print(clf.cv_results_['split2_test_score'])"
   ]
  },
  {
   "cell_type": "code",
   "execution_count": 280,
   "metadata": {},
   "outputs": [
    {
     "name": "stdout",
     "output_type": "stream",
     "text": [
      "[0.71812081 0.69798658 0.69127517 0.75167785 0.6442953  0.65100671]\n"
     ]
    }
   ],
   "source": [
    "print(clf.cv_results_['split3_test_score'])"
   ]
  },
  {
   "cell_type": "code",
   "execution_count": 281,
   "metadata": {},
   "outputs": [
    {
     "name": "stdout",
     "output_type": "stream",
     "text": [
      "[0.67114094 0.66442953 0.67785235 0.65100671 0.67785235 0.65771812]\n"
     ]
    }
   ],
   "source": [
    "print(clf.cv_results_['split4_test_score'])"
   ]
  },
  {
   "cell_type": "markdown",
   "metadata": {},
   "source": [
    "### CONFUSION MATRIX"
   ]
  },
  {
   "cell_type": "code",
   "execution_count": 282,
   "metadata": {},
   "outputs": [],
   "source": [
    "from sklearn.metrics import confusion_matrix"
   ]
  },
  {
   "cell_type": "code",
   "execution_count": 283,
   "metadata": {},
   "outputs": [
    {
     "data": {
      "text/plain": [
       "array([[1077,  416],\n",
       "       [ 493, 1005]], dtype=int64)"
      ]
     },
     "execution_count": 283,
     "metadata": {},
     "output_type": "execute_result"
    }
   ],
   "source": [
    "con_metric = metrics.confusion_matrix(y_test, y_pred)\n",
    "con_metric"
   ]
  },
  {
   "cell_type": "code",
   "execution_count": 284,
   "metadata": {},
   "outputs": [
    {
     "data": {
      "image/png": "[encoded data removed]",
      "text/plain": [
       "<Figure size 432x288 with 2 Axes>"
      ]
     },
     "metadata": {
      "needs_background": "light"
     },
     "output_type": "display_data"
    }
   ],
   "source": [
    "sns.heatmap(con_metric, annot = True, fmt = 'd')\n",
    "plt.title('Confusion Matrix')\n",
    "plt.show()"
   ]
  },
  {
   "cell_type": "markdown",
   "metadata": {},
   "source": [
    "### PRECISION"
   ]
  },
  {
   "cell_type": "code",
   "execution_count": 285,
   "metadata": {},
   "outputs": [
    {
     "name": "stdout",
     "output_type": "stream",
     "text": [
      "Best parameters set found on train set : \n",
      "{'max_depth': 2}\n",
      "DecisionTreeClassifier(max_depth=2)\n",
      "\n",
      "0.7072484166080225\n"
     ]
    }
   ],
   "source": [
    "tuned_parameters = [{'max_depth' : [2, 3, 5, 7, 9, 10]}]\n",
    "\n",
    "clf = GridSearchCV(DecisionTreeClassifier(), tuned_parameters, scoring = 'precision')\n",
    "\n",
    "clf.fit(X_train, y_train)\n",
    "\n",
    "print(\"Best parameters set found on train set : \")\n",
    "\n",
    "print(clf.best_params_)\n",
    "\n",
    "print(clf.best_estimator_)\n",
    "\n",
    "print()\n",
    "\n",
    "print(clf.score(X_test, y_test))"
   ]
  },
  {
   "cell_type": "code",
   "execution_count": 286,
   "metadata": {},
   "outputs": [
    {
     "name": "stdout",
     "output_type": "stream",
     "text": [
      "dict_keys(['mean_fit_time', 'std_fit_time', 'mean_score_time', 'std_score_time', 'param_max_depth', 'params', 'split0_test_score', 'split1_test_score', 'split2_test_score', 'split3_test_score', 'split4_test_score', 'mean_test_score', 'std_test_score', 'rank_test_score'])\n"
     ]
    }
   ],
   "source": [
    "print(clf.cv_results_.keys())"
   ]
  },
  {
   "cell_type": "code",
   "execution_count": 287,
   "metadata": {},
   "outputs": [
    {
     "name": "stdout",
     "output_type": "stream",
     "text": [
      "[0.72857143 0.72151899 0.70588235 0.70666667 0.69863014 0.73529412]\n"
     ]
    }
   ],
   "source": [
    "print(clf.cv_results_['split0_test_score'])"
   ]
  },
  {
   "cell_type": "code",
   "execution_count": 288,
   "metadata": {},
   "outputs": [
    {
     "name": "stdout",
     "output_type": "stream",
     "text": [
      "[0.625      0.59482759 0.67073171 0.62765957 0.6375     0.63013699]\n"
     ]
    }
   ],
   "source": [
    "print(clf.cv_results_['split1_test_score'])"
   ]
  },
  {
   "cell_type": "code",
   "execution_count": 289,
   "metadata": {},
   "outputs": [
    {
     "name": "stdout",
     "output_type": "stream",
     "text": [
      "[0.67901235 0.60169492 0.6741573  0.65555556 0.63333333 0.65060241]\n"
     ]
    }
   ],
   "source": [
    "print(clf.cv_results_['split2_test_score'])"
   ]
  },
  {
   "cell_type": "code",
   "execution_count": 290,
   "metadata": {},
   "outputs": [
    {
     "name": "stdout",
     "output_type": "stream",
     "text": [
      "[0.75806452 0.72307692 0.73333333 0.75       0.64935065 0.64473684]\n"
     ]
    }
   ],
   "source": [
    "print(clf.cv_results_['split3_test_score'])"
   ]
  },
  {
   "cell_type": "code",
   "execution_count": 291,
   "metadata": {},
   "outputs": [
    {
     "name": "stdout",
     "output_type": "stream",
     "text": [
      "[0.79069767 0.72222222 0.66666667 0.66666667 0.66197183 0.67123288]\n"
     ]
    }
   ],
   "source": [
    "print(clf.cv_results_['split4_test_score'])"
   ]
  },
  {
   "cell_type": "markdown",
   "metadata": {},
   "source": [
    "### RECALL"
   ]
  },
  {
   "cell_type": "code",
   "execution_count": 292,
   "metadata": {},
   "outputs": [
    {
     "name": "stdout",
     "output_type": "stream",
     "text": [
      "Best parameters set found on train set : \n",
      "{'max_depth': 3}\n",
      "DecisionTreeClassifier(max_depth=3)\n",
      "\n",
      "0.670894526034713\n"
     ]
    }
   ],
   "source": [
    "tuned_parameters = [{'max_depth' : [2, 3, 5, 7, 9, 10]}]\n",
    "\n",
    "clf = GridSearchCV(DecisionTreeClassifier(), tuned_parameters, scoring = 'recall')\n",
    "\n",
    "clf.fit(X_train, y_train)\n",
    "\n",
    "print(\"Best parameters set found on train set : \")\n",
    "\n",
    "print(clf.best_params_)\n",
    "\n",
    "print(clf.best_estimator_)\n",
    "\n",
    "print()\n",
    "\n",
    "print(clf.score(X_test, y_test))"
   ]
  },
  {
   "cell_type": "code",
   "execution_count": 293,
   "metadata": {},
   "outputs": [
    {
     "name": "stdout",
     "output_type": "stream",
     "text": [
      "dict_keys(['mean_fit_time', 'std_fit_time', 'mean_score_time', 'std_score_time', 'param_max_depth', 'params', 'split0_test_score', 'split1_test_score', 'split2_test_score', 'split3_test_score', 'split4_test_score', 'mean_test_score', 'std_test_score', 'rank_test_score'])\n"
     ]
    }
   ],
   "source": [
    "print(clf.cv_results_.keys())"
   ]
  },
  {
   "cell_type": "code",
   "execution_count": 294,
   "metadata": {},
   "outputs": [
    {
     "name": "stdout",
     "output_type": "stream",
     "text": [
      "[0.68918919 0.77027027 0.81081081 0.72972973 0.68918919 0.67567568]\n"
     ]
    }
   ],
   "source": [
    "print(clf.cv_results_['split0_test_score'])"
   ]
  },
  {
   "cell_type": "code",
   "execution_count": 295,
   "metadata": {},
   "outputs": [
    {
     "name": "stdout",
     "output_type": "stream",
     "text": [
      "[0.86666667 0.92       0.73333333 0.8        0.66666667 0.61333333]\n"
     ]
    }
   ],
   "source": [
    "print(clf.cv_results_['split1_test_score'])"
   ]
  },
  {
   "cell_type": "code",
   "execution_count": 296,
   "metadata": {},
   "outputs": [
    {
     "name": "stdout",
     "output_type": "stream",
     "text": [
      "[0.74324324 0.95945946 0.81081081 0.7972973  0.7972973  0.78378378]\n"
     ]
    }
   ],
   "source": [
    "print(clf.cv_results_['split2_test_score'])"
   ]
  },
  {
   "cell_type": "code",
   "execution_count": 297,
   "metadata": {},
   "outputs": [
    {
     "name": "stdout",
     "output_type": "stream",
     "text": [
      "[0.63513514 0.63513514 0.59459459 0.71621622 0.64864865 0.64864865]\n"
     ]
    }
   ],
   "source": [
    "print(clf.cv_results_['split3_test_score'])"
   ]
  },
  {
   "cell_type": "code",
   "execution_count": 298,
   "metadata": {},
   "outputs": [
    {
     "name": "stdout",
     "output_type": "stream",
     "text": [
      "[0.45945946 0.52702703 0.63513514 0.62162162 0.64864865 0.66216216]\n"
     ]
    }
   ],
   "source": [
    "print(clf.cv_results_['split4_test_score'])"
   ]
  },
  {
   "cell_type": "markdown",
   "metadata": {},
   "source": [
    "### F1-SCORE"
   ]
  },
  {
   "cell_type": "code",
   "execution_count": 299,
   "metadata": {},
   "outputs": [
    {
     "name": "stdout",
     "output_type": "stream",
     "text": [
      "Best parameters set found on train set : \n",
      "{'max_depth': 5}\n",
      "DecisionTreeClassifier(max_depth=5)\n",
      "\n",
      "0.74368\n"
     ]
    }
   ],
   "source": [
    "tuned_parameters = [{'max_depth' : [2, 3, 5, 7, 9, 10]}]\n",
    "\n",
    "clf = GridSearchCV(DecisionTreeClassifier(), tuned_parameters, scoring = 'f1')\n",
    "\n",
    "clf.fit(X_train, y_train)\n",
    "\n",
    "print(\"Best parameters set found on train set : \")\n",
    "\n",
    "print(clf.best_params_)\n",
    "\n",
    "print(clf.best_estimator_)\n",
    "\n",
    "print()\n",
    "\n",
    "print(clf.score(X_test, y_test))"
   ]
  },
  {
   "cell_type": "code",
   "execution_count": 300,
   "metadata": {},
   "outputs": [
    {
     "name": "stdout",
     "output_type": "stream",
     "text": [
      "dict_keys(['mean_fit_time', 'std_fit_time', 'mean_score_time', 'std_score_time', 'param_max_depth', 'params', 'split0_test_score', 'split1_test_score', 'split2_test_score', 'split3_test_score', 'split4_test_score', 'mean_test_score', 'std_test_score', 'rank_test_score'])\n"
     ]
    }
   ],
   "source": [
    "print(clf.cv_results_.keys())"
   ]
  },
  {
   "cell_type": "code",
   "execution_count": 301,
   "metadata": {},
   "outputs": [
    {
     "name": "stdout",
     "output_type": "stream",
     "text": [
      "[0.70833333 0.74509804 0.7625     0.71052632 0.69387755 0.69863014]\n"
     ]
    }
   ],
   "source": [
    "print(clf.cv_results_['split0_test_score'])"
   ]
  },
  {
   "cell_type": "code",
   "execution_count": 302,
   "metadata": {},
   "outputs": [
    {
     "name": "stdout",
     "output_type": "stream",
     "text": [
      "[0.72625698 0.72251309 0.70063694 0.69047619 0.65359477 0.63945578]\n"
     ]
    }
   ],
   "source": [
    "print(clf.cv_results_['split1_test_score'])"
   ]
  },
  {
   "cell_type": "code",
   "execution_count": 303,
   "metadata": {},
   "outputs": [
    {
     "name": "stdout",
     "output_type": "stream",
     "text": [
      "[0.70967742 0.73958333 0.73619632 0.70807453 0.6918239  0.69677419]\n"
     ]
    }
   ],
   "source": [
    "print(clf.cv_results_['split2_test_score'])"
   ]
  },
  {
   "cell_type": "code",
   "execution_count": 304,
   "metadata": {},
   "outputs": [
    {
     "name": "stdout",
     "output_type": "stream",
     "text": [
      "[0.69117647 0.67625899 0.65671642 0.74482759 0.65333333 0.66216216]\n"
     ]
    }
   ],
   "source": [
    "print(clf.cv_results_['split3_test_score'])"
   ]
  },
  {
   "cell_type": "code",
   "execution_count": 305,
   "metadata": {},
   "outputs": [
    {
     "name": "stdout",
     "output_type": "stream",
     "text": [
      "[0.58119658 0.609375   0.65734266 0.61428571 0.65771812 0.66216216]\n"
     ]
    }
   ],
   "source": [
    "print(clf.cv_results_['split4_test_score'])"
   ]
  },
  {
   "cell_type": "markdown",
   "metadata": {},
   "source": [
    "### ROC-AUC"
   ]
  },
  {
   "cell_type": "code",
   "execution_count": 306,
   "metadata": {},
   "outputs": [
    {
     "name": "stdout",
     "output_type": "stream",
     "text": [
      "Best parameters set found on train set : \n",
      "{'max_depth': 3}\n",
      "DecisionTreeClassifier(max_depth=3)\n",
      "\n",
      "0.7853525620675748\n"
     ]
    }
   ],
   "source": [
    "tuned_parameters = [{'max_depth' : [2, 3, 5, 7, 9, 10]}]\n",
    "\n",
    "clf = GridSearchCV(DecisionTreeClassifier(), tuned_parameters, scoring = 'roc_auc')\n",
    "\n",
    "clf.fit(X_train, y_train)\n",
    "\n",
    "print(\"Best parameters set found on train set : \")\n",
    "\n",
    "print(clf.best_params_)\n",
    "\n",
    "print(clf.best_estimator_)\n",
    "\n",
    "print()\n",
    "\n",
    "print(clf.score(X_test, y_test))"
   ]
  },
  {
   "cell_type": "code",
   "execution_count": 307,
   "metadata": {},
   "outputs": [
    {
     "name": "stdout",
     "output_type": "stream",
     "text": [
      "dict_keys(['mean_fit_time', 'std_fit_time', 'mean_score_time', 'std_score_time', 'param_max_depth', 'params', 'split0_test_score', 'split1_test_score', 'split2_test_score', 'split3_test_score', 'split4_test_score', 'mean_test_score', 'std_test_score', 'rank_test_score'])\n"
     ]
    }
   ],
   "source": [
    "print(clf.cv_results_.keys())"
   ]
  },
  {
   "cell_type": "code",
   "execution_count": 308,
   "metadata": {},
   "outputs": [
    {
     "name": "stdout",
     "output_type": "stream",
     "text": [
      "[0.7765825  0.83214794 0.82939189 0.75933499 0.68545519 0.67780939]\n"
     ]
    }
   ],
   "source": [
    "print(clf.cv_results_['split0_test_score'])"
   ]
  },
  {
   "cell_type": "code",
   "execution_count": 309,
   "metadata": {},
   "outputs": [
    {
     "name": "stdout",
     "output_type": "stream",
     "text": [
      "[0.684      0.74453333 0.73617778 0.65848889 0.63475556 0.63368889]\n"
     ]
    }
   ],
   "source": [
    "print(clf.cv_results_['split1_test_score'])"
   ]
  },
  {
   "cell_type": "code",
   "execution_count": 310,
   "metadata": {},
   "outputs": [
    {
     "name": "stdout",
     "output_type": "stream",
     "text": [
      "[0.71333333 0.78783784 0.76558559 0.71567568 0.66990991 0.66099099]\n"
     ]
    }
   ],
   "source": [
    "print(clf.cv_results_['split2_test_score'])"
   ]
  },
  {
   "cell_type": "code",
   "execution_count": 311,
   "metadata": {},
   "outputs": [
    {
     "name": "stdout",
     "output_type": "stream",
     "text": [
      "[0.77972973 0.79054054 0.78603604 0.73792793 0.71324324 0.69063063]\n"
     ]
    }
   ],
   "source": [
    "print(clf.cv_results_['split3_test_score'])"
   ]
  },
  {
   "cell_type": "code",
   "execution_count": 312,
   "metadata": {},
   "outputs": [
    {
     "name": "stdout",
     "output_type": "stream",
     "text": [
      "[0.69387387 0.73432432 0.72891892 0.67864865 0.65702703 0.66333333]\n"
     ]
    }
   ],
   "source": [
    "print(clf.cv_results_['split4_test_score'])"
   ]
  },
  {
   "cell_type": "markdown",
   "metadata": {},
   "source": [
    "### EVALUATING THE MODEL USING HYPERPARAMETERS BY RANDOMIZEDSEARCHCV\n",
    "### ACCURACY"
   ]
  },
  {
   "cell_type": "code",
   "execution_count": 313,
   "metadata": {},
   "outputs": [
    {
     "name": "stdout",
     "output_type": "stream",
     "text": [
      "Best parameters set found on train set : \n",
      "{'max_depth': 5}\n",
      "DecisionTreeClassifier(max_depth=5)\n",
      "\n",
      "0.7305249080575058\n"
     ]
    }
   ],
   "source": [
    "tuned_parameters = [{'max_depth' : [2, 3, 5, 7, 9, 10]}]\n",
    "\n",
    "clf = RandomizedSearchCV(DecisionTreeClassifier(), tuned_parameters, scoring = 'accuracy')\n",
    "\n",
    "clf.fit(X_train, y_train)\n",
    "\n",
    "print(\"Best parameters set found on train set : \")\n",
    "\n",
    "print(clf.best_params_)\n",
    "\n",
    "print(clf.best_estimator_)\n",
    "\n",
    "print()\n",
    "\n",
    "print(clf.score(X_test, y_test))"
   ]
  },
  {
   "cell_type": "markdown",
   "metadata": {},
   "source": [
    "### CONFUSION MATRIX"
   ]
  },
  {
   "cell_type": "code",
   "execution_count": 314,
   "metadata": {},
   "outputs": [],
   "source": [
    "from sklearn.metrics import confusion_matrix"
   ]
  },
  {
   "cell_type": "code",
   "execution_count": 315,
   "metadata": {},
   "outputs": [
    {
     "data": {
      "text/plain": [
       "array([[1077,  416],\n",
       "       [ 493, 1005]], dtype=int64)"
      ]
     },
     "execution_count": 315,
     "metadata": {},
     "output_type": "execute_result"
    }
   ],
   "source": [
    "con_metric = metrics.confusion_matrix(y_test, y_pred)\n",
    "con_metric"
   ]
  },
  {
   "cell_type": "code",
   "execution_count": 316,
   "metadata": {},
   "outputs": [
    {
     "data": {
      "image/png": "[encoded data removed]",
      "text/plain": [
       "<Figure size 432x288 with 2 Axes>"
      ]
     },
     "metadata": {
      "needs_background": "light"
     },
     "output_type": "display_data"
    }
   ],
   "source": [
    "sns.heatmap(con_metric, annot = True, fmt = 'd')\n",
    "plt.title('Confusion Matrix')\n",
    "plt.show()"
   ]
  },
  {
   "cell_type": "markdown",
   "metadata": {},
   "source": [
    "### PRECISION"
   ]
  },
  {
   "cell_type": "code",
   "execution_count": 317,
   "metadata": {},
   "outputs": [
    {
     "name": "stdout",
     "output_type": "stream",
     "text": [
      "Best parameters set found on train set : \n",
      "{'max_depth': 2}\n",
      "DecisionTreeClassifier(max_depth=2)\n",
      "\n",
      "0.7072484166080225\n"
     ]
    }
   ],
   "source": [
    "tuned_parameters = [{'max_depth' : [2, 3, 5, 7, 9, 10]}]\n",
    "\n",
    "clf = RandomizedSearchCV(DecisionTreeClassifier(), tuned_parameters, scoring = 'precision')\n",
    "\n",
    "clf.fit(X_train, y_train)\n",
    "\n",
    "print(\"Best parameters set found on train set : \")\n",
    "\n",
    "print(clf.best_params_)\n",
    "\n",
    "print(clf.best_estimator_)\n",
    "\n",
    "print()\n",
    "\n",
    "print(clf.score(X_test, y_test))"
   ]
  },
  {
   "cell_type": "code",
   "execution_count": 318,
   "metadata": {},
   "outputs": [
    {
     "name": "stdout",
     "output_type": "stream",
     "text": [
      "dict_keys(['mean_fit_time', 'std_fit_time', 'mean_score_time', 'std_score_time', 'param_max_depth', 'params', 'split0_test_score', 'split1_test_score', 'split2_test_score', 'split3_test_score', 'split4_test_score', 'mean_test_score', 'std_test_score', 'rank_test_score'])\n"
     ]
    }
   ],
   "source": [
    "print(clf.cv_results_.keys())"
   ]
  },
  {
   "cell_type": "code",
   "execution_count": 319,
   "metadata": {},
   "outputs": [
    {
     "name": "stdout",
     "output_type": "stream",
     "text": [
      "[0.72857143 0.72151899 0.69767442 0.71052632 0.71232877 0.7       ]\n"
     ]
    }
   ],
   "source": [
    "print(clf.cv_results_['split0_test_score'])"
   ]
  },
  {
   "cell_type": "code",
   "execution_count": 320,
   "metadata": {},
   "outputs": [
    {
     "name": "stdout",
     "output_type": "stream",
     "text": [
      "[0.625      0.59482759 0.67073171 0.6185567  0.65384615 0.65277778]\n"
     ]
    }
   ],
   "source": [
    "print(clf.cv_results_['split1_test_score'])"
   ]
  },
  {
   "cell_type": "code",
   "execution_count": 321,
   "metadata": {},
   "outputs": [
    {
     "name": "stdout",
     "output_type": "stream",
     "text": [
      "[0.67901235 0.60169492 0.65934066 0.64044944 0.6547619  0.63636364]\n"
     ]
    }
   ],
   "source": [
    "print(clf.cv_results_['split2_test_score'])"
   ]
  },
  {
   "cell_type": "code",
   "execution_count": 322,
   "metadata": {},
   "outputs": [
    {
     "name": "stdout",
     "output_type": "stream",
     "text": [
      "[0.75806452 0.72307692 0.73333333 0.73972603 0.65753425 0.62337662]\n"
     ]
    }
   ],
   "source": [
    "print(clf.cv_results_['split3_test_score'])"
   ]
  },
  {
   "cell_type": "code",
   "execution_count": 323,
   "metadata": {},
   "outputs": [
    {
     "name": "stdout",
     "output_type": "stream",
     "text": [
      "[0.79069767 0.72222222 0.68115942 0.66176471 0.67605634 0.68055556]\n"
     ]
    }
   ],
   "source": [
    "print(clf.cv_results_['split4_test_score'])"
   ]
  },
  {
   "cell_type": "markdown",
   "metadata": {},
   "source": [
    "### RECALL"
   ]
  },
  {
   "cell_type": "code",
   "execution_count": 324,
   "metadata": {},
   "outputs": [
    {
     "name": "stdout",
     "output_type": "stream",
     "text": [
      "Best parameters set found on train set : \n",
      "{'max_depth': 3}\n",
      "DecisionTreeClassifier(max_depth=3)\n",
      "\n",
      "0.670894526034713\n"
     ]
    }
   ],
   "source": [
    "tuned_parameters = [{'max_depth' : [2, 3, 5, 7, 9, 10]}]\n",
    "\n",
    "clf = RandomizedSearchCV(DecisionTreeClassifier(), tuned_parameters, scoring = 'recall')\n",
    "\n",
    "clf.fit(X_train, y_train)\n",
    "\n",
    "print(\"Best parameters set found on train set : \")\n",
    "\n",
    "print(clf.best_params_)\n",
    "\n",
    "print(clf.best_estimator_)\n",
    "\n",
    "print()\n",
    "\n",
    "print(clf.score(X_test, y_test))"
   ]
  },
  {
   "cell_type": "code",
   "execution_count": 325,
   "metadata": {},
   "outputs": [
    {
     "name": "stdout",
     "output_type": "stream",
     "text": [
      "dict_keys(['mean_fit_time', 'std_fit_time', 'mean_score_time', 'std_score_time', 'param_max_depth', 'params', 'split0_test_score', 'split1_test_score', 'split2_test_score', 'split3_test_score', 'split4_test_score', 'mean_test_score', 'std_test_score', 'rank_test_score'])\n"
     ]
    }
   ],
   "source": [
    "print(clf.cv_results_.keys())"
   ]
  },
  {
   "cell_type": "code",
   "execution_count": 326,
   "metadata": {},
   "outputs": [
    {
     "name": "stdout",
     "output_type": "stream",
     "text": [
      "[0.68918919 0.77027027 0.81081081 0.7027027  0.7027027  0.67567568]\n"
     ]
    }
   ],
   "source": [
    "print(clf.cv_results_['split0_test_score'])"
   ]
  },
  {
   "cell_type": "code",
   "execution_count": 327,
   "metadata": {},
   "outputs": [
    {
     "name": "stdout",
     "output_type": "stream",
     "text": [
      "[0.86666667 0.92       0.73333333 0.78666667 0.68       0.62666667]\n"
     ]
    }
   ],
   "source": [
    "print(clf.cv_results_['split1_test_score'])"
   ]
  },
  {
   "cell_type": "code",
   "execution_count": 328,
   "metadata": {},
   "outputs": [
    {
     "name": "stdout",
     "output_type": "stream",
     "text": [
      "[0.74324324 0.95945946 0.81081081 0.7972973  0.68918919 0.72972973]\n"
     ]
    }
   ],
   "source": [
    "print(clf.cv_results_['split2_test_score'])"
   ]
  },
  {
   "cell_type": "code",
   "execution_count": 329,
   "metadata": {},
   "outputs": [
    {
     "name": "stdout",
     "output_type": "stream",
     "text": [
      "[0.63513514 0.63513514 0.59459459 0.71621622 0.60810811 0.68918919]\n"
     ]
    }
   ],
   "source": [
    "print(clf.cv_results_['split3_test_score'])"
   ]
  },
  {
   "cell_type": "code",
   "execution_count": 330,
   "metadata": {},
   "outputs": [
    {
     "name": "stdout",
     "output_type": "stream",
     "text": [
      "[0.45945946 0.52702703 0.63513514 0.60810811 0.63513514 0.62162162]\n"
     ]
    }
   ],
   "source": [
    "print(clf.cv_results_['split4_test_score'])"
   ]
  },
  {
   "cell_type": "markdown",
   "metadata": {},
   "source": [
    "### F1-SCORE"
   ]
  },
  {
   "cell_type": "code",
   "execution_count": 331,
   "metadata": {},
   "outputs": [
    {
     "name": "stdout",
     "output_type": "stream",
     "text": [
      "Best parameters set found on train set : \n",
      "{'max_depth': 5}\n",
      "DecisionTreeClassifier(max_depth=5)\n",
      "\n",
      "0.7423273657289003\n"
     ]
    }
   ],
   "source": [
    "tuned_parameters = [{'max_depth' : [2, 3, 5, 7, 9, 10]}]\n",
    "\n",
    "clf = RandomizedSearchCV(DecisionTreeClassifier(), tuned_parameters, scoring = 'f1')\n",
    "\n",
    "clf.fit(X_train, y_train)\n",
    "\n",
    "print(\"Best parameters set found on train set : \")\n",
    "\n",
    "print(clf.best_params_)\n",
    "\n",
    "print(clf.best_estimator_)\n",
    "\n",
    "print()\n",
    "\n",
    "print(clf.score(X_test, y_test))"
   ]
  },
  {
   "cell_type": "code",
   "execution_count": 332,
   "metadata": {},
   "outputs": [
    {
     "name": "stdout",
     "output_type": "stream",
     "text": [
      "dict_keys(['mean_fit_time', 'std_fit_time', 'mean_score_time', 'std_score_time', 'param_max_depth', 'params', 'split0_test_score', 'split1_test_score', 'split2_test_score', 'split3_test_score', 'split4_test_score', 'mean_test_score', 'std_test_score', 'rank_test_score'])\n"
     ]
    }
   ],
   "source": [
    "print(clf.cv_results_.keys())"
   ]
  },
  {
   "cell_type": "code",
   "execution_count": 333,
   "metadata": {},
   "outputs": [
    {
     "name": "stdout",
     "output_type": "stream",
     "text": [
      "[0.70833333 0.74509804 0.75776398 0.70748299 0.68965517 0.68493151]\n"
     ]
    }
   ],
   "source": [
    "print(clf.cv_results_['split0_test_score'])"
   ]
  },
  {
   "cell_type": "code",
   "execution_count": 334,
   "metadata": {},
   "outputs": [
    {
     "name": "stdout",
     "output_type": "stream",
     "text": [
      "[0.72625698 0.72251309 0.69620253 0.70588235 0.64935065 0.64      ]\n"
     ]
    }
   ],
   "source": [
    "print(clf.cv_results_['split1_test_score'])"
   ]
  },
  {
   "cell_type": "code",
   "execution_count": 335,
   "metadata": {},
   "outputs": [
    {
     "name": "stdout",
     "output_type": "stream",
     "text": [
      "[0.70967742 0.73958333 0.73619632 0.7195122  0.70731707 0.7       ]\n"
     ]
    }
   ],
   "source": [
    "print(clf.cv_results_['split2_test_score'])"
   ]
  },
  {
   "cell_type": "code",
   "execution_count": 336,
   "metadata": {},
   "outputs": [
    {
     "name": "stdout",
     "output_type": "stream",
     "text": [
      "[0.69117647 0.67625899 0.65671642 0.73103448 0.66666667 0.64383562]\n"
     ]
    }
   ],
   "source": [
    "print(clf.cv_results_['split3_test_score'])"
   ]
  },
  {
   "cell_type": "code",
   "execution_count": 337,
   "metadata": {},
   "outputs": [
    {
     "name": "stdout",
     "output_type": "stream",
     "text": [
      "[0.58119658 0.609375   0.65753425 0.63380282 0.64827586 0.63829787]\n"
     ]
    }
   ],
   "source": [
    "print(clf.cv_results_['split4_test_score'])"
   ]
  },
  {
   "cell_type": "markdown",
   "metadata": {},
   "source": [
    "### ROC-AUC"
   ]
  },
  {
   "cell_type": "code",
   "execution_count": 338,
   "metadata": {},
   "outputs": [
    {
     "name": "stdout",
     "output_type": "stream",
     "text": [
      "Best parameters set found on train set : \n",
      "{'max_depth': 3}\n",
      "DecisionTreeClassifier(max_depth=3)\n",
      "\n",
      "0.7853525620675748\n"
     ]
    }
   ],
   "source": [
    "tuned_parameters = [{'max_depth' : [2, 3, 5, 7, 9, 10]}]\n",
    "\n",
    "clf = RandomizedSearchCV(DecisionTreeClassifier(), tuned_parameters, scoring = 'roc_auc')\n",
    "\n",
    "clf.fit(X_train, y_train)\n",
    "\n",
    "print(\"Best parameters set found on train set : \")\n",
    "\n",
    "print(clf.best_params_)\n",
    "\n",
    "print(clf.best_estimator_)\n",
    "\n",
    "print()\n",
    "\n",
    "print(clf.score(X_test, y_test))"
   ]
  },
  {
   "cell_type": "code",
   "execution_count": 339,
   "metadata": {},
   "outputs": [
    {
     "name": "stdout",
     "output_type": "stream",
     "text": [
      "dict_keys(['mean_fit_time', 'std_fit_time', 'mean_score_time', 'std_score_time', 'param_max_depth', 'params', 'split0_test_score', 'split1_test_score', 'split2_test_score', 'split3_test_score', 'split4_test_score', 'mean_test_score', 'std_test_score', 'rank_test_score'])\n"
     ]
    }
   ],
   "source": [
    "print(clf.cv_results_.keys())"
   ]
  },
  {
   "cell_type": "code",
   "execution_count": 340,
   "metadata": {},
   "outputs": [
    {
     "name": "stdout",
     "output_type": "stream",
     "text": [
      "[0.7765825  0.83214794 0.81899004 0.76653627 0.69674609 0.69185633]\n"
     ]
    }
   ],
   "source": [
    "print(clf.cv_results_['split0_test_score'])"
   ]
  },
  {
   "cell_type": "code",
   "execution_count": 341,
   "metadata": {},
   "outputs": [
    {
     "name": "stdout",
     "output_type": "stream",
     "text": [
      "[0.684      0.74453333 0.72346667 0.64951111 0.64568889 0.64017778]\n"
     ]
    }
   ],
   "source": [
    "print(clf.cv_results_['split1_test_score'])"
   ]
  },
  {
   "cell_type": "code",
   "execution_count": 342,
   "metadata": {},
   "outputs": [
    {
     "name": "stdout",
     "output_type": "stream",
     "text": [
      "[0.71333333 0.78783784 0.76558559 0.70936937 0.71783784 0.65423423]\n"
     ]
    }
   ],
   "source": [
    "print(clf.cv_results_['split2_test_score'])"
   ]
  },
  {
   "cell_type": "code",
   "execution_count": 343,
   "metadata": {},
   "outputs": [
    {
     "name": "stdout",
     "output_type": "stream",
     "text": [
      "[0.77972973 0.79054054 0.78603604 0.7681982  0.7072973  0.70171171]\n"
     ]
    }
   ],
   "source": [
    "print(clf.cv_results_['split3_test_score'])"
   ]
  },
  {
   "cell_type": "code",
   "execution_count": 344,
   "metadata": {},
   "outputs": [
    {
     "name": "stdout",
     "output_type": "stream",
     "text": [
      "[0.69387387 0.73432432 0.72963964 0.67171171 0.66414414 0.65702703]\n"
     ]
    }
   ],
   "source": [
    "print(clf.cv_results_['split4_test_score'])"
   ]
  },
  {
   "cell_type": "markdown",
   "metadata": {},
   "source": [
    "## For the Decision Tree Classifier, The Hyperparameter Tuning Values are as follows:\n",
    "\n",
    "### GridSearchCV\n",
    "\n",
    "    1. Accuracy: 0.7305249080575058\n",
    "    2. Confusion Matrix: array([[1077,  416],  [ 493, 1005]], dtype=int64)\n",
    "    3. Precision: 0.7072484166080225\n",
    "    4. Recall: 0.670894526034713\n",
    "    5. F1-Score: 0.74368\n",
    "    6. ROC-AUC: 0.7853525620675748\n",
    "\n",
    "### RandomizedSearchCV\n",
    "\n",
    "    1. Accuracy: 0.7305249080575058\n",
    "    2. Confusion Matrix: array([[1077,  416],  [ 493, 1005]], dtype=int64)\n",
    "    3. Precision: 0.7072484166080225\n",
    "    4. Recall: 0.670894526034713\n",
    "    5. F1-Score: 0.7423273657289003\n",
    "    6. ROC-AUC: 0.7853525620675748"
   ]
  },
  {
   "cell_type": "code",
   "execution_count": null,
   "metadata": {},
   "outputs": [],
   "source": []
  },
  {
   "cell_type": "markdown",
   "metadata": {},
   "source": [
    "### 5. RANDOM FOREST: \n",
    "\n",
    "- Random forest is a supervised learning algorithm which is used for both classification as well as regression.\n",
    "- Random forests or random decision forests are an ensemble learning method for classification, regression and other tasks that operate by constructing a multitude of decision trees at training time and outputting the class that is the mode of the classes (classification) or mean/average prediction (regression) of the individual trees.\n",
    "- Similarly, random forest algorithm creates decision trees on data samples and then gets the prediction from each of them and finally selects the best solution by means of voting.\n",
    "\n",
    "#### What is Random in Random Forest algorithm?\n",
    "\n",
    "- The random forest is a classification algorithm consisting of many decisions trees. \n",
    "- It uses bagging and feature randomness when building each individual tree to try to create an uncorrelated forest of trees whose prediction by committee is more accurate than that of any individual tree.\n",
    "\n",
    "#### What is Random Classifier?\n",
    "\n",
    "- Random forest classifier creates a set of decision trees from randomly selected subset of training set. \n",
    "- It then aggregates the votes from different decision trees to decide the final class of the test object.\n",
    "\n",
    "#### Is Random Forest a boosting algorithm?\n",
    "\n",
    "- A random forest is not considered a boosting type of algorithm.\n",
    "- A random forest, in contrast, is an ensemble bagging or averaging method that aims to reduce the variance of individual trees by randomly selecting (and thus de-correlating) many trees from the dataset, and averaging them.\n",
    "\n",
    "#### What is Bagging Technique in Machine Learning?\n",
    "\n",
    "- Bootstrap aggregating, also called bagging (from bootstrap aggregating), is a machine learning ensemble meta-algorithm designed to improve the stability and accuracy of machine learning algorithms used in statistical classification and regression. \n",
    "- It also reduces variance and helps to avoid overfitting."
   ]
  },
  {
   "cell_type": "markdown",
   "metadata": {},
   "source": [
    "### TRAINING THE MODEL"
   ]
  },
  {
   "cell_type": "code",
   "execution_count": 345,
   "metadata": {},
   "outputs": [
    {
     "data": {
      "text/plain": [
       "RandomForestClassifier(max_depth=3)"
      ]
     },
     "execution_count": 345,
     "metadata": {},
     "output_type": "execute_result"
    }
   ],
   "source": [
    "from sklearn.ensemble import RandomForestClassifier\n",
    "classifier = RandomForestClassifier(max_depth = 3)\n",
    "classifier.fit(X_train, y_train)"
   ]
  },
  {
   "cell_type": "markdown",
   "metadata": {},
   "source": [
    "### PREDICTING THE MODEL"
   ]
  },
  {
   "cell_type": "code",
   "execution_count": 346,
   "metadata": {},
   "outputs": [],
   "source": [
    "y_test_pred = classifier.predict(X_test)"
   ]
  },
  {
   "cell_type": "markdown",
   "metadata": {},
   "source": [
    "### EVALUATING THE MODEL USING HYPERPARAMETERS BY GRIDSEARCHCV\n",
    "### ACCURACY"
   ]
  },
  {
   "cell_type": "code",
   "execution_count": 347,
   "metadata": {},
   "outputs": [
    {
     "name": "stdout",
     "output_type": "stream",
     "text": [
      "Best parameters set found on train set : \n",
      "{'max_depth': 10, 'min_samples_split': 7}\n",
      "RandomForestClassifier(max_depth=10, min_samples_split=7)\n",
      "\n",
      "0.7535941156803745\n"
     ]
    }
   ],
   "source": [
    "tuned_parameters = [{'min_samples_split': [2, 5, 7, 9, 10], 'max_depth' : [3, 5, 7, 10]}]\n",
    "\n",
    "clf = GridSearchCV(RandomForestClassifier(), tuned_parameters, scoring = 'accuracy')\n",
    "\n",
    "clf.fit(X_train, y_train)\n",
    "\n",
    "print(\"Best parameters set found on train set : \")\n",
    "\n",
    "print(clf.best_params_)\n",
    "\n",
    "print(clf.best_estimator_)\n",
    "\n",
    "print()\n",
    "\n",
    "print(clf.score(X_test, y_test))"
   ]
  },
  {
   "cell_type": "code",
   "execution_count": 348,
   "metadata": {},
   "outputs": [
    {
     "name": "stdout",
     "output_type": "stream",
     "text": [
      "dict_keys(['mean_fit_time', 'std_fit_time', 'mean_score_time', 'std_score_time', 'param_max_depth', 'param_min_samples_split', 'params', 'split0_test_score', 'split1_test_score', 'split2_test_score', 'split3_test_score', 'split4_test_score', 'mean_test_score', 'std_test_score', 'rank_test_score'])\n"
     ]
    }
   ],
   "source": [
    "print(clf.cv_results_.keys())"
   ]
  },
  {
   "cell_type": "code",
   "execution_count": 349,
   "metadata": {},
   "outputs": [
    {
     "name": "stdout",
     "output_type": "stream",
     "text": [
      "[0.74666667 0.74       0.74666667 0.74666667 0.75333333 0.75333333\n",
      " 0.76       0.75333333 0.76       0.79333333 0.76       0.77333333\n",
      " 0.78666667 0.76       0.79333333 0.76666667 0.77333333 0.78666667\n",
      " 0.78666667 0.80666667]\n"
     ]
    }
   ],
   "source": [
    "print(clf.cv_results_['split0_test_score'])"
   ]
  },
  {
   "cell_type": "code",
   "execution_count": 350,
   "metadata": {},
   "outputs": [
    {
     "name": "stdout",
     "output_type": "stream",
     "text": [
      "[0.76       0.76666667 0.74666667 0.76666667 0.74666667 0.72666667\n",
      " 0.74666667 0.74       0.74       0.73333333 0.74666667 0.76\n",
      " 0.77333333 0.73333333 0.75333333 0.73333333 0.76666667 0.76\n",
      " 0.76       0.76      ]\n"
     ]
    }
   ],
   "source": [
    "print(clf.cv_results_['split1_test_score'])"
   ]
  },
  {
   "cell_type": "code",
   "execution_count": 351,
   "metadata": {},
   "outputs": [
    {
     "name": "stdout",
     "output_type": "stream",
     "text": [
      "[0.69127517 0.69798658 0.69127517 0.70469799 0.69798658 0.72483221\n",
      " 0.69798658 0.69127517 0.66442953 0.70469799 0.72483221 0.71812081\n",
      " 0.7114094  0.7114094  0.69798658 0.71812081 0.69798658 0.72483221\n",
      " 0.7114094  0.70469799]\n"
     ]
    }
   ],
   "source": [
    "print(clf.cv_results_['split2_test_score'])"
   ]
  },
  {
   "cell_type": "code",
   "execution_count": 352,
   "metadata": {},
   "outputs": [
    {
     "name": "stdout",
     "output_type": "stream",
     "text": [
      "[0.75838926 0.79194631 0.79865772 0.81208054 0.76510067 0.7852349\n",
      " 0.76510067 0.79194631 0.80536913 0.79194631 0.81879195 0.81208054\n",
      " 0.79865772 0.7852349  0.79865772 0.77852349 0.81208054 0.79865772\n",
      " 0.79194631 0.79865772]\n"
     ]
    }
   ],
   "source": [
    "print(clf.cv_results_['split3_test_score'])"
   ]
  },
  {
   "cell_type": "code",
   "execution_count": 353,
   "metadata": {},
   "outputs": [
    {
     "name": "stdout",
     "output_type": "stream",
     "text": [
      "[0.69127517 0.71812081 0.71812081 0.67785235 0.69127517 0.73154362\n",
      " 0.69798658 0.67785235 0.7114094  0.69798658 0.71812081 0.70469799\n",
      " 0.69798658 0.7114094  0.69127517 0.71812081 0.70469799 0.71812081\n",
      " 0.7114094  0.71812081]\n"
     ]
    }
   ],
   "source": [
    "print(clf.cv_results_['split4_test_score'])"
   ]
  },
  {
   "cell_type": "markdown",
   "metadata": {},
   "source": [
    "### CONFUSION MATRIX"
   ]
  },
  {
   "cell_type": "code",
   "execution_count": 354,
   "metadata": {},
   "outputs": [],
   "source": [
    "from sklearn.metrics import confusion_matrix"
   ]
  },
  {
   "cell_type": "code",
   "execution_count": 355,
   "metadata": {},
   "outputs": [
    {
     "data": {
      "text/plain": [
       "array([[1077,  416],\n",
       "       [ 493, 1005]], dtype=int64)"
      ]
     },
     "execution_count": 355,
     "metadata": {},
     "output_type": "execute_result"
    }
   ],
   "source": [
    "con_metric = metrics.confusion_matrix(y_test, y_pred)\n",
    "con_metric"
   ]
  },
  {
   "cell_type": "code",
   "execution_count": 356,
   "metadata": {},
   "outputs": [
    {
     "data": {
      "image/png": "[encoded data removed]",
      "text/plain": [
       "<Figure size 432x288 with 2 Axes>"
      ]
     },
     "metadata": {
      "needs_background": "light"
     },
     "output_type": "display_data"
    }
   ],
   "source": [
    "sns.heatmap(con_metric, annot = True, fmt = 'd')\n",
    "plt.title('Confusion Matrix')\n",
    "plt.show()"
   ]
  },
  {
   "cell_type": "markdown",
   "metadata": {},
   "source": [
    "### PRECISION"
   ]
  },
  {
   "cell_type": "code",
   "execution_count": 357,
   "metadata": {},
   "outputs": [
    {
     "name": "stdout",
     "output_type": "stream",
     "text": [
      "Best parameters set found on train set : \n",
      "{'max_depth': 7, 'min_samples_split': 10}\n",
      "RandomForestClassifier(max_depth=7, min_samples_split=10)\n",
      "\n",
      "0.7512658227848101\n"
     ]
    }
   ],
   "source": [
    "tuned_parameters = [{'min_samples_split': [2, 5, 7, 9, 10], 'max_depth' : [3, 5, 7, 10]}]\n",
    "\n",
    "clf = GridSearchCV(RandomForestClassifier(), tuned_parameters, scoring = 'precision')\n",
    "\n",
    "clf.fit(X_train, y_train)\n",
    "\n",
    "print(\"Best parameters set found on train set : \")\n",
    "\n",
    "print(clf.best_params_)\n",
    "\n",
    "print(clf.best_estimator_)\n",
    "\n",
    "print()\n",
    "\n",
    "print(clf.score(X_test, y_test))"
   ]
  },
  {
   "cell_type": "code",
   "execution_count": 358,
   "metadata": {},
   "outputs": [
    {
     "name": "stdout",
     "output_type": "stream",
     "text": [
      "dict_keys(['mean_fit_time', 'std_fit_time', 'mean_score_time', 'std_score_time', 'param_max_depth', 'param_min_samples_split', 'params', 'split0_test_score', 'split1_test_score', 'split2_test_score', 'split3_test_score', 'split4_test_score', 'mean_test_score', 'std_test_score', 'rank_test_score'])\n"
     ]
    }
   ],
   "source": [
    "print(clf.cv_results_.keys())"
   ]
  },
  {
   "cell_type": "code",
   "execution_count": 359,
   "metadata": {},
   "outputs": [
    {
     "name": "stdout",
     "output_type": "stream",
     "text": [
      "[0.74025974 0.74025974 0.73170732 0.72839506 0.75342466 0.75324675\n",
      " 0.74358974 0.73417722 0.75324675 0.74358974 0.74358974 0.76315789\n",
      " 0.77333333 0.75675676 0.76       0.76623377 0.7826087  0.78571429\n",
      " 0.8        0.74666667]\n"
     ]
    }
   ],
   "source": [
    "print(clf.cv_results_['split0_test_score'])"
   ]
  },
  {
   "cell_type": "code",
   "execution_count": 360,
   "metadata": {},
   "outputs": [
    {
     "name": "stdout",
     "output_type": "stream",
     "text": [
      "[0.72727273 0.71428571 0.71428571 0.75       0.71590909 0.70454545\n",
      " 0.71590909 0.72619048 0.70454545 0.72093023 0.7125     0.73493976\n",
      " 0.73255814 0.73493976 0.73255814 0.74074074 0.7375     0.72727273\n",
      " 0.72368421 0.70731707]\n"
     ]
    }
   ],
   "source": [
    "print(clf.cv_results_['split1_test_score'])"
   ]
  },
  {
   "cell_type": "code",
   "execution_count": 361,
   "metadata": {},
   "outputs": [
    {
     "name": "stdout",
     "output_type": "stream",
     "text": [
      "[0.64210526 0.64893617 0.63829787 0.64893617 0.65217391 0.65217391\n",
      " 0.65263158 0.65591398 0.65217391 0.65217391 0.67021277 0.67021277\n",
      " 0.65591398 0.67816092 0.70930233 0.69047619 0.68604651 0.67058824\n",
      " 0.66292135 0.68235294]\n"
     ]
    }
   ],
   "source": [
    "print(clf.cv_results_['split2_test_score'])"
   ]
  },
  {
   "cell_type": "code",
   "execution_count": 362,
   "metadata": {},
   "outputs": [
    {
     "name": "stdout",
     "output_type": "stream",
     "text": [
      "[0.84057971 0.80597015 0.8030303  0.82608696 0.82352941 0.82608696\n",
      " 0.82352941 0.84126984 0.81818182 0.83076923 0.84126984 0.84375\n",
      " 0.80952381 0.82608696 0.859375   0.8        0.84375    0.83606557\n",
      " 0.82089552 0.87096774]\n"
     ]
    }
   ],
   "source": [
    "print(clf.cv_results_['split3_test_score'])"
   ]
  },
  {
   "cell_type": "code",
   "execution_count": 363,
   "metadata": {},
   "outputs": [
    {
     "name": "stdout",
     "output_type": "stream",
     "text": [
      "[0.68571429 0.68421053 0.68493151 0.70833333 0.68918919 0.72463768\n",
      " 0.67567568 0.69444444 0.67105263 0.73529412 0.72058824 0.72463768\n",
      " 0.72857143 0.72857143 0.72857143 0.71830986 0.71428571 0.75\n",
      " 0.72058824 0.72222222]\n"
     ]
    }
   ],
   "source": [
    "print(clf.cv_results_['split4_test_score'])"
   ]
  },
  {
   "cell_type": "markdown",
   "metadata": {},
   "source": [
    "### RECALL"
   ]
  },
  {
   "cell_type": "code",
   "execution_count": 364,
   "metadata": {},
   "outputs": [
    {
     "name": "stdout",
     "output_type": "stream",
     "text": [
      "Best parameters set found on train set : \n",
      "{'max_depth': 3, 'min_samples_split': 5}\n",
      "RandomForestClassifier(max_depth=3, min_samples_split=5)\n",
      "\n",
      "0.7910547396528705\n"
     ]
    }
   ],
   "source": [
    "tuned_parameters = [{'min_samples_split': [2, 5, 7, 9, 10], 'max_depth' : [3, 5, 7, 10]}]\n",
    "\n",
    "clf = GridSearchCV(RandomForestClassifier(), tuned_parameters, scoring = 'recall')\n",
    "\n",
    "clf.fit(X_train, y_train)\n",
    "\n",
    "print(\"Best parameters set found on train set : \")\n",
    "\n",
    "print(clf.best_params_)\n",
    "\n",
    "print(clf.best_estimator_)\n",
    "\n",
    "print()\n",
    "\n",
    "print(clf.score(X_test, y_test))"
   ]
  },
  {
   "cell_type": "code",
   "execution_count": 365,
   "metadata": {},
   "outputs": [
    {
     "name": "stdout",
     "output_type": "stream",
     "text": [
      "dict_keys(['mean_fit_time', 'std_fit_time', 'mean_score_time', 'std_score_time', 'param_max_depth', 'param_min_samples_split', 'params', 'split0_test_score', 'split1_test_score', 'split2_test_score', 'split3_test_score', 'split4_test_score', 'mean_test_score', 'std_test_score', 'rank_test_score'])\n"
     ]
    }
   ],
   "source": [
    "print(clf.cv_results_.keys())"
   ]
  },
  {
   "cell_type": "code",
   "execution_count": 366,
   "metadata": {},
   "outputs": [
    {
     "name": "stdout",
     "output_type": "stream",
     "text": [
      "[0.7972973  0.7972973  0.7972973  0.7972973  0.77027027 0.81081081\n",
      " 0.78378378 0.75675676 0.77027027 0.78378378 0.77027027 0.78378378\n",
      " 0.75675676 0.77027027 0.75675676 0.74324324 0.75675676 0.75675676\n",
      " 0.77027027 0.74324324]\n"
     ]
    }
   ],
   "source": [
    "print(clf.cv_results_['split0_test_score'])"
   ]
  },
  {
   "cell_type": "code",
   "execution_count": 367,
   "metadata": {},
   "outputs": [
    {
     "name": "stdout",
     "output_type": "stream",
     "text": [
      "[0.85333333 0.85333333 0.86666667 0.86666667 0.85333333 0.82666667\n",
      " 0.84       0.82666667 0.81333333 0.8        0.85333333 0.8\n",
      " 0.84       0.78666667 0.8        0.77333333 0.8        0.78666667\n",
      " 0.82666667 0.78666667]\n"
     ]
    }
   ],
   "source": [
    "print(clf.cv_results_['split1_test_score'])"
   ]
  },
  {
   "cell_type": "code",
   "execution_count": 368,
   "metadata": {},
   "outputs": [
    {
     "name": "stdout",
     "output_type": "stream",
     "text": [
      "[0.81081081 0.82432432 0.81081081 0.85135135 0.82432432 0.81081081\n",
      " 0.82432432 0.81081081 0.82432432 0.81081081 0.83783784 0.81081081\n",
      " 0.81081081 0.81081081 0.7972973  0.82432432 0.7972973  0.83783784\n",
      " 0.78378378 0.78378378]\n"
     ]
    }
   ],
   "source": [
    "print(clf.cv_results_['split2_test_score'])"
   ]
  },
  {
   "cell_type": "code",
   "execution_count": 369,
   "metadata": {},
   "outputs": [
    {
     "name": "stdout",
     "output_type": "stream",
     "text": [
      "[0.68918919 0.72972973 0.75675676 0.75675676 0.75675676 0.7027027\n",
      " 0.71621622 0.72972973 0.75675676 0.7027027  0.77027027 0.75675676\n",
      " 0.74324324 0.67567568 0.68918919 0.74324324 0.72972973 0.72972973\n",
      " 0.74324324 0.72972973]\n"
     ]
    }
   ],
   "source": [
    "print(clf.cv_results_['split3_test_score'])"
   ]
  },
  {
   "cell_type": "code",
   "execution_count": 370,
   "metadata": {},
   "outputs": [
    {
     "name": "stdout",
     "output_type": "stream",
     "text": [
      "[0.71621622 0.75675676 0.67567568 0.68918919 0.67567568 0.67567568\n",
      " 0.7027027  0.66216216 0.68918919 0.67567568 0.68918919 0.7027027\n",
      " 0.68918919 0.67567568 0.64864865 0.67567568 0.68918919 0.67567568\n",
      " 0.67567568 0.66216216]\n"
     ]
    }
   ],
   "source": [
    "print(clf.cv_results_['split4_test_score'])"
   ]
  },
  {
   "cell_type": "markdown",
   "metadata": {},
   "source": [
    "### F1-SCORE"
   ]
  },
  {
   "cell_type": "code",
   "execution_count": 371,
   "metadata": {},
   "outputs": [
    {
     "name": "stdout",
     "output_type": "stream",
     "text": [
      "Best parameters set found on train set : \n",
      "{'max_depth': 3, 'min_samples_split': 10}\n",
      "RandomForestClassifier(max_depth=3, min_samples_split=10)\n",
      "\n",
      "0.7695299837925444\n"
     ]
    }
   ],
   "source": [
    "tuned_parameters = [{'min_samples_split': [2, 5, 7, 9, 10], 'max_depth' : [3, 5, 7, 10]}]\n",
    "\n",
    "clf = GridSearchCV(RandomForestClassifier(), tuned_parameters, scoring = 'f1')\n",
    "\n",
    "clf.fit(X_train, y_train)\n",
    "\n",
    "print(\"Best parameters set found on train set : \")\n",
    "\n",
    "print(clf.best_params_)\n",
    "\n",
    "print(clf.best_estimator_)\n",
    "\n",
    "print()\n",
    "\n",
    "print(clf.score(X_test, y_test))"
   ]
  },
  {
   "cell_type": "code",
   "execution_count": 372,
   "metadata": {},
   "outputs": [
    {
     "name": "stdout",
     "output_type": "stream",
     "text": [
      "dict_keys(['mean_fit_time', 'std_fit_time', 'mean_score_time', 'std_score_time', 'param_max_depth', 'param_min_samples_split', 'params', 'split0_test_score', 'split1_test_score', 'split2_test_score', 'split3_test_score', 'split4_test_score', 'mean_test_score', 'std_test_score', 'rank_test_score'])\n"
     ]
    }
   ],
   "source": [
    "print(clf.cv_results_.keys())"
   ]
  },
  {
   "cell_type": "code",
   "execution_count": 373,
   "metadata": {},
   "outputs": [
    {
     "name": "stdout",
     "output_type": "stream",
     "text": [
      "[0.73684211 0.74025974 0.74509804 0.7388535  0.76129032 0.75496689\n",
      " 0.77631579 0.77027027 0.78481013 0.75675676 0.74829932 0.75167785\n",
      " 0.75862069 0.76510067 0.78431373 0.74324324 0.76190476 0.75862069\n",
      " 0.78082192 0.78378378]\n"
     ]
    }
   ],
   "source": [
    "print(clf.cv_results_['split0_test_score'])"
   ]
  },
  {
   "cell_type": "code",
   "execution_count": 374,
   "metadata": {},
   "outputs": [
    {
     "name": "stdout",
     "output_type": "stream",
     "text": [
      "[0.7804878  0.78313253 0.79518072 0.79518072 0.78787879 0.7607362\n",
      " 0.75609756 0.76363636 0.7625     0.74846626 0.7875     0.76923077\n",
      " 0.7483871  0.77300613 0.75       0.74213836 0.75776398 0.76433121\n",
      " 0.73548387 0.7388535 ]\n"
     ]
    }
   ],
   "source": [
    "print(clf.cv_results_['split1_test_score'])"
   ]
  },
  {
   "cell_type": "code",
   "execution_count": 375,
   "metadata": {},
   "outputs": [
    {
     "name": "stdout",
     "output_type": "stream",
     "text": [
      "[0.72727273 0.7195122  0.73493976 0.73053892 0.73170732 0.75151515\n",
      " 0.72189349 0.72289157 0.7195122  0.72289157 0.76923077 0.74698795\n",
      " 0.74213836 0.74074074 0.72839506 0.77300613 0.75308642 0.75\n",
      " 0.72955975 0.69620253]\n"
     ]
    }
   ],
   "source": [
    "print(clf.cv_results_['split2_test_score'])"
   ]
  },
  {
   "cell_type": "code",
   "execution_count": 376,
   "metadata": {},
   "outputs": [
    {
     "name": "stdout",
     "output_type": "stream",
     "text": [
      "[0.79452055 0.76923077 0.78082192 0.76388889 0.79166667 0.77697842\n",
      " 0.75912409 0.77697842 0.76258993 0.75362319 0.77697842 0.77697842\n",
      " 0.78571429 0.77037037 0.78571429 0.76595745 0.77697842 0.79136691\n",
      " 0.78832117 0.80555556]\n"
     ]
    }
   ],
   "source": [
    "print(clf.cv_results_['split3_test_score'])"
   ]
  },
  {
   "cell_type": "code",
   "execution_count": 377,
   "metadata": {},
   "outputs": [
    {
     "name": "stdout",
     "output_type": "stream",
     "text": [
      "[0.68965517 0.68965517 0.67567568 0.68027211 0.71523179 0.67123288\n",
      " 0.70833333 0.71830986 0.70833333 0.70344828 0.70344828 0.68965517\n",
      " 0.70921986 0.68493151 0.70833333 0.71724138 0.71328671 0.70344828\n",
      " 0.70344828 0.69387755]\n"
     ]
    }
   ],
   "source": [
    "print(clf.cv_results_['split4_test_score'])"
   ]
  },
  {
   "cell_type": "markdown",
   "metadata": {},
   "source": [
    "### ROC-AUC"
   ]
  },
  {
   "cell_type": "code",
   "execution_count": 378,
   "metadata": {},
   "outputs": [
    {
     "name": "stdout",
     "output_type": "stream",
     "text": [
      "Best parameters set found on train set : \n",
      "{'max_depth': 7, 'min_samples_split': 2}\n",
      "RandomForestClassifier(max_depth=7)\n",
      "\n",
      "0.8385467294190871\n"
     ]
    }
   ],
   "source": [
    "tuned_parameters = [{'min_samples_split': [2, 5, 7, 9, 10], 'max_depth' : [3, 5, 7, 10]}]\n",
    "\n",
    "clf = GridSearchCV(RandomForestClassifier(), tuned_parameters, scoring = 'roc_auc')\n",
    "\n",
    "clf.fit(X_train, y_train)\n",
    "\n",
    "print(\"Best parameters set found on train set : \")\n",
    "\n",
    "print(clf.best_params_)\n",
    "\n",
    "print(clf.best_estimator_)\n",
    "\n",
    "print()\n",
    "\n",
    "print(clf.score(X_test, y_test))"
   ]
  },
  {
   "cell_type": "code",
   "execution_count": 379,
   "metadata": {},
   "outputs": [
    {
     "name": "stdout",
     "output_type": "stream",
     "text": [
      "dict_keys(['mean_fit_time', 'std_fit_time', 'mean_score_time', 'std_score_time', 'param_max_depth', 'param_min_samples_split', 'params', 'split0_test_score', 'split1_test_score', 'split2_test_score', 'split3_test_score', 'split4_test_score', 'mean_test_score', 'std_test_score', 'rank_test_score'])\n"
     ]
    }
   ],
   "source": [
    "print(clf.cv_results_.keys())"
   ]
  },
  {
   "cell_type": "code",
   "execution_count": 380,
   "metadata": {},
   "outputs": [
    {
     "name": "stdout",
     "output_type": "stream",
     "text": [
      "[0.85152916 0.84619488 0.8655761  0.85917496 0.85544097 0.85633001\n",
      " 0.85633001 0.85526316 0.85561878 0.85152916 0.85704125 0.84832859\n",
      " 0.84708393 0.85864154 0.86184211 0.84601707 0.84672831 0.85633001\n",
      " 0.85881935 0.85241821]\n"
     ]
    }
   ],
   "source": [
    "print(clf.cv_results_['split0_test_score'])"
   ]
  },
  {
   "cell_type": "code",
   "execution_count": 381,
   "metadata": {},
   "outputs": [
    {
     "name": "stdout",
     "output_type": "stream",
     "text": [
      "[0.84728889 0.8544     0.84586667 0.85671111 0.85831111 0.84533333\n",
      " 0.85493333 0.86382222 0.8576     0.85226667 0.86097778 0.84568889\n",
      " 0.8512     0.85315556 0.85795556 0.84035556 0.84035556 0.85617778\n",
      " 0.85404444 0.85955556]\n"
     ]
    }
   ],
   "source": [
    "print(clf.cv_results_['split1_test_score'])"
   ]
  },
  {
   "cell_type": "code",
   "execution_count": 382,
   "metadata": {},
   "outputs": [
    {
     "name": "stdout",
     "output_type": "stream",
     "text": [
      "[0.80990991 0.80936937 0.81369369 0.81297297 0.80945946 0.81117117\n",
      " 0.81189189 0.80792793 0.81711712 0.8136036  0.81513514 0.82036036\n",
      " 0.81099099 0.81603604 0.81117117 0.8209009  0.82936937 0.8172973\n",
      " 0.81657658 0.80666667]\n"
     ]
    }
   ],
   "source": [
    "print(clf.cv_results_['split2_test_score'])"
   ]
  },
  {
   "cell_type": "code",
   "execution_count": 383,
   "metadata": {},
   "outputs": [
    {
     "name": "stdout",
     "output_type": "stream",
     "text": [
      "[0.88234234 0.87585586 0.87441441 0.87279279 0.87081081 0.8772973\n",
      " 0.88252252 0.88414414 0.88414414 0.88432432 0.88882883 0.88342342\n",
      " 0.88882883 0.88810811 0.89135135 0.87423423 0.8827027  0.87657658\n",
      " 0.87711712 0.87783784]\n"
     ]
    }
   ],
   "source": [
    "print(clf.cv_results_['split3_test_score'])"
   ]
  },
  {
   "cell_type": "code",
   "execution_count": 384,
   "metadata": {},
   "outputs": [
    {
     "name": "stdout",
     "output_type": "stream",
     "text": [
      "[0.78486486 0.78198198 0.78414414 0.78486486 0.78018018 0.77783784\n",
      " 0.77351351 0.76990991 0.77243243 0.77243243 0.77873874 0.76756757\n",
      " 0.7781982  0.77387387 0.77261261 0.76504505 0.77135135 0.7609009\n",
      " 0.77657658 0.76882883]\n"
     ]
    }
   ],
   "source": [
    "print(clf.cv_results_['split4_test_score'])"
   ]
  },
  {
   "cell_type": "markdown",
   "metadata": {},
   "source": [
    "### EVALUATING THE MODEL USING HYPERPARAMETERS BY RANDOMIZEDSEARCHCV\n",
    "### ACCURACY"
   ]
  },
  {
   "cell_type": "code",
   "execution_count": 385,
   "metadata": {},
   "outputs": [
    {
     "name": "stdout",
     "output_type": "stream",
     "text": [
      "Best parameters set found on train set : \n",
      "{'min_samples_split': 9, 'max_depth': 10}\n",
      "RandomForestClassifier(max_depth=10, min_samples_split=9)\n",
      "\n",
      "0.7569374791039786\n"
     ]
    }
   ],
   "source": [
    "tuned_parameters = [{'min_samples_split': [2, 5, 7, 9, 10], 'max_depth' : [3, 5, 7, 10]}]\n",
    "\n",
    "clf = RandomizedSearchCV(RandomForestClassifier(), tuned_parameters, scoring = 'accuracy')\n",
    "\n",
    "clf.fit(X_train, y_train)\n",
    "\n",
    "print(\"Best parameters set found on train set : \")\n",
    "\n",
    "print(clf.best_params_)\n",
    "\n",
    "print(clf.best_estimator_)\n",
    "\n",
    "print()\n",
    "\n",
    "print(clf.score(X_test, y_test))"
   ]
  },
  {
   "cell_type": "code",
   "execution_count": 386,
   "metadata": {},
   "outputs": [
    {
     "name": "stdout",
     "output_type": "stream",
     "text": [
      "dict_keys(['mean_fit_time', 'std_fit_time', 'mean_score_time', 'std_score_time', 'param_min_samples_split', 'param_max_depth', 'params', 'split0_test_score', 'split1_test_score', 'split2_test_score', 'split3_test_score', 'split4_test_score', 'mean_test_score', 'std_test_score', 'rank_test_score'])\n"
     ]
    }
   ],
   "source": [
    "print(clf.cv_results_.keys())"
   ]
  },
  {
   "cell_type": "code",
   "execution_count": 387,
   "metadata": {},
   "outputs": [
    {
     "name": "stdout",
     "output_type": "stream",
     "text": [
      "[0.75333333 0.77333333 0.78       0.74666667 0.74       0.76\n",
      " 0.78666667 0.75333333 0.76666667 0.73333333]\n"
     ]
    }
   ],
   "source": [
    "print(clf.cv_results_['split0_test_score'])"
   ]
  },
  {
   "cell_type": "code",
   "execution_count": 388,
   "metadata": {},
   "outputs": [
    {
     "name": "stdout",
     "output_type": "stream",
     "text": [
      "[0.75333333 0.73333333 0.76       0.74666667 0.74666667 0.78\n",
      " 0.74666667 0.75333333 0.75333333 0.74666667]\n"
     ]
    }
   ],
   "source": [
    "print(clf.cv_results_['split1_test_score'])"
   ]
  },
  {
   "cell_type": "code",
   "execution_count": 389,
   "metadata": {},
   "outputs": [
    {
     "name": "stdout",
     "output_type": "stream",
     "text": [
      "[0.69798658 0.7114094  0.71812081 0.69798658 0.73154362 0.69127517\n",
      " 0.72483221 0.69798658 0.7114094  0.69798658]\n"
     ]
    }
   ],
   "source": [
    "print(clf.cv_results_['split2_test_score'])"
   ]
  },
  {
   "cell_type": "code",
   "execution_count": 390,
   "metadata": {},
   "outputs": [
    {
     "name": "stdout",
     "output_type": "stream",
     "text": [
      "[0.79194631 0.79194631 0.77852349 0.75167785 0.79865772 0.77852349\n",
      " 0.77181208 0.79865772 0.7852349  0.77852349]\n"
     ]
    }
   ],
   "source": [
    "print(clf.cv_results_['split3_test_score'])"
   ]
  },
  {
   "cell_type": "code",
   "execution_count": 391,
   "metadata": {},
   "outputs": [
    {
     "name": "stdout",
     "output_type": "stream",
     "text": [
      "[0.70469799 0.72483221 0.67785235 0.70469799 0.71812081 0.71812081\n",
      " 0.7114094  0.69798658 0.70469799 0.70469799]\n"
     ]
    }
   ],
   "source": [
    "print(clf.cv_results_['split4_test_score'])"
   ]
  },
  {
   "cell_type": "markdown",
   "metadata": {},
   "source": [
    "### CONFUSION MATRIX"
   ]
  },
  {
   "cell_type": "code",
   "execution_count": 392,
   "metadata": {},
   "outputs": [],
   "source": [
    "from sklearn.metrics import confusion_matrix"
   ]
  },
  {
   "cell_type": "code",
   "execution_count": 393,
   "metadata": {},
   "outputs": [
    {
     "data": {
      "text/plain": [
       "array([[1077,  416],\n",
       "       [ 493, 1005]], dtype=int64)"
      ]
     },
     "execution_count": 393,
     "metadata": {},
     "output_type": "execute_result"
    }
   ],
   "source": [
    "con_metric = metrics.confusion_matrix(y_test, y_pred)\n",
    "con_metric"
   ]
  },
  {
   "cell_type": "code",
   "execution_count": 394,
   "metadata": {},
   "outputs": [
    {
     "data": {
      "image/png": "[encoded data removed]",
      "text/plain": [
       "<Figure size 432x288 with 2 Axes>"
      ]
     },
     "metadata": {
      "needs_background": "light"
     },
     "output_type": "display_data"
    }
   ],
   "source": [
    "sns.heatmap(con_metric, annot = True, fmt = 'd')\n",
    "plt.title('Confusion Matrix')\n",
    "plt.show()"
   ]
  },
  {
   "cell_type": "markdown",
   "metadata": {},
   "source": [
    "### PRECISION"
   ]
  },
  {
   "cell_type": "code",
   "execution_count": 395,
   "metadata": {},
   "outputs": [
    {
     "name": "stdout",
     "output_type": "stream",
     "text": [
      "Best parameters set found on train set : \n",
      "{'min_samples_split': 9, 'max_depth': 7}\n",
      "RandomForestClassifier(max_depth=7, min_samples_split=9)\n",
      "\n",
      "0.7545219638242894\n"
     ]
    }
   ],
   "source": [
    "tuned_parameters = [{'min_samples_split': [2, 5, 7, 9, 10], 'max_depth' : [3, 5, 7, 10]}]\n",
    "\n",
    "clf = RandomizedSearchCV(RandomForestClassifier(), tuned_parameters, scoring = 'precision')\n",
    "\n",
    "clf.fit(X_train, y_train)\n",
    "\n",
    "print(\"Best parameters set found on train set : \")\n",
    "\n",
    "print(clf.best_params_)\n",
    "\n",
    "print(clf.best_estimator_)\n",
    "\n",
    "print()\n",
    "\n",
    "print(clf.score(X_test, y_test))"
   ]
  },
  {
   "cell_type": "code",
   "execution_count": 396,
   "metadata": {},
   "outputs": [
    {
     "name": "stdout",
     "output_type": "stream",
     "text": [
      "dict_keys(['mean_fit_time', 'std_fit_time', 'mean_score_time', 'std_score_time', 'param_min_samples_split', 'param_max_depth', 'params', 'split0_test_score', 'split1_test_score', 'split2_test_score', 'split3_test_score', 'split4_test_score', 'mean_test_score', 'std_test_score', 'rank_test_score'])\n"
     ]
    }
   ],
   "source": [
    "print(clf.cv_results_.keys())"
   ]
  },
  {
   "cell_type": "code",
   "execution_count": 397,
   "metadata": {},
   "outputs": [
    {
     "name": "stdout",
     "output_type": "stream",
     "text": [
      "[0.74683544 0.76388889 0.75       0.78082192 0.78378378 0.73076923\n",
      " 0.71604938 0.75675676 0.74074074 0.77142857]\n"
     ]
    }
   ],
   "source": [
    "print(clf.cv_results_['split0_test_score'])"
   ]
  },
  {
   "cell_type": "code",
   "execution_count": 398,
   "metadata": {},
   "outputs": [
    {
     "name": "stdout",
     "output_type": "stream",
     "text": [
      "[0.71590909 0.74074074 0.72619048 0.73493976 0.73809524 0.72093023\n",
      " 0.72413793 0.72619048 0.71264368 0.74683544]\n"
     ]
    }
   ],
   "source": [
    "print(clf.cv_results_['split1_test_score'])"
   ]
  },
  {
   "cell_type": "code",
   "execution_count": 399,
   "metadata": {},
   "outputs": [
    {
     "name": "stdout",
     "output_type": "stream",
     "text": [
      "[0.65555556 0.66666667 0.68888889 0.72093023 0.69230769 0.625\n",
      " 0.63157895 0.65591398 0.65957447 0.69662921]\n"
     ]
    }
   ],
   "source": [
    "print(clf.cv_results_['split2_test_score'])"
   ]
  },
  {
   "cell_type": "code",
   "execution_count": 400,
   "metadata": {},
   "outputs": [
    {
     "name": "stdout",
     "output_type": "stream",
     "text": [
      "[0.86666667 0.84615385 0.83870968 0.84375    0.83076923 0.82352941\n",
      " 0.81967213 0.84126984 0.83333333 0.859375  ]\n"
     ]
    }
   ],
   "source": [
    "print(clf.cv_results_['split3_test_score'])"
   ]
  },
  {
   "cell_type": "code",
   "execution_count": 401,
   "metadata": {},
   "outputs": [
    {
     "name": "stdout",
     "output_type": "stream",
     "text": [
      "[0.71428571 0.71428571 0.71830986 0.74285714 0.71428571 0.72\n",
      " 0.74242424 0.70833333 0.68493151 0.71428571]\n"
     ]
    }
   ],
   "source": [
    "print(clf.cv_results_['split4_test_score'])"
   ]
  },
  {
   "cell_type": "markdown",
   "metadata": {},
   "source": [
    "### RECALL"
   ]
  },
  {
   "cell_type": "code",
   "execution_count": 402,
   "metadata": {},
   "outputs": [
    {
     "name": "stdout",
     "output_type": "stream",
     "text": [
      "Best parameters set found on train set : \n",
      "{'min_samples_split': 5, 'max_depth': 7}\n",
      "RandomForestClassifier(max_depth=7, min_samples_split=5)\n",
      "\n",
      "0.7783711615487316\n"
     ]
    }
   ],
   "source": [
    "tuned_parameters = [{'min_samples_split': [2, 5, 7, 9, 10], 'max_depth' : [3, 5, 7, 10]}]\n",
    "\n",
    "clf = RandomizedSearchCV(RandomForestClassifier(), tuned_parameters, scoring = 'recall')\n",
    "\n",
    "clf.fit(X_train, y_train)\n",
    "\n",
    "print(\"Best parameters set found on train set : \")\n",
    "\n",
    "print(clf.best_params_)\n",
    "\n",
    "print(clf.best_estimator_)\n",
    "\n",
    "print()\n",
    "\n",
    "print(clf.score(X_test, y_test))"
   ]
  },
  {
   "cell_type": "code",
   "execution_count": 403,
   "metadata": {},
   "outputs": [
    {
     "name": "stdout",
     "output_type": "stream",
     "text": [
      "dict_keys(['mean_fit_time', 'std_fit_time', 'mean_score_time', 'std_score_time', 'param_min_samples_split', 'param_max_depth', 'params', 'split0_test_score', 'split1_test_score', 'split2_test_score', 'split3_test_score', 'split4_test_score', 'mean_test_score', 'std_test_score', 'rank_test_score'])\n"
     ]
    }
   ],
   "source": [
    "print(clf.cv_results_.keys())"
   ]
  },
  {
   "cell_type": "code",
   "execution_count": 404,
   "metadata": {},
   "outputs": [
    {
     "name": "stdout",
     "output_type": "stream",
     "text": [
      "[0.75675676 0.81081081 0.81081081 0.77027027 0.77027027 0.78378378\n",
      " 0.75675676 0.78378378 0.78378378 0.77027027]\n"
     ]
    }
   ],
   "source": [
    "print(clf.cv_results_['split0_test_score'])"
   ]
  },
  {
   "cell_type": "code",
   "execution_count": 405,
   "metadata": {},
   "outputs": [
    {
     "name": "stdout",
     "output_type": "stream",
     "text": [
      "[0.85333333 0.82666667 0.81333333 0.82666667 0.84       0.86666667\n",
      " 0.77333333 0.82666667 0.85333333 0.84      ]\n"
     ]
    }
   ],
   "source": [
    "print(clf.cv_results_['split1_test_score'])"
   ]
  },
  {
   "cell_type": "code",
   "execution_count": 406,
   "metadata": {},
   "outputs": [
    {
     "name": "stdout",
     "output_type": "stream",
     "text": [
      "[0.82432432 0.83783784 0.75675676 0.81081081 0.81081081 0.83783784\n",
      " 0.78378378 0.78378378 0.83783784 0.81081081]\n"
     ]
    }
   ],
   "source": [
    "print(clf.cv_results_['split2_test_score'])"
   ]
  },
  {
   "cell_type": "code",
   "execution_count": 407,
   "metadata": {},
   "outputs": [
    {
     "name": "stdout",
     "output_type": "stream",
     "text": [
      "[0.74324324 0.75675676 0.71621622 0.64864865 0.72972973 0.72972973\n",
      " 0.75675676 0.75675676 0.74324324 0.72972973]\n"
     ]
    }
   ],
   "source": [
    "print(clf.cv_results_['split3_test_score'])"
   ]
  },
  {
   "cell_type": "code",
   "execution_count": 408,
   "metadata": {},
   "outputs": [
    {
     "name": "stdout",
     "output_type": "stream",
     "text": [
      "[0.68918919 0.67567568 0.7027027  0.66216216 0.66216216 0.67567568\n",
      " 0.68918919 0.68918919 0.68918919 0.68918919]\n"
     ]
    }
   ],
   "source": [
    "print(clf.cv_results_['split4_test_score'])"
   ]
  },
  {
   "cell_type": "markdown",
   "metadata": {},
   "source": [
    "### F1-SCORE"
   ]
  },
  {
   "cell_type": "code",
   "execution_count": 409,
   "metadata": {},
   "outputs": [
    {
     "name": "stdout",
     "output_type": "stream",
     "text": [
      "Best parameters set found on train set : \n",
      "{'min_samples_split': 2, 'max_depth': 7}\n",
      "RandomForestClassifier(max_depth=7)\n",
      "\n",
      "0.7677293428757318\n"
     ]
    }
   ],
   "source": [
    "tuned_parameters = [{'min_samples_split': [2, 5, 7, 9, 10], 'max_depth' : [3, 5, 7, 10]}]\n",
    "\n",
    "clf = RandomizedSearchCV(RandomForestClassifier(), tuned_parameters, scoring = 'f1')\n",
    "\n",
    "clf.fit(X_train, y_train)\n",
    "\n",
    "print(\"Best parameters set found on train set : \")\n",
    "\n",
    "print(clf.best_params_)\n",
    "\n",
    "print(clf.best_estimator_)\n",
    "\n",
    "print()\n",
    "\n",
    "print(clf.score(X_test, y_test))"
   ]
  },
  {
   "cell_type": "code",
   "execution_count": 410,
   "metadata": {},
   "outputs": [
    {
     "name": "stdout",
     "output_type": "stream",
     "text": [
      "dict_keys(['mean_fit_time', 'std_fit_time', 'mean_score_time', 'std_score_time', 'param_min_samples_split', 'param_max_depth', 'params', 'split0_test_score', 'split1_test_score', 'split2_test_score', 'split3_test_score', 'split4_test_score', 'mean_test_score', 'std_test_score', 'rank_test_score'])\n"
     ]
    }
   ],
   "source": [
    "print(clf.cv_results_.keys())"
   ]
  },
  {
   "cell_type": "code",
   "execution_count": 411,
   "metadata": {},
   "outputs": [
    {
     "name": "stdout",
     "output_type": "stream",
     "text": [
      "[0.75862069 0.74509804 0.77333333 0.75       0.76433121 0.76190476\n",
      " 0.75       0.76623377 0.77631579 0.75167785]\n"
     ]
    }
   ],
   "source": [
    "print(clf.cv_results_['split0_test_score'])"
   ]
  },
  {
   "cell_type": "code",
   "execution_count": 412,
   "metadata": {},
   "outputs": [
    {
     "name": "stdout",
     "output_type": "stream",
     "text": [
      "[0.7826087  0.79041916 0.7625     0.7721519  0.76829268 0.7875\n",
      " 0.79289941 0.77300613 0.77108434 0.74683544]\n"
     ]
    }
   ],
   "source": [
    "print(clf.cv_results_['split1_test_score'])"
   ]
  },
  {
   "cell_type": "code",
   "execution_count": 413,
   "metadata": {},
   "outputs": [
    {
     "name": "stdout",
     "output_type": "stream",
     "text": [
      "[0.7195122  0.71428571 0.73053892 0.7625     0.71856287 0.75609756\n",
      " 0.7283237  0.72619048 0.71604938 0.72727273]\n"
     ]
    }
   ],
   "source": [
    "print(clf.cv_results_['split2_test_score'])"
   ]
  },
  {
   "cell_type": "code",
   "execution_count": 414,
   "metadata": {},
   "outputs": [
    {
     "name": "stdout",
     "output_type": "stream",
     "text": [
      "[0.76258993 0.77464789 0.75555556 0.79432624 0.76923077 0.79432624\n",
      " 0.77941176 0.80555556 0.77142857 0.7826087 ]\n"
     ]
    }
   ],
   "source": [
    "print(clf.cv_results_['split3_test_score'])"
   ]
  },
  {
   "cell_type": "code",
   "execution_count": 415,
   "metadata": {},
   "outputs": [
    {
     "name": "stdout",
     "output_type": "stream",
     "text": [
      "[0.68531469 0.69736842 0.68055556 0.69863014 0.69503546 0.70422535\n",
      " 0.68493151 0.66666667 0.70344828 0.69387755]\n"
     ]
    }
   ],
   "source": [
    "print(clf.cv_results_['split4_test_score'])"
   ]
  },
  {
   "cell_type": "markdown",
   "metadata": {},
   "source": [
    "### ROC-AUC"
   ]
  },
  {
   "cell_type": "code",
   "execution_count": 416,
   "metadata": {},
   "outputs": [
    {
     "name": "stdout",
     "output_type": "stream",
     "text": [
      "Best parameters set found on train set : \n",
      "{'min_samples_split': 7, 'max_depth': 5}\n",
      "RandomForestClassifier(max_depth=5, min_samples_split=7)\n",
      "\n",
      "0.842675699772056\n"
     ]
    }
   ],
   "source": [
    "tuned_parameters = [{'min_samples_split': [2, 5, 7, 9, 10], 'max_depth' : [3, 5, 7, 10]}]\n",
    "\n",
    "clf = RandomizedSearchCV(RandomForestClassifier(), tuned_parameters, scoring = 'roc_auc')\n",
    "\n",
    "clf.fit(X_train, y_train)\n",
    "\n",
    "print(\"Best parameters set found on train set : \")\n",
    "\n",
    "print(clf.best_params_)\n",
    "\n",
    "print(clf.best_estimator_)\n",
    "\n",
    "print()\n",
    "\n",
    "print(clf.score(X_test, y_test))"
   ]
  },
  {
   "cell_type": "code",
   "execution_count": 417,
   "metadata": {},
   "outputs": [
    {
     "name": "stdout",
     "output_type": "stream",
     "text": [
      "dict_keys(['mean_fit_time', 'std_fit_time', 'mean_score_time', 'std_score_time', 'param_min_samples_split', 'param_max_depth', 'params', 'split0_test_score', 'split1_test_score', 'split2_test_score', 'split3_test_score', 'split4_test_score', 'mean_test_score', 'std_test_score', 'rank_test_score'])\n"
     ]
    }
   ],
   "source": [
    "print(clf.cv_results_.keys())"
   ]
  },
  {
   "cell_type": "code",
   "execution_count": 418,
   "metadata": {},
   "outputs": [
    {
     "name": "stdout",
     "output_type": "stream",
     "text": [
      "[0.83890469 0.86148649 0.85455192 0.85899716 0.85633001 0.8579303\n",
      " 0.85117354 0.86273115 0.85401849 0.84619488]\n"
     ]
    }
   ],
   "source": [
    "print(clf.cv_results_['split0_test_score'])"
   ]
  },
  {
   "cell_type": "code",
   "execution_count": 419,
   "metadata": {},
   "outputs": [
    {
     "name": "stdout",
     "output_type": "stream",
     "text": [
      "[0.83964444 0.85137778 0.8512     0.85333333 0.85102222 0.84995556\n",
      " 0.84551111 0.85208889 0.84906667 0.85742222]\n"
     ]
    }
   ],
   "source": [
    "print(clf.cv_results_['split1_test_score'])"
   ]
  },
  {
   "cell_type": "code",
   "execution_count": 420,
   "metadata": {},
   "outputs": [
    {
     "name": "stdout",
     "output_type": "stream",
     "text": [
      "[0.81675676 0.81459459 0.8227027  0.82288288 0.81783784 0.81171171\n",
      " 0.82018018 0.80900901 0.82162162 0.81315315]\n"
     ]
    }
   ],
   "source": [
    "print(clf.cv_results_['split2_test_score'])"
   ]
  },
  {
   "cell_type": "code",
   "execution_count": 421,
   "metadata": {},
   "outputs": [
    {
     "name": "stdout",
     "output_type": "stream",
     "text": [
      "[0.87351351 0.88378378 0.88648649 0.88594595 0.87567568 0.87693694\n",
      " 0.86810811 0.8781982  0.88378378 0.86738739]\n"
     ]
    }
   ],
   "source": [
    "print(clf.cv_results_['split3_test_score'])"
   ]
  },
  {
   "cell_type": "code",
   "execution_count": 422,
   "metadata": {},
   "outputs": [
    {
     "name": "stdout",
     "output_type": "stream",
     "text": [
      "[0.76540541 0.7590991  0.77225225 0.78       0.78414414 0.77531532\n",
      " 0.76378378 0.77585586 0.77315315 0.77927928]\n"
     ]
    }
   ],
   "source": [
    "print(clf.cv_results_['split4_test_score'])"
   ]
  },
  {
   "cell_type": "markdown",
   "metadata": {},
   "source": [
    "### For the Random Forest Classifier, The Hyperparameter Tuning Values are as follows:\n",
    "\n",
    "### GridSearchCV\n",
    "\n",
    "    1. Accuracy: 0.7535941156803745\n",
    "    2. Confusion Matrix: array([[1077,  416],  [ 493, 1005]], dtype=int64)\n",
    "    3. Precision: 0.7512658227848101\n",
    "    4. Recall: 0.7910547396528705\n",
    "    5. F1-Score: 0.7695299837925444\n",
    "    6. ROC-AUC: 0.8385467294190871\n",
    "\n",
    "    \n",
    "### RandomizedSearchCV\n",
    "\n",
    "    1. Accuracy: 0.7569374791039786\n",
    "    2. Confusion Matrix: array([[1077,  416],  [ 493, 1005]], dtype=int64)\n",
    "    3. Precision: 0.7545219638242894\n",
    "    4. Recall: 0.7783711615487316\n",
    "    5. F1-Score: 0.7677293428757318\n",
    "    6. ROC-AUC: 0.842675699772056"
   ]
  },
  {
   "cell_type": "markdown",
   "metadata": {},
   "source": [
    "### Let's see all the hyperparameters in Cross-Validations of model by seeing all the values\n",
    "\n",
    "\n",
    "#### 1.  For GridSearchCV :\n",
    "\n",
    "|ALGORITHMS             | ACCURACY |    CONFUSION MATRIX   | PRECISION | RECALL | F1 SCORE | ROC-AUC |\n",
    "|-----------------------|----------|-----------------------|-----------|--------|----------|---------|\n",
    "|LOGISTIC REGRESSION    |   0.760  | 1096, 397, 319, 1179  |   0.7479  | 0.790  |  0.7666  |  0.841  |\n",
    "|KNN                    |   0.729  | 979,  514, 332, 1166  |   0.714   | 0.795  |  0.748   |  0.794  |\n",
    "|SUPPORT VECTOR MACHINES|  0.7589  | 1079,  414, 337, 1161 |  0.7683   | 0.939  |  0.7706  |  0.838  |\n",
    "|DECISION TREE          |  0.730   | 1077,  416, 493, 1005 |  0.707    | 0.6708 |  0.74368 | 0.785   |\n",
    "|RANDOM FOREST          | 0.7535   | 1077,  416, 493, 1005 | 0.7512    | 0.791  |  0.769   | 0.838   |\n",
    "\n",
    "\n",
    "#### 2. For RandomizedSearchCV:\n",
    "\n",
    "|ALGORITHMS             | ACCURACY |    CONFUSION MATRIX   | PRECISION | RECALL | F1 SCORE | ROC-AUC |\n",
    "|-----------------------|----------|-----------------------|-----------|--------|----------|---------|\n",
    "|LOGISTIC REGRESSION    |   0.760  | 1096, 397, 319, 1179  |   0.7479  | 0.7917 |  0.7696  |  0.8409 |\n",
    "|KNN                    |   0.7091 | 979,  514, 332, 1166  |   0.7214  | 0.7696 |  0.7521  |  0.7928 |\n",
    "|SUPPORT VECTOR MACHINES|  0.7589  | 1079,  414, 337, 1161 |  0.7683   | 0.9178 |  0.7712  |  0.8369 |\n",
    "|DECISION TREE          |  0.7305  | 1077,  416, 493, 1005 |  0.7072   | 0.6708 |  0.7423  | 0.7853  |\n",
    "|RANDOM FOREST          | 0.7569   | 1077,  416, 493, 1005 | 0.7545    | 0.77837|  0.7677  | 0.8426  |"
   ]
  },
  {
   "cell_type": "code",
   "execution_count": null,
   "metadata": {},
   "outputs": [],
   "source": []
  }
 ],
 "metadata": {
  "kernelspec": {
   "display_name": "Python 3",
   "language": "python",
   "name": "python3"
  },
  "language_info": {
   "codemirror_mode": {
    "name": "ipython",
    "version": 3
   },
   "file_extension": ".py",
   "mimetype": "text/x-python",
   "name": "python",
   "nbconvert_exporter": "python",
   "pygments_lexer": "ipython3",
   "version": "3.8.3"
  }
 },
 "nbformat": 4,
 "nbformat_minor": 4
}
